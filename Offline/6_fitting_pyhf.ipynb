{
 "cells": [
  {
   "cell_type": "markdown",
   "metadata": {},
   "source": [
    "# 1. pyhf and cabinetry"
   ]
  },
  {
   "cell_type": "code",
   "execution_count": 1,
   "metadata": {},
   "outputs": [],
   "source": [
    "import glob\n",
    "import numpy as np\n",
    "import pandas\n",
    "import matplotlib.pyplot as plt\n",
    "import matplotlib.colors as colors\n",
    "import matplotlib.cm as cm\n",
    "from tqdm import tqdm\n",
    "import pyhf\n",
    "import cabinetry\n",
    "cabinetry.set_logging()\n",
    "import json\n",
    "import yaml\n",
    "plt.rcParams[\"axes.prop_cycle\"] = plt.cycler(\"color\", plt.cm.tab20.colors)\n",
    "#pyhf.set_backend('numpy','minuit')"
   ]
  },
  {
   "cell_type": "code",
   "execution_count": 2,
   "metadata": {},
   "outputs": [
    {
     "name": "stderr",
     "output_type": "stream",
     "text": [
      "INFO - pyhf.workspace - Validating spec against schema: workspace.json\n",
      "INFO - pyhf.pdf - Validating spec against schema: model.json\n",
      "INFO - pyhf.pdf - adding modifier n3 (1 new nuisance parameters)\n",
      "INFO - pyhf.pdf - adding modifier n1 (1 new nuisance parameters)\n",
      "INFO - pyhf.pdf - adding modifier n4 (1 new nuisance parameters)\n",
      "INFO - pyhf.pdf - adding modifier n2 (1 new nuisance parameters)\n",
      "INFO - pyhf.pdf - adding modifier n6 (1 new nuisance parameters)\n",
      "INFO - pyhf.pdf - adding modifier n5 (1 new nuisance parameters)\n"
     ]
    }
   ],
   "source": [
    "# load workspace to cabinetry\n",
    "workspace_file = '/home/belle/zhangboy/R_D/Signal_MC14ri/2d_2channels_workspace_3_1.json'\n",
    "results = 'results_3.yaml'\n",
    "\n",
    "ws = cabinetry.workspace.load(workspace_file)\n",
    "model, fake_data = cabinetry.model_utils.model_and_data(ws)"
   ]
  },
  {
   "cell_type": "code",
   "execution_count": 3,
   "metadata": {},
   "outputs": [
    {
     "name": "stderr",
     "output_type": "stream",
     "text": [
      "DEBUG - cabinetry.model_utils - total stdev is [[0, 0, 0, 0, 0, 0, 0, 0, 0, 0, 0, 0, ..., 0, 0, 0, 0, 0, 0, 0, 0, 0, 0, 0, 0]]\n",
      "DEBUG - cabinetry.model_utils - total stdev per channel is [0]\n"
     ]
    }
   ],
   "source": [
    "model_prefit = cabinetry.model_utils.prediction(model)"
   ]
  },
  {
   "cell_type": "code",
   "execution_count": 12,
   "metadata": {},
   "outputs": [
    {
     "name": "stderr",
     "output_type": "stream",
     "text": [
      "\r",
      "Looping over chunks:   0%|                               | 0/12 [00:00<?, ?it/s]"
     ]
    },
    {
     "name": "stdout",
     "output_type": "stream",
     "text": [
      "file: /home/belle/zhangboy/R_D/Generic_MC14ri/MC14ri_bbbar_bengal_e_1/sub04_0.parquet\n",
      "$D\\tau\\nu$: 1568\n",
      "$D^\\ast\\tau\\nu$: 985\n",
      "$D\\ell\\nu$: 37867\n",
      "$D^\\ast\\ell\\nu$: 29036\n",
      "$D^{\\ast\\ast}\\tau\\nu$: 1163\n",
      "$D^{\\ast\\ast}\\ell\\nu$: 30104\n"
     ]
    },
    {
     "name": "stderr",
     "output_type": "stream",
     "text": [
      "INFO - cabinetry.fit - performing maximum likelihood fit\n"
     ]
    },
    {
     "name": "stdout",
     "output_type": "stream",
     "text": [
      "model.config.samples=['$D\\\\ell\\\\nu$', '$D\\\\tau\\\\nu$', '$D^\\\\ast\\\\ell\\\\nu$', '$D^\\\\ast\\\\tau\\\\nu$', '$D^{\\\\ast\\\\ast}\\\\ell\\\\nu$', '$D^{\\\\ast\\\\ast}\\\\tau\\\\nu$']\n",
      "model.config.par_order=['n3', 'n1', 'n4', 'n2', 'n6', 'n5']\n",
      "fix_parameters=[False, False, False, False, False, False]\n"
     ]
    },
    {
     "name": "stderr",
     "output_type": "stream",
     "text": [
      "INFO - cabinetry.fit - Migrad status:\n",
      "┌─────────────────────────────────────────────────────────────────────────┐\n",
      "│                                Migrad                                   │\n",
      "├──────────────────────────────────┬──────────────────────────────────────┤\n",
      "│ FCN = 4348                       │              Nfcn = 697              │\n",
      "│ EDM = 3.02e-05 (Goal: 0.0002)    │                                      │\n",
      "├──────────────────────────────────┼──────────────────────────────────────┤\n",
      "│          Valid Minimum           │       SOME Parameters at limit       │\n",
      "├──────────────────────────────────┼──────────────────────────────────────┤\n",
      "│ Below EDM threshold (goal x 10)  │           Below call limit           │\n",
      "├───────────────┬──────────────────┼───────────┬─────────────┬────────────┤\n",
      "│  Covariance   │     Hesse ok     │ Accurate  │  Pos. def.  │ Not forced │\n",
      "└───────────────┴──────────────────┴───────────┴─────────────┴────────────┘\n",
      "DEBUG - cabinetry.fit - -2 log(L) = 4348.004234 at best-fit point\n",
      "INFO - cabinetry.fit - fit results (with symmetric uncertainties):\n",
      "INFO - cabinetry.fit - n3 =  0.3843 +/- 0.0033\n",
      "INFO - cabinetry.fit - n1 =  0.0300 +/- 0.0064\n",
      "INFO - cabinetry.fit - n4 =  0.3828 +/- 0.0058\n",
      "INFO - cabinetry.fit - n2 =  0.0000 +/- 0.0727\n",
      "INFO - cabinetry.fit - n6 =  0.4554 +/- 0.0083\n",
      "INFO - cabinetry.fit - n5 =  0.0126 +/- 0.0023\n",
      "INFO - cabinetry.fit - calculating goodness-of-fit\n",
      "DEBUG - cabinetry.fit - Delta NLL = 483.882532\n",
      "DEBUG - cabinetry.fit - number of degrees of freedom: 1921\n",
      "INFO - cabinetry.fit - p-value for goodness-of-fit test: 100.00%\n",
      "Looping over chunks:   8%|█▉                     | 1/12 [00:02<00:30,  2.78s/it]"
     ]
    },
    {
     "name": "stdout",
     "output_type": "stream",
     "text": [
      "component_name='$D\\\\ell\\\\nu$'\n",
      "38189 ± 346\n",
      "\n",
      "component_name='$D\\\\tau\\\\nu$'\n",
      "2385 ± 510\n",
      "\n",
      "component_name='$D^\\\\ast\\\\ell\\\\nu$'\n",
      "28999 ± 448\n",
      "\n",
      "component_name='$D^\\\\ast\\\\tau\\\\nu$'\n",
      "0 ± 0\n",
      "\n",
      "component_name='$D^{\\\\ast\\\\ast}\\\\ell\\\\nu$'\n",
      "29367 ± 549\n",
      "\n",
      "component_name='$D^{\\\\ast\\\\ast}\\\\tau\\\\nu$'\n",
      "1750 ± 313\n",
      "\n",
      "\n",
      "sum_event=100690\n",
      "Total fitted counts uncertainty: \n",
      "Total generated counts: 100723\n",
      "file: /home/belle/zhangboy/R_D/Generic_MC14ri/MC14ri_bbbar_bengal_e_1/sub03_0.parquet\n",
      "$D\\tau\\nu$: 1534\n",
      "$D^\\ast\\tau\\nu$: 945\n",
      "$D\\ell\\nu$: 38368\n",
      "$D^\\ast\\ell\\nu$: 29106\n",
      "$D^{\\ast\\ast}\\tau\\nu$: 1107\n",
      "$D^{\\ast\\ast}\\ell\\nu$: 30109\n"
     ]
    },
    {
     "name": "stderr",
     "output_type": "stream",
     "text": [
      "INFO - cabinetry.fit - performing maximum likelihood fit\n"
     ]
    },
    {
     "name": "stdout",
     "output_type": "stream",
     "text": [
      "model.config.samples=['$D\\\\ell\\\\nu$', '$D\\\\tau\\\\nu$', '$D^\\\\ast\\\\ell\\\\nu$', '$D^\\\\ast\\\\tau\\\\nu$', '$D^{\\\\ast\\\\ast}\\\\ell\\\\nu$', '$D^{\\\\ast\\\\ast}\\\\tau\\\\nu$']\n",
      "model.config.par_order=['n3', 'n1', 'n4', 'n2', 'n6', 'n5']\n",
      "fix_parameters=[False, False, False, False, False, False]\n"
     ]
    },
    {
     "name": "stderr",
     "output_type": "stream",
     "text": [
      "INFO - cabinetry.fit - Migrad status:\n",
      "┌─────────────────────────────────────────────────────────────────────────┐\n",
      "│                                Migrad                                   │\n",
      "├──────────────────────────────────┬──────────────────────────────────────┤\n",
      "│ FCN = 4488                       │              Nfcn = 691              │\n",
      "│ EDM = 1.98e-05 (Goal: 0.0002)    │                                      │\n",
      "├──────────────────────────────────┼──────────────────────────────────────┤\n",
      "│          Valid Minimum           │        No Parameters at limit        │\n",
      "├──────────────────────────────────┼──────────────────────────────────────┤\n",
      "│ Below EDM threshold (goal x 10)  │           Below call limit           │\n",
      "├───────────────┬──────────────────┼───────────┬─────────────┬────────────┤\n",
      "│  Covariance   │     Hesse ok     │ Accurate  │  Pos. def.  │ Not forced │\n",
      "└───────────────┴──────────────────┴───────────┴─────────────┴────────────┘\n",
      "DEBUG - cabinetry.fit - -2 log(L) = 4487.642790 at best-fit point\n",
      "INFO - cabinetry.fit - fit results (with symmetric uncertainties):\n",
      "INFO - cabinetry.fit - n3 =  0.3897 +/- 0.0033\n",
      "INFO - cabinetry.fit - n1 =  0.0200 +/- 0.0064\n",
      "INFO - cabinetry.fit - n4 =  0.3837 +/- 0.0058\n",
      "INFO - cabinetry.fit - n2 =  0.0134 +/- 0.0105\n",
      "INFO - cabinetry.fit - n6 =  0.4590 +/- 0.0082\n",
      "INFO - cabinetry.fit - n5 =  0.0109 +/- 0.0027\n",
      "INFO - cabinetry.fit - calculating goodness-of-fit\n",
      "DEBUG - cabinetry.fit - Delta NLL = 567.179386\n",
      "DEBUG - cabinetry.fit - number of degrees of freedom: 1921\n",
      "INFO - cabinetry.fit - p-value for goodness-of-fit test: 100.00%\n",
      "Looping over chunks:  17%|███▊                   | 2/12 [00:05<00:29,  2.93s/it]"
     ]
    },
    {
     "name": "stdout",
     "output_type": "stream",
     "text": [
      "component_name='$D\\\\ell\\\\nu$'\n",
      "38730 ± 348\n",
      "\n",
      "component_name='$D\\\\tau\\\\nu$'\n",
      "1586 ± 508\n",
      "\n",
      "component_name='$D^\\\\ast\\\\ell\\\\nu$'\n",
      "29062 ± 450\n",
      "\n",
      "component_name='$D^\\\\ast\\\\tau\\\\nu$'\n",
      "665 ± 520\n",
      "\n",
      "component_name='$D^{\\\\ast\\\\ast}\\\\ell\\\\nu$'\n",
      "29598 ± 543\n",
      "\n",
      "component_name='$D^{\\\\ast\\\\ast}\\\\tau\\\\nu$'\n",
      "1512 ± 374\n",
      "\n",
      "\n",
      "sum_event=101153\n",
      "Total fitted counts uncertainty: \n",
      "Total generated counts: 101169\n",
      "file: /home/belle/zhangboy/R_D/Generic_MC14ri/MC14ri_bbbar_bengal_e_1/sub01_1.parquet\n",
      "$D\\tau\\nu$: 1677\n",
      "$D^\\ast\\tau\\nu$: 1022\n",
      "$D\\ell\\nu$: 41941\n",
      "$D^\\ast\\ell\\nu$: 32051\n",
      "$D^{\\ast\\ast}\\tau\\nu$: 1160\n",
      "$D^{\\ast\\ast}\\ell\\nu$: 31487\n"
     ]
    },
    {
     "name": "stderr",
     "output_type": "stream",
     "text": [
      "INFO - cabinetry.fit - performing maximum likelihood fit\n"
     ]
    },
    {
     "name": "stdout",
     "output_type": "stream",
     "text": [
      "model.config.samples=['$D\\\\ell\\\\nu$', '$D\\\\tau\\\\nu$', '$D^\\\\ast\\\\ell\\\\nu$', '$D^\\\\ast\\\\tau\\\\nu$', '$D^{\\\\ast\\\\ast}\\\\ell\\\\nu$', '$D^{\\\\ast\\\\ast}\\\\tau\\\\nu$']\n",
      "model.config.par_order=['n3', 'n1', 'n4', 'n2', 'n6', 'n5']\n",
      "fix_parameters=[False, False, False, False, False, False]\n"
     ]
    },
    {
     "name": "stderr",
     "output_type": "stream",
     "text": [
      "INFO - cabinetry.fit - Migrad status:\n",
      "┌─────────────────────────────────────────────────────────────────────────┐\n",
      "│                                Migrad                                   │\n",
      "├──────────────────────────────────┬──────────────────────────────────────┤\n",
      "│ FCN = 4607                       │              Nfcn = 584              │\n",
      "│ EDM = 1.5e-06 (Goal: 0.0002)     │                                      │\n",
      "├──────────────────────────────────┼──────────────────────────────────────┤\n",
      "│          Valid Minimum           │        No Parameters at limit        │\n",
      "├──────────────────────────────────┼──────────────────────────────────────┤\n",
      "│ Below EDM threshold (goal x 10)  │           Below call limit           │\n",
      "├───────────────┬──────────────────┼───────────┬─────────────┬────────────┤\n",
      "│  Covariance   │     Hesse ok     │ Accurate  │  Pos. def.  │ Not forced │\n",
      "└───────────────┴──────────────────┴───────────┴─────────────┴────────────┘\n",
      "DEBUG - cabinetry.fit - -2 log(L) = 4607.111229 at best-fit point\n",
      "INFO - cabinetry.fit - fit results (with symmetric uncertainties):\n",
      "INFO - cabinetry.fit - n3 =  0.4231 +/- 0.0034\n",
      "INFO - cabinetry.fit - n1 =  0.0176 +/- 0.0080\n",
      "INFO - cabinetry.fit - n4 =  0.4332 +/- 0.0060\n",
      "INFO - cabinetry.fit - n2 =  0.0524 +/- 0.0147\n",
      "INFO - cabinetry.fit - n6 =  0.4626 +/- 0.0088\n",
      "INFO - cabinetry.fit - n5 =  0.0045 +/- 0.0031\n",
      "INFO - cabinetry.fit - calculating goodness-of-fit\n",
      "DEBUG - cabinetry.fit - Delta NLL = 592.266503\n",
      "DEBUG - cabinetry.fit - number of degrees of freedom: 1921\n",
      "INFO - cabinetry.fit - p-value for goodness-of-fit test: 100.00%\n"
     ]
    },
    {
     "name": "stdout",
     "output_type": "stream",
     "text": [
      "component_name='$D\\\\ell\\\\nu$'\n",
      "42043 ± 365\n",
      "\n",
      "component_name='$D\\\\tau\\\\nu$'\n",
      "1400 ± 636\n",
      "\n",
      "component_name='$D^\\\\ast\\\\ell\\\\nu$'\n",
      "32813 ± 473\n",
      "\n",
      "component_name='$D^\\\\ast\\\\tau\\\\nu$'\n",
      "2594 ± 727\n",
      "\n",
      "component_name='$D^{\\\\ast\\\\ast}\\\\ell\\\\nu$'\n",
      "29829 ± 576\n",
      "\n",
      "component_name='$D^{\\\\ast\\\\ast}\\\\tau\\\\nu$'\n",
      "626 ± 431\n",
      "\n"
     ]
    },
    {
     "name": "stderr",
     "output_type": "stream",
     "text": [
      "\r",
      "Looping over chunks:  25%|█████▊                 | 3/12 [00:08<00:26,  2.97s/it]"
     ]
    },
    {
     "name": "stdout",
     "output_type": "stream",
     "text": [
      "\n",
      "sum_event=109305\n",
      "Total fitted counts uncertainty: \n",
      "Total generated counts: 109338\n",
      "file: /home/belle/zhangboy/R_D/Generic_MC14ri/MC14ri_bbbar_bengal_e_1/sub00_0.parquet\n",
      "$D\\tau\\nu$: 1920\n",
      "$D^\\ast\\tau\\nu$: 1202\n",
      "$D\\ell\\nu$: 48279\n",
      "$D^\\ast\\ell\\nu$: 36635\n",
      "$D^{\\ast\\ast}\\tau\\nu$: 943\n",
      "$D^{\\ast\\ast}\\ell\\nu$: 27062\n"
     ]
    },
    {
     "name": "stderr",
     "output_type": "stream",
     "text": [
      "INFO - cabinetry.fit - performing maximum likelihood fit\n"
     ]
    },
    {
     "name": "stdout",
     "output_type": "stream",
     "text": [
      "model.config.samples=['$D\\\\ell\\\\nu$', '$D\\\\tau\\\\nu$', '$D^\\\\ast\\\\ell\\\\nu$', '$D^\\\\ast\\\\tau\\\\nu$', '$D^{\\\\ast\\\\ast}\\\\ell\\\\nu$', '$D^{\\\\ast\\\\ast}\\\\tau\\\\nu$']\n",
      "model.config.par_order=['n3', 'n1', 'n4', 'n2', 'n6', 'n5']\n",
      "fix_parameters=[False, False, False, False, False, False]\n",
      "W MnPosDef Matrix forced pos-def by adding to diagonal 0.592485\n",
      "W DavidonErrorUpdator delgam < 0 : first derivatives increasing along search line\n",
      "W VariableMetricBuilder Matrix not pos.def, gdel = 0.0911749 > 0\n",
      "W MnPosDef non-positive diagonal element in covariance matrix[ 3 ] = -0.0039258\n",
      "W MnPosDef non-positive diagonal element in covariance matrix[ 5 ] = -1.51941e-06\n",
      "W MnPosDef Added to diagonal of Error matrix a value 0.503927\n",
      "W VariableMetricBuilder gdel = -470.214\n",
      "W DavidonErrorUpdator delgam < 0 : first derivatives increasing along search line\n",
      "W VariableMetricBuilder Matrix not pos.def., try to make pos.def.\n",
      "W MnPosDef Matrix forced pos-def by adding to diagonal 0.790139\n"
     ]
    },
    {
     "name": "stderr",
     "output_type": "stream",
     "text": [
      "INFO - cabinetry.fit - Migrad status:\n",
      "┌─────────────────────────────────────────────────────────────────────────┐\n",
      "│                                Migrad                                   │\n",
      "├──────────────────────────────────┬──────────────────────────────────────┤\n",
      "│ FCN = 4566                       │              Nfcn = 985              │\n",
      "│ EDM = 5.38e-05 (Goal: 0.0002)    │                                      │\n",
      "├──────────────────────────────────┼──────────────────────────────────────┤\n",
      "│          Valid Minimum           │        No Parameters at limit        │\n",
      "├──────────────────────────────────┼──────────────────────────────────────┤\n",
      "│ Below EDM threshold (goal x 10)  │           Below call limit           │\n",
      "├───────────────┬──────────────────┼───────────┬─────────────┬────────────┤\n",
      "│  Covariance   │     Hesse ok     │ Accurate  │  Pos. def.  │ Not forced │\n",
      "└───────────────┴──────────────────┴───────────┴─────────────┴────────────┘\n",
      "DEBUG - cabinetry.fit - -2 log(L) = 4565.918732 at best-fit point\n",
      "INFO - cabinetry.fit - fit results (with symmetric uncertainties):\n",
      "INFO - cabinetry.fit - n3 =  0.4830 +/- 0.0036\n",
      "INFO - cabinetry.fit - n1 =  0.0386 +/- 0.0081\n",
      "INFO - cabinetry.fit - n4 =  0.4917 +/- 0.0062\n",
      "INFO - cabinetry.fit - n2 =  0.0133 +/- 0.0179\n",
      "INFO - cabinetry.fit - n6 =  0.3983 +/- 0.0086\n",
      "INFO - cabinetry.fit - n5 =  0.0098 +/- 0.0039\n",
      "INFO - cabinetry.fit - calculating goodness-of-fit\n",
      "DEBUG - cabinetry.fit - Delta NLL = 575.544272\n",
      "DEBUG - cabinetry.fit - number of degrees of freedom: 1921\n",
      "INFO - cabinetry.fit - p-value for goodness-of-fit test: 100.00%\n",
      "Looping over chunks:  33%|███████▋               | 4/12 [00:11<00:23,  2.99s/it]"
     ]
    },
    {
     "name": "stdout",
     "output_type": "stream",
     "text": [
      "component_name='$D\\\\ell\\\\nu$'\n",
      "47995 ± 391\n",
      "\n",
      "component_name='$D\\\\tau\\\\nu$'\n",
      "3066 ± 640\n",
      "\n",
      "component_name='$D^\\\\ast\\\\ell\\\\nu$'\n",
      "37248 ± 491\n",
      "\n",
      "component_name='$D^\\\\ast\\\\tau\\\\nu$'\n",
      "656 ± 884\n",
      "\n",
      "component_name='$D^{\\\\ast\\\\ast}\\\\ell\\\\nu$'\n",
      "25684 ± 563\n",
      "\n",
      "component_name='$D^{\\\\ast\\\\ast}\\\\tau\\\\nu$'\n",
      "1362 ± 535\n",
      "\n",
      "\n",
      "sum_event=116011\n",
      "Total fitted counts uncertainty: \n",
      "Total generated counts: 116041\n",
      "file: /home/belle/zhangboy/R_D/Generic_MC14ri/MC14ri_bbbar_bengal_e_1/sub03_1.parquet\n",
      "$D\\tau\\nu$: 1446\n",
      "$D^\\ast\\tau\\nu$: 984\n",
      "$D\\ell\\nu$: 38184\n",
      "$D^\\ast\\ell\\nu$: 29040\n",
      "$D^{\\ast\\ast}\\tau\\nu$: 1123\n",
      "$D^{\\ast\\ast}\\ell\\nu$: 30140\n"
     ]
    },
    {
     "name": "stderr",
     "output_type": "stream",
     "text": [
      "INFO - cabinetry.fit - performing maximum likelihood fit\n"
     ]
    },
    {
     "name": "stdout",
     "output_type": "stream",
     "text": [
      "model.config.samples=['$D\\\\ell\\\\nu$', '$D\\\\tau\\\\nu$', '$D^\\\\ast\\\\ell\\\\nu$', '$D^\\\\ast\\\\tau\\\\nu$', '$D^{\\\\ast\\\\ast}\\\\ell\\\\nu$', '$D^{\\\\ast\\\\ast}\\\\tau\\\\nu$']\n",
      "model.config.par_order=['n3', 'n1', 'n4', 'n2', 'n6', 'n5']\n",
      "fix_parameters=[False, False, False, False, False, False]\n",
      "W MnPosDef Matrix forced pos-def by adding to diagonal 2.71707\n",
      "W DavidonErrorUpdator delgam < 0 : first derivatives increasing along search line\n",
      "W VariableMetricBuilder Matrix not pos.def, gdel = 0.00238247 > 0\n",
      "W MnPosDef non-positive diagonal element in covariance matrix[ 3 ] = -1.93395e-06\n",
      "W MnPosDef non-positive diagonal element in covariance matrix[ 5 ] = -0.0119901\n",
      "W MnPosDef Added to diagonal of Error matrix a value 0.511991\n",
      "W VariableMetricBuilder gdel = -14.8734\n",
      "W VariableMetricBuilder No improvement in line search\n",
      "W MnPosDef Matrix forced pos-def by adding to diagonal 1.29248\n"
     ]
    },
    {
     "name": "stderr",
     "output_type": "stream",
     "text": [
      "INFO - cabinetry.fit - Migrad status:\n",
      "┌─────────────────────────────────────────────────────────────────────────┐\n",
      "│                                Migrad                                   │\n",
      "├──────────────────────────────────┬──────────────────────────────────────┤\n",
      "│ FCN = 4587                       │             Nfcn = 1115              │\n",
      "│ EDM = 0.000106 (Goal: 0.0002)    │                                      │\n",
      "├──────────────────────────────────┼──────────────────────────────────────┤\n",
      "│          Valid Minimum           │       SOME Parameters at limit       │\n",
      "├──────────────────────────────────┼──────────────────────────────────────┤\n",
      "│ Below EDM threshold (goal x 10)  │           Below call limit           │\n",
      "├───────────────┬──────────────────┼───────────┬─────────────┬────────────┤\n",
      "│  Covariance   │     Hesse ok     │ Accurate  │  Pos. def.  │ Not forced │\n",
      "└───────────────┴──────────────────┴───────────┴─────────────┴────────────┘\n",
      "DEBUG - cabinetry.fit - -2 log(L) = 4586.750239 at best-fit point\n",
      "INFO - cabinetry.fit - fit results (with symmetric uncertainties):\n",
      "INFO - cabinetry.fit - n3 =  0.3863 +/- 0.0033\n",
      "INFO - cabinetry.fit - n1 =  0.0339 +/- 0.0076\n",
      "INFO - cabinetry.fit - n4 =  0.3896 +/- 0.0058\n",
      "INFO - cabinetry.fit - n2 =  0.0383 +/- 0.0186\n",
      "INFO - cabinetry.fit - n6 =  0.4392 +/- 0.0086\n",
      "INFO - cabinetry.fit - n5 =  0.0006 +/- 0.0074\n",
      "INFO - cabinetry.fit - calculating goodness-of-fit\n",
      "DEBUG - cabinetry.fit - Delta NLL = 616.533073\n",
      "DEBUG - cabinetry.fit - number of degrees of freedom: 1921\n",
      "INFO - cabinetry.fit - p-value for goodness-of-fit test: 100.00%\n",
      "Looping over chunks:  42%|█████████▌             | 5/12 [00:14<00:20,  2.95s/it]"
     ]
    },
    {
     "name": "stdout",
     "output_type": "stream",
     "text": [
      "component_name='$D\\\\ell\\\\nu$'\n",
      "38389 ± 347\n",
      "\n",
      "component_name='$D\\\\tau\\\\nu$'\n",
      "2691 ± 602\n",
      "\n",
      "component_name='$D^\\\\ast\\\\ell\\\\nu$'\n",
      "29512 ± 454\n",
      "\n",
      "component_name='$D^\\\\ast\\\\tau\\\\nu$'\n",
      "1893 ± 918\n",
      "\n",
      "component_name='$D^{\\\\ast\\\\ast}\\\\ell\\\\nu$'\n",
      "28322 ± 565\n",
      "\n",
      "component_name='$D^{\\\\ast\\\\ast}\\\\tau\\\\nu$'\n",
      "83 ± 1030\n",
      "\n",
      "\n",
      "sum_event=100890\n",
      "Total fitted counts uncertainty: \n",
      "Total generated counts: 100917\n",
      "file: /home/belle/zhangboy/R_D/Generic_MC14ri/MC14ri_bbbar_bengal_e_1/sub00_1.parquet\n",
      "$D\\tau\\nu$: 0\n",
      "$D^\\ast\\tau\\nu$: 0\n",
      "$D\\ell\\nu$: 0\n",
      "$D^\\ast\\ell\\nu$: 0\n",
      "$D^{\\ast\\ast}\\tau\\nu$: 1451\n",
      "$D^{\\ast\\ast}\\ell\\nu$: 32397\n"
     ]
    },
    {
     "name": "stderr",
     "output_type": "stream",
     "text": [
      "INFO - cabinetry.fit - performing maximum likelihood fit\n"
     ]
    },
    {
     "name": "stdout",
     "output_type": "stream",
     "text": [
      "model.config.samples=['$D\\\\ell\\\\nu$', '$D\\\\tau\\\\nu$', '$D^\\\\ast\\\\ell\\\\nu$', '$D^\\\\ast\\\\tau\\\\nu$', '$D^{\\\\ast\\\\ast}\\\\ell\\\\nu$', '$D^{\\\\ast\\\\ast}\\\\tau\\\\nu$']\n",
      "model.config.par_order=['n3', 'n1', 'n4', 'n2', 'n6', 'n5']\n",
      "fix_parameters=[False, False, False, False, False, False]\n"
     ]
    },
    {
     "name": "stderr",
     "output_type": "stream",
     "text": [
      "INFO - cabinetry.fit - Migrad status:\n",
      "┌─────────────────────────────────────────────────────────────────────────┐\n",
      "│                                Migrad                                   │\n",
      "├──────────────────────────────────┬──────────────────────────────────────┤\n",
      "│ FCN = 3601                       │              Nfcn = 857              │\n",
      "│ EDM = 1.99e-05 (Goal: 0.0002)    │                                      │\n",
      "├──────────────────────────────────┼──────────────────────────────────────┤\n",
      "│          Valid Minimum           │       SOME Parameters at limit       │\n",
      "├──────────────────────────────────┼──────────────────────────────────────┤\n",
      "│ Below EDM threshold (goal x 10)  │           Below call limit           │\n",
      "├───────────────┬──────────────────┼───────────┬─────────────┬────────────┤\n",
      "│  Covariance   │     Hesse ok     │ Accurate  │  Pos. def.  │ Not forced │\n",
      "└───────────────┴──────────────────┴───────────┴─────────────┴────────────┘\n",
      "DEBUG - cabinetry.fit - -2 log(L) = 3600.617690 at best-fit point\n",
      "INFO - cabinetry.fit - fit results (with symmetric uncertainties):\n",
      "INFO - cabinetry.fit - n3 =  0.0023 +/- 0.0006\n",
      "INFO - cabinetry.fit - n1 =  0.0051 +/- 0.0025\n",
      "INFO - cabinetry.fit - n4 =  0.0189 +/- 0.0022\n",
      "INFO - cabinetry.fit - n2 =  0.0000 +/- 0.0031\n",
      "INFO - cabinetry.fit - n6 =  0.4823 +/- 0.0047\n",
      "INFO - cabinetry.fit - n5 =  0.0049 +/- 0.0008\n",
      "INFO - cabinetry.fit - calculating goodness-of-fit\n",
      "DEBUG - cabinetry.fit - Delta NLL = 515.794453\n",
      "DEBUG - cabinetry.fit - number of degrees of freedom: 1921\n",
      "INFO - cabinetry.fit - p-value for goodness-of-fit test: 100.00%\n",
      "Looping over chunks:  50%|███████████▌           | 6/12 [00:17<00:16,  2.81s/it]"
     ]
    },
    {
     "name": "stdout",
     "output_type": "stream",
     "text": [
      "component_name='$D\\\\ell\\\\nu$'\n",
      "225 ± 55\n",
      "\n",
      "component_name='$D\\\\tau\\\\nu$'\n",
      "406 ± 197\n",
      "\n",
      "component_name='$D^\\\\ast\\\\ell\\\\nu$'\n",
      "1433 ± 163\n",
      "\n",
      "component_name='$D^\\\\ast\\\\tau\\\\nu$'\n",
      "0 ± 0\n",
      "\n",
      "component_name='$D^{\\\\ast\\\\ast}\\\\ell\\\\nu$'\n",
      "31099 ± 327\n",
      "\n",
      "component_name='$D^{\\\\ast\\\\ast}\\\\tau\\\\nu$'\n",
      "682 ± 116\n",
      "\n",
      "\n",
      "sum_event=33845\n",
      "Total fitted counts uncertainty: \n",
      "Total generated counts: 33848\n",
      "file: /home/belle/zhangboy/R_D/Generic_MC14ri/MC14ri_bbbar_bengal_e_1/sub05_0.parquet\n",
      "$D\\tau\\nu$: 1660\n",
      "$D^\\ast\\tau\\nu$: 1102\n",
      "$D\\ell\\nu$: 42223\n",
      "$D^\\ast\\ell\\nu$: 32311\n",
      "$D^{\\ast\\ast}\\tau\\nu$: 412\n",
      "$D^{\\ast\\ast}\\ell\\nu$: 15177\n"
     ]
    },
    {
     "name": "stderr",
     "output_type": "stream",
     "text": [
      "INFO - cabinetry.fit - performing maximum likelihood fit\n"
     ]
    },
    {
     "name": "stdout",
     "output_type": "stream",
     "text": [
      "model.config.samples=['$D\\\\ell\\\\nu$', '$D\\\\tau\\\\nu$', '$D^\\\\ast\\\\ell\\\\nu$', '$D^\\\\ast\\\\tau\\\\nu$', '$D^{\\\\ast\\\\ast}\\\\ell\\\\nu$', '$D^{\\\\ast\\\\ast}\\\\tau\\\\nu$']\n",
      "model.config.par_order=['n3', 'n1', 'n4', 'n2', 'n6', 'n5']\n",
      "fix_parameters=[False, False, False, False, False, False]\n"
     ]
    },
    {
     "name": "stderr",
     "output_type": "stream",
     "text": [
      "INFO - cabinetry.fit - Migrad status:\n",
      "┌─────────────────────────────────────────────────────────────────────────┐\n",
      "│                                Migrad                                   │\n",
      "├──────────────────────────────────┬──────────────────────────────────────┤\n",
      "│ FCN = 4255                       │              Nfcn = 846              │\n",
      "│ EDM = 1.24e-05 (Goal: 0.0002)    │                                      │\n",
      "├──────────────────────────────────┼──────────────────────────────────────┤\n",
      "│          Valid Minimum           │        No Parameters at limit        │\n",
      "├──────────────────────────────────┼──────────────────────────────────────┤\n",
      "│ Below EDM threshold (goal x 10)  │           Below call limit           │\n",
      "├───────────────┬──────────────────┼───────────┬─────────────┬────────────┤\n",
      "│  Covariance   │     Hesse ok     │ Accurate  │  Pos. def.  │ Not forced │\n",
      "└───────────────┴──────────────────┴───────────┴─────────────┴────────────┘\n",
      "DEBUG - cabinetry.fit - -2 log(L) = 4255.117051 at best-fit point\n",
      "INFO - cabinetry.fit - fit results (with symmetric uncertainties):\n",
      "INFO - cabinetry.fit - n3 =  0.4203 +/- 0.0033\n",
      "INFO - cabinetry.fit - n1 =  0.0245 +/- 0.0065\n",
      "INFO - cabinetry.fit - n4 =  0.4309 +/- 0.0055\n",
      "INFO - cabinetry.fit - n2 =  0.0286 +/- 0.0100\n",
      "INFO - cabinetry.fit - n6 =  0.2231 +/- 0.0071\n",
      "INFO - cabinetry.fit - n5 =  0.0050 +/- 0.0020\n",
      "INFO - cabinetry.fit - calculating goodness-of-fit\n",
      "DEBUG - cabinetry.fit - Delta NLL = 506.339807\n",
      "DEBUG - cabinetry.fit - number of degrees of freedom: 1921\n",
      "INFO - cabinetry.fit - p-value for goodness-of-fit test: 100.00%\n",
      "Looping over chunks:  58%|█████████████▍         | 7/12 [00:20<00:14,  2.85s/it]"
     ]
    },
    {
     "name": "stdout",
     "output_type": "stream",
     "text": [
      "component_name='$D\\\\ell\\\\nu$'\n",
      "41769 ± 357\n",
      "\n",
      "component_name='$D\\\\tau\\\\nu$'\n",
      "1949 ± 513\n",
      "\n",
      "component_name='$D^\\\\ast\\\\ell\\\\nu$'\n",
      "32644 ± 436\n",
      "\n",
      "component_name='$D^\\\\ast\\\\tau\\\\nu$'\n",
      "1415 ± 495\n",
      "\n",
      "component_name='$D^{\\\\ast\\\\ast}\\\\ell\\\\nu$'\n",
      "14383 ± 462\n",
      "\n",
      "component_name='$D^{\\\\ast\\\\ast}\\\\tau\\\\nu$'\n",
      "691 ± 279\n",
      "\n",
      "\n",
      "sum_event=92852\n",
      "Total fitted counts uncertainty: \n",
      "Total generated counts: 92885\n",
      "file: /home/belle/zhangboy/R_D/Generic_MC14ri/MC14ri_bbbar_bengal_e_1/sub01_0.parquet\n",
      "$D\\tau\\nu$: 2393\n",
      "$D^\\ast\\tau\\nu$: 1530\n",
      "$D\\ell\\nu$: 62358\n",
      "$D^\\ast\\ell\\nu$: 47091\n",
      "$D^{\\ast\\ast}\\tau\\nu$: 907\n",
      "$D^{\\ast\\ast}\\ell\\nu$: 29547\n"
     ]
    },
    {
     "name": "stderr",
     "output_type": "stream",
     "text": [
      "INFO - cabinetry.fit - performing maximum likelihood fit\n"
     ]
    },
    {
     "name": "stdout",
     "output_type": "stream",
     "text": [
      "model.config.samples=['$D\\\\ell\\\\nu$', '$D\\\\tau\\\\nu$', '$D^\\\\ast\\\\ell\\\\nu$', '$D^\\\\ast\\\\tau\\\\nu$', '$D^{\\\\ast\\\\ast}\\\\ell\\\\nu$', '$D^{\\\\ast\\\\ast}\\\\tau\\\\nu$']\n",
      "model.config.par_order=['n3', 'n1', 'n4', 'n2', 'n6', 'n5']\n",
      "fix_parameters=[False, False, False, False, False, False]\n"
     ]
    },
    {
     "name": "stderr",
     "output_type": "stream",
     "text": [
      "INFO - cabinetry.fit - Migrad status:\n",
      "┌─────────────────────────────────────────────────────────────────────────┐\n",
      "│                                Migrad                                   │\n",
      "├──────────────────────────────────┬──────────────────────────────────────┤\n",
      "│ FCN = 4697                       │              Nfcn = 645              │\n",
      "│ EDM = 2.52e-06 (Goal: 0.0002)    │                                      │\n",
      "├──────────────────────────────────┼──────────────────────────────────────┤\n",
      "│          Valid Minimum           │        No Parameters at limit        │\n",
      "├──────────────────────────────────┼──────────────────────────────────────┤\n",
      "│ Below EDM threshold (goal x 10)  │           Below call limit           │\n",
      "├───────────────┬──────────────────┼───────────┬─────────────┬────────────┤\n",
      "│  Covariance   │     Hesse ok     │ Accurate  │  Pos. def.  │ Not forced │\n",
      "└───────────────┴──────────────────┴───────────┴─────────────┴────────────┘\n",
      "DEBUG - cabinetry.fit - -2 log(L) = 4696.944719 at best-fit point\n",
      "INFO - cabinetry.fit - fit results (with symmetric uncertainties):\n",
      "INFO - cabinetry.fit - n3 =  0.6188 +/- 0.0041\n",
      "INFO - cabinetry.fit - n1 =  0.0433 +/- 0.0079\n",
      "INFO - cabinetry.fit - n4 =  0.6329 +/- 0.0069\n",
      "INFO - cabinetry.fit - n2 =  0.0359 +/- 0.0124\n",
      "INFO - cabinetry.fit - n6 =  0.4354 +/- 0.0091\n",
      "INFO - cabinetry.fit - n5 =  0.0075 +/- 0.0026\n",
      "INFO - cabinetry.fit - calculating goodness-of-fit\n",
      "DEBUG - cabinetry.fit - Delta NLL = 573.989837\n",
      "DEBUG - cabinetry.fit - number of degrees of freedom: 1921\n",
      "INFO - cabinetry.fit - p-value for goodness-of-fit test: 100.00%\n",
      "Looping over chunks:  67%|███████████████▎       | 8/12 [00:24<00:12,  3.19s/it]"
     ]
    },
    {
     "name": "stdout",
     "output_type": "stream",
     "text": [
      "component_name='$D\\\\ell\\\\nu$'\n",
      "61496 ± 450\n",
      "\n",
      "component_name='$D\\\\tau\\\\nu$'\n",
      "3442 ± 624\n",
      "\n",
      "component_name='$D^\\\\ast\\\\ell\\\\nu$'\n",
      "47944 ± 551\n",
      "\n",
      "component_name='$D^\\\\ast\\\\tau\\\\nu$'\n",
      "1775 ± 614\n",
      "\n",
      "component_name='$D^{\\\\ast\\\\ast}\\\\ell\\\\nu$'\n",
      "28076 ± 597\n",
      "\n",
      "component_name='$D^{\\\\ast\\\\ast}\\\\tau\\\\nu$'\n",
      "1039 ± 366\n",
      "\n",
      "\n",
      "sum_event=143772\n",
      "Total fitted counts uncertainty: \n",
      "Total generated counts: 143826\n",
      "file: /home/belle/zhangboy/R_D/Generic_MC14ri/MC14ri_bbbar_bengal_e_1/sub02_0.parquet\n",
      "$D\\tau\\nu$: 3282\n",
      "$D^\\ast\\tau\\nu$: 2059\n",
      "$D\\ell\\nu$: 82327\n",
      "$D^\\ast\\ell\\nu$: 62494\n",
      "$D^{\\ast\\ast}\\tau\\nu$: 741\n",
      "$D^{\\ast\\ast}\\ell\\nu$: 28626\n"
     ]
    },
    {
     "name": "stderr",
     "output_type": "stream",
     "text": [
      "INFO - cabinetry.fit - performing maximum likelihood fit\n"
     ]
    },
    {
     "name": "stdout",
     "output_type": "stream",
     "text": [
      "model.config.samples=['$D\\\\ell\\\\nu$', '$D\\\\tau\\\\nu$', '$D^\\\\ast\\\\ell\\\\nu$', '$D^\\\\ast\\\\tau\\\\nu$', '$D^{\\\\ast\\\\ast}\\\\ell\\\\nu$', '$D^{\\\\ast\\\\ast}\\\\tau\\\\nu$']\n",
      "model.config.par_order=['n3', 'n1', 'n4', 'n2', 'n6', 'n5']\n",
      "fix_parameters=[False, False, False, False, False, False]\n"
     ]
    },
    {
     "name": "stderr",
     "output_type": "stream",
     "text": [
      "INFO - cabinetry.fit - Migrad status:\n",
      "┌─────────────────────────────────────────────────────────────────────────┐\n",
      "│                                Migrad                                   │\n",
      "├──────────────────────────────────┬──────────────────────────────────────┤\n",
      "│ FCN = 5329                       │              Nfcn = 671              │\n",
      "│ EDM = 2.12e-05 (Goal: 0.0002)    │                                      │\n",
      "├──────────────────────────────────┼──────────────────────────────────────┤\n",
      "│          Valid Minimum           │        No Parameters at limit        │\n",
      "├──────────────────────────────────┼──────────────────────────────────────┤\n",
      "│ Below EDM threshold (goal x 10)  │           Below call limit           │\n",
      "├───────────────┬──────────────────┼───────────┬─────────────┬────────────┤\n",
      "│  Covariance   │     Hesse ok     │ Accurate  │  Pos. def.  │ Not forced │\n",
      "└───────────────┴──────────────────┴───────────┴─────────────┴────────────┘\n",
      "DEBUG - cabinetry.fit - -2 log(L) = 5329.262846 at best-fit point\n",
      "INFO - cabinetry.fit - fit results (with symmetric uncertainties):\n",
      "INFO - cabinetry.fit - n3 =  0.8249 +/- 0.0047\n",
      "INFO - cabinetry.fit - n1 =  0.0517 +/- 0.0083\n",
      "INFO - cabinetry.fit - n4 =  0.8170 +/- 0.0077\n",
      "INFO - cabinetry.fit - n2 =  0.0576 +/- 0.0122\n",
      "INFO - cabinetry.fit - n6 =  0.4284 +/- 0.0096\n",
      "INFO - cabinetry.fit - n5 =  0.0075 +/- 0.0025\n",
      "INFO - cabinetry.fit - calculating goodness-of-fit\n",
      "DEBUG - cabinetry.fit - Delta NLL = 823.383532\n",
      "DEBUG - cabinetry.fit - number of degrees of freedom: 1921\n",
      "INFO - cabinetry.fit - p-value for goodness-of-fit test: 100.00%\n",
      "Looping over chunks:  75%|█████████████████▎     | 9/12 [00:27<00:10,  3.35s/it]"
     ]
    },
    {
     "name": "stdout",
     "output_type": "stream",
     "text": [
      "component_name='$D\\\\ell\\\\nu$'\n",
      "81974 ± 531\n",
      "\n",
      "component_name='$D\\\\tau\\\\nu$'\n",
      "4106 ± 662\n",
      "\n",
      "component_name='$D^\\\\ast\\\\ell\\\\nu$'\n",
      "61891 ± 623\n",
      "\n",
      "component_name='$D^\\\\ast\\\\tau\\\\nu$'\n",
      "2849 ± 604\n",
      "\n",
      "component_name='$D^{\\\\ast\\\\ast}\\\\ell\\\\nu$'\n",
      "27623 ± 630\n",
      "\n",
      "component_name='$D^{\\\\ast\\\\ast}\\\\tau\\\\nu$'\n",
      "1038 ± 345\n",
      "\n",
      "\n",
      "sum_event=179482\n",
      "Total fitted counts uncertainty: \n",
      "Total generated counts: 179529\n"
     ]
    },
    {
     "name": "stderr",
     "output_type": "stream",
     "text": [
      "INFO - cabinetry.fit - performing maximum likelihood fit\n"
     ]
    },
    {
     "name": "stdout",
     "output_type": "stream",
     "text": [
      "file: /home/belle/zhangboy/R_D/Generic_MC14ri/MC14ri_bbbar_bengal_e_1/sub05_1.parquet\n",
      "$D\\tau\\nu$: 245\n",
      "$D^\\ast\\tau\\nu$: 145\n",
      "$D\\ell\\nu$: 5816\n",
      "$D^\\ast\\ell\\nu$: 4264\n",
      "$D^{\\ast\\ast}\\tau\\nu$: 807\n",
      "$D^{\\ast\\ast}\\ell\\nu$: 18807\n",
      "model.config.samples=['$D\\\\ell\\\\nu$', '$D\\\\tau\\\\nu$', '$D^\\\\ast\\\\ell\\\\nu$', '$D^\\\\ast\\\\tau\\\\nu$', '$D^{\\\\ast\\\\ast}\\\\ell\\\\nu$', '$D^{\\\\ast\\\\ast}\\\\tau\\\\nu$']\n",
      "model.config.par_order=['n3', 'n1', 'n4', 'n2', 'n6', 'n5']\n",
      "fix_parameters=[False, False, False, False, False, False]\n"
     ]
    },
    {
     "name": "stderr",
     "output_type": "stream",
     "text": [
      "INFO - cabinetry.fit - Migrad status:\n",
      "┌─────────────────────────────────────────────────────────────────────────┐\n",
      "│                                Migrad                                   │\n",
      "├──────────────────────────────────┬──────────────────────────────────────┤\n",
      "│ FCN = 3525                       │              Nfcn = 939              │\n",
      "│ EDM = 0.000176 (Goal: 0.0002)    │                                      │\n",
      "├──────────────────────────────────┼──────────────────────────────────────┤\n",
      "│          Valid Minimum           │       SOME Parameters at limit       │\n",
      "├──────────────────────────────────┼──────────────────────────────────────┤\n",
      "│ Below EDM threshold (goal x 10)  │           Below call limit           │\n",
      "├───────────────┬──────────────────┼───────────┬─────────────┬────────────┤\n",
      "│  Covariance   │     Hesse ok     │ Accurate  │  Pos. def.  │ Not forced │\n",
      "└───────────────┴──────────────────┴───────────┴─────────────┴────────────┘\n",
      "DEBUG - cabinetry.fit - -2 log(L) = 3524.874144 at best-fit point\n",
      "INFO - cabinetry.fit - fit results (with symmetric uncertainties):\n",
      "INFO - cabinetry.fit - n3 =  0.0594 +/- 0.0014\n",
      "INFO - cabinetry.fit - n1 =  0.0076 +/- 0.0036\n",
      "INFO - cabinetry.fit - n4 =  0.0639 +/- 0.0029\n",
      "INFO - cabinetry.fit - n2 =  0.0000 +/- 0.0078\n",
      "INFO - cabinetry.fit - n6 =  0.2815 +/- 0.0050\n",
      "INFO - cabinetry.fit - n5 =  0.0041 +/- 0.0010\n",
      "INFO - cabinetry.fit - calculating goodness-of-fit\n",
      "DEBUG - cabinetry.fit - Delta NLL = 416.033562\n",
      "DEBUG - cabinetry.fit - number of degrees of freedom: 1921\n",
      "INFO - cabinetry.fit - p-value for goodness-of-fit test: 100.00%\n",
      "Looping over chunks:  83%|██████████████████▎   | 10/12 [00:30<00:06,  3.03s/it]"
     ]
    },
    {
     "name": "stdout",
     "output_type": "stream",
     "text": [
      "component_name='$D\\\\ell\\\\nu$'\n",
      "5906 ± 140\n",
      "\n",
      "component_name='$D\\\\tau\\\\nu$'\n",
      "606 ± 283\n",
      "\n",
      "component_name='$D^\\\\ast\\\\ell\\\\nu$'\n",
      "4837 ± 220\n",
      "\n",
      "component_name='$D^\\\\ast\\\\tau\\\\nu$'\n",
      "0 ± 0\n",
      "\n",
      "component_name='$D^{\\\\ast\\\\ast}\\\\ell\\\\nu$'\n",
      "18152 ± 332\n",
      "\n",
      "component_name='$D^{\\\\ast\\\\ast}\\\\tau\\\\nu$'\n",
      "575 ± 134\n",
      "\n",
      "\n",
      "sum_event=30075\n",
      "Total fitted counts uncertainty: \n",
      "Total generated counts: 30084\n",
      "file: /home/belle/zhangboy/R_D/Generic_MC14ri/MC14ri_bbbar_bengal_e_1/sub02_1.parquet\n",
      "$D\\tau\\nu$: 1737\n",
      "$D^\\ast\\tau\\nu$: 1163\n",
      "$D\\ell\\nu$: 45003\n",
      "$D^\\ast\\ell\\nu$: 33859\n",
      "$D^{\\ast\\ast}\\tau\\nu$: 1174\n",
      "$D^{\\ast\\ast}\\ell\\nu$: 32658\n"
     ]
    },
    {
     "name": "stderr",
     "output_type": "stream",
     "text": [
      "INFO - cabinetry.fit - performing maximum likelihood fit\n"
     ]
    },
    {
     "name": "stdout",
     "output_type": "stream",
     "text": [
      "model.config.samples=['$D\\\\ell\\\\nu$', '$D\\\\tau\\\\nu$', '$D^\\\\ast\\\\ell\\\\nu$', '$D^\\\\ast\\\\tau\\\\nu$', '$D^{\\\\ast\\\\ast}\\\\ell\\\\nu$', '$D^{\\\\ast\\\\ast}\\\\tau\\\\nu$']\n",
      "model.config.par_order=['n3', 'n1', 'n4', 'n2', 'n6', 'n5']\n",
      "fix_parameters=[False, False, False, False, False, False]\n"
     ]
    },
    {
     "name": "stderr",
     "output_type": "stream",
     "text": [
      "INFO - cabinetry.fit - Migrad status:\n",
      "┌─────────────────────────────────────────────────────────────────────────┐\n",
      "│                                Migrad                                   │\n",
      "├──────────────────────────────────┬──────────────────────────────────────┤\n",
      "│ FCN = 4564                       │              Nfcn = 712              │\n",
      "│ EDM = 6.75e-06 (Goal: 0.0002)    │                                      │\n",
      "├──────────────────────────────────┼──────────────────────────────────────┤\n",
      "│          Valid Minimum           │        No Parameters at limit        │\n",
      "├──────────────────────────────────┼──────────────────────────────────────┤\n",
      "│ Below EDM threshold (goal x 10)  │           Below call limit           │\n",
      "├───────────────┬──────────────────┼───────────┬─────────────┬────────────┤\n",
      "│  Covariance   │     Hesse ok     │ Accurate  │  Pos. def.  │ Not forced │\n",
      "└───────────────┴──────────────────┴───────────┴─────────────┴────────────┘\n",
      "DEBUG - cabinetry.fit - -2 log(L) = 4563.752691 at best-fit point\n",
      "INFO - cabinetry.fit - fit results (with symmetric uncertainties):\n",
      "INFO - cabinetry.fit - n3 =  0.4561 +/- 0.0035\n",
      "INFO - cabinetry.fit - n1 =  0.0346 +/- 0.0076\n",
      "INFO - cabinetry.fit - n4 =  0.4464 +/- 0.0062\n",
      "INFO - cabinetry.fit - n2 =  0.0312 +/- 0.0112\n",
      "INFO - cabinetry.fit - n6 =  0.4865 +/- 0.0088\n",
      "INFO - cabinetry.fit - n5 =  0.0056 +/- 0.0024\n",
      "INFO - cabinetry.fit - calculating goodness-of-fit\n",
      "DEBUG - cabinetry.fit - Delta NLL = 564.845680\n",
      "DEBUG - cabinetry.fit - number of degrees of freedom: 1921\n",
      "INFO - cabinetry.fit - p-value for goodness-of-fit test: 100.00%\n"
     ]
    },
    {
     "name": "stdout",
     "output_type": "stream",
     "text": [
      "component_name='$D\\\\ell\\\\nu$'\n",
      "45322 ± 379\n",
      "\n",
      "component_name='$D\\\\tau\\\\nu$'\n",
      "2750 ± 603\n",
      "\n",
      "component_name='$D^\\\\ast\\\\ell\\\\nu$'\n",
      "33811 ± 483\n",
      "\n",
      "component_name='$D^\\\\ast\\\\tau\\\\nu$'\n",
      "1541 ± 554\n",
      "\n",
      "component_name='$D^{\\\\ast\\\\ast}\\\\ell\\\\nu$'\n",
      "31371 ± 583\n",
      "\n"
     ]
    },
    {
     "name": "stderr",
     "output_type": "stream",
     "text": [
      "\r",
      "Looping over chunks:  92%|████████████████████▏ | 11/12 [00:33<00:03,  3.10s/it]"
     ]
    },
    {
     "name": "stdout",
     "output_type": "stream",
     "text": [
      "component_name='$D^{\\\\ast\\\\ast}\\\\tau\\\\nu$'\n",
      "774 ± 329\n",
      "\n",
      "\n",
      "sum_event=115570\n",
      "Total fitted counts uncertainty: \n",
      "Total generated counts: 115594\n",
      "file: /home/belle/zhangboy/R_D/Generic_MC14ri/MC14ri_bbbar_bengal_e_1/sub04_1.parquet\n",
      "$D\\tau\\nu$: 1513\n",
      "$D^\\ast\\tau\\nu$: 943\n",
      "$D\\ell\\nu$: 38789\n",
      "$D^\\ast\\ell\\nu$: 29370\n",
      "$D^{\\ast\\ast}\\tau\\nu$: 1097\n",
      "$D^{\\ast\\ast}\\ell\\nu$: 30115\n"
     ]
    },
    {
     "name": "stderr",
     "output_type": "stream",
     "text": [
      "INFO - cabinetry.fit - performing maximum likelihood fit\n"
     ]
    },
    {
     "name": "stdout",
     "output_type": "stream",
     "text": [
      "model.config.samples=['$D\\\\ell\\\\nu$', '$D\\\\tau\\\\nu$', '$D^\\\\ast\\\\ell\\\\nu$', '$D^\\\\ast\\\\tau\\\\nu$', '$D^{\\\\ast\\\\ast}\\\\ell\\\\nu$', '$D^{\\\\ast\\\\ast}\\\\tau\\\\nu$']\n",
      "model.config.par_order=['n3', 'n1', 'n4', 'n2', 'n6', 'n5']\n",
      "fix_parameters=[False, False, False, False, False, False]\n"
     ]
    },
    {
     "name": "stderr",
     "output_type": "stream",
     "text": [
      "INFO - cabinetry.fit - Migrad status:\n",
      "┌─────────────────────────────────────────────────────────────────────────┐\n",
      "│                                Migrad                                   │\n",
      "├──────────────────────────────────┬──────────────────────────────────────┤\n",
      "│ FCN = 4586                       │              Nfcn = 674              │\n",
      "│ EDM = 1.95e-05 (Goal: 0.0002)    │                                      │\n",
      "├──────────────────────────────────┼──────────────────────────────────────┤\n",
      "│          Valid Minimum           │        No Parameters at limit        │\n",
      "├──────────────────────────────────┼──────────────────────────────────────┤\n",
      "│ Below EDM threshold (goal x 10)  │           Below call limit           │\n",
      "├───────────────┬──────────────────┼───────────┬─────────────┬────────────┤\n",
      "│  Covariance   │     Hesse ok     │ Accurate  │  Pos. def.  │ Not forced │\n",
      "└───────────────┴──────────────────┴───────────┴─────────────┴────────────┘\n",
      "DEBUG - cabinetry.fit - -2 log(L) = 4586.002115 at best-fit point\n",
      "INFO - cabinetry.fit - fit results (with symmetric uncertainties):\n",
      "INFO - cabinetry.fit - n3 =  0.3892 +/- 0.0033\n",
      "INFO - cabinetry.fit - n1 =  0.0260 +/- 0.0073\n",
      "INFO - cabinetry.fit - n4 =  0.3955 +/- 0.0058\n",
      "INFO - cabinetry.fit - n2 =  0.0114 +/- 0.0163\n",
      "INFO - cabinetry.fit - n6 =  0.4522 +/- 0.0083\n",
      "INFO - cabinetry.fit - n5 =  0.0100 +/- 0.0036\n",
      "INFO - cabinetry.fit - calculating goodness-of-fit\n",
      "DEBUG - cabinetry.fit - Delta NLL = 597.349979\n",
      "DEBUG - cabinetry.fit - number of degrees of freedom: 1921\n",
      "INFO - cabinetry.fit - p-value for goodness-of-fit test: 100.00%\n",
      "Looping over chunks: 100%|██████████████████████| 12/12 [00:36<00:00,  3.06s/it]"
     ]
    },
    {
     "name": "stdout",
     "output_type": "stream",
     "text": [
      "component_name='$D\\\\ell\\\\nu$'\n",
      "38678 ± 349\n",
      "\n",
      "component_name='$D\\\\tau\\\\nu$'\n",
      "2061 ± 581\n",
      "\n",
      "component_name='$D^\\\\ast\\\\ell\\\\nu$'\n",
      "29959 ± 452\n",
      "\n",
      "component_name='$D^\\\\ast\\\\tau\\\\nu$'\n",
      "562 ± 809\n",
      "\n",
      "component_name='$D^{\\\\ast\\\\ast}\\\\ell\\\\nu$'\n",
      "29156 ± 547\n",
      "\n",
      "component_name='$D^{\\\\ast\\\\ast}\\\\tau\\\\nu$'\n",
      "1386 ± 505\n",
      "\n",
      "\n",
      "sum_event=101803\n",
      "Total fitted counts uncertainty: \n",
      "Total generated counts: 101827\n"
     ]
    },
    {
     "name": "stderr",
     "output_type": "stream",
     "text": [
      "\n"
     ]
    }
   ],
   "source": [
    "# split the sample to 10 pieces and fit each one\n",
    "Dstst_e_nu_selection = 'DecayMode==\"all_Dstst_e_nu\" and D_mcPDG*e_mcPDG==411*11 and e_genMotherPDG==B0_mcPDG and \\\n",
    "    ((B0_mcErrors<64 and B0_mcPDG*D_mcPDG==-511*411) or (B0_mcErrors<512 and abs(B0_mcPDG)==521))'\n",
    "Dstst_tau_nu_selection = 'DecayMode==\"all_Dstst_tau_nu\" and D_mcPDG*e_mcPDG==411*11 and e_mcPDG*e_genMotherPDG==11*15 and \\\n",
    "    ((B0_mcErrors<64 and B0_mcPDG*D_mcPDG==-511*411) or (B0_mcErrors<512 and abs(B0_mcPDG)==521))'\n",
    "signals_selection = 'B0_mcPDG*D_mcPDG==-511*411 and D_mcPDG*e_mcPDG==411*11 and e_mcPDG*e_genMotherPDG==11*15'\n",
    "norms_selection = 'B0_mcPDG*D_mcPDG==-511*411 and D_mcPDG*e_mcPDG==411*11 and e_genMotherPDG==B0_mcPDG'\n",
    "\n",
    "folder = '/home/belle/zhangboy/R_D/Generic_MC14ri/MC14ri_bbbar_bengal_e_1'\n",
    "pfs = glob.glob(f\"{folder}/sub0?_?.parquet\")\n",
    "chunkNum = 0\n",
    "\n",
    "for file_path in tqdm(pfs, desc =\"Looping over chunks\"):\n",
    "    samples = {}\n",
    "\n",
    "    df_bestSelected = pandas.read_parquet(file_path, engine=\"pyarrow\")\n",
    "\n",
    "    # Signal components\n",
    "    sig_D_tau_nu=df_bestSelected.query(f'DecayMode==\"sig_D_tau_nu\" and B0_mcErrors<32 and {signals_selection}').copy()\n",
    "    sig_Dst_tau_nu=df_bestSelected.query(f'DecayMode==\"sig_Dst_tau_nu\" and B0_mcErrors<64 and {signals_selection}').copy()\n",
    "    sig_D_e_nu=df_bestSelected.query(f'DecayMode==\"sig_D_e_nu\" and B0_mcErrors<16 and {norms_selection}').copy()\n",
    "    sig_Dst_e_nu=df_bestSelected.query(f'DecayMode==\"sig_Dst_e_nu\" and B0_mcErrors<64 and {norms_selection}').copy() \n",
    "    all_Dstst_tau_nu=df_bestSelected.query(Dstst_tau_nu_selection).copy() \n",
    "    all_Dstst_e_nu=df_bestSelected.query(Dstst_e_nu_selection).copy()\n",
    "\n",
    "    samples['$D\\\\tau\\\\nu$'] = sig_D_tau_nu\n",
    "    samples['$D^\\\\ast\\\\tau\\\\nu$'] = sig_Dst_tau_nu\n",
    "    samples['$D\\ell\\\\nu$'] = sig_D_e_nu\n",
    "    samples['$D^\\\\ast\\ell\\\\nu$'] = sig_Dst_e_nu\n",
    "    samples['$D^{\\\\ast\\\\ast}\\\\tau\\\\nu$'] = all_Dstst_tau_nu\n",
    "    samples['$D^{\\\\ast\\\\ast}\\ell\\\\nu$'] = all_Dstst_e_nu\n",
    "    \n",
    "    print(f'file: {file_path}')\n",
    "    for name in samples:\n",
    "          print(f'{name}: {len(samples[name])}')\n",
    "\n",
    "        #sig_D_mu_nu=df_bestSelected.query('DecayMode==\"sig_D_mu_nu\" and B0_mcErrors<16').copy()\n",
    "        #sig_Dst_mu_nu=df_bestSelected.query('DecayMode==\"sig_Dst_mu_nu\" and (16<=B0_mcErrors<32 or B0_mcErrors<8)').copy()\n",
    "        #all_Dstst_mu_nu=df_bestSelected.query('DecayMode==\"all_Dstst_mu_nu\" and (16<=B0_mcErrors<64 or B0_mcErrors<8)').copy()\n",
    "\n",
    "        # Bkg components\n",
    "    #     bkg_fakeD = df_bestSelected.query('abs(D_mcPDG)!=411 and B0_mcErrors!=512 and B0_isContinuumEvent!=1').copy()\n",
    "    #     bkg_fakeTracksClusters = df_bestSelected.query('B0_mcErrors==512 and B0_isContinuumEvent!=1').copy()\n",
    "    #     bkg_fakeDTC = pandas.concat([bkg_fakeD, bkg_fakeTracksClusters])\n",
    "\n",
    "    #     bkg_combinatorial = df_bestSelected.query('B0_mcPDG==300553 and abs(D_mcPDG)==411 and B0_mcErrors!=512 and B0_isContinuumEvent!=1').copy()\n",
    "    #     bkg_sigOtherBDTaudecay = df_bestSelected.query('(DecayMode==\"bkg\" or DecayMode==\"sig_D_mu_nu\" or DecayMode==\"sig_Dst_mu_nu\" or DecayMode==\"all_Dstst_mu_nu\") and \\\n",
    "    #     B0_mcPDG!=300553 and abs(D_mcPDG)==411 and B0_mcErrors!=512 and B0_isContinuumEvent!=1').copy()\n",
    "    #     bkg_fakeB = pandas.concat([bkg_combinatorial, bkg_sigOtherBDTaudecay])\n",
    "\n",
    "    #     bkg_continuum = df_bestSelected.query('B0_isContinuumEvent==1').copy()\n",
    "\n",
    "    #     bkg_others = pandas.concat([df_bestSelected,\n",
    "    #                                sig_D_e_nu,\n",
    "    #                                sig_D_tau_nu,\n",
    "    #                                sig_Dst_e_nu,\n",
    "    #                                sig_Dst_tau_nu,\n",
    "    #                                all_Dstst_e_nu,\n",
    "    #                                all_Dstst_tau_nu,\n",
    "    #                                bkg_fakeDTC,\n",
    "    #                                bkg_fakeB,\n",
    "    #                                bkg_continuum]).drop_duplicates(keep=False)\n",
    "        # Weird! the bkg_others contains some events with\n",
    "        # correct sig decay hash chain and correct B0_mcPDG, D_mcPDG, e_genMotherPDG,\n",
    "        # but with 128< B0_mcErrors < 256 (misID)\n",
    "\n",
    "    #     components = {'sig_D_l_nu':sig_D_e_nu,\n",
    "    #                  'sig_D_tau_nu':sig_D_tau_nu,\n",
    "    #                  'sig_Dst_l_nu':sig_Dst_e_nu,\n",
    "    #                  'sig_Dst_tau_nu':sig_Dst_tau_nu,\n",
    "    #                  'all_Dstst_l_nu':all_Dstst_e_nu,\n",
    "    #                  'all_Dstst_tau_nu':all_Dstst_tau_nu,\n",
    "    #                  'bkg_fakeDTC':bkg_fakeDTC,\n",
    "    #                  'bkg_fakeB':bkg_fakeB,\n",
    "    #                  'bkg_continuum':bkg_continuum,\n",
    "    #                  'bkg_others':bkg_others}\n",
    "\n",
    "    #     samples[decaymode] = components\n",
    "\n",
    "\n",
    "\n",
    "    sample_list = []\n",
    "    for name in samples:\n",
    "        sample_list.append(samples[name].reset_index(drop=True))\n",
    "    df_merged = pandas.concat(sample_list)\n",
    "\n",
    "    \n",
    "    cut='B0_roeMbc_my_mask>4.26'\n",
    "    xedges = np.linspace(-2, 10, 48) # -7.5 for weMiss2, -2 for weMiss3, -2.5 for weMiss4\n",
    "    yedges = np.linspace(0.4, 4.6, 42)\n",
    "    variable_x = 'B0_CMS3_weMissM2'\n",
    "    variable_y = 'p_D_l'\n",
    "\n",
    "    (counts, xedges, yedges) = np.histogram2d(df_merged.query(cut)[variable_x], \n",
    "                                              df_merged.query(cut)[variable_y],\n",
    "                                              bins=[xedges, yedges])\n",
    "    counts = counts.T\n",
    "    \n",
    "    \n",
    "    \n",
    "    \n",
    "    fix_parameters = model.config.suggested_fixed()\n",
    "    print(f'{model.config.samples=}')\n",
    "    print(f'{model.config.par_order=}')\n",
    "\n",
    "    # if fit only one component\n",
    "    #fix_parameters[:] = [False if i=='$D^{\\\\ast\\\\ast}\\\\ell\\\\nu$' else True for i in model.config.samples]# only allow one parameter to float\n",
    "\n",
    "    print(f'{fix_parameters=}')\n",
    "    # data = np.concatenate([counts.flat]) or counts.ravel().tolist()\n",
    "    data = counts.ravel().tolist()\n",
    "    fit_results = cabinetry.fit.fit(model, data, goodness_of_fit=True,\n",
    "                                    fix_pars=fix_parameters, custom_fit=False, maxiter=1000000)\n",
    "\n",
    "    template_counts = [np.array(model.nominal_rates[0][i][0] - 0.0001).sum() for i in range(model.config.npars)]\n",
    "    # fitted_counts = template_counts x normalization\n",
    "    fitted_counts = [round(fit_results.bestfit[i] * template_counts[i]) for i in range(model.config.npars)]\n",
    "    # fitted_counts_err = template_counts_err, normalization_err in quadrature error\n",
    "    #                   = fitted_counts x sqrt( (1/template_count) + (norm_err/norm)**2 )\n",
    "    #                   = fitted_counts x sqrt( (1/template_count) ) if norm ==0\n",
    "    fitted_counts_error = [round(fitted_counts[i] * np.sqrt(1/template_counts[i])) if fit_results.bestfit[i]==0 else round(fitted_counts[i] * np.sqrt(1/template_counts[i] + (fit_results.uncertainty[i]/fit_results.bestfit[i])**2)) for i in range(model.config.npars)]\n",
    "\n",
    "    for i in range(model.config.npars):\n",
    "        component_name = model.config.samples[i]\n",
    "        print(f'{component_name=}')\n",
    "        print(f'{fitted_counts[i]} ± {fitted_counts_error[i]}\\n')\n",
    "        \n",
    "        with open(results, 'r+') as f:\n",
    "            data = yaml.safe_load(f)\n",
    "            data['signal_e'][component_name]['difference'][chunkNum]=fitted_counts[i] - len(samples[component_name])\n",
    "            data['signal_e'][component_name]['errors'][chunkNum]=fitted_counts_error[i]\n",
    "            f.seek(0)        # <--- should reset file position to the beginning.\n",
    "            yaml.dump(data, f, indent=4)\n",
    "            f.truncate()     # remove remaining part\n",
    "    \n",
    "    sum_event = round(model.expected_data(fit_results.bestfit).sum())\n",
    "    print(f'\\n{sum_event=}')\n",
    "    print(f'Total fitted counts uncertainty: ')\n",
    "    print(f'Total generated counts: {len(df_merged)}')\n",
    "    #print(f'\\n{fit_results=}')\n",
    "    \n",
    "    with open(results, 'r+') as f:\n",
    "        data = yaml.safe_load(f)\n",
    "        data['signal_e']['sum']['difference'][chunkNum]=sum_event - len(df_merged)\n",
    "        f.seek(0)        # <--- should reset file position to the beginning.\n",
    "        yaml.dump(data, f, indent=4)\n",
    "        f.truncate()     # remove remaining part\n",
    "\n",
    "    chunkNum += 1"
   ]
  },
  {
   "cell_type": "code",
   "execution_count": 5,
   "metadata": {},
   "outputs": [
    {
     "name": "stderr",
     "output_type": "stream",
     "text": [
      "Looping over chunks:   8%|█▉                     | 1/12 [00:03<00:42,  3.84s/it]"
     ]
    },
    {
     "name": "stdout",
     "output_type": "stream",
     "text": [
      "file: /home/belle/zhangboy/R_D/Generic_MC14ri/MC14ri_bbbar_bengal_e_1/sub04_0.parquet\n",
      "size: 30104\n"
     ]
    },
    {
     "name": "stderr",
     "output_type": "stream",
     "text": [
      "\r",
      "Looping over chunks:  17%|███▊                   | 2/12 [00:06<00:31,  3.13s/it]"
     ]
    },
    {
     "name": "stdout",
     "output_type": "stream",
     "text": [
      "file: /home/belle/zhangboy/R_D/Generic_MC14ri/MC14ri_bbbar_bengal_e_1/sub03_0.parquet\n",
      "size: 30109\n"
     ]
    },
    {
     "name": "stderr",
     "output_type": "stream",
     "text": [
      "\r",
      "Looping over chunks:  25%|█████▊                 | 3/12 [00:09<00:26,  2.92s/it]"
     ]
    },
    {
     "name": "stdout",
     "output_type": "stream",
     "text": [
      "file: /home/belle/zhangboy/R_D/Generic_MC14ri/MC14ri_bbbar_bengal_e_1/sub01_1.parquet\n",
      "size: 31487\n"
     ]
    },
    {
     "name": "stderr",
     "output_type": "stream",
     "text": [
      "\r",
      "Looping over chunks:  33%|███████▋               | 4/12 [00:11<00:21,  2.72s/it]"
     ]
    },
    {
     "name": "stdout",
     "output_type": "stream",
     "text": [
      "file: /home/belle/zhangboy/R_D/Generic_MC14ri/MC14ri_bbbar_bengal_e_1/sub00_0.parquet\n",
      "size: 27062\n"
     ]
    },
    {
     "name": "stderr",
     "output_type": "stream",
     "text": [
      "\r",
      "Looping over chunks:  42%|█████████▌             | 5/12 [00:14<00:18,  2.64s/it]"
     ]
    },
    {
     "name": "stdout",
     "output_type": "stream",
     "text": [
      "file: /home/belle/zhangboy/R_D/Generic_MC14ri/MC14ri_bbbar_bengal_e_1/sub03_1.parquet\n",
      "size: 30140\n"
     ]
    },
    {
     "name": "stderr",
     "output_type": "stream",
     "text": [
      "\r",
      "Looping over chunks:  50%|███████████▌           | 6/12 [00:16<00:14,  2.50s/it]"
     ]
    },
    {
     "name": "stdout",
     "output_type": "stream",
     "text": [
      "file: /home/belle/zhangboy/R_D/Generic_MC14ri/MC14ri_bbbar_bengal_e_1/sub00_1.parquet\n",
      "size: 32397\n"
     ]
    },
    {
     "name": "stderr",
     "output_type": "stream",
     "text": [
      "\r",
      "Looping over chunks:  58%|█████████████▍         | 7/12 [00:18<00:12,  2.44s/it]"
     ]
    },
    {
     "name": "stdout",
     "output_type": "stream",
     "text": [
      "file: /home/belle/zhangboy/R_D/Generic_MC14ri/MC14ri_bbbar_bengal_e_1/sub05_0.parquet\n",
      "size: 15177\n"
     ]
    },
    {
     "name": "stderr",
     "output_type": "stream",
     "text": [
      "\r",
      "Looping over chunks:  67%|███████████████▎       | 8/12 [00:21<00:09,  2.47s/it]"
     ]
    },
    {
     "name": "stdout",
     "output_type": "stream",
     "text": [
      "file: /home/belle/zhangboy/R_D/Generic_MC14ri/MC14ri_bbbar_bengal_e_1/sub01_0.parquet\n",
      "size: 29547\n"
     ]
    },
    {
     "name": "stderr",
     "output_type": "stream",
     "text": [
      "\r",
      "Looping over chunks:  75%|█████████████████▎     | 9/12 [00:23<00:07,  2.54s/it]"
     ]
    },
    {
     "name": "stdout",
     "output_type": "stream",
     "text": [
      "file: /home/belle/zhangboy/R_D/Generic_MC14ri/MC14ri_bbbar_bengal_e_1/sub02_0.parquet\n",
      "size: 28626\n"
     ]
    },
    {
     "name": "stderr",
     "output_type": "stream",
     "text": [
      "\r",
      "Looping over chunks:  83%|██████████████████▎   | 10/12 [00:25<00:04,  2.30s/it]"
     ]
    },
    {
     "name": "stdout",
     "output_type": "stream",
     "text": [
      "file: /home/belle/zhangboy/R_D/Generic_MC14ri/MC14ri_bbbar_bengal_e_1/sub05_1.parquet\n",
      "size: 18807\n"
     ]
    },
    {
     "name": "stderr",
     "output_type": "stream",
     "text": [
      "\r",
      "Looping over chunks:  92%|████████████████████▏ | 11/12 [00:28<00:02,  2.42s/it]"
     ]
    },
    {
     "name": "stdout",
     "output_type": "stream",
     "text": [
      "file: /home/belle/zhangboy/R_D/Generic_MC14ri/MC14ri_bbbar_bengal_e_1/sub02_1.parquet\n",
      "size: 32658\n"
     ]
    },
    {
     "name": "stderr",
     "output_type": "stream",
     "text": [
      "Looping over chunks: 100%|██████████████████████| 12/12 [00:30<00:00,  2.53s/it]"
     ]
    },
    {
     "name": "stdout",
     "output_type": "stream",
     "text": [
      "file: /home/belle/zhangboy/R_D/Generic_MC14ri/MC14ri_bbbar_bengal_e_1/sub04_1.parquet\n",
      "size: 30115\n"
     ]
    },
    {
     "name": "stderr",
     "output_type": "stream",
     "text": [
      "\n"
     ]
    }
   ],
   "source": [
    "# fit the whole sample\n",
    "Dstst_e_nu_selection = 'DecayMode==\"all_Dstst_e_nu\" and D_mcPDG*e_mcPDG==411*11 and e_genMotherPDG==B0_mcPDG and \\\n",
    "    ((B0_mcErrors<64 and B0_mcPDG*D_mcPDG==-511*411) or (B0_mcErrors<512 and abs(B0_mcPDG)==521))'\n",
    "Dstst_tau_nu_selection = 'DecayMode==\"all_Dstst_tau_nu\" and D_mcPDG*e_mcPDG==411*11 and e_mcPDG*e_genMotherPDG==11*15 and \\\n",
    "    ((B0_mcErrors<64 and B0_mcPDG*D_mcPDG==-511*411) or (B0_mcErrors<512 and abs(B0_mcPDG)==521))'\n",
    "signals_selection = 'B0_mcPDG*D_mcPDG==-511*411 and D_mcPDG*e_mcPDG==411*11 and e_mcPDG*e_genMotherPDG==11*15'\n",
    "norms_selection = 'B0_mcPDG*D_mcPDG==-511*411 and D_mcPDG*e_mcPDG==411*11 and e_genMotherPDG==B0_mcPDG'\n",
    "\n",
    "folder = '/home/belle/zhangboy/R_D/Generic_MC14ri/MC14ri_bbbar_bengal_e_1'\n",
    "pfs = glob.glob(f\"{folder}/sub0?_?.parquet\")\n",
    "chunkNum = 0\n",
    "samples = []\n",
    "for file_path in tqdm(pfs, desc =\"Looping over chunks\"):\n",
    "\n",
    "    df_bestSelected = pandas.read_parquet(file_path, engine=\"pyarrow\")\n",
    "    #df2 = pandas.read_feather(\"../Ntuples/bengal_e_10k_Test2.feather\")\n",
    "    #df_charged = root_pandas.read_root(charged,key='B0')\n",
    "    #data = pandas.concat([df_mixed,df_charged], ignore_index = True)\n",
    "\n",
    "    # Signal components\n",
    "    sig_D_tau_nu=df_bestSelected.query(f'DecayMode==\"sig_D_tau_nu\" and B0_mcErrors<32 and {signals_selection}').copy()\n",
    "    sig_Dst_tau_nu=df_bestSelected.query(f'DecayMode==\"sig_Dst_tau_nu\" and B0_mcErrors<64 and {signals_selection}').copy()\n",
    "    sig_D_e_nu=df_bestSelected.query(f'DecayMode==\"sig_D_e_nu\" and B0_mcErrors<16 and {norms_selection}').copy()\n",
    "    sig_Dst_e_nu=df_bestSelected.query(f'DecayMode==\"sig_Dst_e_nu\" and B0_mcErrors<64 and {norms_selection}').copy() \n",
    "    all_Dstst_tau_nu=df_bestSelected.query(Dstst_tau_nu_selection).copy() \n",
    "    all_Dstst_e_nu=df_bestSelected.query(Dstst_e_nu_selection).copy()\n",
    "\n",
    "    samples.append(sig_D_tau_nu)\n",
    "    samples.append(sig_Dst_tau_nu)\n",
    "    samples.append(sig_D_e_nu)\n",
    "    samples.append(sig_Dst_e_nu)\n",
    "    samples.append(all_Dstst_tau_nu)\n",
    "    samples.append(all_Dstst_e_nu)\n",
    "    \n",
    "    print(f'file: {file_path}')\n",
    "    print(f'size: {len(samples[-1])}')\n",
    "\n",
    "    #     bkg_others = pandas.concat([df_bestSelected,\n",
    "    #                                sig_D_e_nu,\n",
    "    #                                sig_D_tau_nu,\n",
    "    #                                sig_Dst_e_nu,\n",
    "    #                                sig_Dst_tau_nu,\n",
    "    #                                all_Dstst_e_nu,\n",
    "    #                                all_Dstst_tau_nu,\n",
    "    #                                bkg_fakeDTC,\n",
    "    #                                bkg_fakeB,\n",
    "    #                                bkg_continuum]).drop_duplicates(keep=False)\n",
    "        # Weird! the bkg_others contains some events with\n",
    "        # correct sig decay hash chain and correct B0_mcPDG, D_mcPDG, e_genMotherPDG,\n",
    "        # but with 128< B0_mcErrors < 256 (misID)\n",
    "\n",
    "    #     components = {'sig_D_l_nu':sig_D_e_nu,\n",
    "    #                  'sig_D_tau_nu':sig_D_tau_nu,\n",
    "    #                  'sig_Dst_l_nu':sig_Dst_e_nu,\n",
    "    #                  'sig_Dst_tau_nu':sig_Dst_tau_nu,\n",
    "    #                  'all_Dstst_l_nu':all_Dstst_e_nu,\n",
    "    #                  'all_Dstst_tau_nu':all_Dstst_tau_nu,\n",
    "    #                  'bkg_fakeDTC':bkg_fakeDTC,\n",
    "    #                  'bkg_fakeB':bkg_fakeB,\n",
    "    #                  'bkg_continuum':bkg_continuum,\n",
    "    #                  'bkg_others':bkg_others}\n",
    "\n",
    "    #     samples[decaymode] = components\n",
    "\n",
    "\n",
    "df_merged = pandas.concat(samples)\n",
    "\n",
    "\n",
    "cut='B0_roeMbc_my_mask>4.26'\n",
    "xedges = np.linspace(-2, 10, 48) # -7.5 for weMiss2, -2 for weMiss3, -2.5 for weMiss4\n",
    "yedges = np.linspace(0.4, 4.6, 42)\n",
    "variable_x = 'B0_CMS3_weMissM2'\n",
    "variable_y = 'p_D_l'\n",
    "\n",
    "(counts, xedges, yedges) = np.histogram2d(df_merged.query(cut)[variable_x], \n",
    "                                          df_merged.query(cut)[variable_y],\n",
    "                                          bins=[xedges, yedges])\n",
    "counts = counts.T"
   ]
  },
  {
   "cell_type": "code",
   "execution_count": 6,
   "metadata": {},
   "outputs": [
    {
     "name": "stderr",
     "output_type": "stream",
     "text": [
      "INFO - cabinetry.fit - performing maximum likelihood fit\n"
     ]
    },
    {
     "name": "stdout",
     "output_type": "stream",
     "text": [
      "model.config.samples=['$D\\\\ell\\\\nu$', '$D\\\\tau\\\\nu$', '$D^\\\\ast\\\\ell\\\\nu$', '$D^\\\\ast\\\\tau\\\\nu$', '$D^{\\\\ast\\\\ast}\\\\ell\\\\nu$', '$D^{\\\\ast\\\\ast}\\\\tau\\\\nu$']\n",
      "model.config.par_order=['n3', 'n1', 'n4', 'n2', 'n6', 'n5']\n",
      "fix_parameters=[False, False, False, False, False, False]\n"
     ]
    },
    {
     "name": "stderr",
     "output_type": "stream",
     "text": [
      "INFO - cabinetry.fit - Migrad status:\n",
      "┌─────────────────────────────────────────────────────────────────────────┐\n",
      "│                                Migrad                                   │\n",
      "├──────────────────────────────────┬──────────────────────────────────────┤\n",
      "│ FCN = 1.101e+04                  │              Nfcn = 763              │\n",
      "│ EDM = 3.1e-06 (Goal: 0.0002)     │                                      │\n",
      "├──────────────────────────────────┼──────────────────────────────────────┤\n",
      "│          Valid Minimum           │        No Parameters at limit        │\n",
      "├──────────────────────────────────┼──────────────────────────────────────┤\n",
      "│ Below EDM threshold (goal x 10)  │           Below call limit           │\n",
      "├───────────────┬──────────────────┼───────────┬─────────────┬────────────┤\n",
      "│  Covariance   │     Hesse ok     │ Accurate  │  Pos. def.  │ Not forced │\n",
      "└───────────────┴──────────────────┴───────────┴─────────────┴────────────┘\n",
      "DEBUG - cabinetry.fit - -2 log(L) = 11006.518033 at best-fit point\n",
      "INFO - cabinetry.fit - fit results (with symmetric uncertainties):\n",
      "INFO - cabinetry.fit - n3 =  4.8389 +/- 0.0115\n",
      "INFO - cabinetry.fit - n1 =  0.3179 +/- 0.0241\n",
      "INFO - cabinetry.fit - n4 =  4.8821 +/- 0.0202\n",
      "INFO - cabinetry.fit - n2 =  0.3035 +/- 0.0431\n",
      "INFO - cabinetry.fit - n6 =  5.0179 +/- 0.0283\n",
      "INFO - cabinetry.fit - n5 =  0.0790 +/- 0.0096\n",
      "INFO - cabinetry.fit - calculating goodness-of-fit\n",
      "DEBUG - cabinetry.fit - Delta NLL = 2958.598474\n",
      "DEBUG - cabinetry.fit - number of degrees of freedom: 1921\n",
      "INFO - cabinetry.fit - p-value for goodness-of-fit test: 0.00%\n"
     ]
    },
    {
     "name": "stdout",
     "output_type": "stream",
     "text": [
      "$D\\ell\\nu$\n",
      "480855 ± 1908\n",
      "\n",
      "$D\\tau\\nu$\n",
      "25236 ± 1916\n",
      "\n",
      "$D^\\ast\\ell\\nu$\n",
      "369820 ± 2034\n",
      "\n",
      "$D^\\ast\\tau\\nu$\n",
      "15014 ± 2131\n",
      "\n",
      "$D^{\\ast\\ast}\\ell\\nu$\n",
      "323555 ± 2227\n",
      "\n",
      "$D^{\\ast\\ast}\\tau\\nu$\n",
      "10964 ± 1337\n",
      "\n",
      "\n",
      "Total_fitted = 1225447\n",
      "Total fitted counts uncertainty: \n",
      "Total generated counts: 1225781\n",
      "\n",
      "fit_results=FitResults(bestfit=array([4.83894053, 0.31786695, 4.88211349, 0.30348388, 5.01790791,\n",
      "       0.07903166]), uncertainty=array([0.01153283, 0.02410132, 0.02015454, 0.04305883, 0.02833133,\n",
      "       0.00963212]), labels=['n3', 'n1', 'n4', 'n2', 'n6', 'n5'], corr_mat=array([[ 1.00000000e+00, -6.48930827e-02, -6.02010798e-01,\n",
      "        -2.12730413e-04,  1.65417666e-01,  1.12782446e-02],\n",
      "       [-6.48930827e-02,  1.00000000e+00,  2.60497984e-01,\n",
      "        -5.22083914e-01, -6.53068815e-01,  6.10208546e-02],\n",
      "       [-6.02010798e-01,  2.60497984e-01,  1.00000000e+00,\n",
      "         4.18186873e-02, -5.69455999e-01, -1.06121872e-01],\n",
      "       [-2.12730413e-04, -5.22083914e-01,  4.18186873e-02,\n",
      "         1.00000000e+00, -3.69588413e-02, -8.38345434e-01],\n",
      "       [ 1.65417666e-01, -6.53068815e-01, -5.69455999e-01,\n",
      "        -3.69588413e-02,  1.00000000e+00,  2.68292106e-01],\n",
      "       [ 1.12782446e-02,  6.10208546e-02, -1.06121872e-01,\n",
      "        -8.38345434e-01,  2.68292106e-01,  1.00000000e+00]]), best_twice_nll=11006.518033458506, goodness_of_fit=0.0, minos_uncertainty={})\n"
     ]
    }
   ],
   "source": [
    "fix_parameters = model.config.suggested_fixed()\n",
    "print(f'{model.config.samples=}')\n",
    "print(f'{model.config.par_order=}')\n",
    "\n",
    "# if fit only one component\n",
    "#fix_parameters[:] = [False if i=='$D^{\\\\ast\\\\ast}\\\\ell\\\\nu$' else True for i in model.config.samples]# only allow one parameter to float\n",
    "\n",
    "print(f'{fix_parameters=}')\n",
    "# data = np.concatenate([counts.flat]) or counts.ravel().tolist()\n",
    "data = counts.ravel().tolist()\n",
    "fit_results = cabinetry.fit.fit(model, data, goodness_of_fit=True,\n",
    "                                fix_pars=fix_parameters, custom_fit=False)\n",
    "\n",
    "template_counts = [np.array(model.nominal_rates[0][i][0] - 0.0001).sum() for i in range(model.config.npars)]\n",
    "# fitted_counts = template_counts x normalization\n",
    "fitted_counts = [round(fit_results.bestfit[i] * template_counts[i]) for i in range(model.config.npars)]\n",
    "# fitted_counts_err = template_counts_err, normalization_err in quadrature error\n",
    "#                   = fitted_counts x sqrt( (1/template_count) + (norm_err/norm)**2 )\n",
    "#                   = fitted_counts x sqrt( (1/template_count) ) if norm ==0\n",
    "fitted_counts_error = [round(fitted_counts[i] * np.sqrt(1/template_counts[i])) if fit_results.bestfit[i]==0 else round(fitted_counts[i] * np.sqrt(1/template_counts[i] + (fit_results.uncertainty[i]/fit_results.bestfit[i])**2)) for i in range(model.config.npars)]\n",
    "   \n",
    "for i in range(model.config.npars):\n",
    "    print(model.config.samples[i])\n",
    "    print(f'{fitted_counts[i]} ± {fitted_counts_error[i]}\\n')\n",
    "\n",
    "print(f'\\nTotal_fitted = {round(model.expected_data(fit_results.bestfit).sum())}')\n",
    "print(f'Total fitted counts uncertainty: ')\n",
    "print(f'Total generated counts: {len(df_merged)}')\n",
    "print(f'\\n{fit_results=}')"
   ]
  },
  {
   "cell_type": "code",
   "execution_count": 32,
   "metadata": {},
   "outputs": [
    {
     "name": "stdout",
     "output_type": "stream",
     "text": [
      "R_D = 0.357 ± 0.028\n",
      "R_Dst = 0.261 ± 0.038\n"
     ]
    }
   ],
   "source": [
    "tau_e_BF = 0.17\n",
    "eff_D_tau_nu = 12194/50000\n",
    "#eff_D_tau_nu_err = eff_D_tau_nu*np.sqrt(1/12194 + 1/50000)\n",
    "eff_D_l_nu = 14108/50000\n",
    "#eff_D_l_nu_err = eff_D_l_nu*np.sqrt(1/14108 + 1/50000)\n",
    "R_D = fitted_counts[1]/fitted_counts[0]/tau_e_BF * eff_D_l_nu/eff_D_tau_nu\n",
    "R_D_err = R_D*np.sqrt( (fitted_counts_error[0]/fitted_counts[0])**2 + (fitted_counts_error[1]/fitted_counts[1])**2 + 1/12194 + 1/50000 + 1/14108 + 1/50000)\n",
    "\n",
    "eff_Dst_tau_nu = 2260/10000\n",
    "eff_Dst_l_nu = 2466/10000\n",
    "R_Dst = fitted_counts[3]/fitted_counts[2]/tau_e_BF * eff_Dst_l_nu/eff_Dst_tau_nu\n",
    "R_Dst_err = R_Dst*np.sqrt( (fitted_counts_error[3]/fitted_counts[3])**2 + (fitted_counts_error[2]/fitted_counts[2])**2 + 1/2260 + 1/10000 + 1/2466 + 1/10000)\n",
    "\n",
    "print(f'{R_D = :.3f} ± {R_D_err:.3f}')\n",
    "print(f'{R_Dst = :.3f} ± {R_Dst_err:.3f}')"
   ]
  },
  {
   "cell_type": "code",
   "execution_count": null,
   "metadata": {
    "scrolled": true
   },
   "outputs": [],
   "source": [
    "model_postfit = cabinetry.model_utils.prediction(model, fit_results=fit_results)"
   ]
  },
  {
   "cell_type": "code",
   "execution_count": null,
   "metadata": {
    "scrolled": true
   },
   "outputs": [],
   "source": [
    "model_postfit.total_stdev_model_channels"
   ]
  },
  {
   "cell_type": "code",
   "execution_count": 107,
   "metadata": {},
   "outputs": [
    {
     "name": "stderr",
     "output_type": "stream",
     "text": [
      "INFO - cabinetry.visualize.utils - saving figure as figures/correlation_matrix.pdf\n"
     ]
    },
    {
     "data": {
      "image/png": "[encoded data removed]",
      "text/plain": [
       "<Figure size 880x680 with 2 Axes>"
      ]
     },
     "execution_count": 107,
     "metadata": {},
     "output_type": "execute_result"
    }
   ],
   "source": [
    "cabinetry.visualize.correlation_matrix(fit_results, pruning_threshold=0.2)"
   ]
  },
  {
   "cell_type": "markdown",
   "metadata": {},
   "source": [
    "# Plot the fitting results"
   ]
  },
  {
   "cell_type": "code",
   "execution_count": 39,
   "metadata": {},
   "outputs": [],
   "source": [
    "def statistics(df):\n",
    "    counts=df.count()\n",
    "    mean=df.mean()\n",
    "    std=df.std()\n",
    "    return f'''counts = %d \\nmean = %5.3f \\nstd = %5.3f''' %(counts,mean,std)\n",
    "\n",
    "kwarg={'histtype':'step','lw':2}\n",
    "    \n",
    "\n",
    "plt.rcParams[\"axes.prop_cycle\"] = plt.cycler(\"color\", plt.cm.tab20.colors)\n",
    "\n",
    "def plot_all_signals(cut, variable):\n",
    "    fig,axs =plt.subplots(2,3,figsize=(16,10), sharex=True, sharey=False)\n",
    "    fig.suptitle(f'All signals with {cut}')\n",
    "    fig.supylabel('# of candidates per bin',x=0.06)\n",
    "    fig.supxlabel(f'{variable}', y=0.06)\n",
    "    i=0\n",
    "    j=0\n",
    "    for sample_name, sample in samples.items():\n",
    "        (counts, bins) = np.histogram(sample.query(cut)[variable], bins=50)\n",
    "        if sample_name in ['sig_D_l_nu','sig_D_tau_nu','bkg_fakeDTC','bkg_fakeB','bkg_continuum','bkg_others']:\n",
    "            factor = 1\n",
    "        elif sample_name in ['sig_Dst_l_nu','sig_Dst_tau_nu','all_Dstst_l_nu','all_Dstst_tau_nu']:\n",
    "            factor = 1\n",
    "        axs[i,j].hist(bins[:-1], bins, weights=factor*counts,label=sample_name,**kwarg)\n",
    "\n",
    "        #plt.legend(bbox_to_anchor=(1,1),ncol=3, fancybox=True, shadow=True,labelspacing=1.5)\n",
    "        axs[i,j].grid()\n",
    "        axs[i,j].set_title(sample_name)\n",
    "        j+=1\n",
    "        if j==3:\n",
    "            i+=1\n",
    "            j=0\n",
    "            \n",
    "def plot_all_signals_2d(cut):\n",
    "    variable_x = 'B0_CMS3_weMissM2'\n",
    "    variable_y = 'p_D_l'\n",
    "    xedges = np.linspace(-2, 10, 48)\n",
    "    yedges = np.linspace(0.4, 4.6, 42)\n",
    "\n",
    "    n_rows,n_cols = [2,3]\n",
    "    fig,axs=plt.subplots(nrows=n_rows, ncols=n_cols, figsize=(16,8),sharex=True, sharey='all')\n",
    "    fig.suptitle('Signals')\n",
    "    fig.supylabel('$|p_D|\\ +\\ |p_l|\\ [GeV]$', x=0.05)\n",
    "    fig.supxlabel('$M_{miss}^2\\ [GeV^2/c^4]$')\n",
    "    i=0\n",
    "    j=0\n",
    "    for name, sample in samples.items():\n",
    "        (counts, xedges, yedges) = np.histogram2d(sample.query(cut)[variable_x], \n",
    "                                              sample.query(cut)[variable_y],\n",
    "                                              bins=[xedges, yedges])\n",
    "        counts = counts.T + 0.01\n",
    "        X, Y = np.meshgrid(xedges, yedges)\n",
    "        im=axs[i,j].pcolormesh(X, Y, counts, cmap='jet', norm=colors.LogNorm())\n",
    "        axs[i,j].grid()\n",
    "        axs[i,j].set_xlim(xedges.min(),xedges.max())\n",
    "        axs[i,j].set_ylim(yedges.min(),yedges.max())\n",
    "        axs[i,j].set_title(name,fontsize=12)\n",
    "        fig.colorbar(im,ax=axs[i,j])\n",
    "        j+=1\n",
    "        if j==3:\n",
    "            i+=1\n",
    "            j=0\n",
    "            \n",
    "def plot_overlaid_signals(cut, variable):\n",
    "    fig,axs =plt.subplots(1,2,figsize=(12,5), sharex=True, sharey=False)\n",
    "    fig.suptitle(f'Overlaid signals with pre-selection', y=1)\n",
    "    fig.supylabel('# of candidates per bin',x=0.06)\n",
    "    #fig.supxlabel('$|\\\\vec{p_D}|\\ +\\ |\\\\vec{p_l}|$  [GeV/c]')\n",
    "    #fig.supxlabel('$M_{miss}^2 \\ [GeV^2/c^4]$')\n",
    "    fig.supxlabel(f'{variable}')\n",
    "\n",
    "    for sample_name, sample in samples.items():\n",
    "        (counts, bins) = np.histogram(sample.query(cut)[variable], bins=50)\n",
    "        factor=1\n",
    "        if sample_name in ['sig_D_tau_nu','sig_Dst_tau_nu','all_Dstst_tau_nu']:\n",
    "            axs[0].hist(bins[:-1], bins, weights=factor*counts,label=sample_name,**kwarg)\n",
    "            axs[0].legend()\n",
    "        elif sample_name in ['sig_D_l_nu','sig_Dst_l_nu','all_Dstst_l_nu']:\n",
    "            axs[1].hist(bins[:-1], bins, weights=factor*counts,label=sample_name,**kwarg)\n",
    "            axs[1].legend()\n",
    "        #plt.legend(bbox_to_anchor=(1,1),ncol=3, fancybox=True, shadow=True,labelspacing=1.5)\n",
    "\n",
    "    axs[0].set_title('signals')\n",
    "    axs[1].set_title('normalization')\n",
    "    axs[0].grid()\n",
    "    axs[1].grid()\n",
    "    \n",
    "def plot_overlaid_signals_2(cut, variable):\n",
    "    fig,axs =plt.subplots(figsize=(12,5), sharex=True, sharey=False)\n",
    "    fig.suptitle(f'Overlaid signals with pre-selection', y=1)\n",
    "    fig.supylabel('# of candidates per bin',x=0.06)\n",
    "    #fig.supxlabel('$|\\\\vec{p_D}|\\ +\\ |\\\\vec{p_l}|$  [GeV/c]')\n",
    "    #fig.supxlabel('$M_{miss}^2 \\ [GeV^2/c^4]$')\n",
    "    fig.supxlabel(f'{variable}')\n",
    "\n",
    "    for sample_name, sample in samples.items():\n",
    "        if sample_name in ['sig_D_tau_nu']:\n",
    "            (counts, bins) = np.histogram(sample.query(cut)[variable], bins=50)\n",
    "            factor=1\n",
    "        elif sample_name in ['all_Dstst_l_nu']:\n",
    "            (counts, bins) = np.histogram(sample.query(cut)[variable], bins=50)\n",
    "            factor=1\n",
    "        else:\n",
    "            continue\n",
    "        axs.hist(bins[:-1], bins, weights=factor*counts,label=sample_name,**kwarg)\n",
    "        axs.legend()\n",
    "        #plt.legend(bbox_to_anchor=(1,1),ncol=3, fancybox=True, shadow=True,labelspacing=1.5)\n",
    "    axs.grid()\n",
    "    \n",
    "def plot_projection(cut,variable):\n",
    "    fig,axs =plt.subplots(sharex=True, sharey=False)\n",
    "    for sample_name, sample in samples.items():\n",
    "        (counts, bins) = np.histogram(sample.query(cut)[variable], bins=50)\n",
    "        factor=1\n",
    "        if sample_name in ['sig_D_tau_nu','sig_Dst_tau_nu','all_Dstst_tau_nu']:\n",
    "            axs.hist(bins[:-1], bins, weights=factor*counts,label=f'{sample_name} \\n{statistics(sample.query(cut)[variable])}',**kwarg)\n",
    "        elif sample_name in ['sig_D_l_nu','sig_Dst_l_nu','all_Dstst_l_nu']:\n",
    "            axs.hist(bins[:-1], bins, weights=factor*counts,label=f'{sample_name} \\n{statistics(sample.query(cut)[variable])}',**kwarg)\n",
    "\n",
    "    axs.set_title('Overlaid signals with pre-selection')\n",
    "    axs.set_xlabel(f'{variable}')\n",
    "    axs.set_ylabel('# of candidates per bin')\n",
    "    axs.grid()\n",
    "    plt.legend(bbox_to_anchor=(1,1),ncol=3, fancybox=True, shadow=True,labelspacing=1.5)\n",
    "    \n",
    "    \n",
    "def plot_fitting_difference(yaml_file):\n",
    "    fig,axs =plt.subplots(2,3,figsize=(16,10), sharex=True, sharey=False)\n",
    "    fig.suptitle(f'fitted yield - true yield',fontsize=16)\n",
    "    fig.supylabel('yield difference',x=0.06,fontsize=16)\n",
    "    fig.supxlabel(f'index of subset samples', y=0.06,fontsize=16)\n",
    "    i=0\n",
    "    j=0\n",
    "    with open(yaml_file, 'r+') as f:\n",
    "        data = yaml.safe_load(f)\n",
    "        components = data['signal_e']\n",
    "\n",
    "    for comp_name, info in components.items():\n",
    "        axs[i,j].errorbar(x=range(1,len(info['difference'])+1), y=info['difference'], yerr=info['errors'], fmt='ko')\n",
    "        axs[i,j].axhline(y=0, linestyle='-', linewidth=3, color='r')\n",
    "        axs[i,j].grid()\n",
    "        axs[i,j].set_title(comp_name,fontsize=14)\n",
    "        j+=1\n",
    "        if j==3 and i==0:\n",
    "            i+=1\n",
    "            j=0\n",
    "        if j==3 and i==1:\n",
    "            break"
   ]
  },
  {
   "cell_type": "markdown",
   "metadata": {},
   "source": [
    "## Plot fitting difference"
   ]
  },
  {
   "cell_type": "code",
   "execution_count": 40,
   "metadata": {},
   "outputs": [
    {
     "data": {
      "image/png": "[encoded data removed]",
      "text/plain": [
       "<Figure size 1152x720 with 6 Axes>"
      ]
     },
     "metadata": {
      "needs_background": "light"
     },
     "output_type": "display_data"
    }
   ],
   "source": [
    "plot_fitting_difference('results_3.yaml')"
   ]
  },
  {
   "cell_type": "markdown",
   "metadata": {},
   "source": [
    "## Define the slices of projection"
   ]
  },
  {
   "cell_type": "code",
   "execution_count": 7,
   "metadata": {},
   "outputs": [
    {
     "name": "stdout",
     "output_type": "stream",
     "text": [
      "(41, 47)\n",
      "[17, 20]\n"
     ]
    }
   ],
   "source": [
    "from matplotlib import gridspec\n",
    "import mplhep as hep\n",
    "\n",
    "print(counts.shape)\n",
    "p_D_l_slice = 2.5\n",
    "mm2_slice = 2.4\n",
    "p_D_l_slice_index, = np.asarray(np.isclose(yedges,p_D_l_slice,atol=0.1)).nonzero()\n",
    "mm2_slice_index, = np.asarray(np.isclose(xedges,mm2_slice,atol=0.1)).nonzero()\n",
    "print([mm2_slice_index[0], p_D_l_slice_index[0]])"
   ]
  },
  {
   "cell_type": "markdown",
   "metadata": {},
   "source": [
    "## Plot with mplhep or plt.bar()"
   ]
  },
  {
   "cell_type": "code",
   "execution_count": 36,
   "metadata": {},
   "outputs": [],
   "source": [
    "# plotting version: residual = data - all_temp\n",
    "def plot_projection_residual(direction='MM2', slices=False, plot_with='mplhep'):\n",
    "    if direction not in ['MM2', 'p_D_l'] or plot_with not in ['mplhep', 'pltbar']:\n",
    "        raise ValueError('direction in [MM2, p_D_l] and plot_with in [mplhep, pltbar]')\n",
    "    fitted_components_names = model.config.samples\n",
    "    # fitted_counts = template_counts x normalization\n",
    "    template_counts = [(np.array(model.nominal_rates[0][i][0])-0.0001).reshape(counts.shape) for i in range(model.config.npars)]\n",
    "    fitted_templates = [template_counts[i] * fit_results.bestfit[i] for i in range(model.config.npars)]\n",
    "    # fitted_counts_err = template_counts_err, normalization_err in quadrature error\n",
    "    #                   = fitted_counts x sqrt( (1/template_count) + (norm_err/norm)**2 )\n",
    "    #                   = fitted_counts x sqrt( (1/template_count) ) if norm ==0\n",
    "    fitted_templates_err = [np.zeros_like(counts) for i in range(model.config.npars)]\n",
    "    for i in range(model.config.npars):\n",
    "        if fit_results.bestfit[i]==0:\n",
    "            continue\n",
    "        for row in range(len(template_counts[i])):\n",
    "            for col in range(len(template_counts[i][row])):\n",
    "                if template_counts[i][row][col]==0:\n",
    "                    continue\n",
    "                fitted_templates_err[i][row][col] = fitted_templates[i][row][col] * np.sqrt(1/template_counts[i][row][col] + (fit_results.uncertainty[i]/fit_results.bestfit[i])**2)\n",
    "    #fitted_templates_err = [fitted_templates[i] * np.sqrt(1/template_counts[i]) if fit_results.bestfit[i]==0 else fitted_templates[i] * np.sqrt(1/template_counts[i] + (fit_results.uncertainty[i]/fit_results.bestfit[i])**2) for i in range(model.config.npars)]\n",
    "    \n",
    "    def extend(x):\n",
    "        return np.append(x, x[-1])\n",
    "    \n",
    "    def errorband(bins, template_sum, template_err, ax):\n",
    "        fitted_sum = np.sum(template_sum, axis=0)\n",
    "        fitted_err = np.sqrt(np.sum(np.array(template_err)**2, axis=0)) # assuming the correlations between each template are 0\n",
    "        ax.fill_between(bins, extend(fitted_sum - fitted_err), extend(fitted_sum + fitted_err),\n",
    "        step=\"post\", color=\"black\", alpha=0.3, linewidth=0, zorder=100,)\n",
    "        \n",
    "    def plot_with_hep(bins, templates_project, templates_project_err, data, ax1, ax2):\n",
    "        data_project = data.sum(axis=axis_to_be_summed_over)\n",
    "        # plot the templates and data\n",
    "        hep.histplot(templates_project, bin_edges, stack=True, histtype='fill', sort='yield_r', label=fitted_components_names, ax=ax1)\n",
    "        # errorband(bin_edges, templates_project, templates_project_err, ax1)\n",
    "        hep.histplot(data_project, bin_edges, histtype='errorbar', color='black', w2=data_project, ax=ax1)\n",
    "        # plot the residual\n",
    "        residual = data_project - np.sum(templates_project, axis=0)\n",
    "        # Error assuming the correlations between data and templates, between each template, are 0\n",
    "        residual_err = np.sqrt(data_project + np.sum(np.array(templates_project_err)**2, axis=0))\n",
    "        pull = [0 if residual_err[i]==0 else (residual[i]/residual_err[i]) for i in range(len(residual))]\n",
    "        #hep.histplot(residual, bin_edges, histtype='errorbar', color='black', yerr=residual_err, ax=ax2)\n",
    "        hep.histplot(pull, bin_edges, histtype='errorbar', color='black', ax=ax2)\n",
    "        ax2.axhline(y=0, linestyle='-', linewidth=1, color='r')\n",
    "        \n",
    "        ax1.grid()\n",
    "        ax1.set_ylabel('# of counts per bin',fontsize=16)\n",
    "        ax1.set_xlim(bin_edges.min(), bin_edges.max())\n",
    "        ax1.set_ylim(0, data_project.max()*1.2)\n",
    "        ax2.set_ylabel('pull',fontsize=16)\n",
    "        ax2.set_xlim(bin_edges.min(), bin_edges.max())\n",
    "        ax1.legend(bbox_to_anchor=(1,1),ncol=1, fancybox=True, shadow=True,labelspacing=1)\n",
    "        \n",
    "    def plot_with_bar(bins, templates_project, templates_project_err, data, ax1, ax2):        \n",
    "        # calculate the arguments for plotting\n",
    "        bin_width = bins[1]-bins[0]\n",
    "        bin_centers = (bins[:-1] + bins[1:]) /2\n",
    "        data_project = data.sum(axis=axis_to_be_summed_over)\n",
    "        data_err = np.sqrt(data_project)\n",
    "        \n",
    "        # plot the templates\n",
    "        # sort the components to plot in order of fitted templates_project size\n",
    "        sorted_indices = sorted(range(model.config.npars), key=lambda i: np.sum(templates_project[i]), reverse = True)\n",
    "        bottom_hist = np.zeros(data.shape[1-axis_to_be_summed_over])\n",
    "        for i in sorted_indices:\n",
    "            binned_counts = templates_project[i]\n",
    "            ax1.bar(x=bins[:-1], height=binned_counts, bottom=bottom_hist,\n",
    "                    width=bin_width, align='edge', label=f\"{fitted_components_names[i]}\")\n",
    "            bottom_hist = bottom_hist + binned_counts\n",
    "        # errorband(bin_edges, templates_project, templates_project_err, ax1)\n",
    "        \n",
    "        # plot the data\n",
    "        ax1.errorbar(x=bin_centers, y=data_project, yerr=data_err, fmt='ko')\n",
    "        # plot the residual\n",
    "        residual = data_project - np.sum(templates_project, axis=0)\n",
    "        # Error assuming the correlations between data and templates, between each template, are 0\n",
    "        residual_err = np.sqrt(data_project + np.sum(np.array(templates_project_err)**2, axis=0))\n",
    "        pull = [0 if residual_err[i]==0 else (residual[i]/residual_err[i]) for i in range(len(residual))]\n",
    "        #ax2.errorbar(x=bin_centers, y=residual, yerr=residual_err, fmt='ko')\n",
    "        ax2.scatter(x=bin_centers, y=pull, c='black')\n",
    "        ax2.axhline(y=0, linestyle='-', linewidth=1, color='r')\n",
    "        \n",
    "        ax1.grid()\n",
    "        ax1.set_ylabel('# of counts per bin',fontsize=16)\n",
    "        ax1.set_xlim(bin_edges.min(), bin_edges.max())\n",
    "        ax1.set_ylim(0, data_project.max()*1.2)\n",
    "        #ax2.set_ylabel('Residual',fontsize=16)\n",
    "        ax2.set_ylabel('pull', fontsize=16)\n",
    "        ax2.set_xlim(bin_edges.min(), bin_edges.max())\n",
    "        ax1.legend(bbox_to_anchor=(1,1),ncol=1, fancybox=True, shadow=True,labelspacing=1)        \n",
    "    \n",
    "    if direction=='MM2':\n",
    "        direction_label = '$M_{miss}^2$'\n",
    "        direction_unit = '$[GeV^2/c^4]$'\n",
    "        other_direction_label = '$|p_D|\\ +\\ |p_l|$'\n",
    "        other_direction_unit = '[GeV]'\n",
    "        slice_position = p_D_l_slice\n",
    "        axis_to_be_summed_over = 0\n",
    "        bin_edges = xedges\n",
    "        first_slice_index = (p_D_l_slice_index[0]-1)\n",
    "        second_slice_index = (p_D_l_slice_index[0])\n",
    "        \n",
    "        # parameters for slices==True\n",
    "        fitted_project_slice1 = [temp[:first_slice_index,:].sum(axis=axis_to_be_summed_over) for temp in fitted_templates]\n",
    "        fitted_project_slice2 = [temp[second_slice_index:,:].sum(axis=axis_to_be_summed_over) for temp in fitted_templates]\n",
    "        fitted_project_slice1_err = [temp[:first_slice_index,:].sum(axis=axis_to_be_summed_over) for temp in fitted_templates_err]\n",
    "        fitted_project_slice2_err = [temp[second_slice_index:,:].sum(axis=axis_to_be_summed_over) for temp in fitted_templates_err]\n",
    "        data_slice1 = counts[:first_slice_index,:]\n",
    "        data_slice2 = counts[second_slice_index:,:]\n",
    "\n",
    "        \n",
    "    elif direction=='p_D_l':\n",
    "        direction_label = '$|p_D|\\ +\\ |p_l|$'\n",
    "        direction_unit = '[GeV]'\n",
    "        other_direction_label = '$M_{miss}^2$'\n",
    "        other_direction_unit = '$[GeV^2/c^4]$'\n",
    "        slice_position = mm2_slice\n",
    "        axis_to_be_summed_over = 1\n",
    "        bin_edges = yedges\n",
    "        first_slice_index = (mm2_slice_index[0]-1)\n",
    "        second_slice_index = (mm2_slice_index[0])\n",
    "        \n",
    "        # parameters for slices==True\n",
    "        fitted_project_slice1 = [temp[:,:first_slice_index].sum(axis=axis_to_be_summed_over) for temp in fitted_templates]\n",
    "        fitted_project_slice2 = [temp[:,second_slice_index:].sum(axis=axis_to_be_summed_over) for temp in fitted_templates]\n",
    "        fitted_project_slice1_err = [temp[:,:first_slice_index].sum(axis=axis_to_be_summed_over) for temp in fitted_templates_err]\n",
    "        fitted_project_slice2_err = [temp[:,second_slice_index:].sum(axis=axis_to_be_summed_over) for temp in fitted_templates_err]\n",
    "        data_slice1 = counts[:,:first_slice_index]\n",
    "        data_slice2 = counts[:,second_slice_index:]\n",
    "        \n",
    "        \n",
    "    else:\n",
    "        raise ValueError('Current version only supports projection to either MM2 or p_D_l')\n",
    "    \n",
    "    if not slices:\n",
    "        fig = plt.figure(figsize=(6.4,6.4))\n",
    "        gs = gridspec.GridSpec(2,1, height_ratios=[0.8,0.2])\n",
    "        ax1 = fig.add_subplot(gs[0])\n",
    "        ax2 = fig.add_subplot(gs[1])\n",
    "        #gs.update(hspace=0) \n",
    "        fitted_project = [temp.sum(axis=axis_to_be_summed_over) for temp in fitted_templates]\n",
    "        fitted_project_err = [temp.sum(axis=axis_to_be_summed_over) for temp in fitted_templates_err]\n",
    "        \n",
    "        # plot the templates and data and templates_err\n",
    "        if plot_with=='mplhep':\n",
    "            plot_with_hep(bin_edges, fitted_project, fitted_project_err, counts, ax1, ax2)\n",
    "        elif plot_with=='pltbar':\n",
    "            plot_with_bar(bin_edges, fitted_project, fitted_project_err, counts, ax1, ax2)\n",
    "        ax1.set_title(f'Fitting projection to {direction_label}')\n",
    "        ax2.set_xlabel(direction_label)\n",
    "    \n",
    "    elif slices:\n",
    "        fig = plt.figure(figsize=(16,7))\n",
    "        spec = gridspec.GridSpec(5,2, figure=fig, wspace=0.4, hspace=0.5)\n",
    "        ax1 = fig.add_subplot(spec[:-1, 0])\n",
    "        ax2 = fig.add_subplot(spec[:-1, 1])\n",
    "        ax3 = fig.add_subplot(spec[-1, 0])\n",
    "        ax4 = fig.add_subplot(spec[-1, 1])\n",
    "        #gs.update(hspace=0) \n",
    "        \n",
    "        # plot the templates and data and template_err\n",
    "        if plot_with=='mplhep':\n",
    "            plot_with_hep(bin_edges, fitted_project_slice1, fitted_project_slice1_err, data_slice1, ax1, ax3)\n",
    "            plot_with_hep(bin_edges, fitted_project_slice2, fitted_project_slice2_err, data_slice2, ax2, ax4)\n",
    "        elif plot_with=='pltbar':\n",
    "            plot_with_bar(bin_edges, fitted_project_slice1, fitted_project_slice1_err, data_slice1, ax1, ax3)\n",
    "            plot_with_bar(bin_edges, fitted_project_slice2, fitted_project_slice2_err, data_slice2, ax2, ax4)\n",
    "            \n",
    "        ax1.set_title(f'{other_direction_label} < {slice_position}  {other_direction_unit}',fontsize=14)\n",
    "        ax2.set_title(f'{other_direction_label} > {slice_position}  {other_direction_unit}',fontsize=14)\n",
    "        fig.suptitle(f'Fitted projection to {direction_label} in slices of {other_direction_label}',fontsize=16)\n",
    "        fig.supxlabel(direction_label + '  ' + direction_unit,fontsize=16)"
   ]
  },
  {
   "cell_type": "code",
   "execution_count": 37,
   "metadata": {},
   "outputs": [
    {
     "data": {
      "image/png": "[encoded data removed]",
      "text/plain": [
       "<Figure size 1152x504 with 4 Axes>"
      ]
     },
     "metadata": {
      "needs_background": "light"
     },
     "output_type": "display_data"
    }
   ],
   "source": [
    "plot_projection_residual(direction='p_D_l',slices=True, plot_with='pltbar')"
   ]
  },
  {
   "cell_type": "code",
   "execution_count": 38,
   "metadata": {},
   "outputs": [
    {
     "data": {
      "image/png": "[encoded data removed]",
      "text/plain": [
       "<Figure size 1152x504 with 4 Axes>"
      ]
     },
     "metadata": {
      "needs_background": "light"
     },
     "output_type": "display_data"
    }
   ],
   "source": [
    "plot_projection_residual(direction='MM2',slices=True, plot_with='pltbar')"
   ]
  },
  {
   "cell_type": "code",
   "execution_count": 23,
   "metadata": {},
   "outputs": [],
   "source": [
    "# plotting version: two residual plots, residual_signal = data - all_temp + signal1\n",
    "def plot_projection_residual(direction='MM2', slices=False, plot_with='mplhep'):\n",
    "    if direction not in ['MM2', 'p_D_l'] or plot_with not in ['mplhep', 'pltbar']:\n",
    "        raise ValueError('direction in [MM2, p_D_l] and plot_with in [mplhep, pltbar]')\n",
    "    fitted_components_names = model.config.samples\n",
    "    # fitted_counts = template_counts x normalization\n",
    "    template_counts = [(np.array(model.nominal_rates[0][i][0])-0.0001).reshape(counts.shape) for i in range(model.config.npars)]\n",
    "    fitted_templates = [template_counts[i] * fit_results.bestfit[i] for i in range(model.config.npars)]\n",
    "    # fitted_counts_err = template_counts_err, normalization_err in quadrature error\n",
    "    #                   = fitted_counts x sqrt( (1/template_count) + (norm_err/norm)**2 )\n",
    "    #                   = fitted_counts x sqrt( (1/template_count) ) if norm ==0\n",
    "    fitted_templates_err = [np.zeros_like(counts) for i in range(model.config.npars)]\n",
    "    for i in range(model.config.npars):\n",
    "        if fit_results.bestfit[i]==0:\n",
    "            continue\n",
    "        for row in range(len(template_counts[i])):\n",
    "            for col in range(len(template_counts[i][row])):\n",
    "                if template_counts[i][row][col]==0:\n",
    "                    continue\n",
    "                fitted_templates_err[i][row][col] = fitted_templates[i][row][col] * np.sqrt(1/template_counts[i][row][col] + (fit_results.uncertainty[i]/fit_results.bestfit[i])**2)\n",
    "    #fitted_templates_err = [fitted_templates[i] * np.sqrt(1/template_counts[i]) if fit_results.bestfit[i]==0 else fitted_templates[i] * np.sqrt(1/template_counts[i] + (fit_results.uncertainty[i]/fit_results.bestfit[i])**2) for i in range(model.config.npars)]\n",
    "    \n",
    "    def extend(x):\n",
    "        return np.append(x, x[-1])\n",
    "    \n",
    "    def errorband(bins, template_sum, template_err, ax):\n",
    "        fitted_sum = np.sum(template_sum, axis=0)\n",
    "        fitted_err = np.sqrt(np.sum(np.array(template_err)**2, axis=0)) # assuming the correlations between each template are 0\n",
    "        ax.fill_between(bins, extend(fitted_sum - fitted_err), extend(fitted_sum + fitted_err),\n",
    "        step=\"post\", color=\"black\", alpha=0.3, linewidth=0, zorder=100,)   \n",
    "    \n",
    "    def plot_with_hep(bins, templates_project, templates_project_err, data, signal_name, ax1, ax2, ax3):\n",
    "        data_project = data.sum(axis=axis_to_be_summed_over)\n",
    "        # plot the templates and data\n",
    "        hep.histplot(templates_project, bin_edges, stack=True, histtype='fill', sort='yield_r', label=fitted_components_names, ax=ax1)\n",
    "        # errorband(bin_edges, templates_project, templates_project_err, ax1)\n",
    "        hep.histplot(data_project, bin_edges, histtype='errorbar', color='black', w2=data_project, ax=ax1)\n",
    "        # plot the residual\n",
    "        signal_index = fitted_components_names.index(signal_name)\n",
    "        residual = data_project - np.sum(templates_project, axis=0)\n",
    "        residual_signal = residual + templates_project[signal_index]\n",
    "        # Error assuming the correlations between data and templates, between each template, are 0\n",
    "        residual_err = np.sqrt(data_project + np.sum(np.array(templates_project_err)**2, axis=0))\n",
    "        residual_err_signal = np.sqrt(residual_err**2 - np.array(templates_project_err[signal_index]))\n",
    "        \n",
    "        pull = [0 if residual_err[i]==0 else (residual[i]/residual_err[i]) for i in range(len(residual))]\n",
    "        pull_signal = [0 if residual_err_signal[i]==0 else (residual_signal[i]/residual_err_signal[i]) for i in range(len(residual_signal))]\n",
    "        #hep.histplot(residual, bin_edges, histtype='errorbar', color='black', yerr=residual_err, ax=ax2)\n",
    "        hep.histplot(pull, bin_edges, histtype='errorbar', color='black', ax=ax2)\n",
    "        ax2.axhline(y=0, linestyle='-', linewidth=1, color='r')\n",
    "        #hep.histplot(residual_signal, bin_edges, histtype='errorbar', color='black', yerr=residual_err_signal, ax=ax3)\n",
    "        hep.histplot(pull_signal, bin_edges, histtype='errorbar', color='black', ax=ax3)\n",
    "        ax3.axhline(y=0, linestyle='-', linewidth=1, color='r')\n",
    "        \n",
    "        ax1.grid()\n",
    "        ax1.set_ylabel('# of counts per bin',fontsize=16)\n",
    "        ax1.set_xlim(bin_edges.min(), bin_edges.max())\n",
    "        ax1.set_ylim(0, data_project.max()*1.2)\n",
    "        ax2.set_ylabel('pull',fontsize=14)\n",
    "        ax2.set_xlim(bin_edges.min(), bin_edges.max())\n",
    "        ax3.set_ylabel('pull + signal',fontsize=10)\n",
    "        ax3.set_xlim(bin_edges.min(), bin_edges.max())\n",
    "        ax1.legend(bbox_to_anchor=(1,1),ncol=1, fancybox=True, shadow=True,labelspacing=1)\n",
    "        \n",
    "    def plot_with_bar(bins, templates_project, templates_project_err, data, signal_name, ax1, ax2, ax3):        \n",
    "        # calculate the arguments for plotting\n",
    "        bin_width = bins[1]-bins[0]\n",
    "        bin_centers = (bins[:-1] + bins[1:]) /2\n",
    "        data_project = data.sum(axis=axis_to_be_summed_over)\n",
    "        data_err = np.sqrt(data_project)\n",
    "        \n",
    "        # plot the templates\n",
    "        # sort the components to plot in order of fitted templates_project size\n",
    "        sorted_indices = sorted(range(model.config.npars), key=lambda i: np.sum(templates_project[i]), reverse = True)\n",
    "        bottom_hist = np.zeros(data.shape[1-axis_to_be_summed_over])\n",
    "        for i in sorted_indices:\n",
    "            binned_counts = templates_project[i]\n",
    "            ax1.bar(x=bins[:-1], height=binned_counts, bottom=bottom_hist,\n",
    "                    width=bin_width, align='edge', label=f\"{fitted_components_names[i]}\")\n",
    "            bottom_hist = bottom_hist + binned_counts\n",
    "        # errorband(bin_edges, templates_project, templates_project_err, ax1)\n",
    "        \n",
    "        # plot the data\n",
    "        ax1.errorbar(x=bin_centers, y=data_project, yerr=data_err, fmt='ko')\n",
    "        # plot the residual\n",
    "        signal_index = fitted_components_names.index(signal_name)\n",
    "        residual = data_project - np.sum(templates_project, axis=0)\n",
    "        residual_signal = residual + templates_project[signal_index]\n",
    "        # Error assuming the correlations between data and templates, between each template, are 0\n",
    "        residual_err = np.sqrt(data_project + np.sum(np.array(templates_project_err)**2, axis=0))\n",
    "        residual_err_signal = np.sqrt(residual_err**2 - np.array(templates_project_err[signal_index]))\n",
    "        \n",
    "        pull = [0 if residual_err[i]==0 else (residual[i]/residual_err[i]) for i in range(len(residual))]\n",
    "        pull_signal = [0 if residual_err_signal[i]==0 else (residual_signal[i]/residual_err_signal[i]) for i in range(len(residual_signal))]\n",
    "        ax2.scatter(x=bin_centers, y=pull, c='black')\n",
    "        ax2.axhline(y=0, linestyle='-', linewidth=1, color='r')\n",
    "        ax3.scatter(x=bin_centers, y=pull_signal, c='black')\n",
    "        ax3.axhline(y=0, linestyle='-', linewidth=1, color='r')\n",
    "                \n",
    "        ax1.grid()\n",
    "        ax1.set_ylabel('# of counts per bin',fontsize=16)\n",
    "        ax1.set_xlim(bin_edges.min(), bin_edges.max())\n",
    "        ax1.set_ylim(0, data_project.max()*1.2)\n",
    "        ax2.set_ylabel('pull',fontsize=14)\n",
    "        ax2.set_xlim(bin_edges.min(), bin_edges.max())\n",
    "        ax3.set_ylabel('pull + signal',fontsize=10)\n",
    "        ax3.set_xlim(bin_edges.min(), bin_edges.max())\n",
    "        ax1.legend(bbox_to_anchor=(1,1),ncol=1, fancybox=True, shadow=True,labelspacing=1)       \n",
    "    \n",
    "    if direction=='MM2':\n",
    "        direction_label = '$M_{miss}^2$'\n",
    "        direction_unit = '$[GeV^2/c^4]$'\n",
    "        other_direction_label = '$|p_D|\\ +\\ |p_l|$'\n",
    "        other_direction_unit = '[GeV]'\n",
    "        slice1_signal = '$D\\\\tau\\\\nu$'\n",
    "        slice2_signal = '$D\\\\ell\\\\nu$'\n",
    "        slice_position = p_D_l_slice\n",
    "        axis_to_be_summed_over = 0\n",
    "        bin_edges = xedges\n",
    "        first_slice_index = (p_D_l_slice_index[0]-1)\n",
    "        second_slice_index = (p_D_l_slice_index[0])\n",
    "        \n",
    "        # parameters for slices==True\n",
    "        fitted_project_slice1 = [temp[:first_slice_index,:].sum(axis=axis_to_be_summed_over) for temp in fitted_templates]\n",
    "        fitted_project_slice2 = [temp[second_slice_index:,:].sum(axis=axis_to_be_summed_over) for temp in fitted_templates]\n",
    "        fitted_project_slice1_err = [temp[:first_slice_index,:].sum(axis=axis_to_be_summed_over) for temp in fitted_templates_err]\n",
    "        fitted_project_slice2_err = [temp[second_slice_index:,:].sum(axis=axis_to_be_summed_over) for temp in fitted_templates_err]\n",
    "        data_slice1 = counts[:first_slice_index,:]\n",
    "        data_slice2 = counts[second_slice_index:,:]\n",
    "        \n",
    "    elif direction=='p_D_l':\n",
    "        direction_label = '$|p_D|\\ +\\ |p_l|$'\n",
    "        direction_unit = '[GeV]'\n",
    "        other_direction_label = '$M_{miss}^2$'\n",
    "        other_direction_unit = '$[GeV^2/c^4]$'\n",
    "        slice1_signal = '$D\\\\ell\\\\nu$'\n",
    "        slice2_signal = '$D\\\\tau\\\\nu$'\n",
    "        slice_position = mm2_slice\n",
    "        axis_to_be_summed_over = 1\n",
    "        bin_edges = yedges\n",
    "        first_slice_index = (mm2_slice_index[0]-1)\n",
    "        second_slice_index = (mm2_slice_index[0])\n",
    "        \n",
    "        # parameters for slices==True\n",
    "        fitted_project_slice1 = [temp[:,:first_slice_index].sum(axis=axis_to_be_summed_over) for temp in fitted_templates]\n",
    "        fitted_project_slice2 = [temp[:,second_slice_index:].sum(axis=axis_to_be_summed_over) for temp in fitted_templates]\n",
    "        fitted_project_slice1_err = [temp[:,:first_slice_index].sum(axis=axis_to_be_summed_over) for temp in fitted_templates_err]\n",
    "        fitted_project_slice2_err = [temp[:,second_slice_index:].sum(axis=axis_to_be_summed_over) for temp in fitted_templates_err]\n",
    "        data_slice1 = counts[:,:first_slice_index]\n",
    "        data_slice2 = counts[:,second_slice_index:]\n",
    "\n",
    "        \n",
    "    else:\n",
    "        raise ValueError('Current version only supports projection to either MM2 or p_D_l')\n",
    "\n",
    "\n",
    "    if not slices:\n",
    "        fig = plt.figure(figsize=(6.4,6.4))\n",
    "        gs = gridspec.GridSpec(3,1, height_ratios=[0.7,0.15,0.15])\n",
    "        ax1 = fig.add_subplot(gs[0])\n",
    "        ax2 = fig.add_subplot(gs[1])\n",
    "        ax3 = fig.add_subplot(gs[2])\n",
    "        gs.update(hspace=0.3) \n",
    "        fitted_project = [temp.sum(axis=axis_to_be_summed_over) for temp in fitted_templates]\n",
    "        fitted_project_err = [temp.sum(axis=axis_to_be_summed_over) for temp in fitted_templates_err]\n",
    "        \n",
    "        # plot the templates and data and templates_err\n",
    "        if plot_with=='mplhep':\n",
    "            plot_with_hep(bin_edges, fitted_project, fitted_project_err, counts, '$D\\\\tau\\\\nu$', ax1, ax2,ax3)\n",
    "        elif plot_with=='pltbar':\n",
    "            plot_with_bar(bin_edges, fitted_project, fitted_project_err, counts, '$D\\\\tau\\\\nu$', ax1, ax2,ax3)\n",
    "        ax1.set_title(f'Fitting projection to {direction_label}')\n",
    "        ax3.set_xlabel(direction_label)\n",
    "    \n",
    "    elif slices:\n",
    "        fig = plt.figure(figsize=(16,7))\n",
    "        spec = gridspec.GridSpec(6,2, figure=fig, wspace=0.4, hspace=0.5)\n",
    "        ax1 = fig.add_subplot(spec[:-2, 0])\n",
    "        ax2 = fig.add_subplot(spec[:-2, 1])\n",
    "        ax3 = fig.add_subplot(spec[-2, 0])\n",
    "        ax4 = fig.add_subplot(spec[-2, 1])\n",
    "        ax5 = fig.add_subplot(spec[-1, 0])\n",
    "        ax6 = fig.add_subplot(spec[-1, 1])\n",
    "        #gs.update(hspace=0) \n",
    "        \n",
    "        # plot the templates and data and template_err\n",
    "        if plot_with=='mplhep':\n",
    "            plot_with_hep(bin_edges, fitted_project_slice1, fitted_project_slice1_err, data_slice1, slice1_signal, ax1, ax3, ax5)\n",
    "            plot_with_hep(bin_edges, fitted_project_slice2, fitted_project_slice2_err, data_slice2, slice2_signal, ax2, ax4, ax6)\n",
    "        elif plot_with=='pltbar':\n",
    "            plot_with_bar(bin_edges, fitted_project_slice1, fitted_project_slice1_err, data_slice1, slice1_signal, ax1, ax3, ax5)\n",
    "            plot_with_bar(bin_edges, fitted_project_slice2, fitted_project_slice2_err, data_slice2, slice2_signal, ax2, ax4, ax6)\n",
    "            \n",
    "        ax1.set_title(f'{other_direction_label} < {slice_position}  {other_direction_unit}')\n",
    "        ax2.set_title(f'{other_direction_label} > {slice_position}  {other_direction_unit}')\n",
    "        fig.suptitle(f'Fitted projection to {direction_label} in slices of {other_direction_label}')\n",
    "        fig.supxlabel(direction_label + '  ' + direction_unit)"
   ]
  },
  {
   "cell_type": "code",
   "execution_count": 24,
   "metadata": {},
   "outputs": [
    {
     "data": {
      "image/png": "[encoded data removed]",
      "text/plain": [
       "<Figure size 1152x504 with 6 Axes>"
      ]
     },
     "metadata": {
      "needs_background": "light"
     },
     "output_type": "display_data"
    }
   ],
   "source": [
    "plot_projection_residual(direction='p_D_l',slices=True, plot_with='pltbar')"
   ]
  },
  {
   "cell_type": "code",
   "execution_count": 25,
   "metadata": {},
   "outputs": [
    {
     "data": {
      "image/png": "[encoded data removed]",
      "text/plain": [
       "<Figure size 1152x504 with 6 Axes>"
      ]
     },
     "metadata": {
      "needs_background": "light"
     },
     "output_type": "display_data"
    }
   ],
   "source": [
    "plot_projection_residual(direction='MM2',slices=True, plot_with='pltbar')"
   ]
  },
  {
   "cell_type": "code",
   "execution_count": null,
   "metadata": {},
   "outputs": [],
   "source": [
    "# plotting version: residual_signals = data - all_temp + signal1 + signal2\n",
    "def plot_projection_residual(direction='MM2', slices=False, plot_with='mplhep'):\n",
    "    fitted_templates = [np.array(model_1.spec['channels'][0]['samples'][i]['data']).reshape(counts.shape) * parameters[i,0] for i in range(model.config.npars)]\n",
    "    fitted_templates_err = [np.array(model_1.spec['channels'][0]['samples'][i]['data']).reshape(counts.shape) * parameters[i,1] for i in range(model.config.npars)]\n",
    "    fitted_components_names = [model_1.spec['channels'][0]['samples'][i]['name'] for i in range(model.config.npars)]\n",
    "    \n",
    "    def extend(x):\n",
    "        return np.append(x, x[-1])\n",
    "    \n",
    "    def errorband(bins, template_sum, template_err, ax):\n",
    "        fitted_sum = np.sum(template_sum, axis=0)\n",
    "        fitted_err = np.sqrt(np.sum(np.array(template_err)**2, axis=0)) # assuming the correlations between each template are 0\n",
    "        ax.fill_between(bins, extend(fitted_sum - fitted_err), extend(fitted_sum + fitted_err),\n",
    "        step=\"post\", color=\"black\", alpha=0.3, linewidth=0, zorder=100,)\n",
    "        \n",
    "    def plot_with_hep(bins, templates_project, templates_project_err, data, signal_names, ax1, ax2):\n",
    "        data_project = data.sum(axis=axis_to_be_summed_over)\n",
    "        # plot the templates and data\n",
    "        hep.histplot(templates_project, bin_edges, stack=True, histtype='fill', sort='yield_r', label=fitted_components_names, ax=ax1)\n",
    "        # errorband(bin_edges, templates_project, templates_project_err, ax1)\n",
    "        hep.histplot(data_project, bin_edges, histtype='errorbar', color='black', w2=data_project, ax=ax1)\n",
    "        # plot the residual\n",
    "        signal_index1 = fitted_components_names.index(signal_names[0])\n",
    "        signal_index2 = fitted_components_names.index(signal_names[1])\n",
    "        residual = data_project - np.sum(templates_project, axis=0)\n",
    "        residual_signals = residual + templates_project[signal_index1] + templates_project[signal_index2]\n",
    "        # Error assuming the correlations between data and templates, between each template, are 0\n",
    "        residual_err = np.sqrt(data_project + np.sum(np.array(templates_project_err)**2, axis=0))\n",
    "        residual_err_signals = np.sqrt(residual_err**2 - np.array(templates_project_err[signal_index1]) - np.array(templates_project_err[signal_index2]))\n",
    "        hep.histplot(residual_signals, bin_edges, histtype='errorbar', color='black', yerr=residual_err_signals, ax=ax2)\n",
    "        ax2.axhline(y=0, linestyle='-', linewidth=1, color='r')\n",
    "        \n",
    "        ax1.grid()\n",
    "        ax1.set_ylabel('# of counts per bin',fontsize=16)\n",
    "        ax1.set_xlim(bin_edges.min(), bin_edges.max())\n",
    "        ax1.set_ylim(0, data_project.max()*1.2)\n",
    "        ax2.set_ylabel('Data-Bkg',fontsize=16)\n",
    "        ax2.set_xlim(bin_edges.min(), bin_edges.max())\n",
    "        ax1.legend(bbox_to_anchor=(1,1),ncol=1, fancybox=True, shadow=True,labelspacing=1)\n",
    "        \n",
    "    def plot_with_bar(bins, templates_project, templates_project_err, data, signal_names, ax1, ax2):        \n",
    "        # calculate the arguments for plotting\n",
    "        bin_width = bins[1]-bins[0]\n",
    "        bin_centers = (bins[:-1] + bins[1:]) /2\n",
    "        data_project = data.sum(axis=axis_to_be_summed_over)\n",
    "        data_err = np.sqrt(data_project)\n",
    "        \n",
    "        # plot the templates\n",
    "        # sort the components to plot in order of fitted templates_project size\n",
    "        sorted_indices = sorted(range(model.config.npars), key=lambda i: np.sum(templates_project[i]), reverse = True)\n",
    "        bottom_hist = np.zeros(data.shape[1-axis_to_be_summed_over])\n",
    "        for i in sorted_indices:\n",
    "            binned_counts = templates_project[i]\n",
    "            ax1.bar(x=bins[:-1], height=binned_counts, bottom=bottom_hist,\n",
    "                    width=bin_width, align='edge', label=f\"{fitted_components_names[i]}\")\n",
    "            bottom_hist = bottom_hist + binned_counts\n",
    "        # errorband(bin_edges, templates_project, templates_project_err, ax1)\n",
    "        \n",
    "        # plot the data\n",
    "        ax1.errorbar(x=bin_centers, y=data_project, yerr=data_err, fmt='ko')\n",
    "        # plot the residual\n",
    "        signal_index1 = fitted_components_names.index(signal_names[0])\n",
    "        signal_index2 = fitted_components_names.index(signal_names[1])\n",
    "        residual = data_project - np.sum(templates_project, axis=0)\n",
    "        residual_signals = residual + templates_project[signal_index1] + templates_project[signal_index2]\n",
    "        # Error assuming the correlations between data and templates, between each template, are 0\n",
    "        residual_err = np.sqrt(data_project + np.sum(np.array(templates_project_err)**2, axis=0))\n",
    "        residual_err_signals = np.sqrt(residual_err**2 - np.array(templates_project_err[signal_index1]) - np.array(templates_project_err[signal_index2]))\n",
    "        ax2.errorbar(x=bin_centers, y=residual_signals, yerr=residual_err_signals, fmt='ko')\n",
    "        ax2.axhline(y=0, linestyle='-', linewidth=1, color='r')\n",
    "        \n",
    "        ax1.grid()\n",
    "        ax1.set_ylabel('# of counts per bin',fontsize=16)\n",
    "        ax1.set_xlim(bin_edges.min(), bin_edges.max())\n",
    "        ax1.set_ylim(0, data_project.max()*1.2)\n",
    "        ax2.set_ylabel('Data-Bkg',fontsize=16)\n",
    "        ax2.set_xlim(bin_edges.min(), bin_edges.max())\n",
    "        ax1.legend(bbox_to_anchor=(1,1),ncol=1, fancybox=True, shadow=True,labelspacing=1)\n",
    "    \n",
    "    if direction=='MM2':\n",
    "        direction_label = '$M_{miss}^2$'\n",
    "        direction_unit = '$[GeV^2/c^4]$'\n",
    "        other_direction_label = '$|p_D|\\ +\\ |p_l|$'\n",
    "        other_direction_unit = '[GeV]'\n",
    "        slice1_signals = ['D_tau_nu', 'Dst_tau_nu']\n",
    "        slice2_signals = ['D_l_nu', 'Dst_l_nu']\n",
    "        slice_position = p_D_l_slice\n",
    "        axis_to_be_summed_over = 0\n",
    "        bin_edges = xedges\n",
    "        first_slice_index = (p_D_l_slice_index[0]-1)\n",
    "        second_slice_index = (p_D_l_slice_index[0])\n",
    "        \n",
    "        # parameters for slices==True\n",
    "        fitted_project_slice1 = [temp[:first_slice_index,:].sum(axis=axis_to_be_summed_over) for temp in fitted_templates]\n",
    "        fitted_project_slice2 = [temp[second_slice_index:,:].sum(axis=axis_to_be_summed_over) for temp in fitted_templates]\n",
    "        fitted_project_slice1_err = [temp[:first_slice_index,:].sum(axis=axis_to_be_summed_over) for temp in fitted_templates_err]\n",
    "        fitted_project_slice2_err = [temp[second_slice_index:,:].sum(axis=axis_to_be_summed_over) for temp in fitted_templates_err]\n",
    "        data_slice1 = counts[:first_slice_index,:]\n",
    "        data_slice2 = counts[second_slice_index:,:]\n",
    "        \n",
    "    elif direction=='p_D_l':\n",
    "        direction_label = '$|p_D|\\ +\\ |p_l|$'\n",
    "        direction_unit = '[GeV]'\n",
    "        other_direction_label = '$M_{miss}^2$'\n",
    "        other_direction_unit = '$[GeV^2/c^4]$'\n",
    "        slice1_signals = ['D_l_nu', 'Dst_l_nu']\n",
    "        slice2_signals = ['D_tau_nu', 'Dst_tau_nu']\n",
    "        slice_position = mm2_slice\n",
    "        axis_to_be_summed_over = 1\n",
    "        bin_edges = yedges\n",
    "        first_slice_index = (mm2_slice_index[0]-1)\n",
    "        second_slice_index = (mm2_slice_index[0])\n",
    "        \n",
    "        # parameters for slices==True\n",
    "        fitted_project_slice1 = [temp[:,:first_slice_index].sum(axis=axis_to_be_summed_over) for temp in fitted_templates]\n",
    "        fitted_project_slice2 = [temp[:,second_slice_index:].sum(axis=axis_to_be_summed_over) for temp in fitted_templates]\n",
    "        fitted_project_slice1_err = [temp[:,:first_slice_index].sum(axis=axis_to_be_summed_over) for temp in fitted_templates_err]\n",
    "        fitted_project_slice2_err = [temp[:,second_slice_index:].sum(axis=axis_to_be_summed_over) for temp in fitted_templates_err]\n",
    "        data_slice1 = counts[:,:first_slice_index]\n",
    "        data_slice2 = counts[:,second_slice_index:]\n",
    "        \n",
    "        \n",
    "    else:\n",
    "        raise ValueError('Current version only supports projection to either MM2 or p_D_l')\n",
    "    \n",
    "    if not slices:\n",
    "        fig = plt.figure(figsize=(6.4,6.4))\n",
    "        gs = gridspec.GridSpec(3,1, height_ratios=[0.8,0.2])\n",
    "        ax1 = fig.add_subplot(gs[0])\n",
    "        ax2 = fig.add_subplot(gs[1])\n",
    "        #gs.update(hspace=0.3) \n",
    "        fitted_project = [temp.sum(axis=axis_to_be_summed_over) for temp in fitted_templates]\n",
    "        fitted_project_err = [temp.sum(axis=axis_to_be_summed_over) for temp in fitted_templates_err]\n",
    "        \n",
    "        # plot the templates and data and templates_err\n",
    "        if plot_with=='mplhep':\n",
    "            plot_with_hep(bin_edges, fitted_project, fitted_project_err, counts, 'D_tau_nu', ax1, ax2)\n",
    "        elif plot_with=='pltbar':\n",
    "            plot_with_bar(bin_edges, fitted_project, fitted_project_err, counts, 'D_tau_nu', ax1, ax2)\n",
    "        ax1.set_title(f'Fitting projection to {direction_label}')\n",
    "        ax2.set_xlabel(direction_label)\n",
    "    \n",
    "    elif slices:\n",
    "        fig = plt.figure(figsize=(16,7))\n",
    "        spec = gridspec.GridSpec(5,2, figure=fig, wspace=1, hspace=0.5)\n",
    "        ax1 = fig.add_subplot(spec[:-1, 0])\n",
    "        ax2 = fig.add_subplot(spec[:-1, 1])\n",
    "        ax3 = fig.add_subplot(spec[-1, 0])\n",
    "        ax4 = fig.add_subplot(spec[-1, 1])\n",
    "        #gs.update(hspace=0) \n",
    "        \n",
    "        # plot the templates and data and template_err\n",
    "        if plot_with=='mplhep':\n",
    "            plot_with_hep(bin_edges, fitted_project_slice1, fitted_project_slice1_err, data_slice1, slice1_signals, ax1, ax3)\n",
    "            plot_with_hep(bin_edges, fitted_project_slice2, fitted_project_slice2_err, data_slice2, slice2_signals, ax2, ax4)\n",
    "        elif plot_with=='pltbar':\n",
    "            plot_with_bar(bin_edges, fitted_project_slice1, fitted_project_slice1_err, data_slice1, slice1_signals, ax1, ax3)\n",
    "            plot_with_bar(bin_edges, fitted_project_slice2, fitted_project_slice2_err, data_slice2, slice2_signals, ax2, ax4)\n",
    "            \n",
    "        ax1.set_title(f'{other_direction_label} < {slice_position}  {other_direction_unit}')\n",
    "        ax2.set_title(f'{other_direction_label} > {slice_position}  {other_direction_unit}')\n",
    "        fig.suptitle(f'Fitted projection to {direction_label} in slices of {other_direction_label}')\n",
    "        fig.supxlabel(direction_label + '  ' + direction_unit)"
   ]
  },
  {
   "cell_type": "markdown",
   "metadata": {},
   "source": [
    "# 4. Get fitting templates"
   ]
  },
  {
   "cell_type": "code",
   "execution_count": null,
   "metadata": {},
   "outputs": [],
   "source": [
    "# apply BDTs\n",
    "# plot mm2, mm2 vs p_D_l\n",
    "# save the templates"
   ]
  },
  {
   "cell_type": "code",
   "execution_count": 8,
   "metadata": {},
   "outputs": [],
   "source": [
    "import basf2_mva\n",
    "import pandas\n",
    "\n",
    "identifier_1 = '/home/belle/zhangboy/R_D/Generic_MC14rd/Continuum_Suppression/MVA1_FastBDT.xml'\n",
    "test_1 = '../Ntuples/MC_eidglobal_10k_cut.root'\n",
    "output_file_1 = '../Ntuples/MC_eidglobal_10k_MVA1.root'\n",
    "\n",
    "identifier_1_5 = '/home/belle/zhangboy/R_D/Generic_MC14rd/B_bkg_Suppression/MVA1_5/MVA1_5_FastBDT.xml'\n",
    "test_1_5 = '../Ntuples/MC_eidglobal_10k_cut.root'\n",
    "output_file_1_5 = '../Ntuples/MC_eidglobal_10k_MVA1_5.root'\n",
    "\n",
    "output_file_1_5_applied = '../Ntuples/MC_eidglobal_10k_MVA1_5_applied.root'\n",
    "\n",
    "identifier_2_1 = '/home/belle/zhangboy/R_D/Generic_MC14rd/B_bkg_Suppression/MVA2/MVA2_1_FastBDT.xml'\n",
    "test_2_1 = output_file_1_5_applied\n",
    "output_file_2_1 = '../Ntuples/MC_eidglobal_10k_MVA2_1.root'\n",
    "output_file_2_1_applied = '../Ntuples/MC_eidglobal_10k_MVA2_1_applied.root'"
   ]
  },
  {
   "cell_type": "code",
   "execution_count": 9,
   "metadata": {},
   "outputs": [
    {
     "name": "stdout",
     "output_type": "stream",
     "text": [
      "[INFO] Elapsed application time in ms 19.8755 for MVA1_FastBDT.xml\n",
      "\u001b[m\u001b[33m[WARNING] String passed to makeROOTCompatible contains double-underscore __, which is used internally for escaping special characters. It is recommended to avoid this. However escaping a string twice with makeROOTCompatible is safe, but will print this warning. Passed string: __slhome__slbelle__slzhangboy__slR_D__slGeneric_MC14rd__slContinuum_Suppression__slMVA1_FastBDT__ptxml_isSignal\n",
      "\u001b[mFalse\n",
      "[INFO] Elapsed application time in ms 17.8737 for MVA1_5_FastBDT.xml\n",
      "\u001b[m\u001b[33m[WARNING] String passed to makeROOTCompatible contains double-underscore __, which is used internally for escaping special characters. It is recommended to avoid this. However escaping a string twice with makeROOTCompatible is safe, but will print this warning. Passed string: __slhome__slbelle__slzhangboy__slR_D__slGeneric_MC14rd__slB_bkg_Suppression__slMVA1_5__slMVA1_5_FastBDT__ptxml_isSignal\n",
      "\u001b[mTrue\n",
      "<class 'numpy.float64'>\n",
      "<class 'numpy.float64'>\n"
     ]
    },
    {
     "name": "stderr",
     "output_type": "stream",
     "text": [
      "/cvmfs/belle.cern.ch/el7/externals/v01-10-02/Linux_x86_64/common/lib/python3.8/site-packages/root_numpy/_tree.py:575: UserWarning: converter for dtype('O') is not implemented (skipping)\n",
      "  cobj = _librootnumpy.array2tree_toCObj(arr, name=name, tree=incobj)\n"
     ]
    },
    {
     "name": "stdout",
     "output_type": "stream",
     "text": [
      "[INFO] Elapsed application time in ms 16.9586 for MVA2_1_FastBDT.xml\n",
      "\u001b[m\u001b[33m[WARNING] String passed to makeROOTCompatible contains double-underscore __, which is used internally for escaping special characters. It is recommended to avoid this. However escaping a string twice with makeROOTCompatible is safe, but will print this warning. Passed string: __slhome__slbelle__slzhangboy__slR_D__slGeneric_MC14rd__slB_bkg_Suppression__slMVA2__slMVA2_1_FastBDT__ptxml_isSignal\n",
      "\u001b[mTrue\n",
      "True\n"
     ]
    }
   ],
   "source": [
    "# apply CS BDT identifier_1, merge data file and mva output, rename the column\n",
    "basf2_mva.expert(basf2_mva.vector(identifier_1),  # weightfile\n",
    "                 basf2_mva.vector(test_1),\n",
    "                 'B0', output_file_1)\n",
    "\n",
    "df1 = df_cut.drop_duplicates(subset=['__experiment__','__run__','__event__','__production__','__candidate__']).reset_index(drop=True)\n",
    "df2 = root_pandas.read_root(output_file_1)\n",
    "print(len(df1)==len(df2))\n",
    "df_1 = pandas.concat([df1,df2],axis=1)\n",
    "\n",
    "df_1=df_1.rename(columns={\"__slhome__slbelle__slzhangboy__slR_D__slGeneric_MC14rd__slContinuum_Suppression__slMVA1_FastBDT__ptxml\": \"MVA1_output\"})\n",
    "df_1=df_1.drop(columns=['__slhome__slbelle__slzhangboy__slR_D__slGeneric_MC14rd__slContinuum_Suppression__slMVA1_FastBDT__ptxml_isSignal'])\n",
    "\n",
    "# apply BDT 1_5 identifier_1_5, merge, rename, change the output type, save\n",
    "basf2_mva.expert(basf2_mva.vector(identifier_1_5),  # weightfile\n",
    "                 basf2_mva.vector(test_1_5),\n",
    "                 'B0', output_file_1_5)\n",
    "\n",
    "df3 = root_pandas.read_root(output_file_1_5)\n",
    "print(len(df_1)==len(df3))\n",
    "df_1_5 = pandas.concat([df_1,df3],axis=1)\n",
    "\n",
    "df_1_5=df_1_5.rename(columns={\"__slhome__slbelle__slzhangboy__slR_D__slGeneric_MC14rd__slB_bkg_Suppression__slMVA1_5__slMVA1_5_FastBDT__ptxml\": \"MVA1_5_output\"})\n",
    "df_1_5=df_1_5.drop(columns=['__slhome__slbelle__slzhangboy__slR_D__slGeneric_MC14rd__slB_bkg_Suppression__slMVA1_5__slMVA1_5_FastBDT__ptxml_isSignal'])\n",
    "\n",
    "df_1_5.MVA1_5_output=np.float64(df_1_5.MVA1_5_output)\n",
    "print(type(df_1_5.MVA1_5_output[0]))\n",
    "print(type(df_1_5.isSignal[0]))\n",
    "\n",
    "df_1_5.to_root(output_file_1_5_applied, key='B0')\n",
    "\n",
    "# apply BDT 2_1 identifier_2_1, merge, rename, save\n",
    "basf2_mva.expert(basf2_mva.vector(identifier_2_1),  # weightfile\n",
    "                 basf2_mva.vector(test_2_1),\n",
    "                 'B0', output_file_2_1)\n",
    "\n",
    "df4 = root_pandas.read_root(output_file_2_1)\n",
    "print(len(df_1_5)==len(df4))\n",
    "df_2_1 = pandas.concat([df_1_5, df4],axis=1)\n",
    "print(len(df_1_5)==len(df_2_1))\n",
    "\n",
    "df_2_1=df_2_1.rename(columns={\"__slhome__slbelle__slzhangboy__slR_D__slGeneric_MC14rd__slB_bkg_Suppression__slMVA2__slMVA2_1_FastBDT__ptxml\": \"MVA2_1_output\"})\n",
    "df_2_1=df_2_1.drop(columns=['__slhome__slbelle__slzhangboy__slR_D__slGeneric_MC14rd__slB_bkg_Suppression__slMVA2__slMVA2_1_FastBDT__ptxml_isSignal'])\n",
    "\n",
    "df_2_1.to_root(output_file_2_1_applied, key='B0')"
   ]
  },
  {
   "cell_type": "code",
   "execution_count": 10,
   "metadata": {},
   "outputs": [
    {
     "data": {
      "text/plain": [
       "1589"
      ]
     },
     "execution_count": 10,
     "metadata": {},
     "output_type": "execute_result"
    }
   ],
   "source": [
    "df_2_1.columns\n",
    "len(df_2_1)"
   ]
  }
 ],
 "metadata": {
  "kernelspec": {
   "display_name": "Python 3 (Belle2)",
   "language": "python",
   "name": "python3"
  },
  "language_info": {
   "codemirror_mode": {
    "name": "ipython",
    "version": 3
   },
   "file_extension": ".py",
   "mimetype": "text/x-python",
   "name": "python",
   "nbconvert_exporter": "python",
   "pygments_lexer": "ipython3",
   "version": "3.8.8"
  }
 },
 "nbformat": 4,
 "nbformat_minor": 4
}

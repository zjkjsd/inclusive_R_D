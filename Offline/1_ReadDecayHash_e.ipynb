{
 "cells": [
  {
   "cell_type": "markdown",
   "metadata": {},
   "source": [
    "# 1. Import Ntuple and DecayHash"
   ]
  },
  {
   "cell_type": "code",
   "execution_count": 3,
   "metadata": {},
   "outputs": [],
   "source": [
    "import glob\n",
    "import numpy as np\n",
    "import pandas\n",
    "from tqdm.notebook import tqdm\n",
    "from enum import Enum\n",
    "\n",
    "# define DecayModes from DecayHash\n",
    "class DecayMode(Enum):\n",
    "    bkg = 0\n",
    "    sig_D_tau_nu = 1\n",
    "    sig_D_e_nu = 2\n",
    "    sig_Dst_tau_nu = 3\n",
    "    sig_Dst_e_nu = 4\n",
    "    all_Dstst_tau_nu = 5\n",
    "    all_Dstst_e_nu = 6\n",
    "    sig_D_mu_nu = 7\n",
    "    sig_Dst_mu_nu = 8\n",
    "    all_Dstst_mu_nu = 9\n",
    "    \n",
    "# functional syntax\n",
    "DecayMode = Enum('DecayMode', ['bkg', 'sig_D_tau_nu', 'sig_D_e_nu', 'sig_Dst_tau_nu',\n",
    "                               'sig_Dst_e_nu', 'all_Dstst_tau_nu', 'all_Dstst_e_nu',\n",
    "                               'sig_D_mu_nu', 'sig_Dst_mu_nu', 'all_Dstst_mu_nu'],\n",
    "                 start=0)\n",
    "\n",
    "plt.rcParams[\"axes.prop_cycle\"] = plt.cycler(\"color\", plt.cm.tab20.colors)"
   ]
  },
  {
   "cell_type": "code",
   "execution_count": 48,
   "metadata": {},
   "outputs": [],
   "source": [
    "# read in root-file as a pandas dataframe\n",
    "Dstst_e_nu_selection = f'DecayMode=={DecayMode[\"all_Dstst_e_nu\"].value} and \\\n",
    "                        D_mcPDG*e_mcPDG==411*11 and e_genMotherPDG==B0_mcPDG and \\\n",
    "        ((B0_mcErrors<64 and B0_mcPDG*D_mcPDG==-511*411) or (B0_mcErrors<512 and abs(B0_mcPDG)==521))'\n",
    "    \n",
    "Dstst_tau_nu_selection = f'DecayMode=={DecayMode[\"all_Dstst_tau_nu\"].value} and \\\n",
    "                        D_mcPDG*e_mcPDG==411*11 and e_mcPDG*e_genMotherPDG==11*15 and \\\n",
    "        ((B0_mcErrors<64 and B0_mcPDG*D_mcPDG==-511*411) or (B0_mcErrors<512 and abs(B0_mcPDG)==521))'\n",
    "    \n",
    "signals_selection = 'B0_mcPDG*D_mcPDG==-511*411 and D_mcPDG*e_mcPDG==411*11 and e_mcPDG*e_genMotherPDG==11*15'\n",
    "norms_selection = 'B0_mcPDG*D_mcPDG==-511*411 and D_mcPDG*e_mcPDG==411*11 and e_genMotherPDG==B0_mcPDG'\n",
    "\n",
    "folder = '/home/belle/zhangboy/R_D/Generic_MC14ri/MC14ri_bbbar_bengal_e_1'\n",
    "pfs = glob.glob(f\"{folder}/sub02_0.parquet\")\n",
    "\n",
    "samples = {}\n",
    "\n",
    "df_bestSelected = pandas.read_parquet(pfs, engine=\"pyarrow\")\n",
    "\n",
    "# Signal components\n",
    "sig_D_tau_nu=data.query(f'DecayMode=={DecayMode[\"sig_D_tau_nu\"].value} and \\\n",
    "                                        B0_mcErrors<32 and {signals_selection}').copy()\n",
    "\n",
    "sig_Dst_tau_nu=df_bestSelected.query(f'DecayMode=={DecayMode[\"sig_Dst_tau_nu\"].value} and \\\n",
    "                                        B0_mcErrors<64 and {signals_selection}').copy()\n",
    "sig_D_e_nu=df_bestSelected.query(f'DecayMode=={DecayMode[\"sig_D_e_nu\"].value} and \\\n",
    "                                B0_mcErrors<16 and {norms_selection}').copy()\n",
    "sig_Dst_e_nu=df_bestSelected.query(f'DecayMode=={DecayMode[\"sig_Dst_e_nu\"].value} and \\\n",
    "                                    B0_mcErrors<64 and {norms_selection}').copy()\n",
    "all_Dstst_tau_nu=df_bestSelected.query(Dstst_tau_nu_selection).copy() \n",
    "all_Dstst_e_nu=df_bestSelected.query(Dstst_e_nu_selection).copy()\n",
    "\n",
    "cut = 'e_p>0'\n",
    "samples['sig_D_tau_nu'] = sig_D_tau_nu.query(cut)\n",
    "samples['sig_Dst_tau_nu'] = sig_Dst_tau_nu.query(cut)\n",
    "samples['sig_D_l_nu'] = sig_D_e_nu.query(cut)\n",
    "samples['sig_Dst_l_nu'] = sig_Dst_e_nu.query(cut)\n",
    "samples['all_Dstst_tau_nu'] = all_Dstst_tau_nu.query(cut)\n",
    "samples['all_Dstst_l_nu'] = all_Dstst_e_nu.query(cut)"
   ]
  },
  {
   "cell_type": "code",
   "execution_count": 49,
   "metadata": {},
   "outputs": [
    {
     "data": {
      "text/plain": [
       "e_mcPDG  e_genMotherPDG  D_mcErrors  D_mcPDG    B0_mcErrors  B0_mcPDG \n",
       "-11.0     511.0          0.0         -411.0     24.0          511.0       4357\n",
       "                         312.0        300553.0  312.0         300553.0    4313\n",
       " 11.0    -511.0          0.0          411.0     24.0         -511.0       4199\n",
       "-11.0     511.0          0.0         -411.0     8.0           511.0       4180\n",
       " 11.0    -511.0          312.0        300553.0  312.0         300553.0    4164\n",
       "                         0.0          411.0     8.0          -511.0       4022\n",
       "-11.0     511.0          376.0        300553.0  376.0         300553.0    2434\n",
       " 11.0    -511.0          376.0        300553.0  376.0         300553.0    2355\n",
       "-11.0     511.0          440.0        300553.0  440.0         300553.0    1894\n",
       " 11.0    -511.0          440.0        300553.0  440.0         300553.0    1783\n",
       "-11.0     511.0          504.0        300553.0  504.0         300553.0    1263\n",
       " 11.0    -511.0          504.0        300553.0  504.0         300553.0    1219\n",
       "         -411.0          376.0        300553.0  376.0         300553.0     714\n",
       "-11.0     411.0          376.0        300553.0  376.0         300553.0     654\n",
       "          511.0          0.0         -411.0     312.0         300553.0     598\n",
       " 11.0    -511.0          0.0          411.0     312.0         300553.0     566\n",
       "-11.0     411.0          504.0        300553.0  504.0         300553.0     556\n",
       "          511.0          0.0         -411.0     376.0         300553.0     515\n",
       " 11.0    -411.0          504.0        300553.0  504.0         300553.0     506\n",
       "         -511.0          0.0          411.0     376.0         300553.0     485\n",
       "-11.0     411.0          0.0         -411.0     376.0         300553.0     462\n",
       " 11.0    -411.0          312.0        300553.0  312.0         300553.0     461\n",
       "-11.0     411.0          312.0        300553.0  312.0         300553.0     426\n",
       " 11.0    -411.0          0.0          411.0     376.0         300553.0     401\n",
       "                                                312.0         300553.0     355\n",
       "-11.0     411.0          440.0        300553.0  440.0         300553.0     346\n",
       "                         0.0         -411.0     312.0         300553.0     337\n",
       " 11.0    -411.0          440.0        300553.0  440.0         300553.0     327\n",
       "         -421.0          312.0        300553.0  312.0         300553.0     289\n",
       "-11.0     421.0          312.0        300553.0  312.0         300553.0     271\n",
       "                         376.0        300553.0  376.0         300553.0     268\n",
       "          511.0          0.0         -411.0     40.0          511.0        245\n",
       " 11.0    -421.0          440.0        300553.0  440.0         300553.0     241\n",
       "         -511.0          432.0        511.0     440.0         300553.0     231\n",
       "                         0.0          411.0     40.0         -511.0        230\n",
       "-11.0     511.0          432.0       -511.0     440.0         300553.0     216\n",
       "          421.0          440.0        300553.0  440.0         300553.0     212\n",
       " 11.0    -421.0          376.0        300553.0  376.0         300553.0     204\n",
       "-11.0     421.0          504.0        300553.0  504.0         300553.0     201\n",
       " 11.0    -421.0          504.0        300553.0  504.0         300553.0     178\n",
       "-11.0     421.0          0.0         -411.0     312.0         300553.0     168\n",
       " 11.0    -421.0          0.0          411.0     312.0         300553.0     165\n",
       "         -511.0          0.0          411.0     56.0         -511.0        157\n",
       "-11.0     511.0          0.0         -411.0     56.0          511.0        150\n",
       "                         304.0        511.0     312.0         300553.0     139\n",
       "         -15.0           312.0        300553.0  312.0         300553.0     138\n",
       " 11.0    -511.0          304.0       -511.0     312.0         300553.0     138\n",
       "          15.0           0.0          411.0     24.0         -511.0        129\n",
       "-11.0     511.0          304.0       -511.0     312.0         300553.0     128\n",
       "dtype: int64"
      ]
     },
     "execution_count": 49,
     "metadata": {},
     "output_type": "execute_result"
    }
   ],
   "source": [
    "a=df_bestSelected.query('e_mcErrors==2048')[['e_mcPDG','e_genMotherPDG','D_mcErrors','D_mcPDG','B0_mcErrors','B0_mcPDG']].value_counts()\n",
    "a[a>120]"
   ]
  },
  {
   "cell_type": "code",
   "execution_count": 10,
   "metadata": {},
   "outputs": [
    {
     "name": "stdout",
     "output_type": "stream",
     "text": [
      "sig_D_tau_nu: 119066\n",
      "sig_Dst_tau_nu: 73953\n",
      "sig_D_l_nu: 54021\n",
      "sig_Dst_l_nu: 40994\n",
      "all_Dstst_tau_nu: 538\n",
      "all_Dstst_l_nu: 18402\n"
     ]
    }
   ],
   "source": [
    "for name in samples:\n",
    "    print(f'{name}: {len(samples[name])}')"
   ]
  },
  {
   "cell_type": "code",
   "execution_count": 8,
   "metadata": {},
   "outputs": [
    {
     "name": "stdout",
     "output_type": "stream",
     "text": [
      "sig_D_tau_nu: 96237\n",
      "sig_Dst_tau_nu: 61287\n",
      "sig_D_l_nu: 52388\n",
      "sig_Dst_l_nu: 40312\n",
      "all_Dstst_tau_nu: 438\n",
      "all_Dstst_l_nu: 17105\n"
     ]
    }
   ],
   "source": [
    "for name in samples:\n",
    "    print(f'{name}: {len(samples[name])}')"
   ]
  },
  {
   "cell_type": "code",
   "execution_count": 41,
   "metadata": {},
   "outputs": [
    {
     "data": {
      "text/plain": [
       "5099"
      ]
     },
     "execution_count": 41,
     "metadata": {},
     "output_type": "execute_result"
    }
   ],
   "source": [
    "df2 = df_bestSelected.query('DecayMode==\"all_Dstst_e_nu\" and D_mcPDG*e_mcPDG==411*11 and e_genMotherPDG==B0_mcPDG and \\\n",
    "    ((B0_mcErrors<64 and B0_mcPDG*D_mcPDG==-511*411) or (B0_mcErrors<512 and abs(B0_mcPDG)==521))')\n",
    "df3 = df_bestSelected.query('DecayMode==\"all_Dstst_e_nu\"')\n",
    "df4 = pandas.concat([df2,df3]).drop_duplicates(keep=False)\n",
    "len(df4)"
   ]
  },
  {
   "cell_type": "code",
   "execution_count": 23,
   "metadata": {},
   "outputs": [
    {
     "data": {
      "text/plain": [
       "bkg                 579118\n",
       "sig_D_e_nu           48330\n",
       "sig_Dst_e_nu         36679\n",
       "all_Dstst_e_nu       32161\n",
       "sig_D_tau_nu          1928\n",
       "sig_Dst_tau_nu        1205\n",
       "all_Dstst_tau_nu      1137\n",
       "all_Dstst_mu_nu        140\n",
       "sig_D_mu_nu             14\n",
       "sig_Dst_mu_nu            9\n",
       "Name: DecayMode, dtype: int64"
      ]
     },
     "execution_count": 23,
     "metadata": {},
     "output_type": "execute_result"
    }
   ],
   "source": [
    "df_bestSelected.DecayMode.value_counts()"
   ]
  },
  {
   "cell_type": "code",
   "execution_count": 14,
   "metadata": {},
   "outputs": [
    {
     "data": {
      "text/plain": [
       "5290"
      ]
     },
     "execution_count": 14,
     "metadata": {},
     "output_type": "execute_result"
    }
   ],
   "source": [
    "data[\"B0_DecayHashEx\"].isnull().sum()"
   ]
  },
  {
   "cell_type": "code",
   "execution_count": null,
   "metadata": {},
   "outputs": [],
   "source": [
    "import pandas\n",
    "pandas.set_option('display.max_rows', None)\n",
    "print(data.isna().sum())"
   ]
  },
  {
   "cell_type": "code",
   "execution_count": null,
   "metadata": {},
   "outputs": [],
   "source": [
    "cut='DecayMode==\"all_Dstst_e_nu\" and D_mcPDG*e_mcPDG!=411*11 and e_genMotherPDG==B0_mcPDG and \\\n",
    "    ((B0_mcErrors<64 and B0_mcPDG*D_mcPDG==-511*411) or (B0_mcErrors<512 and abs(B0_mcPDG)==521))'#'DecayMode==\"bkg\" and B0_isContinuumEvent!=1'\n",
    "candidate12 = df_cut.query(cut).iloc[2][['B0_DecayHash', \"B0_DecayHashEx\"]].values\n",
    "\n",
    "# print the original decay as simulated in MC with removed Bremsstrahlung gammas\n",
    "print(\"Monte Carlo Decay with removed Bremsstrahlung gammas: \")\n",
    "org2 = hashmap2.get_original_decay(*candidate12)\n",
    "print(org2.to_string())"
   ]
  },
  {
   "cell_type": "code",
   "execution_count": null,
   "metadata": {},
   "outputs": [],
   "source": [
    "samples = {}\n",
    "names = ['BC','AC']\n",
    "cut = 'D_vtxReChi2<13 and B0_vtxReChi2<14 and -3.2<B0_deltaE<0 and e_CMS_p>0.2 and \\\n",
    "    5<B0_roeMbc_my_mask and 4.3<B0_CMS2_weMbc and \\\n",
    "    -5<B0_roeDeltae_my_mask<2 and -3<B0_CMS0_weDeltae<2 and \\\n",
    "    abs(B0_roeCharge_my_mask)<3 and nElectrons90+nMuons90==1'\n",
    "for name in names:\n",
    "    if name == 'BC':\n",
    "        df = data.copy()\n",
    "    else:\n",
    "        df = data.query(cut).copy()\n",
    "    \n",
    "    print(f'{name} before BCS')\n",
    "    print(df.DecayMode.value_counts())\n",
    "\n",
    "    df_bestSelected=df.loc[df.groupby(['__experiment__','__run__','__event__','__production__']).B_D_ReChi2.idxmin()]\n",
    "\n",
    "    print(f'{name} after BCS')\n",
    "    print(df_bestSelected.DecayMode.value_counts())\n",
    "    \n",
    "    df_merged = pandas.merge(df_bestSelected,MC,on=['__event__'],validate='1:1')\n",
    "    samples[name] = df_merged"
   ]
  }
 ],
 "metadata": {
  "kernelspec": {
   "display_name": "Python 3 (Belle2)",
   "language": "python",
   "name": "python3"
  },
  "language_info": {
   "codemirror_mode": {
    "name": "ipython",
    "version": 3
   },
   "file_extension": ".py",
   "mimetype": "text/x-python",
   "name": "python",
   "nbconvert_exporter": "python",
   "pygments_lexer": "ipython3",
   "version": "3.8.8"
  }
 },
 "nbformat": 4,
 "nbformat_minor": 4
}

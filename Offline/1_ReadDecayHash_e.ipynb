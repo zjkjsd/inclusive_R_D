{
 "cells": [
  {
   "cell_type": "markdown",
   "metadata": {},
   "source": [
    "# 1. Import Ntuple and DecayHash"
   ]
  },
  {
   "cell_type": "code",
   "execution_count": 1,
   "metadata": {},
   "outputs": [
    {
     "name": "stdout",
     "output_type": "stream",
     "text": [
      "Welcome to JupyROOT 6.24/06\n"
     ]
    }
   ],
   "source": [
    "import glob\n",
    "import numpy as np\n",
    "import pandas as pd\n",
    "from tqdm.notebook import tqdm\n",
    "import sys\n",
    "sys.path.append('/home/belle/zhangboy/inclusive_R_D/')\n",
    "import utilities as util\n",
    "import decayHash\n",
    "from decayHash import DecayHashMap"
   ]
  },
  {
   "cell_type": "code",
   "execution_count": 53,
   "metadata": {},
   "outputs": [
    {
     "name": "stdout",
     "output_type": "stream",
     "text": [
      "$D\\tau\\nu$: 11217\n",
      "$D^\\ast\\tau\\nu$: 1\n",
      "$D\\ell\\nu$: 20\n",
      "$D^\\ast\\ell\\nu$: 10\n",
      "$D^{\\ast\\ast}\\tau\\nu$: 0\n",
      "$D^{\\ast\\ast}\\ell\\nu$: 8\n",
      "bkg_fakeDTC: 3181\n",
      "bkg_fakeB: 990\n",
      "bkg_continuum: 0\n",
      "bkg_others: 62\n"
     ]
    }
   ],
   "source": [
    "# read a signal mc as a pandas dataframe\n",
    "\n",
    "filename=f'../Samples/Signal_MC_ROEx1/B2D_tau_nu/Ntuples/MC_e_50k_0.parquet'\n",
    "decayhash=f'../Samples/Signal_MC_ROEx1/B2D_tau_nu/Ntuples/hashmap_MC_e_50k.root'\n",
    "hashmap2 = DecayHashMap(decayhash, removeRadiativeGammaFlag=True)\n",
    "data = pd.read_parquet(filename, engine=\"pyarrow\")\n",
    "df, samples=util.get_dataframe_samples(data, 'e')\n",
    "\n",
    "for name in samples:\n",
    "    print(f'{name}: {len(samples[name])}')"
   ]
  },
  {
   "cell_type": "code",
   "execution_count": null,
   "metadata": {},
   "outputs": [],
   "source": [
    "import pandas\n",
    "pandas.set_option('display.max_rows', None)\n",
    "print(data.isna().sum())"
   ]
  },
  {
   "cell_type": "code",
   "execution_count": 54,
   "metadata": {
    "scrolled": false
   },
   "outputs": [
    {
     "data": {
      "text/plain": [
       "B0_mcPDG  D_mcPDG  e_mcPDG  e_genMotherPDG  D_mcErrors  B0_mcErrors  e_mcErrors  DecayMode\n",
       "-511.0     411.0    11.0     15.0           0.0         140.0        2180.0      1            18\n",
       " 511.0    -411.0   -11.0    -15.0           0.0         136.0        2176.0      1            16\n",
       "                                                        140.0        2180.0      1            16\n",
       "-511.0     411.0    11.0     15.0           0.0         136.0        2176.0      1            12\n",
       "dtype: int64"
      ]
     },
     "execution_count": 54,
     "metadata": {},
     "output_type": "execute_result"
    }
   ],
   "source": [
    "pd.set_option('display.max_rows', None)\n",
    "a=samples[r'bkg_others'][['B0_mcPDG','D_mcPDG','e_mcPDG','e_genMotherPDG','D_mcErrors','B0_mcErrors','e_mcErrors','DecayMode']].value_counts()\n",
    "a"
   ]
  },
  {
   "cell_type": "code",
   "execution_count": 52,
   "metadata": {},
   "outputs": [
    {
     "name": "stdout",
     "output_type": "stream",
     "text": [
      "B0_mcPDG               511.0\n",
      "D_mcPDG               -411.0\n",
      "e_mcPDG                -11.0\n",
      "e_genMotherPDG         511.0\n",
      "DecayMode                  1\n",
      "B0_mcErrors              8.0\n",
      "e_mcErrors            2048.0\n",
      "e_isBremsCorrected       1.0\n",
      "Name: 4095, dtype: object\n",
      "Monte Carlo Decay with removed Bremsstrahlung gammas: \n",
      "300553\n",
      "    511\n",
      "        -411\n",
      "            321\n",
      "            -211\n",
      "            -211\n",
      "        -11\n",
      "        12\n",
      "    511\n",
      "        -411\n",
      "            321\n",
      "            -211\n",
      "            -211\n",
      "        -15\n",
      "            -11\n",
      "            12\n",
      "            -16\n",
      "        16\n",
      "\n"
     ]
    }
   ],
   "source": [
    "candidate = samples[r'bkg_others'].query('B0_mcErrors==8').iloc[0]\n",
    "hash_values = candidate[['B0_DecayHash', \"B0_DecayHashEx\"]].values\n",
    "\n",
    "print(candidate[['B0_mcPDG','D_mcPDG','e_mcPDG','e_genMotherPDG','DecayMode','B0_mcErrors','e_mcErrors','e_isBremsCorrected']])\n",
    "print(\"Monte Carlo Decay with removed Bremsstrahlung gammas: \")\n",
    "org2 = hashmap2.get_original_decay(*hash_values)\n",
    "print(org2.to_string())\n",
    "# hashmap1 = DecayHashMap(decayhash, removeRadiativeGammaFlag=False)\n",
    "# org1 = hashmap1.get_original_decay(*hash_values)\n",
    "# print(org1.to_string())"
   ]
  },
  {
   "cell_type": "code",
   "execution_count": 51,
   "metadata": {},
   "outputs": [
    {
     "data": {
      "text/plain": [
       "B0_mcPDG  D_mcPDG  e_mcPDG  e_genMotherPDG  D_mcErrors  B0_mcErrors  e_mcErrors  DecayMode\n",
       "-511.0     411.0    11.0     15.0           0.0         140.0        2180.0      1            18\n",
       " 511.0    -411.0   -11.0    -15.0           0.0         136.0        2176.0      1            16\n",
       "                                                        140.0        2180.0      1            16\n",
       "-511.0     411.0    11.0     15.0           0.0         136.0        2176.0      1            12\n",
       "dtype: int64"
      ]
     },
     "execution_count": 51,
     "metadata": {},
     "output_type": "execute_result"
    }
   ],
   "source": [
    "pd.set_option('display.max_rows', None)\n",
    "b=df.query('130<B0_mcErrors<160')[['B0_mcPDG','D_mcPDG','e_mcPDG','e_genMotherPDG','D_mcErrors','B0_mcErrors','e_mcErrors','DecayMode']].value_counts()\n",
    "b"
   ]
  },
  {
   "cell_type": "code",
   "execution_count": null,
   "metadata": {},
   "outputs": [],
   "source": []
  }
 ],
 "metadata": {
  "kernelspec": {
   "display_name": "Python 3 (Belle2)",
   "language": "python",
   "name": "python3"
  },
  "language_info": {
   "codemirror_mode": {
    "name": "ipython",
    "version": 3
   },
   "file_extension": ".py",
   "mimetype": "text/x-python",
   "name": "python",
   "nbconvert_exporter": "python",
   "pygments_lexer": "ipython3",
   "version": "3.8.8"
  }
 },
 "nbformat": 4,
 "nbformat_minor": 4
}

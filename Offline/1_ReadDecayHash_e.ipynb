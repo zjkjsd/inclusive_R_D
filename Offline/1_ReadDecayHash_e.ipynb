{
 "cells": [
  {
   "cell_type": "markdown",
   "metadata": {},
   "source": [
    "# 1. Import Ntuple and DecayHash"
   ]
  },
  {
   "cell_type": "code",
   "execution_count": 1,
   "metadata": {},
   "outputs": [
    {
     "name": "stdout",
     "output_type": "stream",
     "text": [
      "Welcome to JupyROOT 6.24/06\n"
     ]
    }
   ],
   "source": [
    "import glob\n",
    "import numpy as np\n",
    "import pandas as pd\n",
    "from tqdm.notebook import tqdm\n",
    "import sys\n",
    "sys.path.append('/home/belle/zhangboy/inclusive_R_D/')\n",
    "import utilities as util\n",
    "import decayHash\n",
    "from decayHash import DecayHashMap"
   ]
  },
  {
   "cell_type": "code",
   "execution_count": 2,
   "metadata": {},
   "outputs": [
    {
     "name": "stdout",
     "output_type": "stream",
     "text": [
      "$D\\tau\\nu$: 227\n",
      "$D^\\ast\\tau\\nu$: 135\n",
      "$D\\ell\\nu$: 99414\n",
      "$D^\\ast\\ell\\nu$: 75770\n",
      "$D^{\\ast\\ast}\\tau\\nu$: 42\n",
      "$D^{\\ast\\ast}\\ell\\nu$: 33976\n",
      "bkg_fakeDTC: 301767\n",
      "bkg_fakeB: 37974\n",
      "bkg_continuum: 0\n",
      "bkg_others: 386\n"
     ]
    }
   ],
   "source": [
    "# read a signal mc as a pandas dataframe\n",
    "files = ['sigDDst', 'normDDst','bkgDststp_tau', 'bkgDstst0_tau','bkgDstst0_ell']\n",
    "\n",
    "file_name=files[1]\n",
    "filename=f'../Samples/Signal_MC14ri/MC14ri_{file_name}_bengal_e_2/{file_name}_bengal_e_2_0.parquet'\n",
    "decayhash=f'../Samples/Signal_MC14ri/MC14ri_{file_name}_bengal_e_2/hashmap_{file_name}_bengal_e_2.root'\n",
    "hashmap2 = DecayHashMap(decayhash, removeRadiativeGammaFlag=True)\n",
    "data = pd.read_parquet(filename, engine=\"pyarrow\").query('B0_CMS3_weMissM2>-5')\n",
    "df, samples=util.get_dataframe_samples(data)\n",
    "\n",
    "for name in samples:\n",
    "    print(f'{name}: {len(samples[name])}')"
   ]
  },
  {
   "cell_type": "code",
   "execution_count": null,
   "metadata": {},
   "outputs": [],
   "source": [
    "import pandas\n",
    "pandas.set_option('display.max_rows', None)\n",
    "print(data.isna().sum())"
   ]
  },
  {
   "cell_type": "code",
   "execution_count": 15,
   "metadata": {},
   "outputs": [
    {
     "name": "stdout",
     "output_type": "stream",
     "text": [
      "B0_mcPDG          -511.0\n",
      "D_mcPDG            411.0\n",
      "e_mcPDG             11.0\n",
      "e_genMotherPDG    -511.0\n",
      "DecayMode              4\n",
      "B0_mcErrors        152.0\n",
      "e_mcErrors        2176.0\n",
      "Name: 4390, dtype: object\n",
      "Monte Carlo Decay with removed Bremsstrahlung gammas: \n",
      "300553\n",
      "    -511\n",
      "        413\n",
      "            411\n",
      "                -321\n",
      "                211\n",
      "                211\n",
      "            111\n",
      "                22\n",
      "                22\n",
      "        11\n",
      "        -12\n",
      "    511\n",
      "        -413\n",
      "            -411\n",
      "                311\n",
      "                    130\n",
      "                13\n",
      "                -14\n",
      "            111\n",
      "                22\n",
      "                22\n",
      "        423\n",
      "            421\n",
      "                -323\n",
      "                    -321\n",
      "                    111\n",
      "                        22\n",
      "                        22\n",
      "                213\n",
      "                    211\n",
      "                    111\n",
      "                        22\n",
      "                        22\n",
      "            22\n",
      "        321\n",
      "\n"
     ]
    }
   ],
   "source": [
    "candidate = samples[r'bkg_others'].iloc[3]\n",
    "hash_values = candidate[['B0_DecayHash', \"B0_DecayHashEx\"]].values\n",
    "\n",
    "print(candidate[['B0_mcPDG','D_mcPDG','e_mcPDG','e_genMotherPDG','DecayMode','B0_mcErrors','e_mcErrors']])\n",
    "# print the original decay as simulated in MC with removed Bremsstrahlung gammas\n",
    "print(\"Monte Carlo Decay with removed Bremsstrahlung gammas: \")\n",
    "org2 = hashmap2.get_original_decay(*hash_values)\n",
    "print(org2.to_string())"
   ]
  },
  {
   "cell_type": "code",
   "execution_count": 5,
   "metadata": {},
   "outputs": [
    {
     "data": {
      "text/plain": [
       "B0_mcPDG  D_mcPDG  e_mcPDG  e_genMotherPDG  D_mcErrors  B0_mcErrors  e_mcErrors  DecayMode\n",
       "-511.0     411.0    11.0    -511.0          0.0         136.0        2176.0      2            25\n",
       "                                                        140.0        2180.0      2            23\n",
       " 511.0    -411.0   -11.0     511.0          0.0         136.0        2176.0      2            22\n",
       "                                                        140.0        2180.0      2            21\n",
       "                                                        152.0        2176.0      4            21\n",
       "                                                        156.0        2180.0      4            17\n",
       "-511.0     411.0    11.0    -511.0          0.0         156.0        2180.0      4            16\n",
       "                                                        152.0        2176.0      4            13\n",
       "                                            136.0       152.0        0.0         6            12\n",
       "                                            0.0         156.0        2180.0      6            11\n",
       " 511.0    -411.0   -11.0     511.0          136.0       152.0        0.0         6             9\n",
       "                             22.0           0.0         56.0         0.0         6             8\n",
       "-511.0     411.0    11.0     22.0           0.0         56.0         0.0         6             7\n",
       "                            -511.0          0.0         24.0         0.0         2             7\n",
       " 511.0    -411.0   -11.0     511.0          0.0         24.0         0.0         2             7\n",
       "-511.0    -411.0   -11.0     411.0          0.0         376.0        0.0         6             6\n",
       " 511.0    -411.0   -11.0     511.0          0.0         156.0        2180.0      6             6\n",
       "-511.0     411.0    11.0    -511.0          0.0         152.0        2176.0      6             5\n",
       "                                                        24.0         0.0         5             5\n",
       " 511.0    -411.0   -11.0     511.0          144.0       152.0        0.0         6             4\n",
       "-511.0     411.0    11.0    -511.0          0.0         152.0        128.0       4             4\n",
       "                   -2212.0  -511.0          0.0         432.0        384.0       6             4\n",
       "                    11.0    -511.0          32.0        40.0         0.0         2             3\n",
       " 511.0    -411.0   -11.0     511.0          0.0         168.0        128.0       6             3\n",
       "-511.0     411.0    11.0    -511.0          144.0       152.0        0.0         6             3\n",
       " 511.0    -411.0   -11.0     511.0          0.0         136.0        128.0       2             3\n",
       "                             111.0          0.0         56.0         0.0         6             3\n",
       "-511.0     411.0    11.0    -511.0          0.0         24.0         0.0         1             3\n",
       "                                                        136.0        128.0       2             3\n",
       "                             221.0          0.0         56.0         0.0         6             3\n",
       " 511.0    -411.0   -11.0    -11.0           0.0         40.0         0.0         2             3\n",
       "                                                        56.0         0.0         4             3\n",
       "                             221.0          0.0         56.0         0.0         6             2\n",
       "                             431.0          0.0         56.0         0.0         6             2\n",
       "                                                        120.0        0.0         6             2\n",
       "                             22.0           0.0         40.0         0.0         2             2\n",
       "                             511.0          0.0         24.0         0.0         1             2\n",
       "-511.0     411.0    11.0     11.0           0.0         40.0         2048.0      2             2\n",
       "                                                                     0.0         2             2\n",
       " 511.0    -411.0   -11.0     511.0          0.0         152.0        128.0       4             2\n",
       "-511.0     411.0    11.0     11.0           0.0         56.0         0.0         4             2\n",
       "                             111.0          0.0         56.0         0.0         6             2\n",
       " 511.0    -411.0   -11.0     511.0          0.0         56.0         0.0         5             2\n",
       "-511.0    -411.0   -11.0     411.0          0.0         312.0        0.0         6             2\n",
       "           411.0    11.0    -511.0          136.0       184.0        0.0         6             2\n",
       " 511.0    -411.0   -11.0     421.0          0.0         56.0         0.0         6             2\n",
       "-511.0     411.0    11.0    -511.0          0.0         8.0          0.0         1             2\n",
       "                                            176.0       184.0        0.0         6             2\n",
       "                                            144.0       184.0        0.0         6             2\n",
       "                   -211.0    221.0          0.0         440.0        384.0       6             2\n",
       "                    11.0    -511.0          136.0       168.0        0.0         6             2\n",
       "                                            32.0        40.0         2048.0      2             2\n",
       "                                            0.0         184.0        2176.0      6             2\n",
       "                                                        40.0         0.0         5             2\n",
       " 511.0    -411.0   -11.0     511.0          136.0       168.0        0.0         6             2\n",
       "                                            144.0       184.0        0.0         6             2\n",
       "                             431.0          0.0         56.0         2048.0      6             1\n",
       "                             511.0          136.0       184.0        0.0         6             1\n",
       "                                            0.0         152.0        128.0       6             1\n",
       "                                            140.0       156.0        0.0         6             1\n",
       "                    211.0    221.0          0.0         440.0        384.0       6             1\n",
       "                   -11.0     431.0          0.0         40.0         0.0         6             1\n",
       "                             421.0          0.0         120.0        0.0         6             1\n",
       "                    211.0    331.0          0.0         432.0        384.0       6             1\n",
       "                   -11.0     511.0          0.0         188.0        2180.0      6             1\n",
       "                                            32.0        40.0         0.0         2             1\n",
       "                                            0.0         152.0        2176.0      6             1\n",
       "                                                        188.0        2180.0      4             1\n",
       "                                                        24.0         0.0         5             1\n",
       "                                                        184.0        128.0       6             1\n",
       "                                                        24.0         2048.0      5             1\n",
       "                                                        168.0        2176.0      6             1\n",
       "                                                        40.0         0.0         5             1\n",
       "                             421.0          0.0         104.0        0.0         6             1\n",
       "-511.0    -411.0   -11.0     411.0          0.0         296.0        0.0         6             1\n",
       "           411.0    11.0     15.0           0.0         24.0         0.0         6             1\n",
       " 511.0    -411.0   -11.0     411.0          0.0         120.0        0.0         6             1\n",
       "-511.0     411.0    11.0    -511.0          0.0         24.0         2048.0      2             1\n",
       "                                                        188.0        2180.0      6             1\n",
       "                                                        172.0        2180.0      6             1\n",
       "                                                        152.0        128.0       6             1\n",
       "                                                        56.0         0.0         2             1\n",
       "                                                                                 1             1\n",
       "                                                        24.0         2048.0      3             1\n",
       "                   -211.0    223.0          0.0         432.0        384.0       6             1\n",
       "                    11.0    -511.0          144.0       184.0        2048.0      6             1\n",
       "                   -211.0   -511.0          0.0         432.0        384.0       6             1\n",
       "                   -321.0   -323.0          0.0         432.0        384.0       6             1\n",
       "                            -511.0          0.0         416.0        384.0       6             1\n",
       "                   -2212.0  -511.0          0.0         416.0        384.0       6             1\n",
       "                            -2214.0         0.0         432.0        384.0       6             1\n",
       "          -411.0   -11.0     411.0          0.0         376.0        0.0         2             1\n",
       "           411.0    11.0    -511.0          144.0       152.0        2048.0      6             1\n",
       "                            -431.0          0.0         24.0         0.0         6             1\n",
       " 511.0    -411.0   -11.0     411.0          0.0         56.0         0.0         6             1\n",
       "-511.0     411.0    11.0     22.0           0.0         40.0         0.0         2             1\n",
       " 511.0    -411.0   -11.0     411.0          0.0         40.0         0.0         6             1\n",
       "                             22.0           0.0         56.0         0.0         4             1\n",
       "                                                        48.0         0.0         6             1\n",
       "                            -11.0           0.0         168.0        2176.0      2             1\n",
       "                                                        40.0         2048.0      2             1\n",
       "-511.0     411.0    11.0     111.0          0.0         48.0         0.0         6             1\n",
       "                             15.0           0.0         8.0          0.0         6             1\n",
       "                            -431.0          0.0         40.0         0.0         6             1\n",
       "                             11.0           0.0         56.0         0.0         6             1\n",
       "                            -411.0          0.0         56.0         0.0         6             1\n",
       "                            -421.0          0.0         120.0        0.0         6             1\n",
       "                                                        56.0         0.0         6             1\n",
       "                                                        40.0         0.0         6             1\n",
       "                            -431.0          0.0         56.0         0.0         6             1\n",
       " 511.0    -411.0    2212.0   511.0          0.0         432.0        384.0       6             1\n",
       "dtype: int64"
      ]
     },
     "execution_count": 5,
     "metadata": {},
     "output_type": "execute_result"
    }
   ],
   "source": [
    "pandas.set_option('display.max_rows', None)\n",
    "a=samples[r'bkg_others'][['B0_mcPDG','D_mcPDG','e_mcPDG','e_genMotherPDG','D_mcErrors','B0_mcErrors','e_mcErrors','DecayMode']].value_counts()\n",
    "a"
   ]
  },
  {
   "cell_type": "code",
   "execution_count": null,
   "metadata": {},
   "outputs": [],
   "source": []
  }
 ],
 "metadata": {
  "kernelspec": {
   "display_name": "Python 3 (Belle2)",
   "language": "python",
   "name": "python3"
  },
  "language_info": {
   "codemirror_mode": {
    "name": "ipython",
    "version": 3
   },
   "file_extension": ".py",
   "mimetype": "text/x-python",
   "name": "python",
   "nbconvert_exporter": "python",
   "pygments_lexer": "ipython3",
   "version": "3.8.8"
  }
 },
 "nbformat": 4,
 "nbformat_minor": 4
}

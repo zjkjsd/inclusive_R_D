{
 "cells": [
  {
   "cell_type": "markdown",
   "metadata": {},
   "source": [
    "# 1. Import Ntuple and DecayHash"
   ]
  },
  {
   "cell_type": "code",
   "execution_count": 1,
   "metadata": {},
   "outputs": [
    {
     "name": "stdout",
     "output_type": "stream",
     "text": [
      "Welcome to JupyROOT 6.24/06\n"
     ]
    }
   ],
   "source": [
    "import glob\n",
    "import numpy as np\n",
    "import pandas as pd\n",
    "from tqdm.notebook import tqdm\n",
    "import sys\n",
    "sys.path.append('/home/belle/zhangboy/inclusive_R_D/')\n",
    "import utilities as util\n",
    "import decayHash\n",
    "from decayHash import DecayHashMap"
   ]
  },
  {
   "cell_type": "code",
   "execution_count": 8,
   "metadata": {},
   "outputs": [
    {
     "name": "stdout",
     "output_type": "stream",
     "text": [
      "$D\\tau\\nu$: 1555\n",
      "$D^\\ast\\tau\\nu$: 978\n",
      "$D\\ell\\nu$: 39547\n",
      "$D^\\ast\\ell\\nu$: 29703\n",
      "$D^{\\ast\\ast}\\tau\\nu$: 52628\n",
      "$D^{\\ast\\ast}\\ell\\nu$: 12558\n",
      "bkg_fakeDTC: 510320\n",
      "bkg_fakeB: 82981\n",
      "bkg_continuum: 0\n",
      "bkg_others: 1365\n"
     ]
    }
   ],
   "source": [
    "# read a signal mc as a pandas dataframe\n",
    "files = ['sigDDst', 'normDDst','bkgDststp_tau', 'bkgDstst0_tau','bkgDstst0_ell']\n",
    "\n",
    "file_name=files[2]\n",
    "filename=f'/home/belle/zhangboy/inclusive_R_D/Samples/Signal_MC14ri/MC14ri_{file_name}_bengal_e_2/{file_name}_bengal_e_2_0.parquet'\n",
    "data = pd.read_parquet(filename, engine=\"pyarrow\")\n",
    "df, samples=util.get_dataframe_samples(data)\n",
    "decayhash=f'/home/belle/zhangboy/inclusive_R_D/Samples/Signal_MC14ri/MC14ri_{file_name}_bengal_e_2/hashmap_{file_name}_bengal_e_2.root'\n",
    "hashmap2 = DecayHashMap(decayhash, removeRadiativeGammaFlag=True)\n",
    "\n",
    "for name in samples:\n",
    "    print(f'{name}: {len(samples[name])}')"
   ]
  },
  {
   "cell_type": "code",
   "execution_count": null,
   "metadata": {},
   "outputs": [],
   "source": [
    "import pandas\n",
    "pandas.set_option('display.max_rows', None)\n",
    "print(data.isna().sum())"
   ]
  },
  {
   "cell_type": "code",
   "execution_count": 14,
   "metadata": {},
   "outputs": [
    {
     "name": "stdout",
     "output_type": "stream",
     "text": [
      "Monte Carlo Decay with removed Bremsstrahlung gammas: \n",
      "300553\n",
      "    511\n",
      "        -415\n",
      "            -421\n",
      "                310\n",
      "                211\n",
      "                -211\n",
      "            -211\n",
      "        -15\n",
      "            323\n",
      "                311\n",
      "                    310\n",
      "                211\n",
      "            -16\n",
      "        16\n",
      "    -511\n",
      "        411\n",
      "            -321\n",
      "            211\n",
      "            211\n",
      "        11\n",
      "        -12\n",
      "\n"
     ]
    }
   ],
   "source": [
    "candidate12 = samples[r'$D\\ell\\nu$'].iloc[1111][['B0_DecayHash', \"B0_DecayHashEx\"]].values\n",
    "\n",
    "# print the original decay as simulated in MC with removed Bremsstrahlung gammas\n",
    "print(\"Monte Carlo Decay with removed Bremsstrahlung gammas: \")\n",
    "org2 = hashmap2.get_original_decay(*candidate12)\n",
    "print(org2.to_string())"
   ]
  },
  {
   "cell_type": "code",
   "execution_count": 49,
   "metadata": {},
   "outputs": [
    {
     "data": {
      "text/plain": [
       "e_mcPDG  e_genMotherPDG  D_mcErrors  D_mcPDG    B0_mcErrors  B0_mcPDG \n",
       "-11.0     511.0          0.0         -411.0     24.0          511.0       4357\n",
       "                         312.0        300553.0  312.0         300553.0    4313\n",
       " 11.0    -511.0          0.0          411.0     24.0         -511.0       4199\n",
       "-11.0     511.0          0.0         -411.0     8.0           511.0       4180\n",
       " 11.0    -511.0          312.0        300553.0  312.0         300553.0    4164\n",
       "                         0.0          411.0     8.0          -511.0       4022\n",
       "-11.0     511.0          376.0        300553.0  376.0         300553.0    2434\n",
       " 11.0    -511.0          376.0        300553.0  376.0         300553.0    2355\n",
       "-11.0     511.0          440.0        300553.0  440.0         300553.0    1894\n",
       " 11.0    -511.0          440.0        300553.0  440.0         300553.0    1783\n",
       "-11.0     511.0          504.0        300553.0  504.0         300553.0    1263\n",
       " 11.0    -511.0          504.0        300553.0  504.0         300553.0    1219\n",
       "         -411.0          376.0        300553.0  376.0         300553.0     714\n",
       "-11.0     411.0          376.0        300553.0  376.0         300553.0     654\n",
       "          511.0          0.0         -411.0     312.0         300553.0     598\n",
       " 11.0    -511.0          0.0          411.0     312.0         300553.0     566\n",
       "-11.0     411.0          504.0        300553.0  504.0         300553.0     556\n",
       "          511.0          0.0         -411.0     376.0         300553.0     515\n",
       " 11.0    -411.0          504.0        300553.0  504.0         300553.0     506\n",
       "         -511.0          0.0          411.0     376.0         300553.0     485\n",
       "-11.0     411.0          0.0         -411.0     376.0         300553.0     462\n",
       " 11.0    -411.0          312.0        300553.0  312.0         300553.0     461\n",
       "-11.0     411.0          312.0        300553.0  312.0         300553.0     426\n",
       " 11.0    -411.0          0.0          411.0     376.0         300553.0     401\n",
       "                                                312.0         300553.0     355\n",
       "-11.0     411.0          440.0        300553.0  440.0         300553.0     346\n",
       "                         0.0         -411.0     312.0         300553.0     337\n",
       " 11.0    -411.0          440.0        300553.0  440.0         300553.0     327\n",
       "         -421.0          312.0        300553.0  312.0         300553.0     289\n",
       "-11.0     421.0          312.0        300553.0  312.0         300553.0     271\n",
       "                         376.0        300553.0  376.0         300553.0     268\n",
       "          511.0          0.0         -411.0     40.0          511.0        245\n",
       " 11.0    -421.0          440.0        300553.0  440.0         300553.0     241\n",
       "         -511.0          432.0        511.0     440.0         300553.0     231\n",
       "                         0.0          411.0     40.0         -511.0        230\n",
       "-11.0     511.0          432.0       -511.0     440.0         300553.0     216\n",
       "          421.0          440.0        300553.0  440.0         300553.0     212\n",
       " 11.0    -421.0          376.0        300553.0  376.0         300553.0     204\n",
       "-11.0     421.0          504.0        300553.0  504.0         300553.0     201\n",
       " 11.0    -421.0          504.0        300553.0  504.0         300553.0     178\n",
       "-11.0     421.0          0.0         -411.0     312.0         300553.0     168\n",
       " 11.0    -421.0          0.0          411.0     312.0         300553.0     165\n",
       "         -511.0          0.0          411.0     56.0         -511.0        157\n",
       "-11.0     511.0          0.0         -411.0     56.0          511.0        150\n",
       "                         304.0        511.0     312.0         300553.0     139\n",
       "         -15.0           312.0        300553.0  312.0         300553.0     138\n",
       " 11.0    -511.0          304.0       -511.0     312.0         300553.0     138\n",
       "          15.0           0.0          411.0     24.0         -511.0        129\n",
       "-11.0     511.0          304.0       -511.0     312.0         300553.0     128\n",
       "dtype: int64"
      ]
     },
     "execution_count": 49,
     "metadata": {},
     "output_type": "execute_result"
    }
   ],
   "source": [
    "a=df_bestSelected.query('e_mcErrors==2048')[['e_mcPDG','e_genMotherPDG','D_mcErrors','D_mcPDG','B0_mcErrors','B0_mcPDG']].value_counts()\n",
    "a[a>120]"
   ]
  }
 ],
 "metadata": {
  "kernelspec": {
   "display_name": "Python 3 (Belle2)",
   "language": "python",
   "name": "python3"
  },
  "language_info": {
   "codemirror_mode": {
    "name": "ipython",
    "version": 3
   },
   "file_extension": ".py",
   "mimetype": "text/x-python",
   "name": "python",
   "nbconvert_exporter": "python",
   "pygments_lexer": "ipython3",
   "version": "3.8.8"
  }
 },
 "nbformat": 4,
 "nbformat_minor": 4
}

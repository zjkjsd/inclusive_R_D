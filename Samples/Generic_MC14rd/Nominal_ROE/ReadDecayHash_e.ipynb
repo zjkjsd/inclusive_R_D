{
 "cells": [
  {
   "cell_type": "markdown",
   "metadata": {},
   "source": [
    "# 1. Import Ntuple and DecayHash"
   ]
  },
  {
   "cell_type": "code",
   "execution_count": 1,
   "metadata": {},
   "outputs": [
    {
     "name": "stdout",
     "output_type": "stream",
     "text": [
      "Welcome to JupyROOT 6.24/00\n"
     ]
    }
   ],
   "source": [
    "import root_pandas\n",
    "import decayHash\n",
    "import basf2 as b2\n",
    "from decayHash import DecayHashMap\n",
    "import sys\n",
    "import numpy as np\n",
    "\n",
    "# read in root-file as a pandas dataframe\n",
    "filename='generic_MC_e.root'\n",
    "decayhash='hashmap_generic_MC_e.root'\n",
    "df_B = root_pandas.read_root(filename,key='B0')\n",
    "hashmap = DecayHashMap(decayhash, removeRadiativeGammaFlag=False)\n",
    "hashmap2 = DecayHashMap(decayhash, removeRadiativeGammaFlag=True)"
   ]
  },
  {
   "cell_type": "code",
   "execution_count": 2,
   "metadata": {},
   "outputs": [],
   "source": [
    "df_pi = root_pandas.read_root(filename,key='pi_roe')\n",
    "df_gamma = root_pandas.read_root(filename,key='gamma_roe')"
   ]
  },
  {
   "cell_type": "markdown",
   "metadata": {},
   "source": [
    "# 4. Add DecayMode column to the Ntuple"
   ]
  },
  {
   "cell_type": "code",
   "execution_count": 2,
   "metadata": {},
   "outputs": [],
   "source": [
    "def found(modes,row):\n",
    "    for mode in modes:\n",
    "        decaytree = decayHash.Belle2.DecayTree(mode)\n",
    "        if hashmap2.get_original_decay(row[\"B0_DecayHash\"],row[\"B0_DecayHashEx\"]).find_decay(decaytree):\n",
    "            return True\n",
    "    return False\n",
    "\n",
    "def decay_mode(row):\n",
    "    for name,modes in mode_dict.items():\n",
    "        if found(modes,row):\n",
    "            return name\n",
    "    return 'bkg'\n",
    "\n",
    "mode_dict={}\n",
    "mode_dict['D_tau_nu']=['511 (-> -411 -15 (-> -11 12 -16) 16)','-511 (-> 411 15 (-> 11 -12 16) -16)',\n",
    "                       '511 (-> -411 -15 (-> -13 14 -16) 16)','-511 (-> 411 15 (-> 13 -14 16) -16)']\n",
    "mode_dict['D_e_nu']=['511 (-> -411 -11 12)','-511 (-> 411 11 -12)']\n",
    "mode_dict['D_mu_nu']=['511 (-> -411 -13 14)','-511 (-> 411 13 -14)']\n",
    "mode_dict['Dst_tau_nu']=['511 (-> -413 -15 (-> -11 12 -16) 16)','-511 (-> 413 15 (-> 11 -12 16) -16)',\n",
    "                         '511 (-> -413 -15 (-> -13 14 -16) 16)','-511 (-> 413 15 (-> 13 -14 16) -16)']\n",
    "mode_dict['Dst_e_nu']=['511 (-> -413 -11 12)','-511 (-> 413 11 -12)']\n",
    "mode_dict['Dst_mu_nu']=['511 (-> -413 -13 14)','-511 (-> 413 13 -14)']\n",
    "mode_dict['Dstst_tau_nu']=['511 (-> -10413 -15 16)','-511 (-> 10413 15 -16)',\n",
    "                           '511 (-> -10411 -15 16)','-511 (-> 10411 15 -16)',\n",
    "                           '511 (-> -20413 -15 16)','-511 (-> 20413 15 -16)',\n",
    "                           '511 (-> -415 -15 16)',  '-511 (-> 415 15 -16)',\n",
    "                           '521 (-> -10423 -15 16)','-521 (-> 10423 15 -16)',\n",
    "                           '521 (-> -10421 -15 16)','-521 (-> 10421 15 -16)',\n",
    "                           '521 (-> -20423 -15 16)','-521 (-> 20423 15 -16)',\n",
    "                           '521 (-> -425 -15 16)',  '-521 (-> 425 15 -16)']\n",
    "\n",
    "mode_dict['Dstst_e_nu']=['511 (-> -10413 -11 12)','-511 (-> 10413 11 -12)',\n",
    "                         '511 (-> -10411 -11 12)','-511 (-> 10411 11 -12)',\n",
    "                         '511 (-> -20413 -11 12)','-511 (-> 20413 11 -12)',\n",
    "                         '511 (-> -415 -11 12)',  '-511 (-> 415 11 -12)',\n",
    "                         '521 (-> -10423 -11 12)','-521 (-> 10423 11 -12)',\n",
    "                         '521 (-> -10421 -11 12)','-521 (-> 10421 11 -12)',\n",
    "                         '521 (-> -20423 -11 12)','-521 (-> 20423 11 -12)',\n",
    "                         '521 (-> -425 -11 12)',  '-521 (-> 425 11 -12)',\n",
    "                         '511 (-> -411 221 -11 12)','-511 (-> 411 221 11 -12)',\n",
    "                         '511 (-> -411 111 -11 12)','-511 (-> 411 111 11 -12)',\n",
    "                         '511 (-> -411 111 111 -11 12)','-511 (-> 411 111 111 11 -12)',\n",
    "                         '511 (-> -411 -211 211 -11 12)','-511 (-> 411 211 -211 11 -12)',\n",
    "                         '511 (-> -413 221 -11 12)','-511 (-> 413 221 11 -12)',\n",
    "                         '511 (-> -413 111 -11 12)','-511 (-> 413 111 11 -12)',\n",
    "                         '511 (-> -413 111 111 -11 12)','-511 (-> 413 111 111 11 -12)',\n",
    "                         '511 (-> -413 -211 211 -11 12)','-511 (-> 413 211 -211 11 -12)',\n",
    "                         '511 (-> -421 -211 -11 12)','-511 (-> 421 211 11 -12)',\n",
    "                         '511 (-> -423 -211 -11 12)','-511 (-> 423 211 11 -12)']\n",
    "\n",
    "mode_dict['Dstst_mu_nu']=['511 (-> -10413 -13 14)','-511 (-> 10413 13 -14)',\n",
    "                          '511 (-> -10411 -13 14)','-511 (-> 10411 13 -14)',\n",
    "                          '511 (-> -20413 -13 14)','-511 (-> 20413 13 -14)',\n",
    "                          '511 (-> -415 -13 14)',  '-511 (-> 415 13 -14)',\n",
    "                          '521 (-> -10423 -13 14)','-521 (-> 10423 13 -14)',\n",
    "                          '521 (-> -10421 -13 14)','-521 (-> 10421 13 -14)',\n",
    "                          '521 (-> -20423 -13 14)','-521 (-> 20423 13 -14)',\n",
    "                          '521 (-> -425 -13 14)',  '-521 (-> 425 13 -14)',\n",
    "                          '511 (-> -411 221 -13 14)','-511 (-> 411 221 13 -14)',\n",
    "                          '511 (-> -411 111 -13 14)','-511 (-> 411 111 13 -14)',\n",
    "                          '511 (-> -411 111 111 -13 14)','-511 (-> 411 111 111 13 -14)',\n",
    "                          '511 (-> -411 -211 211 -13 14)','-511 (-> 411 211 -211 13 -14)',\n",
    "                          '511 (-> -413 221 -13 14)','-511 (-> 413 221 13 -14)',\n",
    "                          '511 (-> -413 111 -13 14)','-511 (-> 413 111 13 -14)',\n",
    "                          '511 (-> -413 111 111 -13 14)','-511 (-> 413 111 111 13 -14)',\n",
    "                          '511 (-> -413 -211 211 -13 14)','-511 (-> 413 211 -211 13 -14)',\n",
    "                          '511 (-> -421 -211 -13 14)','-511 (-> 421 211 13 -14)',\n",
    "                          '511 (-> -423 -211 -13 14)','-511 (-> 423 211 13 -14)']"
   ]
  },
  {
   "cell_type": "code",
   "execution_count": 3,
   "metadata": {},
   "outputs": [],
   "source": [
    "# Apply basic cuts to reduce data size\n",
    "B0_cuts = '4.9<B0_Mbc<5.3 and B0_deltaE<3 and B0_vtxReChi2<25 and B0_CMS_E<5.3'\n",
    "D_cuts = 'and D_vtxReChi2<25'\n",
    "l_cuts = 'and e_CMS_p>0.2'\n",
    "roe_cuts = 'and 4<B0_roeMbc_my_mask<5.3 and -6<B0_roeDeltae_my_mask<4'\n",
    "#and B0_roeCharge_my_mask==0'\n",
    "all_cuts = B0_cuts + D_cuts + l_cuts + roe_cuts\n",
    "\n",
    "df_cut = df_B.query(all_cuts).copy()"
   ]
  },
  {
   "cell_type": "code",
   "execution_count": 4,
   "metadata": {},
   "outputs": [],
   "source": [
    "df_cut['DecayMode'] = df_cut.apply(decay_mode, axis=1).astype('category') #axis=0 will allow the application to be done at a column"
   ]
  },
  {
   "cell_type": "code",
   "execution_count": 6,
   "metadata": {},
   "outputs": [
    {
     "data": {
      "text/plain": [
       "1444075"
      ]
     },
     "execution_count": 6,
     "metadata": {},
     "output_type": "execute_result"
    }
   ],
   "source": [
    "len(df_B)"
   ]
  },
  {
   "cell_type": "code",
   "execution_count": 7,
   "metadata": {},
   "outputs": [
    {
     "data": {
      "text/plain": [
       "1065946"
      ]
     },
     "execution_count": 7,
     "metadata": {},
     "output_type": "execute_result"
    }
   ],
   "source": [
    "len(df_cut)"
   ]
  },
  {
   "cell_type": "code",
   "execution_count": 24,
   "metadata": {},
   "outputs": [
    {
     "data": {
      "text/plain": [
       "bkg             3655616\n",
       "Dstst_e_nu       376111\n",
       "Dst_e_nu         361628\n",
       "D_e_nu           250100\n",
       "Dstst_mu_nu      100686\n",
       "Dst_mu_nu         92546\n",
       "Dstst_tau_nu      55329\n",
       "D_mu_nu           49569\n",
       "Dst_tau_nu        20719\n",
       "D_tau_nu          16086\n",
       "Name: DecayMode, dtype: int64"
      ]
     },
     "execution_count": 24,
     "metadata": {},
     "output_type": "execute_result"
    }
   ],
   "source": [
    "df_cut.DecayMode.value_counts()"
   ]
  },
  {
   "cell_type": "code",
   "execution_count": 5,
   "metadata": {},
   "outputs": [
    {
     "data": {
      "text/plain": [
       " 300553.0     5396473\n",
       " 511.0         429120\n",
       "-511.0         421785\n",
       " 521.0         172251\n",
       "-521.0         171187\n",
       " 30443.0         4421\n",
       "-425.0           1842\n",
       " 425.0           1782\n",
       "-10421.0         1045\n",
       " 10421.0         1032\n",
       " 413.0           1017\n",
       "-413.0            797\n",
       "-10423.0          762\n",
       " 10423.0          711\n",
       "-20423.0          550\n",
       " 20423.0          500\n",
       " 10413.0          384\n",
       "-10413.0          377\n",
       " 9010443.0        284\n",
       " 443.0            270\n",
       " 415.0            194\n",
       "-415.0            173\n",
       " 10411.0          105\n",
       "-20413.0          104\n",
       " 20413.0          102\n",
       "-10411.0           98\n",
       " 100443.0          97\n",
       " 441.0             88\n",
       "-421.0             40\n",
       " 421.0             35\n",
       " 20443.0           32\n",
       " 10441.0           26\n",
       " 100441.0          22\n",
       "-10433.0           14\n",
       " 10433.0           13\n",
       " 445.0             13\n",
       "-411.0             11\n",
       " 20433.0           10\n",
       "-10431.0            9\n",
       " 411.0              8\n",
       " 10431.0            8\n",
       "-433.0              5\n",
       "-423.0              5\n",
       " 423.0              4\n",
       " 433.0              4\n",
       " 431.0              4\n",
       " 43.0               3\n",
       "-20433.0            3\n",
       "-431.0              3\n",
       " 4114.0             1\n",
       " 20213.0            1\n",
       " 30343.0            1\n",
       "-4232.0             1\n",
       " 10443.0            1\n",
       " 4132.0             1\n",
       "Name: B0_mcPDG, dtype: int64"
      ]
     },
     "execution_count": 5,
     "metadata": {},
     "output_type": "execute_result"
    }
   ],
   "source": [
    "df_B.B0_mcPDG.value_counts()"
   ]
  },
  {
   "cell_type": "code",
   "execution_count": null,
   "metadata": {},
   "outputs": [],
   "source": [
    "df_B.query('abs(B0_mcPDG)==521').DecayMode.value_counts()"
   ]
  },
  {
   "cell_type": "code",
   "execution_count": 8,
   "metadata": {},
   "outputs": [],
   "source": [
    "# B decay\n",
    "B_meson='B0_mcPDG==511 or B0_mcPDG==-511 or B0_mcPDG==521 or B0_mcPDG==-521'\n",
    "tau_modes = 'DecayMode==\"D_tau_nu\" or DecayMode==\"Dst_tau_nu\" or DecayMode==\"Dstst_tau_nu\"'\n",
    "e_modes = 'DecayMode==\"D_e_nu\" or DecayMode==\"Dst_e_nu\" or DecayMode==\"Dstst_e_nu\"'\n",
    "mu_modes = 'DecayMode==\"D_mu_nu\" or DecayMode==\"Dst_mu_nu\" or DecayMode==\"Dstst_mu_nu\"'\n",
    "bkg_misIdAndTwoD = 'DecayMode==\"bkg\"'\n",
    "# Not B decay\n",
    "bkg_combinatorial_oneBsignal = 'B0_mcPDG==300553 and DecayMode!=\"bkg\"'\n",
    "bkg_combinatorial_noBsignal = 'B0_mcPDG==300553 and DecayMode==\"bkg\"'\n",
    "bkg_BDaughterDecay = 'B0_mcPDG!=511 and B0_mcPDG!=-511 and B0_mcPDG!=521 and B0_mcPDG!=-521 \\\n",
    "and B0_mcPDG!=300553 and B0_mcPDG!=0 and B0_isContinuumEvent!=1'\n",
    "bkg_misId2='B0_mcPDG==0'\n",
    "bkg_continuum = 'B0_isContinuumEvent==1'\n",
    "\n",
    "df_B_mother = df_B.query(B_meson)\n",
    "df_tau = df_B_mother.query(tau_modes)\n",
    "df_e = df_B_mother.query(e_modes)\n",
    "df_mu = df_B_mother.query(mu_modes)\n",
    "df_bkg_misIdAndTwoD = df_B_mother.query(bkg_misIdAndTwoD)\n",
    "# Not B decay\n",
    "df_bkg_comb_oneBsignal = df_B.query(bkg_combinatorial_oneBsignal)\n",
    "df_bkg_comb_noBsignal = df_B.query(bkg_combinatorial_noBsignal)\n",
    "df_bkg_BDaughterDecay = df_B.query(bkg_BDaughterDecay)\n",
    "df_bkg_misId2 = df_B.query(bkg_misId2)\n",
    "df_bkg_continuum = df_B.query(bkg_continuum)\n",
    "\n",
    "D_e_nu=df_e.query('DecayMode==\"D_e_nu\"')\n",
    "D_mu_nu=df_mu.query('DecayMode==\"D_mu_nu\"')\n",
    "D_tau_nu=df_tau.query('DecayMode==\"D_tau_nu\"')\n",
    "Dst_e_nu=df_e.query('DecayMode==\"Dst_e_nu\"')\n",
    "Dst_mu_nu=df_mu.query('DecayMode==\"Dst_mu_nu\"')\n",
    "Dst_tau_nu=df_tau.query('DecayMode==\"Dst_tau_nu\"')\n",
    "Dstst_e_nu=df_e.query('DecayMode==\"Dstst_e_nu\"')\n",
    "Dstst_mu_nu=df_mu.query('DecayMode==\"Dstst_mu_nu\"')\n",
    "Dstst_tau_nu=df_tau.query('DecayMode==\"Dstst_tau_nu\"')"
   ]
  },
  {
   "cell_type": "code",
   "execution_count": 11,
   "metadata": {},
   "outputs": [
    {
     "data": {
      "text/plain": [
       "6778495"
      ]
     },
     "execution_count": 11,
     "metadata": {},
     "output_type": "execute_result"
    }
   ],
   "source": [
    "len(D_e_nu)+len(D_mu_nu)+len(D_tau_nu)+len(Dst_e_nu)+len(Dst_mu_nu)+len(Dst_tau_nu)+len(Dstst_e_nu)+len(Dstst_mu_nu)+len(Dstst_tau_nu)+len(df_bkg_misIdAndTwoD)+len(df_bkg_comb_oneBsignal)+len(df_bkg_comb_noBsignal)+len(df_bkg_BDaughterDecay)+len(df_bkg_misId2)+len(df_bkg_continuum)"
   ]
  },
  {
   "cell_type": "code",
   "execution_count": 15,
   "metadata": {},
   "outputs": [
    {
     "data": {
      "text/plain": [
       "D_tau_nu        8715\n",
       "D_e_nu             0\n",
       "D_mu_nu            0\n",
       "Dst_e_nu           0\n",
       "Dst_mu_nu          0\n",
       "Dst_tau_nu         0\n",
       "Dstst_e_nu         0\n",
       "Dstst_mu_nu        0\n",
       "Dstst_tau_nu       0\n",
       "bkg                0\n",
       "Name: DecayMode, dtype: int64"
      ]
     },
     "execution_count": 15,
     "metadata": {},
     "output_type": "execute_result"
    }
   ],
   "source": [
    "df_cut.DecayMode.value_counts()"
   ]
  },
  {
   "cell_type": "markdown",
   "metadata": {},
   "source": [
    "# 5. Add MM2 column"
   ]
  },
  {
   "cell_type": "code",
   "execution_count": 5,
   "metadata": {},
   "outputs": [],
   "source": [
    "# MM2 with ROE = Mbc_roe^2 + M_Y^2 - 2*E_Beam*E_Y - 2*(p_roe dot p_Y)\n",
    "# Use ROE information p_roe only, E_roe has bad resolution and is unnecessary\n",
    "# Note that p are 3 momenta vectors and p_cm is 0 (center of momentum frame)\n",
    "def withROE_mm2_2(data):\n",
    "    # Energy\n",
    "    E_B = data.Ecms.mean()/2\n",
    "    E_Y = data.D_CMS_E + data.e_CMS_E\n",
    "    Mbc_roe = data.B0_roeMbc_my_mask\n",
    "    # Calculating M_Y^2\n",
    "    p_Yx = data.D_CMS_px + data.e_CMS_px\n",
    "    p_Yy = data.D_CMS_py + data.e_CMS_py\n",
    "    p_Yz = data.D_CMS_pz + data.e_CMS_pz\n",
    "    p_Y2 = p_Yx**2 + p_Yy**2 + p_Yz**2\n",
    "    m_Y2 = E_Y**2 - p_Y2\n",
    "    # dot product\n",
    "    p_xdot = data.B0_CMS_roePx_my_mask * p_Yx\n",
    "    p_ydot = data.B0_CMS_roePy_my_mask * p_Yy\n",
    "    p_zdot = data.B0_CMS_roePz_my_mask * p_Yz\n",
    "    p_dot = p_xdot + p_ydot + p_zdot\n",
    "    # Calculating the final quantities\n",
    "    withROE_missing_m2 = Mbc_roe**2 + m_Y2 - 2*E_B*E_Y - 2*p_dot\n",
    "    cos_theta_BY = 0\n",
    "    return withROE_missing_m2"
   ]
  },
  {
   "cell_type": "code",
   "execution_count": 6,
   "metadata": {},
   "outputs": [],
   "source": [
    "df_cut['MM2'] = withROE_mm2_2(df_cut)"
   ]
  },
  {
   "cell_type": "code",
   "execution_count": 7,
   "metadata": {},
   "outputs": [
    {
     "data": {
      "text/plain": [
       "count    1580.000000\n",
       "mean        2.087203\n",
       "std         1.943088\n",
       "min        -8.359064\n",
       "25%         0.993457\n",
       "50%         2.237505\n",
       "75%         3.503632\n",
       "max         6.065778\n",
       "Name: MM2, dtype: float64"
      ]
     },
     "execution_count": 7,
     "metadata": {},
     "output_type": "execute_result"
    }
   ],
   "source": [
    "df_cut.MM2.describe()"
   ]
  },
  {
   "cell_type": "code",
   "execution_count": 7,
   "metadata": {},
   "outputs": [],
   "source": [
    "def cos_D_l(df):\n",
    "    dot_product=df.D_CMS_px*df.e_CMS_px+df.D_CMS_py*df.e_CMS_py+df.D_CMS_pz*df.e_CMS_pz\n",
    "    magnitude=df.D_CMS_p*df.e_CMS_p\n",
    "    cos=dot_product/magnitude\n",
    "    return cos"
   ]
  },
  {
   "cell_type": "code",
   "execution_count": 8,
   "metadata": {},
   "outputs": [],
   "source": [
    "df_cut['cos_D_l'] = cos_D_l(df_cut)"
   ]
  },
  {
   "cell_type": "code",
   "execution_count": null,
   "metadata": {},
   "outputs": [],
   "source": [
    "df_cut.cos_D_l.describe()"
   ]
  },
  {
   "cell_type": "markdown",
   "metadata": {},
   "source": [
    "# 6. Write out new Ntuple"
   ]
  },
  {
   "cell_type": "code",
   "execution_count": 9,
   "metadata": {},
   "outputs": [],
   "source": [
    "Dtaunu = 'DecayMode==\"D_tau_nu\" and abs(B0_mcPDG)==511'\n",
    "other_signal = 'B0_isContinuumEvent!=1 and (abs(B0_mcPDG)==511 or abs(B0_mcPDG)==521) \\\n",
    "and DecayMode!=\"bkg\" and DecayMode!=\"D_tau_nu\"'\n",
    "bkg = 'DecayMode==\"bkg\" or (abs(B0_mcPDG)!=511 and abs(B0_mcPDG)!=521)'\n",
    "\n",
    "df_D_tau_nu = df_cut.query(Dtaunu).copy()\n",
    "df_other_signal = df_cut.query(other_signal).copy()\n",
    "df_bkg = df_cut.query(bkg).copy()"
   ]
  },
  {
   "cell_type": "code",
   "execution_count": 15,
   "metadata": {},
   "outputs": [
    {
     "name": "stdout",
     "output_type": "stream",
     "text": [
      "<class 'numpy.ndarray'>\n"
     ]
    }
   ],
   "source": [
    "signal_event_list=df_cut.query('(DecayMode==\"D_tau_nu\" or DecayMode==\"D_e_nu\") and abs(B0_mcPDG)==511').__event__.unique()\n",
    "print(type(signal_event_list))\n",
    "df_pi_signal=df_pi[df_pi.__event__.isin(signal_event_list)]\n",
    "df_gamma_signal=df_gamma.query('__event__ in @signal_event_list')\n",
    "#df_pi.query('__event__ in @signal_event_list')\n",
    "df_pi_others=df_pi[~df_pi.__event__.isin(signal_event_list)]\n",
    "df_gamma_others=df_gamma.query('__event__ not in @signal_event_list')\n",
    "#df_pi.query('__event__ not in @signal_event_list')"
   ]
  },
  {
   "cell_type": "code",
   "execution_count": 10,
   "metadata": {},
   "outputs": [
    {
     "data": {
      "text/plain": [
       "2747"
      ]
     },
     "execution_count": 10,
     "metadata": {},
     "output_type": "execute_result"
    }
   ],
   "source": [
    "len(df_D_tau_nu)"
   ]
  },
  {
   "cell_type": "code",
   "execution_count": 11,
   "metadata": {},
   "outputs": [],
   "source": [
    "df_D_tau_nu.to_root('exp7_14_e_D_tau_nu.root', key='B0')\n",
    "df_other_signal.to_root('exp7_14_e_other_signal.root', key='B0')\n",
    "df_bkg.to_root('exp7_14_e_bbkg.root', key='B0')"
   ]
  },
  {
   "cell_type": "code",
   "execution_count": 18,
   "metadata": {},
   "outputs": [],
   "source": [
    "df_pi_signal.to_root('exp14_e_ROE.root', key='pi_roe_signal')\n",
    "df_gamma_signal.to_root('exp14_e_ROE.root', key='gamma_roe_signal',mode='a')\n",
    "df_pi_others.to_root('exp14_e_ROE.root', key='pi_roe_others',mode='a')\n",
    "df_gamma_others.to_root('exp14_e_ROE.root', key='gamma_roe_others',mode='a')"
   ]
  },
  {
   "cell_type": "code",
   "execution_count": null,
   "metadata": {},
   "outputs": [],
   "source": []
  }
 ],
 "metadata": {
  "kernelspec": {
   "display_name": "Python 3 (Belle2)",
   "language": "python",
   "name": "python3"
  },
  "language_info": {
   "codemirror_mode": {
    "name": "ipython",
    "version": 3
   },
   "file_extension": ".py",
   "mimetype": "text/x-python",
   "name": "python",
   "nbconvert_exporter": "python",
   "pygments_lexer": "ipython3",
   "version": "3.8.8"
  }
 },
 "nbformat": 4,
 "nbformat_minor": 4
}

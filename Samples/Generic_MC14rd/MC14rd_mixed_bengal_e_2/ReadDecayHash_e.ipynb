{
 "cells": [
  {
   "cell_type": "markdown",
   "metadata": {},
   "source": [
    "# 1. Import Ntuple and DecayHash"
   ]
  },
  {
   "cell_type": "code",
   "execution_count": 1,
   "metadata": {},
   "outputs": [
    {
     "name": "stdout",
     "output_type": "stream",
     "text": [
      "Welcome to JupyROOT 6.24/00\n"
     ]
    }
   ],
   "source": [
    "import root_pandas\n",
    "import uproot\n",
    "import decayHash\n",
    "import basf2 as b2\n",
    "from decayHash import DecayHashMap\n",
    "import sys\n",
    "import numpy as np\n",
    "import ROOT\n",
    "import pandas\n",
    "\n",
    "# read in root-file as a pandas dataframe\n",
    "filename='mixed_bengal_e_2.root'\n",
    "decayhash='hashmap_mixed_bengal_e_2.root'\n",
    "#data = uproot.open(filename)['B0'].arrays(library=\"pd\")\n",
    "data = root_pandas.read_root(filename,key='B0')\n",
    "hashmap = DecayHashMap(decayhash, removeRadiativeGammaFlag=False)\n",
    "hashmap2 = DecayHashMap(decayhash, removeRadiativeGammaFlag=True)"
   ]
  },
  {
   "cell_type": "code",
   "execution_count": 2,
   "metadata": {},
   "outputs": [],
   "source": [
    "data['B0_mcPDG'] = data['B0_mcPDG'].fillna(0)\n",
    "data['isSignal'] = 1.0\n",
    "data.eval('B_D_ReChi2 = B0_vtxReChi2 + D_vtxReChi2', inplace=True)\n",
    "data.eval('p_D_l = D_CMS_p + e_CMS_p', inplace=True)\n",
    "\n",
    "# Calculate the q2 in different ways\n",
    "#data.eval('q2_SigOnly = (0.5*Ecms - D_CMS_E)**2 - D_CMS_px**2 - D_CMS_py**2 - D_CMS_pz**2', inplace=True)\n",
    "#data.eval('MM2_SigOnly = (0.5*Ecms - D_CMS_E - e_CMS_E)**2 - (D_CMS_px + e_CMS_px)**2 - (D_CMS_py + e_CMS_py)**2 - (D_CMS_pz + e_CMS_pz)**2', inplace=True)"
   ]
  },
  {
   "cell_type": "code",
   "execution_count": 3,
   "metadata": {},
   "outputs": [
    {
     "data": {
      "text/plain": [
       "1    2225987\n",
       "2     626575\n",
       "3      65071\n",
       "4       3382\n",
       "5         96\n",
       "6          3\n",
       "Name: nElectrons90, dtype: int64"
      ]
     },
     "execution_count": 3,
     "metadata": {},
     "output_type": "execute_result"
    }
   ],
   "source": [
    "data.nElectrons90.value_counts()"
   ]
  },
  {
   "cell_type": "code",
   "execution_count": 4,
   "metadata": {},
   "outputs": [
    {
     "data": {
      "text/plain": [
       "9.0       1580\n",
       "1.0       1299\n",
       "521.0      669\n",
       "513.0      561\n",
       "1025.0     536\n",
       "          ... \n",
       "1674.0       1\n",
       "355.0        1\n",
       "795.0        1\n",
       "129.0        1\n",
       "1567.0       1\n",
       "Name: B0_roeMC_MissFlags_my_mask, Length: 281, dtype: int64"
      ]
     },
     "execution_count": 4,
     "metadata": {},
     "output_type": "execute_result"
    }
   ],
   "source": [
    "data.B0_roeMC_MissFlags_my_mask.value_counts()"
   ]
  },
  {
   "cell_type": "code",
   "execution_count": null,
   "metadata": {},
   "outputs": [],
   "source": [
    "import pandas\n",
    "pandas.set_option('display.max_rows', None)\n",
    "print(data.isna().sum())"
   ]
  },
  {
   "cell_type": "markdown",
   "metadata": {},
   "source": [
    "# 2. Add DecayMode column to the Ntuple"
   ]
  },
  {
   "cell_type": "code",
   "execution_count": 3,
   "metadata": {},
   "outputs": [],
   "source": [
    "from collections import OrderedDict\n",
    "\n",
    "def found(modes,row):\n",
    "    for mode in modes:\n",
    "        # check the decay chain for the reconstructed B meson only\n",
    "        if mode.startswith(str(int(row['B0_mcPDG']))):\n",
    "            decaytree = ROOT.Belle2.DecayTree(mode)\n",
    "            if hashmap2.get_original_decay(row[\"B0_DecayHash\"],row[\"B0_DecayHashEx\"]).find_decay(decaytree):\n",
    "                return True\n",
    "        else:\n",
    "            continue\n",
    "    return False\n",
    "\n",
    "def decay_mode(row):\n",
    "    for name,modes in mode_dict.items():\n",
    "        if found(modes,row):\n",
    "            return name\n",
    "    return 'bkg'\n",
    "\n",
    "# the order of keys might be important, try to keep the muon modes at the bottom for e reconstruction\n",
    "# the e modes will be kept at the bottom for a muon reconstruction\n",
    "mode_dict = OrderedDict()\n",
    "mode_dict['sig_D_tau_nu']=['511 (-> -411 (-> 321 -211 -211) -15 (-> -11 12 -16) 16)',\n",
    "                           '-511 (-> 411 (-> -321 211 211) 15 (-> 11 -12 16) -16)',\n",
    "                           '511 (-> -411 (-> 321 -211 -211) -15 (-> -13 14 -16) 16)',\n",
    "                           '-511 (-> 411 (-> -321 211 211) 15 (-> 13 -14 16) -16)']\n",
    "\n",
    "mode_dict['sig_D_e_nu']=['511 (-> -411 (-> 321 -211 -211) -11 12)',\n",
    "                         '-511 (-> 411 (-> -321 211 211) 11 -12)']\n",
    "\n",
    "mode_dict['sig_Dst_tau_nu']=['511 (-> -413 (-> -411 (-> 321 -211 -211) 111) -15 (-> -11 12 -16) 16)',\n",
    "                             '-511 (-> 413 (-> 411 (-> -321 211 211) 111) 15 (-> 11 -12 16) -16)',\n",
    "                             '511 (-> -413 (-> -411 (-> 321 -211 -211) 111) -15 (-> -13 14 -16) 16)',\n",
    "                             '-511 (-> 413 (-> 411 (-> -321 211 211) 111) 15 (-> 13 -14 16) -16)',\n",
    "                             '511 (-> -413 (-> -411 (-> 321 -211 -211) 22) -15 (-> -11 12 -16) 16)',\n",
    "                             '-511 (-> 413 (-> 411 (-> -321 211 211) 22) 15 (-> 11 -12 16) -16)',\n",
    "                             '511 (-> -413 (-> -411 (-> 321 -211 -211) 22) -15 (-> -13 14 -16) 16)',\n",
    "                             '-511 (-> 413 (-> 411 (-> -321 211 211) 22) 15 (-> 13 -14 16) -16)']\n",
    "\n",
    "mode_dict['sig_Dst_e_nu']=['511 (-> -413 (-> -411 (-> 321 -211 -211) 111) -11 12)',\n",
    "                           '511 (-> -413 (-> -411 (-> 321 -211 -211) 22) -11 12)',\n",
    "                           '-511 (-> 413 (-> 411 (-> -321 211 211) 111) 11 -12)',\n",
    "                           '-511 (-> 413 (-> 411 (-> -321 211 211) 22) 11 -12)']\n",
    "\n",
    "mode_dict['all_Dstst_tau_nu']=['511 (-> -10413 -15 (-> -11 12 -16) 16)','-511 (-> 10413 15 (-> 11 -12 16) -16)',\n",
    "                               '511 (-> -10411 -15 (-> -11 12 -16) 16)','-511 (-> 10411 15 (-> 11 -12 16) -16)',\n",
    "                               '511 (-> -20413 -15 (-> -11 12 -16) 16)','-511 (-> 20413 15 (-> 11 -12 16) -16)',\n",
    "                               '511 (-> -415 -15 (-> -11 12 -16) 16)',  '-511 (-> 415 15 (-> 11 -12 16) -16)',\n",
    "                               '521 (-> -10423 -15 (-> -11 12 -16) 16)','-521 (-> 10423 15 (-> 11 -12 16) -16)',\n",
    "                               '521 (-> -10421 -15 (-> -11 12 -16) 16)','-521 (-> 10421 15 (-> 11 -12 16) -16)',\n",
    "                               '521 (-> -20423 -15 (-> -11 12 -16) 16)','-521 (-> 20423 15 (-> 11 -12 16) -16)',\n",
    "                               '521 (-> -425 -15 (-> -11 12 -16) 16)',  '-521 (-> 425 15 (-> 11 -12 16) -16)',\n",
    "                               '511 (-> -10413 -15 (-> -13 14 -16) 16)','-511 (-> 10413 15 (-> 13 -14 16) -16)',\n",
    "                               '511 (-> -10411 -15 (-> -13 14 -16) 16)','-511 (-> 10411 15 (-> 13 -14 16) -16)',\n",
    "                               '511 (-> -20413 -15 (-> -13 14 -16) 16)','-511 (-> 20413 15 (-> 13 -14 16) -16)',\n",
    "                               '511 (-> -415 -15 (-> -13 14 -16) 16)',  '-511 (-> 415 15 (-> 13 -14 16) -16)',\n",
    "                               '521 (-> -10423 -15 (-> -13 14 -16) 16)','-521 (-> 10423 15 (-> 13 -14 16) -16)',\n",
    "                               '521 (-> -10421 -15 (-> -13 14 -16) 16)','-521 (-> 10421 15 (-> 13 -14 16) -16)',\n",
    "                               '521 (-> -20423 -15 (-> -13 14 -16) 16)','-521 (-> 20423 15 (-> 13 -14 16) -16)',\n",
    "                               '521 (-> -425 -15 (-> -13 14 -16) 16)',  '-521 (-> 425 15 (-> 13 -14 16) -16)']\n",
    "\n",
    "mode_dict['all_Dstst_e_nu']=['511 (-> -10413 -11 12)','-511 (-> 10413 11 -12)',\n",
    "                             '511 (-> -10411 -11 12)','-511 (-> 10411 11 -12)',\n",
    "                             '511 (-> -20413 -11 12)','-511 (-> 20413 11 -12)',\n",
    "                             '511 (-> -415 -11 12)',  '-511 (-> 415 11 -12)',\n",
    "                             '511 (-> -411 221 -11 12)','-511 (-> 411 221 11 -12)',\n",
    "                             '511 (-> -411 111 -11 12)','-511 (-> 411 111 11 -12)',\n",
    "                             '511 (-> -411 111 111 -11 12)','-511 (-> 411 111 111 11 -12)',\n",
    "                             '511 (-> -411 211 -211 -11 12)','-511 (-> 411 211 -211 11 -12)',\n",
    "                             '511 (-> -413 221 -11 12)','-511 (-> 413 221 11 -12)',\n",
    "                             '511 (-> -413 111 -11 12)','-511 (-> 413 111 11 -12)',\n",
    "                             '511 (-> -413 111 111 -11 12)','-511 (-> 413 111 111 11 -12)',\n",
    "                             '511 (-> -413 211 -211 -11 12)','-511 (-> 413 211 -211 11 -12)',\n",
    "                             '511 (-> -421 -211 -11 12)','-511 (-> 421 211 11 -12)',\n",
    "                             '511 (-> -423 -211 -11 12)','-511 (-> 423 211 11 -12)',\n",
    "                             '521 (-> -10423 -11 12)','-521 (-> 10423 11 -12)',\n",
    "                             '521 (-> -10421 -11 12)','-521 (-> 10421 11 -12)',\n",
    "                             '521 (-> -20423 -11 12)','-521 (-> 20423 11 -12)',\n",
    "                             '521 (-> -425 -11 12)',  '-521 (-> 425 11 -12)',\n",
    "                             '521 (-> -411 211 -11 12)','-521 (-> 411 211 11 -12)',\n",
    "                             '521 (-> -411 211 111 -11 12)','-521 (-> 411 211 111 11 -12)',\n",
    "                             '521 (-> -413 211 -11 12)','-521 (-> 413 211 11 -12)',\n",
    "                             '521 (-> -413 211 111 -11 12)','-521 (-> 413 211 111 11 -12)']\n",
    "\n",
    "mode_dict['sig_D_mu_nu']=['511 (-> -411 (-> 321 -211 -211) -13 14)',\n",
    "                          '-511 (-> 411 (-> -321 211 211) 13 -14)']\n",
    "\n",
    "mode_dict['sig_Dst_mu_nu']=['511 (-> -413 (-> -411 (-> 321 -211 -211) 111) -13 14)',\n",
    "                           '511 (-> -413 (-> -411 (-> 321 -211 -211) 22) -13 14)',\n",
    "                           '-511 (-> 413 (-> 411 (-> -321 211 211) 111) 13 -14)',\n",
    "                           '-511 (-> 413 (-> 411 (-> -321 211 211) 22) 13 -14)']\n",
    "\n",
    "mode_dict['all_Dstst_mu_nu']=['511 (-> -10413 -13 14)','-511 (-> 10413 13 -14)',\n",
    "                              '511 (-> -10411 -13 14)','-511 (-> 10411 13 -14)',\n",
    "                              '511 (-> -20413 -13 14)','-511 (-> 20413 13 -14)',\n",
    "                              '511 (-> -415 -13 14)',  '-511 (-> 415 13 -14)',\n",
    "                              '511 (-> -411 221 -13 14)','-511 (-> 411 221 13 -14)',\n",
    "                              '511 (-> -411 111 -13 14)','-511 (-> 411 111 13 -14)',\n",
    "                              '511 (-> -411 111 111 -13 14)','-511 (-> 411 111 111 13 -14)',\n",
    "                              '511 (-> -411 211 -211 -13 14)','-511 (-> 411 211 -211 13 -14)',\n",
    "                              '511 (-> -413 221 -13 14)','-511 (-> 413 221 13 -14)',\n",
    "                              '511 (-> -413 111 -13 14)','-511 (-> 413 111 13 -14)',\n",
    "                              '511 (-> -413 111 111 -13 14)','-511 (-> 413 111 111 13 -14)',\n",
    "                              '511 (-> -413 211 -211 -13 14)','-511 (-> 413 211 -211 13 -14)',\n",
    "                              '511 (-> -421 -211 -13 14)','-511 (-> 421 211 13 -14)',\n",
    "                              '511 (-> -423 -211 -13 14)','-511 (-> 423 211 13 -14)',\n",
    "                              '521 (-> -10423 -13 14)','-521 (-> 10423 13 -14)',\n",
    "                              '521 (-> -10421 -13 14)','-521 (-> 10421 13 -14)',\n",
    "                              '521 (-> -20423 -13 14)','-521 (-> 20423 13 -14)',\n",
    "                              '521 (-> -425 -13 14)',  '-521 (-> 425 13 -14)',\n",
    "                              '521 (-> -411 211 -13 14)','-521 (-> 411 211 13 -14)',\n",
    "                              '521 (-> -411 211 111 -13 14)','-521 (-> 411 211 111 13 -14',\n",
    "                              '521 (-> -413 211 -13 14)','-521 (-> 413 211 13 -14)',\n",
    "                              '521 (-> -413 211 111 -13 14)','-521 (-> 413 211 111 13 -14)']"
   ]
  },
  {
   "cell_type": "code",
   "execution_count": 4,
   "metadata": {},
   "outputs": [
    {
     "data": {
      "text/plain": [
       "bkg                 2570799\n",
       "sig_D_e_nu           343144\n",
       "sig_Dst_e_nu         259099\n",
       "all_Dstst_e_nu       151355\n",
       "sig_D_tau_nu          13512\n",
       "sig_Dst_tau_nu         8720\n",
       "all_Dstst_tau_nu       4393\n",
       "all_Dstst_mu_nu        1114\n",
       "sig_D_mu_nu              83\n",
       "sig_Dst_mu_nu            47\n",
       "Name: DecayMode, dtype: int64"
      ]
     },
     "execution_count": 4,
     "metadata": {},
     "output_type": "execute_result"
    }
   ],
   "source": [
    "data['DecayMode'] = data.apply(decay_mode, axis=1).astype('category') #axis=0 will allow the application to be done at a column\n",
    "\n",
    "data.DecayMode.value_counts()"
   ]
  },
  {
   "cell_type": "code",
   "execution_count": 5,
   "metadata": {},
   "outputs": [],
   "source": [
    "for idx, chunk in enumerate(np.array_split(data, 7)):\n",
    "    chunk.to_root(f'subset_{idx}.root', key='B0')"
   ]
  },
  {
   "cell_type": "code",
   "execution_count": null,
   "metadata": {},
   "outputs": [],
   "source": [
    "cut='DecayMode==\"sig_D_e_nu\" and B0_isContinuumEvent!=1'\n",
    "print()\n",
    "candidate12 = data.query(cut).iloc[2][['B0_DecayHash', \"B0_DecayHashEx\"]].values\n",
    "\n",
    "# print the original decay as simulated in MC with removed Bremsstrahlung gammas\n",
    "print(\"Monte Carlo Decay with removed Bremsstrahlung gammas: \")\n",
    "org2 = hashmap2.get_original_decay(*candidate12)\n",
    "print(org2.to_string())"
   ]
  },
  {
   "cell_type": "code",
   "execution_count": 6,
   "metadata": {},
   "outputs": [
    {
     "name": "stdout",
     "output_type": "stream",
     "text": [
      "BC before BCS\n",
      "bkg                 2525324\n",
      "sig_D_tau_nu         145484\n",
      "sig_Dst_tau_nu        91813\n",
      "sig_D_e_nu            66257\n",
      "sig_Dst_e_nu          50851\n",
      "all_Dstst_e_nu        39694\n",
      "all_Dstst_tau_nu       1222\n",
      "all_Dstst_mu_nu         441\n",
      "sig_D_mu_nu              14\n",
      "sig_Dst_mu_nu            14\n",
      "Name: DecayMode, dtype: int64\n",
      "BC after BCS\n",
      "bkg                 1933953\n",
      "sig_D_tau_nu         138148\n",
      "sig_Dst_tau_nu        87010\n",
      "sig_D_e_nu            64037\n",
      "sig_Dst_e_nu          49002\n",
      "all_Dstst_e_nu        36481\n",
      "all_Dstst_tau_nu       1120\n",
      "all_Dstst_mu_nu         375\n",
      "sig_D_mu_nu              13\n",
      "sig_Dst_mu_nu            12\n",
      "Name: DecayMode, dtype: int64\n",
      "AC before BCS\n",
      "bkg                 536693\n",
      "sig_D_tau_nu         89075\n",
      "sig_Dst_tau_nu       55736\n",
      "sig_D_e_nu           40338\n",
      "sig_Dst_e_nu         30776\n",
      "all_Dstst_e_nu       17511\n",
      "all_Dstst_tau_nu       550\n",
      "all_Dstst_mu_nu         66\n",
      "sig_D_mu_nu              4\n",
      "sig_Dst_mu_nu            3\n",
      "Name: DecayMode, dtype: int64\n",
      "AC after BCS\n",
      "bkg                 475081\n",
      "sig_D_tau_nu         87618\n",
      "sig_Dst_tau_nu       54789\n",
      "sig_D_e_nu           40034\n",
      "sig_Dst_e_nu         30516\n",
      "all_Dstst_e_nu       17076\n",
      "all_Dstst_tau_nu       536\n",
      "all_Dstst_mu_nu         60\n",
      "sig_D_mu_nu              4\n",
      "sig_Dst_mu_nu            3\n",
      "Name: DecayMode, dtype: int64\n"
     ]
    }
   ],
   "source": [
    "samples = {}\n",
    "names = ['BC','AC']\n",
    "cut = 'D_vtxReChi2<13 and B0_vtxReChi2<14 and 5<B0_roeMbc_my_mask and \\\n",
    "    -5<B0_roeDeltae_my_mask<2 and 4.3<B0_CMS2_weMbc and -3<B0_CMS0_weDeltae<2 and \\\n",
    "    abs(B0_roeCharge_my_mask)<3 and -3.2<B0_deltaE<0 and e_CMS_p>0.2 and \\\n",
    "    nElectrons90+nMuons90==1'\n",
    "for name in names:\n",
    "    if name == 'BC':\n",
    "        df = data.copy()\n",
    "    else:\n",
    "        df = data.query(cut).copy()\n",
    "    \n",
    "    print(f'{name} before BCS')\n",
    "    print(df.DecayMode.value_counts())\n",
    "\n",
    "    df_bestSelected=df.loc[df.groupby(['__experiment__','__run__','__event__','__production__']).B_D_ReChi2.idxmin()]\n",
    "\n",
    "    print(f'{name} after BCS')\n",
    "    print(df_bestSelected.DecayMode.value_counts())\n",
    "    \n",
    "    samples[name] = df_bestSelected"
   ]
  }
 ],
 "metadata": {
  "kernelspec": {
   "display_name": "Python 3 (Belle2)",
   "language": "python",
   "name": "python3"
  },
  "language_info": {
   "codemirror_mode": {
    "name": "ipython",
    "version": 3
   },
   "file_extension": ".py",
   "mimetype": "text/x-python",
   "name": "python",
   "nbconvert_exporter": "python",
   "pygments_lexer": "ipython3",
   "version": "3.8.8"
  }
 },
 "nbformat": 4,
 "nbformat_minor": 4
}

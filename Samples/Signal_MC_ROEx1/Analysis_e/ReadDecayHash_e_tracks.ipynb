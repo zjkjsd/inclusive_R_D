{
 "cells": [
  {
   "cell_type": "markdown",
   "metadata": {},
   "source": [
    "# 1. Import Ntuple and DecayHash"
   ]
  },
  {
   "cell_type": "code",
   "execution_count": 1,
   "metadata": {},
   "outputs": [
    {
     "name": "stdout",
     "output_type": "stream",
     "text": [
      "Welcome to JupyROOT 6.24/06\n"
     ]
    }
   ],
   "source": [
    "import root_pandas\n",
    "import decayHash\n",
    "import basf2 as b2\n",
    "from decayHash import DecayHashMap\n",
    "import sys\n",
    "import numpy as np\n",
    "import ROOT\n",
    "\n",
    "filename='../Ntuples/bengal_50k.root'\n",
    "decayhash='../Ntuples/hashmap_bengal_50k.root'\n",
    "df_B = root_pandas.read_root(filename,key='B0')\n",
    "df_pi = root_pandas.read_root(filename,key='pi_roe')\n",
    "hashmap = DecayHashMap(decayhash, removeRadiativeGammaFlag=False)\n",
    "hashmap2 = DecayHashMap(decayhash, removeRadiativeGammaFlag=True)\n"
   ]
  },
  {
   "cell_type": "markdown",
   "metadata": {},
   "source": [
    "# 2. Add DecayMode column to the Ntuple"
   ]
  },
  {
   "cell_type": "code",
   "execution_count": 2,
   "metadata": {},
   "outputs": [],
   "source": [
    "from collections import OrderedDict\n",
    "\n",
    "def found(modes,row):\n",
    "    for mode in modes:\n",
    "        decaytree = ROOT.Belle2.DecayTree(mode)\n",
    "        if hashmap2.get_original_decay(row[\"B0_DecayHash\"],row[\"B0_DecayHashEx\"]).find_decay(decaytree):\n",
    "            return True\n",
    "    return False\n",
    "\n",
    "def decay_mode(row):\n",
    "    for name,modes in mode_dict.items():\n",
    "        if found(modes,row):\n",
    "            return name\n",
    "    return 'bkg' # other_B_decay (hadronic) or hadronic_tau or other_D_decay or charged_B or continuum\n",
    "\n",
    "# the order of keys might be important, try to keep the muon modes at the bottom for e reconstruction\n",
    "# the e modes will be kept at the bottom for a muon reconstruction\n",
    "mode_dict = OrderedDict()\n",
    "mode_dict['sig_D_tau_nu']=['511 (-> -411 (-> 321 -211 -211) -15 (-> -11 12 -16) 16)',\n",
    "                           '-511 (-> 411 (-> -321 211 211) 15 (-> 11 -12 16) -16)',\n",
    "                           '511 (-> -411 (-> 321 -211 -211) -15 (-> -13 14 -16) 16)',\n",
    "                           '-511 (-> 411 (-> -321 211 211) 15 (-> 13 -14 16) -16)']\n",
    "\n",
    "mode_dict['sig_D_e_nu']=['511 (-> -411 (-> 321 -211 -211) -11 12)',\n",
    "                         '-511 (-> 411 (-> -321 211 211) 11 -12)']\n",
    "\n",
    "mode_dict['sig_Dst_tau_nu']=['511 (-> -413 (-> -411 (-> 321 -211 -211) 111) -15 (-> -11 12 -16) 16)',\n",
    "                             '-511 (-> 413 (-> 411 (-> -321 211 211) 111) 15 (-> 11 -12 16) -16)',\n",
    "                             '511 (-> -413 (-> -411 (-> 321 -211 -211) 111) -15 (-> -13 14 -16) 16)',\n",
    "                             '-511 (-> 413 (-> 411 (-> -321 211 211) 111) 15 (-> 13 -14 16) -16)',\n",
    "                             '511 (-> -413 (-> -411 (-> 321 -211 -211) 22) -15 (-> -11 12 -16) 16)',\n",
    "                             '-511 (-> 413 (-> 411 (-> -321 211 211) 22) 15 (-> 11 -12 16) -16)',\n",
    "                             '511 (-> -413 (-> -411 (-> 321 -211 -211) 22) -15 (-> -13 14 -16) 16)',\n",
    "                             '-511 (-> 413 (-> 411 (-> -321 211 211) 22) 15 (-> 13 -14 16) -16)']\n",
    "\n",
    "mode_dict['sig_Dst_e_nu']=['511 (-> -413 (-> -411 (-> 321 -211 -211) 111) -11 12)',\n",
    "                           '511 (-> -413 (-> -411 (-> 321 -211 -211) 22) -11 12)',\n",
    "                           '-511 (-> 413 (-> 411 (-> -321 211 211) 111) 11 -12)',\n",
    "                           '-511 (-> 413 (-> 411 (-> -321 211 211) 22) 11 -12)']\n",
    "\n",
    "mode_dict['all_Dstst_tau_nu']=['511 (-> -10413 -15 (-> -11 12 -16) 16)','-511 (-> 10413 15 (-> 11 -12 16) -16)',\n",
    "                               '511 (-> -10411 -15 (-> -11 12 -16) 16)','-511 (-> 10411 15 (-> 11 -12 16) -16)',\n",
    "                               '511 (-> -20413 -15 (-> -11 12 -16) 16)','-511 (-> 20413 15 (-> 11 -12 16) -16)',\n",
    "                               '511 (-> -415 -15 (-> -11 12 -16) 16)',  '-511 (-> 415 15 (-> 11 -12 16) -16)',\n",
    "                               '521 (-> -10423 -15 (-> -11 12 -16) 16)','-521 (-> 10423 15 (-> 11 -12 16) -16)',\n",
    "                               '521 (-> -10421 -15 (-> -11 12 -16) 16)','-521 (-> 10421 15 (-> 11 -12 16) -16)',\n",
    "                               '521 (-> -20423 -15 (-> -11 12 -16) 16)','-521 (-> 20423 15 (-> 11 -12 16) -16)',\n",
    "                               '521 (-> -425 -15 (-> -11 12 -16) 16)',  '-521 (-> 425 15 (-> 11 -12 16) -16)',\n",
    "                               '511 (-> -10413 -15 (-> -13 14 -16) 16)','-511 (-> 10413 15 (-> 13 -14 16) -16)',\n",
    "                               '511 (-> -10411 -15 (-> -13 14 -16) 16)','-511 (-> 10411 15 (-> 13 -14 16) -16)',\n",
    "                               '511 (-> -20413 -15 (-> -13 14 -16) 16)','-511 (-> 20413 15 (-> 13 -14 16) -16)',\n",
    "                               '511 (-> -415 -15 (-> -13 14 -16) 16)',  '-511 (-> 415 15 (-> 13 -14 16) -16)',\n",
    "                               '521 (-> -10423 -15 (-> -13 14 -16) 16)','-521 (-> 10423 15 (-> 13 -14 16) -16)',\n",
    "                               '521 (-> -10421 -15 (-> -13 14 -16) 16)','-521 (-> 10421 15 (-> 13 -14 16) -16)',\n",
    "                               '521 (-> -20423 -15 (-> -13 14 -16) 16)','-521 (-> 20423 15 (-> 13 -14 16) -16)',\n",
    "                               '521 (-> -425 -15 (-> -13 14 -16) 16)',  '-521 (-> 425 15 (-> 13 -14 16) -16)']\n",
    "\n",
    "mode_dict['all_Dstst_e_nu']=['511 (-> -10413 -11 12)','-511 (-> 10413 11 -12)',\n",
    "                         '511 (-> -10411 -11 12)','-511 (-> 10411 11 -12)',\n",
    "                         '511 (-> -20413 -11 12)','-511 (-> 20413 11 -12)',\n",
    "                         '511 (-> -415 -11 12)',  '-511 (-> 415 11 -12)',\n",
    "                         '521 (-> -10423 -11 12)','-521 (-> 10423 11 -12)',\n",
    "                         '521 (-> -10421 -11 12)','-521 (-> 10421 11 -12)',\n",
    "                         '521 (-> -20423 -11 12)','-521 (-> 20423 11 -12)',\n",
    "                         '521 (-> -425 -11 12)',  '-521 (-> 425 11 -12)',\n",
    "                         '511 (-> -411 221 -11 12)','-511 (-> 411 221 11 -12)',\n",
    "                         '511 (-> -411 111 -11 12)','-511 (-> 411 111 11 -12)',\n",
    "                         '511 (-> -411 111 111 -11 12)','-511 (-> 411 111 111 11 -12)',\n",
    "                         '511 (-> -411 211 -211 -11 12)','-511 (-> 411 211 -211 11 -12)',\n",
    "                         '511 (-> -413 221 -11 12)','-511 (-> 413 221 11 -12)',\n",
    "                         '511 (-> -413 111 -11 12)','-511 (-> 413 111 11 -12)',\n",
    "                         '511 (-> -413 111 111 -11 12)','-511 (-> 413 111 111 11 -12)',\n",
    "                         '511 (-> -413 211 -211 -11 12)','-511 (-> 413 211 -211 11 -12)',\n",
    "                         '511 (-> -421 -211 -11 12)','-511 (-> 421 211 11 -12)',\n",
    "                         '511 (-> -423 -211 -11 12)','-511 (-> 423 211 11 -12)']\n",
    "\n",
    "mode_dict['sig_D_mu_nu']=['511 (-> -411 (-> 321 -211 -211) -13 14)',\n",
    "                          '-511 (-> 411 (-> -321 211 211) 13 -14)']\n",
    "\n",
    "mode_dict['sig_Dst_mu_nu']=['511 (-> -413 (-> -411 (-> 321 -211 -211) 111) -13 14)',\n",
    "                           '511 (-> -413 (-> -411 (-> 321 -211 -211) 22) -13 14)',\n",
    "                           '-511 (-> 413 (-> 411 (-> -321 211 211) 111) 13 -14)',\n",
    "                           '-511 (-> 413 (-> 411 (-> -321 211 211) 22) 13 -14)']\n",
    "\n",
    "mode_dict['all_Dstst_mu_nu']=['511 (-> -10413 -13 14)','-511 (-> 10413 13 -14)',\n",
    "                          '511 (-> -10411 -13 14)','-511 (-> 10411 13 -14)',\n",
    "                          '511 (-> -20413 -13 14)','-511 (-> 20413 13 -14)',\n",
    "                          '511 (-> -415 -13 14)',  '-511 (-> 415 13 -14)',\n",
    "                          '521 (-> -10423 -13 14)','-521 (-> 10423 13 -14)',\n",
    "                          '521 (-> -10421 -13 14)','-521 (-> 10421 13 -14)',\n",
    "                          '521 (-> -20423 -13 14)','-521 (-> 20423 13 -14)',\n",
    "                          '521 (-> -425 -13 14)',  '-521 (-> 425 13 -14)',\n",
    "                          '511 (-> -411 221 -13 14)','-511 (-> 411 221 13 -14)',\n",
    "                          '511 (-> -411 111 -13 14)','-511 (-> 411 111 13 -14)',\n",
    "                          '511 (-> -411 111 111 -13 14)','-511 (-> 411 111 111 13 -14)',\n",
    "                          '511 (-> -411 211 -211 -13 14)','-511 (-> 411 211 -211 13 -14)',\n",
    "                          '511 (-> -413 221 -13 14)','-511 (-> 413 221 13 -14)',\n",
    "                          '511 (-> -413 111 -13 14)','-511 (-> 413 111 13 -14)',\n",
    "                          '511 (-> -413 111 111 -13 14)','-511 (-> 413 111 111 13 -14)',\n",
    "                          '511 (-> -413 211 -211 -13 14)','-511 (-> 413 211 -211 13 -14)',\n",
    "                          '511 (-> -421 -211 -13 14)','-511 (-> 421 211 13 -14)',\n",
    "                          '511 (-> -423 -211 -13 14)','-511 (-> 423 211 13 -14)']"
   ]
  },
  {
   "cell_type": "code",
   "execution_count": 3,
   "metadata": {},
   "outputs": [],
   "source": [
    "df_B['DecayMode'] = df_B.apply(decay_mode, axis=1).astype('category') #axis=0 will allow the application to be done at a column"
   ]
  },
  {
   "cell_type": "code",
   "execution_count": 4,
   "metadata": {},
   "outputs": [
    {
     "data": {
      "text/plain": [
       "sig_D_e_nu    8687\n",
       "Name: DecayMode, dtype: int64"
      ]
     },
     "execution_count": 4,
     "metadata": {},
     "output_type": "execute_result"
    }
   ],
   "source": [
    "df_B.DecayMode.value_counts()"
   ]
  },
  {
   "cell_type": "code",
   "execution_count": 5,
   "metadata": {},
   "outputs": [],
   "source": [
    "# Apply 95% efficiency cuts to reduce data size\n",
    "df_cut=df_B.query('D_vtxReChi2<13 and B0_vtxReChi2<14 and 5.03<B0_roeMbc_my_mask and -3.5<B0_roeDeltae_my_mask<0.5 and \\\n",
    "                4.65<B0_CMS2_weMbc and -2.2<B0_CMS0_weDeltae<0.5 and abs(B0_roeCharge_my_mask)<3 and \\\n",
    "                -3<B0_deltaE<-1 and e_CMS_p>0.2').copy()\n",
    "df_cut['B0_isSignal'] = df_cut['B0_isSignal'].fillna(-1)\n",
    "df_cut['D_isSignal'] = df_cut['D_isSignal'].fillna(-1)\n",
    "df_cut['e_isSignal'] = df_cut['e_isSignal'].fillna(-1)\n",
    "df_cut['B0_mcPDG'] = df_cut['B0_mcPDG'].fillna(0)\n",
    "df_cut['isSignal'] = 1.0\n",
    "df_cut.eval('B_D_ReChi2 = B0_vtxReChi2 + D_vtxReChi2', inplace=True)\n",
    "df_cut.eval('p_D_l = D_CMS_p + e_CMS_p', inplace=True)"
   ]
  },
  {
   "cell_type": "code",
   "execution_count": 6,
   "metadata": {},
   "outputs": [
    {
     "data": {
      "text/plain": [
       "sig_D_e_nu    8687\n",
       "Name: DecayMode, dtype: int64"
      ]
     },
     "execution_count": 6,
     "metadata": {},
     "output_type": "execute_result"
    }
   ],
   "source": [
    "df_cut.DecayMode.value_counts()"
   ]
  },
  {
   "cell_type": "code",
   "execution_count": 7,
   "metadata": {},
   "outputs": [
    {
     "name": "stdout",
     "output_type": "stream",
     "text": [
      "<class 'numpy.ndarray'>\n"
     ]
    }
   ],
   "source": [
    "signal_string = 'DecayMode==\"sig_D_e_nu\" and B0_mcErrors<16 and abs(D_mcPDG)==411 and abs(e_genMotherPDG)==511'\n",
    "signal_event_list=df_cut.query(signal_string).__event__.unique()\n",
    "print(type(signal_event_list))\n",
    "#df_pi_signal=df_pi[df_pi.__event__.isin(signal_event_list)]\n",
    "df_pi_signal = df_pi.query('__event__ in @signal_event_list')\n",
    "#df_pi_other = df_pi.query('__event__ not in @signal_event_list')"
   ]
  },
  {
   "cell_type": "markdown",
   "metadata": {},
   "source": [
    "# 6. Write out new Ntuple"
   ]
  },
  {
   "cell_type": "code",
   "execution_count": 8,
   "metadata": {},
   "outputs": [],
   "source": [
    "outputfile='../Ntuples/bengal_ROE_50k_cut.root'\n",
    "df_cut.to_root(outputfile, key='B0')\n",
    "df_pi_signal.to_root(outputfile, key='pi_roe_signal',mode='a')\n",
    "#df_gamma_signal.to_root(outputfile, key='gamma_roe_signal',mode='a')\n",
    "#df_pi_others.to_root(outputfile, key='pi_roe_others',mode='a')\n",
    "#df_gamma_others.to_root(outputfile, key='gamma_roe_others',mode='a')"
   ]
  },
  {
   "cell_type": "code",
   "execution_count": null,
   "metadata": {},
   "outputs": [],
   "source": []
  }
 ],
 "metadata": {
  "kernelspec": {
   "display_name": "Python 3 (Belle2)",
   "language": "python",
   "name": "python3"
  },
  "language_info": {
   "codemirror_mode": {
    "name": "ipython",
    "version": 3
   },
   "file_extension": ".py",
   "mimetype": "text/x-python",
   "name": "python",
   "nbconvert_exporter": "python",
   "pygments_lexer": "ipython3",
   "version": "3.8.8"
  }
 },
 "nbformat": 4,
 "nbformat_minor": 4
}

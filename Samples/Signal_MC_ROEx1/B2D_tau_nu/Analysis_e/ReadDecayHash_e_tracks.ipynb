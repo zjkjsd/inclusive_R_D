{
 "cells": [
  {
   "cell_type": "markdown",
   "metadata": {},
   "source": [
    "# 1. Import Ntuple and DecayHash"
   ]
  },
  {
   "cell_type": "code",
   "execution_count": 4,
   "metadata": {},
   "outputs": [
    {
     "ename": "OSError",
     "evalue": "none of the input files contain the requested tree 'B0'",
     "output_type": "error",
     "traceback": [
      "\u001b[0;31m---------------------------------------------------------------------------\u001b[0m",
      "\u001b[0;31mOSError\u001b[0m                                   Traceback (most recent call last)",
      "\u001b[0;32m<ipython-input-4-fd0a9178ec65>\u001b[0m in \u001b[0;36m<module>\u001b[0;34m\u001b[0m\n\u001b[1;32m      9\u001b[0m \u001b[0mfilename\u001b[0m\u001b[0;34m=\u001b[0m\u001b[0;34m'../Ntuples/MC_e_generator_10k.root'\u001b[0m\u001b[0;34m\u001b[0m\u001b[0;34m\u001b[0m\u001b[0m\n\u001b[1;32m     10\u001b[0m \u001b[0mdecayhash\u001b[0m\u001b[0;34m=\u001b[0m\u001b[0;34m'../Ntuples/hashmap_MC_e_generator_10k.root'\u001b[0m\u001b[0;34m\u001b[0m\u001b[0;34m\u001b[0m\u001b[0m\n\u001b[0;32m---> 11\u001b[0;31m \u001b[0mdf_B\u001b[0m \u001b[0;34m=\u001b[0m \u001b[0mroot_pandas\u001b[0m\u001b[0;34m.\u001b[0m\u001b[0mread_root\u001b[0m\u001b[0;34m(\u001b[0m\u001b[0mfilename\u001b[0m\u001b[0;34m,\u001b[0m\u001b[0mkey\u001b[0m\u001b[0;34m=\u001b[0m\u001b[0;34m'B0'\u001b[0m\u001b[0;34m)\u001b[0m\u001b[0;34m\u001b[0m\u001b[0;34m\u001b[0m\u001b[0m\n\u001b[0m\u001b[1;32m     12\u001b[0m \u001b[0mdf_pi\u001b[0m \u001b[0;34m=\u001b[0m \u001b[0mroot_pandas\u001b[0m\u001b[0;34m.\u001b[0m\u001b[0mread_root\u001b[0m\u001b[0;34m(\u001b[0m\u001b[0mfilename\u001b[0m\u001b[0;34m,\u001b[0m\u001b[0mkey\u001b[0m\u001b[0;34m=\u001b[0m\u001b[0;34m'pi_roe'\u001b[0m\u001b[0;34m)\u001b[0m\u001b[0;34m\u001b[0m\u001b[0;34m\u001b[0m\u001b[0m\n\u001b[1;32m     13\u001b[0m \u001b[0mdf_gamma\u001b[0m \u001b[0;34m=\u001b[0m \u001b[0mroot_pandas\u001b[0m\u001b[0;34m.\u001b[0m\u001b[0mread_root\u001b[0m\u001b[0;34m(\u001b[0m\u001b[0mfilename\u001b[0m\u001b[0;34m,\u001b[0m\u001b[0mkey\u001b[0m\u001b[0;34m=\u001b[0m\u001b[0;34m'gamma_roe'\u001b[0m\u001b[0;34m)\u001b[0m\u001b[0;34m\u001b[0m\u001b[0;34m\u001b[0m\u001b[0m\n",
      "\u001b[0;32m/cvmfs/belle.cern.ch/el7/externals/v01-10-02/Linux_x86_64/common/lib/python3.8/site-packages/root_pandas/readwrite.py\u001b[0m in \u001b[0;36mread_root\u001b[0;34m(paths, key, columns, ignore, chunksize, where, flatten, *args, **kwargs)\u001b[0m\n\u001b[1;32m    274\u001b[0m         \u001b[0;32mreturn\u001b[0m \u001b[0mgenchunk\u001b[0m\u001b[0;34m(\u001b[0m\u001b[0;34m)\u001b[0m\u001b[0;34m\u001b[0m\u001b[0;34m\u001b[0m\u001b[0m\n\u001b[1;32m    275\u001b[0m \u001b[0;34m\u001b[0m\u001b[0m\n\u001b[0;32m--> 276\u001b[0;31m     \u001b[0marr\u001b[0m \u001b[0;34m=\u001b[0m \u001b[0mroot2array\u001b[0m\u001b[0;34m(\u001b[0m\u001b[0mpaths\u001b[0m\u001b[0;34m,\u001b[0m \u001b[0mkey\u001b[0m\u001b[0;34m,\u001b[0m \u001b[0mall_vars\u001b[0m\u001b[0;34m,\u001b[0m \u001b[0mselection\u001b[0m\u001b[0;34m=\u001b[0m\u001b[0mwhere\u001b[0m\u001b[0;34m,\u001b[0m \u001b[0;34m*\u001b[0m\u001b[0margs\u001b[0m\u001b[0;34m,\u001b[0m \u001b[0;34m**\u001b[0m\u001b[0mkwargs\u001b[0m\u001b[0;34m)\u001b[0m\u001b[0;34m\u001b[0m\u001b[0;34m\u001b[0m\u001b[0m\n\u001b[0m\u001b[1;32m    277\u001b[0m     \u001b[0;32mif\u001b[0m \u001b[0mflatten\u001b[0m\u001b[0;34m:\u001b[0m\u001b[0;34m\u001b[0m\u001b[0;34m\u001b[0m\u001b[0m\n\u001b[1;32m    278\u001b[0m         \u001b[0marr\u001b[0m \u001b[0;34m=\u001b[0m \u001b[0mdo_flatten\u001b[0m\u001b[0;34m(\u001b[0m\u001b[0marr\u001b[0m\u001b[0;34m,\u001b[0m \u001b[0mflatten\u001b[0m\u001b[0;34m)\u001b[0m\u001b[0;34m\u001b[0m\u001b[0;34m\u001b[0m\u001b[0m\n",
      "\u001b[0;32m/cvmfs/belle.cern.ch/el7/externals/v01-10-02/Linux_x86_64/common/lib/python3.8/site-packages/root_numpy/_tree.py\u001b[0m in \u001b[0;36mroot2array\u001b[0;34m(filenames, treename, branches, selection, object_selection, start, stop, step, include_weight, weight_name, cache_size, warn_missing_tree)\u001b[0m\n\u001b[1;32m    232\u001b[0m         \u001b[0mflatten\u001b[0m \u001b[0;34m=\u001b[0m \u001b[0;32mFalse\u001b[0m\u001b[0;34m\u001b[0m\u001b[0;34m\u001b[0m\u001b[0m\n\u001b[1;32m    233\u001b[0m \u001b[0;34m\u001b[0m\u001b[0m\n\u001b[0;32m--> 234\u001b[0;31m     arr = _librootnumpy.root2array_fromfile(\n\u001b[0m\u001b[1;32m    235\u001b[0m         \u001b[0mfilenames\u001b[0m\u001b[0;34m,\u001b[0m \u001b[0mtreename\u001b[0m\u001b[0;34m,\u001b[0m \u001b[0mbranches\u001b[0m\u001b[0;34m,\u001b[0m\u001b[0;34m\u001b[0m\u001b[0;34m\u001b[0m\u001b[0m\n\u001b[1;32m    236\u001b[0m         \u001b[0mselection\u001b[0m\u001b[0;34m,\u001b[0m \u001b[0mobject_selection\u001b[0m\u001b[0;34m,\u001b[0m\u001b[0;34m\u001b[0m\u001b[0;34m\u001b[0m\u001b[0m\n",
      "\u001b[0;32mroot_numpy/src/tree.pyx\u001b[0m in \u001b[0;36m_librootnumpy.root2array_fromfile\u001b[0;34m()\u001b[0m\n",
      "\u001b[0;31mOSError\u001b[0m: none of the input files contain the requested tree 'B0'"
     ]
    },
    {
     "name": "stderr",
     "output_type": "stream",
     "text": [
      "Warning in <TChain::AddFile>: Adding tree with no entries from file: ../Ntuples/MC_e_generator_10k.root\n"
     ]
    }
   ],
   "source": [
    "import root_pandas\n",
    "import decayHash\n",
    "import basf2 as b2\n",
    "from decayHash import DecayHashMap\n",
    "import sys\n",
    "import numpy as np\n",
    "\n",
    "# read in root-file as a pandas dataframe\n",
    "filename='../Ntuples/MC_e_generator_10k.root'\n",
    "decayhash='../Ntuples/hashmap_MC_e_generator_10k.root'\n",
    "df_B = root_pandas.read_root(filename,key='B0')\n",
    "df_pi = root_pandas.read_root(filename,key='pi_roe')\n",
    "df_gamma = root_pandas.read_root(filename,key='gamma_roe')\n",
    "hashmap = DecayHashMap(decayhash, removeRadiativeGammaFlag=False)\n",
    "hashmap2 = DecayHashMap(decayhash, removeRadiativeGammaFlag=True)"
   ]
  },
  {
   "cell_type": "code",
   "execution_count": 2,
   "metadata": {},
   "outputs": [
    {
     "data": {
      "text/plain": [
       "388741"
      ]
     },
     "execution_count": 2,
     "metadata": {},
     "output_type": "execute_result"
    }
   ],
   "source": [
    "df_B.__event__.nunique()"
   ]
  },
  {
   "cell_type": "code",
   "execution_count": 3,
   "metadata": {},
   "outputs": [
    {
     "data": {
      "text/plain": [
       "388680"
      ]
     },
     "execution_count": 3,
     "metadata": {},
     "output_type": "execute_result"
    }
   ],
   "source": [
    "df_pi.__event__.nunique()"
   ]
  },
  {
   "cell_type": "code",
   "execution_count": 4,
   "metadata": {},
   "outputs": [
    {
     "data": {
      "text/plain": [
       "388664"
      ]
     },
     "execution_count": 4,
     "metadata": {},
     "output_type": "execute_result"
    }
   ],
   "source": [
    "df_gamma.__event__.nunique()"
   ]
  },
  {
   "cell_type": "markdown",
   "metadata": {},
   "source": [
    "# 4. Add DecayMode column to the Ntuple"
   ]
  },
  {
   "cell_type": "code",
   "execution_count": 2,
   "metadata": {},
   "outputs": [],
   "source": [
    "def found(modes,row):\n",
    "    for mode in modes:\n",
    "        decaytree = decayHash.Belle2.DecayTree(mode)\n",
    "        if hashmap2.get_original_decay(row[\"B0_DecayHash\"],row[\"B0_DecayHashEx\"]).find_decay(decaytree):\n",
    "            return True\n",
    "    return False\n",
    "\n",
    "def decay_mode(row):\n",
    "    for name,modes in mode_dict.items():\n",
    "        if found(modes,row):\n",
    "            return name\n",
    "    return 'bkg'\n",
    "\n",
    "mode_dict={}\n",
    "mode_dict['D_tau_nu']=['511 (-> -411 -15 (-> -11 12 -16) 16)','-511 (-> 411 15 (-> 11 -12 16) -16)',\n",
    "                       '511 (-> -411 -15 (-> -13 14 -16) 16)','-511 (-> 411 15 (-> 13 -14 16) -16)']\n",
    "mode_dict['D_e_nu']=['511 (-> -411 -11 12)','-511 (-> 411 11 -12)']\n",
    "mode_dict['D_mu_nu']=['511 (-> -411 -13 14)','-511 (-> 411 13 -14)']\n",
    "mode_dict['Dst_tau_nu']=['511 (-> -413 -15 (-> -11 12 -16) 16)','-511 (-> 413 15 (-> 11 -12 16) -16)',\n",
    "                         '511 (-> -413 -15 (-> -13 14 -16) 16)','-511 (-> 413 15 (-> 13 -14 16) -16)']\n",
    "mode_dict['Dst_e_nu']=['511 (-> -413 -11 12)','-511 (-> 413 11 -12)']\n",
    "mode_dict['Dst_mu_nu']=['511 (-> -413 -13 14)','-511 (-> 413 13 -14)']\n",
    "mode_dict['Dstst_tau_nu']=['511 (-> -10413 -15 16)','-511 (-> 10413 15 -16)',\n",
    "                           '511 (-> -10411 -15 16)','-511 (-> 10411 15 -16)',\n",
    "                           '511 (-> -20413 -15 16)','-511 (-> 20413 15 -16)',\n",
    "                           '511 (-> -415 -15 16)',  '-511 (-> 415 15 -16)',\n",
    "                           '521 (-> -10423 -15 16)','-521 (-> 10423 15 -16)',\n",
    "                           '521 (-> -10421 -15 16)','-521 (-> 10421 15 -16)',\n",
    "                           '521 (-> -20423 -15 16)','-521 (-> 20423 15 -16)',\n",
    "                           '521 (-> -425 -15 16)',  '-521 (-> 425 15 -16)']\n",
    "\n",
    "mode_dict['Dstst_e_nu']=['511 (-> -10413 -11 12)','-511 (-> 10413 11 -12)',\n",
    "                         '511 (-> -10411 -11 12)','-511 (-> 10411 11 -12)',\n",
    "                         '511 (-> -20413 -11 12)','-511 (-> 20413 11 -12)',\n",
    "                         '511 (-> -415 -11 12)',  '-511 (-> 415 11 -12)',\n",
    "                         '521 (-> -10423 -11 12)','-521 (-> 10423 11 -12)',\n",
    "                         '521 (-> -10421 -11 12)','-521 (-> 10421 11 -12)',\n",
    "                         '521 (-> -20423 -11 12)','-521 (-> 20423 11 -12)',\n",
    "                         '521 (-> -425 -11 12)',  '-521 (-> 425 11 -12)',\n",
    "                         '511 (-> -411 221 -11 12)','-511 (-> 411 221 11 -12)',\n",
    "                         '511 (-> -411 111 -11 12)','-511 (-> 411 111 11 -12)',\n",
    "                         '511 (-> -411 111 111 -11 12)','-511 (-> 411 111 111 11 -12)',\n",
    "                         '511 (-> -411 -211 211 -11 12)','-511 (-> 411 211 -211 11 -12)',\n",
    "                         '511 (-> -413 221 -11 12)','-511 (-> 413 221 11 -12)',\n",
    "                         '511 (-> -413 111 -11 12)','-511 (-> 413 111 11 -12)',\n",
    "                         '511 (-> -413 111 111 -11 12)','-511 (-> 413 111 111 11 -12)',\n",
    "                         '511 (-> -413 -211 211 -11 12)','-511 (-> 413 211 -211 11 -12)',\n",
    "                         '511 (-> -421 -211 -11 12)','-511 (-> 421 211 11 -12)',\n",
    "                         '511 (-> -423 -211 -11 12)','-511 (-> 423 211 11 -12)']\n",
    "\n",
    "mode_dict['Dstst_mu_nu']=['511 (-> -10413 -13 14)','-511 (-> 10413 13 -14)',\n",
    "                          '511 (-> -10411 -13 14)','-511 (-> 10411 13 -14)',\n",
    "                          '511 (-> -20413 -13 14)','-511 (-> 20413 13 -14)',\n",
    "                          '511 (-> -415 -13 14)',  '-511 (-> 415 13 -14)',\n",
    "                          '521 (-> -10423 -13 14)','-521 (-> 10423 13 -14)',\n",
    "                          '521 (-> -10421 -13 14)','-521 (-> 10421 13 -14)',\n",
    "                          '521 (-> -20423 -13 14)','-521 (-> 20423 13 -14)',\n",
    "                          '521 (-> -425 -13 14)',  '-521 (-> 425 13 -14)',\n",
    "                          '511 (-> -411 221 -13 14)','-511 (-> 411 221 13 -14)',\n",
    "                          '511 (-> -411 111 -13 14)','-511 (-> 411 111 13 -14)',\n",
    "                          '511 (-> -411 111 111 -13 14)','-511 (-> 411 111 111 13 -14)',\n",
    "                          '511 (-> -411 -211 211 -13 14)','-511 (-> 411 211 -211 13 -14)',\n",
    "                          '511 (-> -413 221 -13 14)','-511 (-> 413 221 13 -14)',\n",
    "                          '511 (-> -413 111 -13 14)','-511 (-> 413 111 13 -14)',\n",
    "                          '511 (-> -413 111 111 -13 14)','-511 (-> 413 111 111 13 -14)',\n",
    "                          '511 (-> -413 -211 211 -13 14)','-511 (-> 413 211 -211 13 -14)',\n",
    "                          '511 (-> -421 -211 -13 14)','-511 (-> 421 211 13 -14)',\n",
    "                          '511 (-> -423 -211 -13 14)','-511 (-> 423 211 13 -14)']"
   ]
  },
  {
   "cell_type": "code",
   "execution_count": 3,
   "metadata": {},
   "outputs": [
    {
     "ename": "NameError",
     "evalue": "name 'df_B' is not defined",
     "output_type": "error",
     "traceback": [
      "\u001b[0;31m---------------------------------------------------------------------------\u001b[0m",
      "\u001b[0;31mNameError\u001b[0m                                 Traceback (most recent call last)",
      "\u001b[0;32m<ipython-input-3-f32da7709096>\u001b[0m in \u001b[0;36m<module>\u001b[0;34m\u001b[0m\n\u001b[0;32m----> 1\u001b[0;31m \u001b[0mdf_B\u001b[0m\u001b[0;34m[\u001b[0m\u001b[0;34m'DecayMode'\u001b[0m\u001b[0;34m]\u001b[0m \u001b[0;34m=\u001b[0m \u001b[0mdf_B\u001b[0m\u001b[0;34m.\u001b[0m\u001b[0mapply\u001b[0m\u001b[0;34m(\u001b[0m\u001b[0mdecay_mode\u001b[0m\u001b[0;34m,\u001b[0m \u001b[0maxis\u001b[0m\u001b[0;34m=\u001b[0m\u001b[0;36m1\u001b[0m\u001b[0;34m)\u001b[0m\u001b[0;34m.\u001b[0m\u001b[0mastype\u001b[0m\u001b[0;34m(\u001b[0m\u001b[0;34m'category'\u001b[0m\u001b[0;34m)\u001b[0m \u001b[0;31m#axis=0 will allow the application to be done at a column\u001b[0m\u001b[0;34m\u001b[0m\u001b[0;34m\u001b[0m\u001b[0m\n\u001b[0m",
      "\u001b[0;31mNameError\u001b[0m: name 'df_B' is not defined"
     ]
    }
   ],
   "source": [
    "df_B['DecayMode'] = df_B.apply(decay_mode, axis=1).astype('category') #axis=0 will allow the application to be done at a column"
   ]
  },
  {
   "cell_type": "code",
   "execution_count": 4,
   "metadata": {},
   "outputs": [
    {
     "data": {
      "text/plain": [
       "bkg             518234\n",
       "Dst_e_nu        117439\n",
       "D_e_nu           82599\n",
       "Dstst_e_nu       67832\n",
       "Dst_mu_nu        28999\n",
       "D_mu_nu          19431\n",
       "Dstst_mu_nu      18196\n",
       "Dstst_tau_nu      7836\n",
       "Dst_tau_nu        6104\n",
       "D_tau_nu          4777\n",
       "Name: DecayMode, dtype: int64"
      ]
     },
     "execution_count": 4,
     "metadata": {},
     "output_type": "execute_result"
    }
   ],
   "source": [
    "df_B.DecayMode.value_counts()"
   ]
  },
  {
   "cell_type": "code",
   "execution_count": 8,
   "metadata": {},
   "outputs": [],
   "source": [
    "# Apply basic cuts to reduce data size\n",
    "#B0_cuts = '4.9<B0_Mbc<5.3 and B0_deltaE<0 and B0_vtxReChi2<25 and B0_CMS_E<5.3'\n",
    "#D_cuts = 'and D_vtxReChi2<25'\n",
    "#l_cuts = 'and e_CMS_p>0.2'\n",
    "#roe_cuts = 'and 4<B0_roeMbc_all<5.3 and -6<B0_roeDeltae_all<4'\n",
    "#and B0_roeCharge_my_mask==0'\n",
    "all_cuts = B0_cuts + D_cuts + l_cuts + roe_cuts\n",
    "\n",
    "df_cut = df_B.query('4.9<B0_Mbc<5.3').copy()"
   ]
  },
  {
   "cell_type": "code",
   "execution_count": 9,
   "metadata": {},
   "outputs": [
    {
     "data": {
      "text/plain": [
       "D_tau_nu    10003\n",
       "Name: DecayMode, dtype: int64"
      ]
     },
     "execution_count": 9,
     "metadata": {},
     "output_type": "execute_result"
    }
   ],
   "source": [
    "df_cut.DecayMode.value_counts()"
   ]
  },
  {
   "cell_type": "code",
   "execution_count": 10,
   "metadata": {},
   "outputs": [
    {
     "name": "stdout",
     "output_type": "stream",
     "text": [
      "<class 'numpy.ndarray'>\n"
     ]
    }
   ],
   "source": [
    "signal_event_list=df_cut.query('(DecayMode==\"D_tau_nu\" or DecayMode==\"D_e_nu\") and abs(B0_mcPDG)==511').__event__.unique()\n",
    "print(type(signal_event_list))\n",
    "df_pi_signal=df_pi[df_pi.__event__.isin(signal_event_list)]\n",
    "df_gamma_signal=df_gamma.query('__event__ in @signal_event_list')\n",
    "#df_pi.query('__event__ in @signal_event_list')\n",
    "df_pi_others=df_pi[~df_pi.__event__.isin(signal_event_list)]\n",
    "df_gamma_others=df_gamma.query('__event__ not in @signal_event_list')\n",
    "#df_pi.query('__event__ not in @signal_event_list')"
   ]
  },
  {
   "cell_type": "markdown",
   "metadata": {},
   "source": [
    "# 5. Add MM2 column"
   ]
  },
  {
   "cell_type": "code",
   "execution_count": 13,
   "metadata": {},
   "outputs": [],
   "source": [
    "# MM2 with ROE = Mbc_roe^2 + M_Y^2 - 2*(E_Y4S/2)*E_Y - 2*(p_roe dot p_Y)\n",
    "# Use ROE information p_roe only, E_roe has bad resolution and is unnecessary\n",
    "# Note that p are 3 momenta vectors and p_cm is 0 (center of momentum frame)\n",
    "def withROE_mm2_2(data):\n",
    "    # Energy\n",
    "    E_B = df_B.Ecms.mean()/2\n",
    "    E_Y = data.D_CMS_E + data.e_CMS_E\n",
    "    Mbc_roe = data.B0_roeMbc_all\n",
    "    # Calculating M_Y^2\n",
    "    p_Yx = data.D_CMS_px + data.e_CMS_px\n",
    "    p_Yy = data.D_CMS_py + data.e_CMS_py\n",
    "    p_Yz = data.D_CMS_pz + data.e_CMS_pz\n",
    "    p_Y2 = p_Yx**2 + p_Yy**2 + p_Yz**2\n",
    "    m_Y2 = E_Y**2 - p_Y2\n",
    "    # dot product\n",
    "    p_xdot = data.B0_CMS_roePx_all * p_Yx\n",
    "    p_ydot = data.B0_CMS_roePy_all * p_Yy\n",
    "    p_zdot = data.B0_CMS_roePz_all * p_Yz\n",
    "    p_dot = p_xdot + p_ydot + p_zdot\n",
    "    # Calculating the final quantities\n",
    "    withROE_missing_m2 = Mbc_roe**2 + m_Y2 - 2*E_B*E_Y - 2*p_dot\n",
    "    return withROE_missing_m2"
   ]
  },
  {
   "cell_type": "code",
   "execution_count": 14,
   "metadata": {},
   "outputs": [],
   "source": [
    "df_cut['MM2'] = withROE_mm2_2(df_cut)"
   ]
  },
  {
   "cell_type": "code",
   "execution_count": 16,
   "metadata": {},
   "outputs": [
    {
     "data": {
      "text/plain": [
       "count    206817.000000\n",
       "mean          1.139513\n",
       "std           2.351714\n",
       "min         -11.484120\n",
       "25%          -0.307946\n",
       "50%           0.910730\n",
       "75%           2.853964\n",
       "max           6.237684\n",
       "Name: MM2, dtype: float64"
      ]
     },
     "execution_count": 16,
     "metadata": {},
     "output_type": "execute_result"
    }
   ],
   "source": [
    "df_cut.MM2.describe()"
   ]
  },
  {
   "cell_type": "code",
   "execution_count": 15,
   "metadata": {},
   "outputs": [],
   "source": [
    "def cos_D_l(df):\n",
    "    dot_product=df.D_CMS_px*df.e_CMS_px+df.D_CMS_py*df.e_CMS_py+df.D_CMS_pz*df.e_CMS_pz\n",
    "    magnitude=df.D_CMS_p*df.e_CMS_p\n",
    "    cos=dot_product/magnitude\n",
    "    return cos"
   ]
  },
  {
   "cell_type": "code",
   "execution_count": 16,
   "metadata": {},
   "outputs": [],
   "source": [
    "df_cut['cos_D_l'] = cos_D_l(df_cut)"
   ]
  },
  {
   "cell_type": "code",
   "execution_count": 10,
   "metadata": {},
   "outputs": [
    {
     "data": {
      "text/plain": [
       "count    230501.000000\n",
       "mean         -0.479376\n",
       "std           0.558328\n",
       "min          -1.000000\n",
       "25%          -0.922166\n",
       "50%          -0.723590\n",
       "75%          -0.164825\n",
       "max           0.999995\n",
       "Name: cos_D_l, dtype: float64"
      ]
     },
     "execution_count": 10,
     "metadata": {},
     "output_type": "execute_result"
    }
   ],
   "source": [
    "df_cut.cos_D_l.describe()"
   ]
  },
  {
   "cell_type": "code",
   "execution_count": 17,
   "metadata": {},
   "outputs": [],
   "source": [
    "# p_miss = p_cm - p_roe - p_D - p_l = - (p_roe + p_D + p_l)\n",
    "# Note that p are 3 momenta vectors and p_cm is 0 (center of momentum frame)\n",
    "import numpy as np\n",
    "def cos_pmiss_z(data):\n",
    "    # 3 momentum\n",
    "    p_x = data.B0_CMS_roePx_all + data.D_CMS_px + data.e_CMS_px\n",
    "    p_y = data.B0_CMS_roePy_all + data.D_CMS_py + data.e_CMS_py\n",
    "    p_z = data.B0_CMS_roePz_all + data.D_CMS_pz + data.e_CMS_pz\n",
    "    # Calculating intermediate quantities\n",
    "    p_miss2 = p_x**2 + p_y**2 + p_z**2\n",
    "    # Calculating the final quantities\n",
    "    dot_product = -p_z\n",
    "    cos = dot_product/np.sqrt(p_miss2)\n",
    "    return cos"
   ]
  },
  {
   "cell_type": "code",
   "execution_count": 18,
   "metadata": {},
   "outputs": [],
   "source": [
    "df_cut['cos_pmiss_z'] = cos_pmiss_z(df_cut)"
   ]
  },
  {
   "cell_type": "markdown",
   "metadata": {},
   "source": [
    "# 6. Write out new Ntuple"
   ]
  },
  {
   "cell_type": "code",
   "execution_count": 19,
   "metadata": {},
   "outputs": [],
   "source": [
    "outputfile='../Ntuples/MC_e_generator_10k_cut.root'\n",
    "df_cut.to_root(outputfile, key='B0')\n",
    "df_pi_signal.to_root(outputfile, key='pi_roe_signal',mode='a')\n",
    "df_gamma_signal.to_root(outputfile, key='gamma_roe_signal',mode='a')\n",
    "df_pi_others.to_root(outputfile, key='pi_roe_others',mode='a')\n",
    "df_gamma_others.to_root(outputfile, key='gamma_roe_others',mode='a')"
   ]
  },
  {
   "cell_type": "code",
   "execution_count": null,
   "metadata": {},
   "outputs": [],
   "source": []
  }
 ],
 "metadata": {
  "kernelspec": {
   "display_name": "Python 3 (Belle2)",
   "language": "python",
   "name": "python3"
  },
  "language_info": {
   "codemirror_mode": {
    "name": "ipython",
    "version": 3
   },
   "file_extension": ".py",
   "mimetype": "text/x-python",
   "name": "python",
   "nbconvert_exporter": "python",
   "pygments_lexer": "ipython3",
   "version": "3.8.8"
  }
 },
 "nbformat": 4,
 "nbformat_minor": 4
}

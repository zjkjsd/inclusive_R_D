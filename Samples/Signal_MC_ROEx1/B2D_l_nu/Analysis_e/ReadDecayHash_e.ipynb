{
 "cells": [
  {
   "cell_type": "markdown",
   "metadata": {},
   "source": [
    "# 1. Import Ntuple and DecayHash"
   ]
  },
  {
   "cell_type": "code",
   "execution_count": null,
   "metadata": {},
   "outputs": [],
   "source": [
    "import root_pandas\n",
    "import uproot\n",
    "import decayHash\n",
    "from decayHash import DecayHashMap\n",
    "import sys\n",
    "import numpy as np\n",
    "import ROOT\n",
    "import pandas\n",
    "\n",
    "# read in root-file as a pandas dataframe\n",
    "filename='../Ntuples/bengal_generator_50k.root'\n",
    "decayhash='../Ntuples/hashmap_bengal_generator_50k.root'\n",
    "#data = uproot.open(filename)['B0'].arrays(library=\"pd\")\n",
    "data = root_pandas.read_root(filename,key='B0')\n",
    "MC_e = root_pandas.read_root(filename,key='e')\n",
    "MC_nu = root_pandas.read_root(filename,key='nu')\n",
    "hashmap = DecayHashMap(decayhash, removeRadiativeGammaFlag=False)\n",
    "hashmap2 = DecayHashMap(decayhash, removeRadiativeGammaFlag=True)"
   ]
  },
  {
   "cell_type": "code",
   "execution_count": 1,
   "metadata": {},
   "outputs": [
    {
     "name": "stdout",
     "output_type": "stream",
     "text": [
      "Welcome to JupyROOT 6.24/00\n"
     ]
    }
   ],
   "source": [
    "import root_pandas\n",
    "import uproot\n",
    "import decayHash\n",
    "from decayHash import DecayHashMap\n",
    "import sys\n",
    "import numpy as np\n",
    "import ROOT\n",
    "import pandas\n",
    "\n",
    "# read in root-file as a pandas dataframe\n",
    "filename='../Ntuples/bengal_e_50k.root'\n",
    "decayhash='../Ntuples/hashmap_bengal_e_50k.root'\n",
    "#data = uproot.open(filename)['B0'].arrays(library=\"pd\")\n",
    "data = root_pandas.read_root(filename,key='B0')\n",
    "hashmap2 = DecayHashMap(decayhash, removeRadiativeGammaFlag=True)\n",
    "\n",
    "data['B0_mcPDG'] = data['B0_mcPDG'].fillna(0)"
   ]
  },
  {
   "cell_type": "code",
   "execution_count": 9,
   "metadata": {},
   "outputs": [
    {
     "data": {
      "text/plain": [
       "0    -511.0\n",
       "1    -511.0\n",
       "3    -511.0\n",
       "4    -511.0\n",
       "6    -511.0\n",
       "7    -511.0\n",
       "13   -511.0\n",
       "17   -511.0\n",
       "18   -511.0\n",
       "20   -511.0\n",
       "Name: B0_mcPDG, dtype: float64"
      ]
     },
     "execution_count": 9,
     "metadata": {},
     "output_type": "execute_result"
    }
   ],
   "source": [
    "a = [0,-511]\n",
    "data.query(f'B0_mcPDG in {a}')['B0_mcPDG'].head(10)"
   ]
  },
  {
   "cell_type": "code",
   "execution_count": null,
   "metadata": {},
   "outputs": [],
   "source": [
    "import pandas\n",
    "pandas.set_option('display.max_rows', None)\n",
    "print(data.isna().sum())"
   ]
  },
  {
   "cell_type": "markdown",
   "metadata": {},
   "source": [
    "### MC"
   ]
  },
  {
   "cell_type": "code",
   "execution_count": null,
   "metadata": {},
   "outputs": [],
   "source": [
    "# select events where B_tag does not SL decay\n",
    "MC_e_2 = MC_e[['__event__','__candidate__','E','px','py','pz','M']]\n",
    "MC_nu_2 = MC_nu[['__event__','__candidate__','E','px','py','pz','M']]\n",
    "\n",
    "# combine and keep events with inner products of the 4 df\n",
    "MC_2 = pandas.merge(MC_e_2,MC_nu_2,on=['__event__','__candidate__'],validate='1:1',suffixes=['_e','_nu'])\n",
    "MC = MC_2.query('__candidate__==0')\n",
    "MC.eval('q2_MC = M_e**2 + 2*(E_e*E_nu - px_e*px_nu - py_e*py_nu - pz_e*pz_nu)', inplace=True)"
   ]
  },
  {
   "cell_type": "markdown",
   "metadata": {},
   "source": [
    "# 2. Add DecayMode column to the Ntuple"
   ]
  },
  {
   "cell_type": "code",
   "execution_count": 2,
   "metadata": {},
   "outputs": [],
   "source": [
    "from collections import OrderedDict\n",
    "\n",
    "def found(modes,row):\n",
    "    for mode in modes:\n",
    "        if mode.startswith(str(int(row['B0_mcPDG']))):\n",
    "            decaytree = ROOT.Belle2.DecayTree(mode)\n",
    "            if hashmap2.get_original_decay(row[\"B0_DecayHash\"],row[\"B0_DecayHashEx\"]).find_decay(decaytree):\n",
    "                return True\n",
    "        else:\n",
    "            continue\n",
    "    return False\n",
    "\n",
    "def decay_mode(row):\n",
    "    for name,modes in mode_dict.items():\n",
    "        if found(modes,row):\n",
    "            return name\n",
    "    return 'bkg' # other_B_decay (hadronic) or hadronic_tau or other_D_decay or charged_B or continuum\n",
    "\n",
    "# the order of keys might be important, try to keep the muon modes at the bottom for e reconstruction\n",
    "# the e modes will be kept at the bottom for a muon reconstruction\n",
    "mode_dict = OrderedDict()\n",
    "mode_dict['sig_D_tau_nu']=['511 (-> -411 (-> 321 -211 -211) -15 (-> -11 12 -16) 16)',\n",
    "                           '-511 (-> 411 (-> -321 211 211) 15 (-> 11 -12 16) -16)',\n",
    "                           '511 (-> -411 (-> 321 -211 -211) -15 (-> -13 14 -16) 16)',\n",
    "                           '-511 (-> 411 (-> -321 211 211) 15 (-> 13 -14 16) -16)']\n",
    "\n",
    "mode_dict['sig_D_e_nu']=['511 (-> -411 (-> 321 -211 -211) -11 12)',\n",
    "                         '-511 (-> 411 (-> -321 211 211) 11 -12)']\n",
    "\n",
    "mode_dict['sig_Dst_tau_nu']=['511 (-> -413 (-> -411 (-> 321 -211 -211) 111) -15 (-> -11 12 -16) 16)',\n",
    "                             '-511 (-> 413 (-> 411 (-> -321 211 211) 111) 15 (-> 11 -12 16) -16)',\n",
    "                             '511 (-> -413 (-> -411 (-> 321 -211 -211) 111) -15 (-> -13 14 -16) 16)',\n",
    "                             '-511 (-> 413 (-> 411 (-> -321 211 211) 111) 15 (-> 13 -14 16) -16)',\n",
    "                             '511 (-> -413 (-> -411 (-> 321 -211 -211) 22) -15 (-> -11 12 -16) 16)',\n",
    "                             '-511 (-> 413 (-> 411 (-> -321 211 211) 22) 15 (-> 11 -12 16) -16)',\n",
    "                             '511 (-> -413 (-> -411 (-> 321 -211 -211) 22) -15 (-> -13 14 -16) 16)',\n",
    "                             '-511 (-> 413 (-> 411 (-> -321 211 211) 22) 15 (-> 13 -14 16) -16)']\n",
    "\n",
    "mode_dict['sig_Dst_e_nu']=['511 (-> -413 (-> -411 (-> 321 -211 -211) 111) -11 12)',\n",
    "                           '511 (-> -413 (-> -411 (-> 321 -211 -211) 22) -11 12)',\n",
    "                           '-511 (-> 413 (-> 411 (-> -321 211 211) 111) 11 -12)',\n",
    "                           '-511 (-> 413 (-> 411 (-> -321 211 211) 22) 11 -12)']\n",
    "\n",
    "mode_dict['all_Dstst_tau_nu']=['511 (-> -10413 -15 (-> -11 12 -16) 16)','-511 (-> 10413 15 (-> 11 -12 16) -16)',\n",
    "                               '511 (-> -10411 -15 (-> -11 12 -16) 16)','-511 (-> 10411 15 (-> 11 -12 16) -16)',\n",
    "                               '511 (-> -20413 -15 (-> -11 12 -16) 16)','-511 (-> 20413 15 (-> 11 -12 16) -16)',\n",
    "                               '511 (-> -415 -15 (-> -11 12 -16) 16)',  '-511 (-> 415 15 (-> 11 -12 16) -16)',\n",
    "                               '521 (-> -10423 -15 (-> -11 12 -16) 16)','-521 (-> 10423 15 (-> 11 -12 16) -16)',\n",
    "                               '521 (-> -10421 -15 (-> -11 12 -16) 16)','-521 (-> 10421 15 (-> 11 -12 16) -16)',\n",
    "                               '521 (-> -20423 -15 (-> -11 12 -16) 16)','-521 (-> 20423 15 (-> 11 -12 16) -16)',\n",
    "                               '521 (-> -425 -15 (-> -11 12 -16) 16)',  '-521 (-> 425 15 (-> 11 -12 16) -16)',\n",
    "                               '511 (-> -10413 -15 (-> -13 14 -16) 16)','-511 (-> 10413 15 (-> 13 -14 16) -16)',\n",
    "                               '511 (-> -10411 -15 (-> -13 14 -16) 16)','-511 (-> 10411 15 (-> 13 -14 16) -16)',\n",
    "                               '511 (-> -20413 -15 (-> -13 14 -16) 16)','-511 (-> 20413 15 (-> 13 -14 16) -16)',\n",
    "                               '511 (-> -415 -15 (-> -13 14 -16) 16)',  '-511 (-> 415 15 (-> 13 -14 16) -16)',\n",
    "                               '521 (-> -10423 -15 (-> -13 14 -16) 16)','-521 (-> 10423 15 (-> 13 -14 16) -16)',\n",
    "                               '521 (-> -10421 -15 (-> -13 14 -16) 16)','-521 (-> 10421 15 (-> 13 -14 16) -16)',\n",
    "                               '521 (-> -20423 -15 (-> -13 14 -16) 16)','-521 (-> 20423 15 (-> 13 -14 16) -16)',\n",
    "                               '521 (-> -425 -15 (-> -13 14 -16) 16)',  '-521 (-> 425 15 (-> 13 -14 16) -16)']\n",
    "\n",
    "mode_dict['all_Dstst_e_nu']=['511 (-> -10413 -11 12)','-511 (-> 10413 11 -12)',\n",
    "                             '511 (-> -10411 -11 12)','-511 (-> 10411 11 -12)',\n",
    "                             '511 (-> -20413 -11 12)','-511 (-> 20413 11 -12)',\n",
    "                             '511 (-> -415 -11 12)',  '-511 (-> 415 11 -12)',\n",
    "                             '511 (-> -411 221 -11 12)','-511 (-> 411 221 11 -12)',\n",
    "                             '511 (-> -411 111 -11 12)','-511 (-> 411 111 11 -12)',\n",
    "                             '511 (-> -411 111 111 -11 12)','-511 (-> 411 111 111 11 -12)',\n",
    "                             '511 (-> -411 211 -211 -11 12)','-511 (-> 411 211 -211 11 -12)',\n",
    "                             '511 (-> -413 221 -11 12)','-511 (-> 413 221 11 -12)',\n",
    "                             '511 (-> -413 111 -11 12)','-511 (-> 413 111 11 -12)',\n",
    "                             '511 (-> -413 111 111 -11 12)','-511 (-> 413 111 111 11 -12)',\n",
    "                             '511 (-> -413 211 -211 -11 12)','-511 (-> 413 211 -211 11 -12)',\n",
    "                             '511 (-> -421 -211 -11 12)','-511 (-> 421 211 11 -12)',\n",
    "                             '511 (-> -423 -211 -11 12)','-511 (-> 423 211 11 -12)',\n",
    "                             '521 (-> -10423 -11 12)','-521 (-> 10423 11 -12)',\n",
    "                             '521 (-> -10421 -11 12)','-521 (-> 10421 11 -12)',\n",
    "                             '521 (-> -20423 -11 12)','-521 (-> 20423 11 -12)',\n",
    "                             '521 (-> -425 -11 12)',  '-521 (-> 425 11 -12)',\n",
    "                             '521 (-> -411 211 -11 12)','-521 (-> 411 211 11 -12)',\n",
    "                             '521 (-> -411 211 111 -11 12)','-521 (-> 411 211 111 11 -12)',\n",
    "                             '521 (-> -413 211 -11 12)','-521 (-> 413 211 11 -12)',\n",
    "                             '521 (-> -413 211 111 -11 12)','-521 (-> 413 211 111 11 -12)']\n",
    "\n",
    "mode_dict['sig_D_mu_nu']=['511 (-> -411 (-> 321 -211 -211) -13 14)',\n",
    "                          '-511 (-> 411 (-> -321 211 211) 13 -14)']\n",
    "\n",
    "mode_dict['sig_Dst_mu_nu']=['511 (-> -413 (-> -411 (-> 321 -211 -211) 111) -13 14)',\n",
    "                           '511 (-> -413 (-> -411 (-> 321 -211 -211) 22) -13 14)',\n",
    "                           '-511 (-> 413 (-> 411 (-> -321 211 211) 111) 13 -14)',\n",
    "                           '-511 (-> 413 (-> 411 (-> -321 211 211) 22) 13 -14)']\n",
    "\n",
    "mode_dict['all_Dstst_mu_nu']=['511 (-> -10413 -13 14)','-511 (-> 10413 13 -14)',\n",
    "                              '511 (-> -10411 -13 14)','-511 (-> 10411 13 -14)',\n",
    "                              '511 (-> -20413 -13 14)','-511 (-> 20413 13 -14)',\n",
    "                              '511 (-> -415 -13 14)',  '-511 (-> 415 13 -14)',\n",
    "                              '511 (-> -411 221 -13 14)','-511 (-> 411 221 13 -14)',\n",
    "                              '511 (-> -411 111 -13 14)','-511 (-> 411 111 13 -14)',\n",
    "                              '511 (-> -411 111 111 -13 14)','-511 (-> 411 111 111 13 -14)',\n",
    "                              '511 (-> -411 211 -211 -13 14)','-511 (-> 411 211 -211 13 -14)',\n",
    "                              '511 (-> -413 221 -13 14)','-511 (-> 413 221 13 -14)',\n",
    "                              '511 (-> -413 111 -13 14)','-511 (-> 413 111 13 -14)',\n",
    "                              '511 (-> -413 111 111 -13 14)','-511 (-> 413 111 111 13 -14)',\n",
    "                              '511 (-> -413 211 -211 -13 14)','-511 (-> 413 211 -211 13 -14)',\n",
    "                              '511 (-> -421 -211 -13 14)','-511 (-> 421 211 13 -14)',\n",
    "                              '511 (-> -423 -211 -13 14)','-511 (-> 423 211 13 -14)',\n",
    "                              '521 (-> -10423 -13 14)','-521 (-> 10423 13 -14)',\n",
    "                              '521 (-> -10421 -13 14)','-521 (-> 10421 13 -14)',\n",
    "                              '521 (-> -20423 -13 14)','-521 (-> 20423 13 -14)',\n",
    "                              '521 (-> -425 -13 14)',  '-521 (-> 425 13 -14)',\n",
    "                              '521 (-> -411 211 -13 14)','-521 (-> 411 211 13 -14)',\n",
    "                              '521 (-> -411 211 111 -13 14)','-521 (-> 411 211 111 13 -14',\n",
    "                              '521 (-> -413 211 -13 14)','-521 (-> 413 211 13 -14)',\n",
    "                              '521 (-> -413 211 111 -13 14)','-521 (-> 413 211 111 13 -14)']"
   ]
  },
  {
   "cell_type": "code",
   "execution_count": 14,
   "metadata": {},
   "outputs": [
    {
     "data": {
      "text/plain": [
       "sig_D_e_nu    10191\n",
       "bkg             701\n",
       "Name: DecayMode, dtype: int64"
      ]
     },
     "execution_count": 14,
     "metadata": {},
     "output_type": "execute_result"
    }
   ],
   "source": [
    "cut = 'D_vtxReChi2<3 and B0_vtxReChi2<14 and -3.2<B0_deltaE<0 and e_CMS_p>0.2 and \\\n",
    "    5<B0_roeMbc_my_mask and 4.3<B0_CMS2_weMbc and \\\n",
    "    -5<B0_roeDeltae_my_mask<2 and -3<B0_CMS0_weDeltae<2 and \\\n",
    "    abs(B0_roeCharge_my_mask)<3 and B0_CMS_E<5.4 and \\\n",
    "    0.2967<B0_Lab5_weMissPTheta<2.7925 and 0.2967<B0_Lab6_weMissPTheta<2.7925 and \\\n",
    "    0<B0_TagVReChi2<100 and 0<B0_TagVReChi2IP<100'\n",
    "data = data.query(cut).copy()\n",
    "data['isSignal'] = 1.0\n",
    "data.eval('B_D_ReChi2 = B0_vtxReChi2 + D_vtxReChi2', inplace=True)\n",
    "data.eval('p_D_l = D_CMS_p + e_CMS_p', inplace=True)\n",
    "\n",
    "# Calculate the q2 in different ways\n",
    "data.eval('q2_SigOnly = (0.5*Ecms - D_CMS_E)**2 - D_CMS_px**2 - D_CMS_py**2 - D_CMS_pz**2', inplace=True)\n",
    "data.eval('MM2_SigOnly = (0.5*Ecms - D_CMS_E - e_CMS_E)**2 - (D_CMS_px + e_CMS_px)**2 - (D_CMS_py + e_CMS_py)**2 - (D_CMS_pz + e_CMS_pz)**2', inplace=True)\n",
    "\n",
    "data['DecayMode'] = data.apply(decay_mode, axis=1).astype('category') #axis=0 will allow the application to be done at a column\n",
    "data.DecayMode.value_counts()"
   ]
  },
  {
   "cell_type": "code",
   "execution_count": 15,
   "metadata": {},
   "outputs": [
    {
     "name": "stdout",
     "output_type": "stream",
     "text": [
      "Monte Carlo Decay with removed Bremsstrahlung gammas: \n",
      "300553\n",
      "    511\n",
      "        -411\n",
      "            313\n",
      "                311\n",
      "                    310\n",
      "                111\n",
      "                    22\n",
      "                    22\n",
      "            -211\n",
      "            111\n",
      "                22\n",
      "                22\n",
      "        211\n",
      "        113\n",
      "            211\n",
      "            -211\n",
      "        311\n",
      "            130\n",
      "        -311\n",
      "            130\n",
      "    -511\n",
      "        411\n",
      "            -321\n",
      "            211\n",
      "            211\n",
      "        11\n",
      "        -12\n",
      "\n"
     ]
    }
   ],
   "source": [
    "cut = 'D_vtxReChi2<3 and B0_vtxReChi2<14 and -3.2<B0_deltaE<0 and e_CMS_p>0.2 and \\\n",
    "    5<B0_roeMbc_my_mask and 4.3<B0_CMS2_weMbc and \\\n",
    "    -5<B0_roeDeltae_my_mask<2 and -3<B0_CMS0_weDeltae<2 and \\\n",
    "    abs(B0_roeCharge_my_mask)<3 and B0_CMS_E<5.4 and \\\n",
    "    0.2967<B0_Lab5_weMissPTheta<2.7925 and 0.2967<B0_Lab6_weMissPTheta<2.7925 and \\\n",
    "    0<B0_TagVReChi2<100 and 0<B0_TagVReChi2IP<100'\n",
    "#cut='B0_TauminusMode==-1'#'DecayMode==\"bkg\" and B0_isContinuumEvent!=1'\n",
    "candidate12 = data.query(cut).iloc[112][['B0_DecayHash', \"B0_DecayHashEx\"]].values\n",
    "\n",
    "# print the original decay as simulated in MC with removed Bremsstrahlung gammas\n",
    "print(\"Monte Carlo Decay with removed Bremsstrahlung gammas: \")\n",
    "org2 = hashmap2.get_original_decay(*candidate12)\n",
    "print(org2.to_string())"
   ]
  },
  {
   "cell_type": "code",
   "execution_count": null,
   "metadata": {},
   "outputs": [],
   "source": [
    "samples = {}\n",
    "names = ['BC','AC']\n",
    "cut = 'D_vtxReChi2<13 and B0_vtxReChi2<14 and -3.2<B0_deltaE<0 and e_CMS_p>0.2 and \\\n",
    "    5<B0_roeMbc_my_mask and 4.3<B0_CMS2_weMbc and \\\n",
    "    -5<B0_roeDeltae_my_mask<2 and -3<B0_CMS0_weDeltae<2 and \\\n",
    "    abs(B0_roeCharge_my_mask)<3 and nElectrons90+nMuons90==1'\n",
    "for name in names:\n",
    "    if name == 'BC':\n",
    "        df = data.copy()\n",
    "    else:\n",
    "        df = data.query(cut).copy()\n",
    "    \n",
    "    print(f'{name} before BCS')\n",
    "    print(df.DecayMode.value_counts())\n",
    "\n",
    "    df_bestSelected=df.loc[df.groupby(['__experiment__','__run__','__event__','__production__']).B_D_ReChi2.idxmin()]\n",
    "\n",
    "    print(f'{name} after BCS')\n",
    "    print(df_bestSelected.DecayMode.value_counts())\n",
    "    \n",
    "    df_merged = pandas.merge(df_bestSelected,MC,on=['__event__'],validate='1:1')\n",
    "    samples[name] = df_merged"
   ]
  },
  {
   "cell_type": "markdown",
   "metadata": {},
   "source": [
    "# 4. Get fitting templates"
   ]
  },
  {
   "cell_type": "code",
   "execution_count": null,
   "metadata": {},
   "outputs": [],
   "source": [
    "# apply BDTs\n",
    "# plot mm2, mm2 vs p_D_l\n",
    "# save the templates"
   ]
  },
  {
   "cell_type": "code",
   "execution_count": null,
   "metadata": {},
   "outputs": [],
   "source": [
    "import basf2_mva\n",
    "import pandas\n",
    "\n",
    "identifier_1 = '/home/belle/zhangboy/R_D/Generic_MC14rd/Continuum_Suppression/MVA1_FastBDT.xml'\n",
    "test_1 = '../Ntuples/bengal_eidglobal_50k_cut.root'\n",
    "data.query(cut).to_root(test_1, key='B0')\n",
    "output_file_1 = '../Ntuples/bengal_eidglobal_50k_MVA1.root'\n",
    "\n",
    "identifier_1_5 = '/home/belle/zhangboy/R_D/Generic_MC14rd/B_bkg_Suppression/MVA1_5/MVA1_5_FastBDT.xml'\n",
    "test_1_5 = '../Ntuples/bengal_eidglobal_50k_cut.root'\n",
    "output_file_1_5 = '../Ntuples/bengal_eidglobal_50k_MVA1_5.root'\n",
    "\n",
    "output_file_1_5_applied = '../Ntuples/bengal_eidglobal_50k_MVA1_5_applied.root'\n",
    "\n",
    "identifier_2_1 = '/home/belle/zhangboy/R_D/Generic_MC14rd/B_bkg_Suppression/MVA2/MVA2_1_FastBDT.xml'\n",
    "test_2_1 = output_file_1_5_applied\n",
    "output_file_2_1 = '../Ntuples/bengal_eidglobal_50k_MVA2_1.root'\n",
    "output_file_2_1_applied = '../Ntuples/bengal_eidglobal_50k_MVA2_1_applied.root'"
   ]
  },
  {
   "cell_type": "code",
   "execution_count": null,
   "metadata": {},
   "outputs": [],
   "source": [
    "# apply CS BDT identifier_1, merge data file and mva output, rename the column\n",
    "basf2_mva.expert(basf2_mva.vector(identifier_1),  # weightfile\n",
    "                 basf2_mva.vector(test_1),\n",
    "                 'B0', output_file_1)\n",
    "\n",
    "df1 = data.query(cut).drop_duplicates(subset=['__experiment__','__run__','__event__','__production__','__candidate__']).reset_index(drop=True)\n",
    "df2 = root_pandas.read_root(output_file_1)\n",
    "print(len(df1)==len(df2))\n",
    "df_1 = pandas.concat([df1,df2],axis=1)\n",
    "\n",
    "df_1=df_1.rename(columns={\"__slhome__slbelle__slzhangboy__slR_D__slGeneric_MC14rd__slContinuum_Suppression__slMVA1_FastBDT__ptxml\": \"MVA1_output\"})\n",
    "df_1=df_1.drop(columns=['__slhome__slbelle__slzhangboy__slR_D__slGeneric_MC14rd__slContinuum_Suppression__slMVA1_FastBDT__ptxml_isSignal'])\n",
    "\n",
    "# apply BDT 1_5 identifier_1_5, merge, rename, change the output type, save\n",
    "basf2_mva.expert(basf2_mva.vector(identifier_1_5),  # weightfile\n",
    "                 basf2_mva.vector(test_1_5),\n",
    "                 'B0', output_file_1_5)\n",
    "\n",
    "df3 = root_pandas.read_root(output_file_1_5)\n",
    "print(len(df_1)==len(df3))\n",
    "df_1_5 = pandas.concat([df_1,df3],axis=1)\n",
    "\n",
    "df_1_5=df_1_5.rename(columns={\"__slhome__slbelle__slzhangboy__slR_D__slGeneric_MC14rd__slB_bkg_Suppression__slMVA1_5__slMVA1_5_FastBDT__ptxml\": \"MVA1_5_output\"})\n",
    "df_1_5=df_1_5.drop(columns=['__slhome__slbelle__slzhangboy__slR_D__slGeneric_MC14rd__slB_bkg_Suppression__slMVA1_5__slMVA1_5_FastBDT__ptxml_isSignal'])\n",
    "\n",
    "df_1_5.MVA1_5_output=np.float64(df_1_5.MVA1_5_output)\n",
    "print(type(df_1_5.MVA1_5_output[0]))\n",
    "print(type(df_1_5.isSignal[0]))\n",
    "\n",
    "df_1_5.to_root(output_file_1_5_applied, key='B0')\n",
    "\n",
    "# apply BDT 2_1 identifier_2_1, merge, rename, save\n",
    "basf2_mva.expert(basf2_mva.vector(identifier_2_1),  # weightfile\n",
    "                 basf2_mva.vector(test_2_1),\n",
    "                 'B0', output_file_2_1)\n",
    "\n",
    "df4 = root_pandas.read_root(output_file_2_1)\n",
    "print(len(df_1_5)==len(df4))\n",
    "df_2_1 = pandas.concat([df_1_5, df4],axis=1)\n",
    "print(len(df_1_5)==len(df_2_1))\n",
    "\n",
    "df_2_1=df_2_1.rename(columns={\"__slhome__slbelle__slzhangboy__slR_D__slGeneric_MC14rd__slB_bkg_Suppression__slMVA2__slMVA2_1_FastBDT__ptxml\": \"MVA2_1_output\"})\n",
    "df_2_1=df_2_1.drop(columns=['__slhome__slbelle__slzhangboy__slR_D__slGeneric_MC14rd__slB_bkg_Suppression__slMVA2__slMVA2_1_FastBDT__ptxml_isSignal'])\n",
    "\n",
    "df_2_1.to_root(output_file_2_1_applied, key='B0')"
   ]
  },
  {
   "cell_type": "code",
   "execution_count": null,
   "metadata": {},
   "outputs": [],
   "source": [
    "df_2_1.columns\n",
    "len(df_2_1)"
   ]
  },
  {
   "cell_type": "code",
   "execution_count": null,
   "metadata": {},
   "outputs": [],
   "source": [
    "df_bestSelected=df_2_1.loc[df_2_1.groupby(['__experiment__','__run__','__event__','__production__']).B_D_ReChi2.idxmin()]"
   ]
  },
  {
   "cell_type": "code",
   "execution_count": null,
   "metadata": {},
   "outputs": [],
   "source": []
  },
  {
   "cell_type": "code",
   "execution_count": null,
   "metadata": {},
   "outputs": [],
   "source": [
    "import pandas\n",
    "import matplotlib.pyplot as plt\n",
    "import matplotlib.colors as colors\n",
    "import matplotlib.cm as cm\n",
    "plt.style.use('belle2')\n",
    "# plot mm2, mm2 vs p_D_l\n",
    "# save the templates"
   ]
  },
  {
   "cell_type": "code",
   "execution_count": null,
   "metadata": {},
   "outputs": [],
   "source": [
    "# Signal components\n",
    "sig_D_e_nu=samples['AC'].query('DecayMode==\"sig_D_e_nu\" and B0_mcErrors<16 and abs(D_mcPDG)==411 and abs(e_genMotherPDG)==511').copy()\n",
    "sig_D_tau_nu=samples['AC'].query('DecayMode==\"sig_D_tau_nu\" and B0_mcErrors<32 and abs(D_mcPDG)==411 and abs(e_genMotherPDG)==15').copy()\n",
    "sig_Dst_e_nu=samples['AC'].query('DecayMode==\"sig_Dst_e_nu\" and B0_mcErrors<64 and abs(D_mcPDG)==411 and abs(e_genMotherPDG)==511').copy()\n",
    "sig_Dst_tau_nu=samples['AC'].query('DecayMode==\"sig_Dst_tau_nu\" and B0_mcErrors<64 and abs(D_mcPDG)==411 and abs(e_genMotherPDG)==15').copy()\n",
    "all_Dstst_e_nu=samples['AC'].query('DecayMode==\"all_Dstst_e_nu\" and abs(D_mcPDG)==411 and \\\n",
    "((B0_mcErrors<64 and abs(e_genMotherPDG)==511) or (B0_mcErrors<512 and abs(e_genMotherPDG)==521))').copy()\n",
    "all_Dstst_tau_nu=samples['AC'].query('DecayMode==\"all_Dstst_tau_nu\" and abs(D_mcPDG)==411 and abs(e_genMotherPDG)==15 and \\\n",
    "((B0_mcErrors<64 and abs(B0_mcPDG)==511) or (B0_mcErrors<512 and abs(B0_mcPDG)==521))').copy()\n",
    "\n",
    "#sig_D_mu_nu=samples['AC'].query('DecayMode==\"sig_D_mu_nu\" and B0_mcErrors<16').copy()\n",
    "#sig_Dst_mu_nu=samples['AC'].query('DecayMode==\"sig_Dst_mu_nu\" and (16<=B0_mcErrors<32 or B0_mcErrors<8)').copy()\n",
    "#all_Dstst_mu_nu=samples['AC'].query('DecayMode==\"all_Dstst_mu_nu\" and (16<=B0_mcErrors<64 or B0_mcErrors<8)').copy()\n",
    "\n",
    "# Bkg components\n",
    "bkg_fakeD = samples['AC'].query('abs(D_mcPDG)!=411 and B0_mcErrors!=512 and B0_isContinuumEvent!=1').copy()\n",
    "bkg_fakeTracksClusters = samples['AC'].query('B0_mcErrors==512 and B0_isContinuumEvent!=1').copy()\n",
    "bkg_fakeDTC = pandas.concat([bkg_fakeD, bkg_fakeTracksClusters])\n",
    "\n",
    "bkg_combinatorial = samples['AC'].query('B0_mcPDG==300553 and abs(D_mcPDG)==411 and B0_mcErrors!=512 and B0_isContinuumEvent!=1').copy()\n",
    "bkg_sigOtherBDTaudecay = samples['AC'].query('(DecayMode==\"bkg\" or DecayMode==\"sig_D_mu_nu\" or DecayMode==\"sig_Dst_mu_nu\" or DecayMode==\"all_Dstst_mu_nu\") and \\\n",
    "B0_mcPDG!=300553 and abs(D_mcPDG)==411 and B0_mcErrors!=512 and B0_isContinuumEvent!=1').copy()\n",
    "bkg_fakeB = pandas.concat([bkg_combinatorial, bkg_sigOtherBDTaudecay])\n",
    "\n",
    "bkg_continuum = samples['AC'].query('B0_isContinuumEvent==1').copy()\n",
    "\n",
    "bkg_others = pandas.concat([samples['AC'],\n",
    "                           sig_D_e_nu,\n",
    "                           sig_D_tau_nu,\n",
    "                           sig_Dst_e_nu,\n",
    "                           sig_Dst_tau_nu,\n",
    "                           all_Dstst_e_nu,\n",
    "                           all_Dstst_tau_nu,\n",
    "                           bkg_fakeDTC,\n",
    "                           bkg_fakeB,\n",
    "                           bkg_continuum]).drop_duplicates(keep=False)\n",
    "# Weird! the bkg_others contains some events with\n",
    "# correct sig decay hash chain and correct B0_mcPDG, D_mcPDG, e_genMotherPDG,\n",
    "# but with 128< B0_mcErrors < 256 (misID)\n",
    "\n",
    "\n",
    "def statistics(df):\n",
    "    counts=df.count()\n",
    "    mean=df.mean()\n",
    "    std=df.std()\n",
    "    return f'''counts = %d \\nmean = %5.3f \\nstd = %5.3f''' %(counts,mean,std)\n",
    "\n",
    "kwarg={'bins':50, 'histtype':'step','lw':2}\n",
    "\n",
    "    \n",
    "def plot_projection(cut,variable):\n",
    "    (counts1, bins1) = np.histogram(sig_D_tau_nu.query(cut)[variable], bins=50)\n",
    "    (counts2, bins2) = np.histogram(sig_Dst_tau_nu.query(cut)[variable], bins=50)\n",
    "    factor = 1\n",
    "    plt.hist(bins1[:-1], bins1, weights=factor*counts1,label=f'D_tau_nu \\n{statistics(sig_D_tau_nu.query(cut)[variable])}',alpha=0.6)\n",
    "    sig_D_e_nu.query(cut)[variable].hist(label=f'D_e_nu \\n{statistics(sig_D_e_nu.query(cut)[variable])}',**kwarg)\n",
    "    \n",
    "    plt.hist(bins2[:-1], bins2, weights=factor*counts2,label=f'Dst_tau_nu \\n{statistics(sig_Dst_tau_nu.query(cut)[variable])}',alpha=0.6,histtype='step',lw=2)\n",
    "    sig_Dst_e_nu.query(cut)[variable].hist(label=f'Dst_e_nu \\n{statistics(sig_Dst_e_nu.query(cut)[variable])}',**kwarg)\n",
    "    all_Dstst_tau_nu.query(cut)[variable].hist(label=f'all_Dstst_tau_nu \\n{statistics(all_Dstst_tau_nu.query(cut)[variable])}',**kwarg)\n",
    "    all_Dstst_e_nu.query(cut)[variable].hist(label=f'all_Dstst_e_nu \\n{statistics(all_Dstst_e_nu.query(cut)[variable])}',**kwarg)\n",
    "    bkg_fakeDTC.query(cut)[variable].hist(label=f'bkg_fakeD_Tracks_Clusters \\n{statistics(bkg_fakeDTC.query(cut)[variable])}',**kwarg)\n",
    "    bkg_fakeB.query(cut)[variable].hist(label=f'bkg_comb_wrongDecay \\n{statistics(bkg_fakeB.query(cut)[variable])}',**kwarg)\n",
    "    bkg_continuum.query(cut)[variable].hist(label=f'bkg_continuum \\n{statistics(bkg_continuum.query(cut)[variable])}',**kwarg)\n",
    "    bkg_others.query(cut)[variable].hist(label=f'bkg_others \\n{statistics(bkg_others.query(cut)[variable])}',**kwarg)\n",
    "    plt.legend(bbox_to_anchor=(1,1),ncol=3, fancybox=True, shadow=True,labelspacing=1.5)\n",
    "\n",
    "def plot_q2_efficiency(cut, q2='B0_CMS3_weQ2lnuSimple'):\n",
    "    sig_D_e_nu_BC=samples['BC'].query('DecayMode==\"sig_D_e_nu\" and B0_mcErrors<16 and abs(D_mcPDG)==411 and abs(e_genMotherPDG)==511').copy()\n",
    "    sig_D_tau_nu_BC=samples['BC'].query('DecayMode==\"sig_D_tau_nu\" and B0_mcErrors<32 and abs(D_mcPDG)==411 and abs(e_genMotherPDG)==15').copy()\n",
    "    (counts1, bins1) = np.histogram(sig_D_e_nu_BC.query(cut)[q2], bins=15)\n",
    "    (counts2, bins2) = np.histogram(sig_D_e_nu.query(cut)[q2], bins=bins1)\n",
    "    \n",
    "    efficiency = counts2 / counts1\n",
    "    efficiency_err = efficiency * np.sqrt(1/counts1 + 1/counts2)\n",
    "    #factor = 1\n",
    "    #plt.hist(bins1[:-1], bins1, weights=factor*efficiency,label='D_l_nu efficiency in q2',histtype='step')\n",
    "    bin_centers = (bins1[:-1] + bins1[1:]) /2\n",
    "    plt.errorbar(x=bin_centers, y=efficiency, yerr=efficiency_err, fmt='ko',label='D_l_nu efficiency in q2')\n",
    "    plt.legend()\n",
    "    \n",
    "plt.rcParams[\"axes.prop_cycle\"] = plt.cycler(\"color\", plt.cm.tab20.colors)"
   ]
  },
  {
   "cell_type": "code",
   "execution_count": null,
   "metadata": {
    "scrolled": true
   },
   "outputs": [],
   "source": [
    "plot_projection('MVA1_output>0.4 and MVA2_1_output>0.2 and B0_roeMbc_my_mask>5.26', 'B0_CMS2_weMissM2')\n",
    "plt.xlabel(\"CMS2_weMissM2 $[GeV^2/c^4]$\")\n",
    "plt.ylabel('# of counts per bin')\n",
    "plt.title('CMS2_weMissM2');\n",
    "#plt.xlim(-10,10)"
   ]
  },
  {
   "cell_type": "code",
   "execution_count": null,
   "metadata": {},
   "outputs": [],
   "source": [
    "sig_sample = all_Dstst_tau_nu\n",
    "\n",
    "cut='B0_roeMbc_my_mask>5.26 and MVA1_output>0.4 and MVA2_1_output>0.2'\n",
    "xedges = np.linspace(0.5, 4, 15)\n",
    "yedges = np.linspace(-4, 10, 25)\n",
    "variable_x = 'p_D_l'\n",
    "variable_y = 'B0_CMS2_weMissM2'\n",
    "\n",
    "(counts, xedges, yedges) = np.histogram2d(sig_sample.query(cut)[variable_x], \n",
    "                                          sig_sample.query(cut)[variable_y],\n",
    "                                          bins=[xedges, yedges])\n",
    "counts = counts.T + 0.01\n",
    "fig,axs=plt.subplots(ncols=1,figsize=(10,4))\n",
    "X, Y = np.meshgrid(xedges, yedges)\n",
    "im=axs.pcolormesh(X, Y, counts, cmap='jet', norm=colors.LogNorm())\n",
    "axs.grid()\n",
    "fig.colorbar(im)"
   ]
  },
  {
   "cell_type": "code",
   "execution_count": null,
   "metadata": {},
   "outputs": [],
   "source": [
    "import json\n",
    "\n",
    "workspace_file = '/home/belle/zhangboy/R_D/Signal_MC_ROEx1/2d_2channels_workspace.json'\n",
    "with open(workspace_file, 'r+') as f:\n",
    "    data = json.load(f)\n",
    "    data['channels'][0]['samples'][4]['name'] = 'Dstst_tau_nu'\n",
    "    data['channels'][0]['samples'][4]['data'] = counts.ravel().tolist()\n",
    "    # counts.ravel()/.reshape(-1) returns a view, counts.flatten() returns a copy (slower)\n",
    "    f.seek(0)        # <--- should reset file position to the beginning.\n",
    "    json.dump(data, f, indent=4)\n",
    "    f.truncate()     # remove remaining part"
   ]
  },
  {
   "cell_type": "code",
   "execution_count": null,
   "metadata": {},
   "outputs": [],
   "source": [
    "plot_q2_efficiency(cut='-2<B0_CMS3_weQ2lnuSimple<13')\n",
    "plt.xlabel(\"q2 $[GeV^2/c^4]$\")\n",
    "plt.ylabel('Cuts Efficiency')\n",
    "plt.title('Dl$\\\\nu$ cut efficiency vs. q2');\n",
    "plt.xlim(-2,12);\n",
    "plt.ylim(0,1);"
   ]
  },
  {
   "cell_type": "code",
   "execution_count": null,
   "metadata": {
    "scrolled": true
   },
   "outputs": [],
   "source": [
    "plot_projection('B0_roeMbc_my_mask>5', 'B0_CMS2_weMissM2')\n",
    "plt.xlabel(\"CMS2_weMissM2 $[GeV^2/c^4]$\")\n",
    "plt.ylabel('# of counts per bin')\n",
    "plt.title('MissM2 with E*_roe=$\\sqrt{s}/2$')\n",
    "plt.xlim(-8,8);"
   ]
  },
  {
   "cell_type": "code",
   "execution_count": null,
   "metadata": {},
   "outputs": [],
   "source": [
    "plot_projection('B0_roeMbc_my_mask>5', 'B0_CMS3_weMissM2')\n",
    "plt.xlabel(\"CMS3_weMissM2 $[GeV^2/c^4]$\")\n",
    "plt.ylabel('# of counts per bin')\n",
    "plt.title('MissM2 with E*_roe=$\\sqrt{s}/2$ and p*_roe=0')\n",
    "plt.xlim(-8,8);"
   ]
  },
  {
   "cell_type": "code",
   "execution_count": null,
   "metadata": {
    "scrolled": true
   },
   "outputs": [],
   "source": [
    "plot_projection('B0_roeMbc_my_mask>5', 'B0_CMS4_weMissM2')\n",
    "plt.xlabel(\"CMS4_weMissM2 $[GeV^2/c^4]$\")\n",
    "plt.ylabel('# of counts per bin')\n",
    "plt.title('MissM2 with E*_roe=$\\sqrt{s}/2$ and p*_roe=0.34GeV + direction');\n",
    "plt.xlim(-8,8);"
   ]
  },
  {
   "cell_type": "code",
   "execution_count": null,
   "metadata": {
    "scrolled": true
   },
   "outputs": [],
   "source": [
    "plot_projection('B0_roeMbc_my_mask>5', 'q2_MC')\n",
    "plt.xlabel(\"q2 $[GeV^2/c^4]$\")\n",
    "plt.ylabel('# of counts per bin')\n",
    "plt.title('MC True q2')\n",
    "plt.xlim(-2,13);"
   ]
  },
  {
   "cell_type": "code",
   "execution_count": null,
   "metadata": {},
   "outputs": [],
   "source": [
    "plot_projection('B0_roeMbc_my_mask>5', 'B0_CMS2_weQ2lnuSimple')\n",
    "plt.xlabel(\"CMS2_q2 $[GeV^2/c^4]$\")\n",
    "plt.ylabel('# of counts per bin')\n",
    "plt.title('q2 with E*_roe=$\\sqrt{s}/2$')\n",
    "plt.xlim(-8,13);"
   ]
  },
  {
   "cell_type": "code",
   "execution_count": null,
   "metadata": {
    "scrolled": true
   },
   "outputs": [],
   "source": [
    "plot_projection('B0_roeMbc_my_mask>5', 'B0_CMS3_weQ2lnuSimple')\n",
    "plt.xlabel(\"CMS2_q2 $[GeV^2/c^4]$\")\n",
    "plt.ylabel('# of counts per bin')\n",
    "plt.title('q2 with E*_roe=$\\sqrt{s}/2$ and p*_roe=0')\n",
    "plt.xlim(-2,13);"
   ]
  },
  {
   "cell_type": "code",
   "execution_count": null,
   "metadata": {
    "scrolled": true
   },
   "outputs": [],
   "source": [
    "plot_projection('B0_roeMbc_my_mask>5', 'B0_CMS4_weQ2lnuSimple')\n",
    "plt.xlabel(\"CMS4_q2 $[GeV^2/c^4]$\")\n",
    "plt.ylabel('# of counts per bin')\n",
    "plt.title('q2 with E*_roe=$\\sqrt{s}/2$ and p*_roe=0.34GeV + direction');\n",
    "plt.xlim(-4,13);"
   ]
  },
  {
   "cell_type": "code",
   "execution_count": null,
   "metadata": {},
   "outputs": [],
   "source": [
    "plt.scatter(sig_D_e_nu.q2_MC, sig_D_e_nu.B0_CMS2_weQ2lnuSimple,label='q2')\n",
    "x = np.linspace(-0.5, 12, 10)\n",
    "plt.plot(x,x,color='red',label='y=x')\n",
    "plt.xlabel(\"MC True q2 $[GeV^2/c^4]$\")\n",
    "plt.ylabel('Reconstructed q2')\n",
    "plt.title('q2 with E*_roe=$\\sqrt{s}/2$')\n",
    "plt.legend();"
   ]
  },
  {
   "cell_type": "code",
   "execution_count": null,
   "metadata": {},
   "outputs": [],
   "source": [
    "plt.scatter(sig_D_e_nu.q2_MC, sig_D_e_nu.B0_CMS3_weQ2lnuSimple,label='q2')\n",
    "x = np.linspace(-0.5, 12, 10)\n",
    "plt.plot(x,x,color='red',label='y=x')\n",
    "plt.xlabel(\"MC True q2 $[GeV^2/c^4]$\")\n",
    "plt.ylabel('Reconstructed q2')\n",
    "plt.title('q2 with E*_roe=$\\sqrt{s}/2$ and p*_roe=0')\n",
    "plt.legend();"
   ]
  },
  {
   "cell_type": "code",
   "execution_count": null,
   "metadata": {
    "scrolled": true
   },
   "outputs": [],
   "source": [
    "plt.scatter(sig_D_e_nu.q2_MC, sig_D_e_nu.B0_CMS4_weQ2lnuSimple,label='q2')\n",
    "x = np.linspace(-0.5, 12, 10)\n",
    "plt.plot(x,x,color='red',label='y=x')\n",
    "plt.xlabel(\"MC True q2 $[GeV^2/c^4]$\")\n",
    "plt.ylabel('Reconstructed q2')\n",
    "plt.title('q2 with E*_roe=$\\sqrt{s}/2$ and p*_roe=0.34GeV + direction')\n",
    "plt.legend();"
   ]
  },
  {
   "cell_type": "code",
   "execution_count": null,
   "metadata": {},
   "outputs": [],
   "source": [
    "plot_projection('q2_MC<2', 'B0_CMS3_weQ2lnuSimple')\n",
    "plt.xlabel(\"CMS2_q2 $[GeV^2/c^4]$\")\n",
    "plt.ylabel('# of counts per bin')\n",
    "plt.title('q2 with E*_roe=$\\sqrt{s}/2$ and p*_roe=0')\n",
    "plt.xlim(-2,13);"
   ]
  },
  {
   "cell_type": "code",
   "execution_count": null,
   "metadata": {},
   "outputs": [],
   "source": [
    "plot_projection('2<q2_MC<4', 'B0_CMS3_weQ2lnuSimple')\n",
    "plt.xlabel(\"CMS2_q2 $[GeV^2/c^4]$\")\n",
    "plt.ylabel('# of counts per bin')\n",
    "plt.title('q2 with E*_roe=$\\sqrt{s}/2$ and p*_roe=0')\n",
    "plt.xlim(-2,13);"
   ]
  },
  {
   "cell_type": "code",
   "execution_count": null,
   "metadata": {},
   "outputs": [],
   "source": [
    "plot_projection('4<q2_MC<6', 'B0_CMS3_weQ2lnuSimple')\n",
    "plt.xlabel(\"CMS2_q2 $[GeV^2/c^4]$\")\n",
    "plt.ylabel('# of counts per bin')\n",
    "plt.title('q2 with E*_roe=$\\sqrt{s}/2$ and p*_roe=0')\n",
    "plt.xlim(-2,13);"
   ]
  },
  {
   "cell_type": "code",
   "execution_count": null,
   "metadata": {},
   "outputs": [],
   "source": [
    "plot_projection('6<q2_MC<8', 'B0_CMS3_weQ2lnuSimple')\n",
    "plt.xlabel(\"CMS2_q2 $[GeV^2/c^4]$\")\n",
    "plt.ylabel('# of counts per bin')\n",
    "plt.title('q2 with E*_roe=$\\sqrt{s}/2$ and p*_roe=0')\n",
    "plt.xlim(-2,13);"
   ]
  },
  {
   "cell_type": "code",
   "execution_count": null,
   "metadata": {},
   "outputs": [],
   "source": [
    "plot_projection('8<q2_MC<10', 'B0_CMS3_weQ2lnuSimple')\n",
    "plt.xlabel(\"CMS2_q2 $[GeV^2/c^4]$\")\n",
    "plt.ylabel('# of counts per bin')\n",
    "plt.title('q2 with E*_roe=$\\sqrt{s}/2$ and p*_roe=0')\n",
    "plt.xlim(-2,13);"
   ]
  },
  {
   "cell_type": "code",
   "execution_count": null,
   "metadata": {},
   "outputs": [],
   "source": [
    "plot_projection('10<q2_MC', 'B0_CMS3_weQ2lnuSimple')\n",
    "plt.xlabel(\"CMS2_q2 $[GeV^2/c^4]$\")\n",
    "plt.ylabel('# of counts per bin')\n",
    "plt.title('q2 with E*_roe=$\\sqrt{s}/2$ and p*_roe=0')\n",
    "plt.xlim(-2,13);"
   ]
  },
  {
   "cell_type": "code",
   "execution_count": null,
   "metadata": {},
   "outputs": [],
   "source": []
  }
 ],
 "metadata": {
  "kernelspec": {
   "display_name": "Python 3 (Belle2)",
   "language": "python",
   "name": "python3"
  },
  "language_info": {
   "codemirror_mode": {
    "name": "ipython",
    "version": 3
   },
   "file_extension": ".py",
   "mimetype": "text/x-python",
   "name": "python",
   "nbconvert_exporter": "python",
   "pygments_lexer": "ipython3",
   "version": "3.8.8"
  }
 },
 "nbformat": 4,
 "nbformat_minor": 4
}

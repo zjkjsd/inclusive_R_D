{
 "cells": [
  {
   "cell_type": "markdown",
   "metadata": {},
   "source": [
    "# 1. Import Ntuple"
   ]
  },
  {
   "cell_type": "code",
   "execution_count": 1,
   "metadata": {},
   "outputs": [],
   "source": [
    "%load_ext autoreload\n",
    "%autoreload 2\n",
    "\n",
    "import uproot\n",
    "import numpy as np\n",
    "import pandas as pd\n",
    "import matplotlib.pyplot as plt\n",
    "import matplotlib.colors as colors\n",
    "import matplotlib.cm as cm\n",
    "from tqdm.auto import tqdm\n",
    "import sys\n",
    "sys.path.append('/home/belle/zhangboy/inclusive_R_D/')\n",
    "import utilities as util\n",
    "plt.rcParams[\"axes.prop_cycle\"] = plt.cycler(\"color\", plt.cm.tab20.colors)\n",
    "\n",
    "training_variables = util.training_variables\n",
    "columns = util.all_relevant_variables"
   ]
  },
  {
   "cell_type": "code",
   "execution_count": 2,
   "metadata": {},
   "outputs": [],
   "source": [
    "# 4S Data vs MC, regions: p_l > 2.4; q^2 < 3; 4.5<roeMbc<5.05; 2<roeDeltaE<5; deltaE\n",
    "\n",
    "# Load data files\n",
    "MC_4S = uproot.concatenate([f'../../Samples/Generic_MC15ri/e_channel/MC15ri_local_200fb_control/*.root:B0'],\n",
    "                          library=\"np\",)\n",
    "                          #cut = '(D_M>1.855) & (D_M<1.885)',\n",
    "                          #filter_branch=lambda branch: branch.name in columns)\n",
    "\n",
    "data_4S = uproot.concatenate([f'../../Samples/Data/e_channel/proc13_4S_control_quaxo_1.root:B0'],\n",
    "                          library=\"np\",\n",
    "                          #cut = '(D_M>1.855) & (D_M<1.885)',\n",
    "                          filter_branch=lambda branch: branch.name in columns)\n",
    "\n",
    "df_mc_4S = pd.DataFrame(MC_4S)\n",
    "df_data_4S = pd.DataFrame(data_4S)\n",
    "\n",
    "BDT_continuum='signal_prob<0.3 and continuum_prob>0.8 and fakeD_prob<0.05'\n",
    "BDT_sig='signal_prob==largest_prob and signal_prob>0.8 and continuum_prob<0.04 and fakeD_prob<0.05'\n",
    "BDT_no_sig = 'signal_prob<0.3'"
   ]
  },
  {
   "cell_type": "code",
   "execution_count": 12,
   "metadata": {},
   "outputs": [],
   "source": [
    "for df in [df_mc_4S,df_data_4S,]\n",
    "    # df.eval(f'cos_D_l = (D_px*ell_px + D_py*ell_py + D_pz*ell_pz)/(D_p*ell_p)', inplace=True)\n",
    "    df.eval('B_D_ReChi2 = B0_vtxReChi2 + D_vtxReChi2', inplace=True)\n",
    "    df.eval('p_D_l = D_CMS_p + ell_CMS_p', inplace=True)"
   ]
  },
  {
   "cell_type": "code",
   "execution_count": 25,
   "metadata": {},
   "outputs": [
    {
     "name": "stdout",
     "output_type": "stream",
     "text": [
      "bkg_FakeD 78329\n",
      "bkg_TDFl 2629\n",
      "bkg_fakeTracks 1814\n",
      "bkg_continuum 3110\n",
      "bkg_combinatorial 8185\n",
      "bkg_singleBbkg 4584\n",
      "bkg_other_TDTl 0\n",
      "$D\\tau\\nu$ 1574\n",
      "$D^\\ast\\tau\\nu$ 1072\n",
      "$D\\ell\\nu$ 22958\n",
      "$D^\\ast\\ell\\nu$ 18430\n",
      "$D^{\\ast\\ast}\\tau\\nu$ 663\n",
      "$D^{\\ast\\ast}\\ell\\nu$ 11162\n",
      "$D\\ell\\nu$_gap 2830\n",
      "bkg_other_signal 0\n"
     ]
    }
   ],
   "source": [
    "# load MVA\n",
    "import lightgbm as lgb\n",
    "df_mc_4S_BDT_conti = util.apply_mva_bcs(df_mc_4S, training_variables, BDT_continuum)\n",
    "df_data_4S_BDT_conti = util.apply_mva_bcs(df_data_4S, training_variables, BDT_continuum)\n",
    "\n",
    "df_mc_4S_BDT_sig = util.apply_mva_bcs(df_mc_4S, training_variables, BDT_sig)\n",
    "df_data_4S_BDT_sig = util.apply_mva_bcs(df_data_4S, training_variables, BDT_sig)\n",
    "\n",
    "df_mc_4S_BDT_no_sig = util.apply_mva_bcs(df_mc_4S, training_variables, BDT_no_sig)\n",
    "df_data_4S_BDT_no_sig = util.apply_mva_bcs(df_data_4S, training_variables, BDT_no_sig)"
   ]
  },
  {
   "cell_type": "markdown",
   "metadata": {},
   "source": [
    "# Data vs. MC BKG shape"
   ]
  },
  {
   "cell_type": "code",
   "execution_count": null,
   "metadata": {},
   "outputs": [],
   "source": [
    "columns_without_nan = df_data_BDT_no_sig.columns[~df_data_BDT_no_sig.isna().any()].tolist()\n",
    "\n",
    "samples=util.get_dataframe_samples_new(df_mc_BDT_no_sig, 'e', template=False)\n",
    "mpl=util.mpl(samples,df_data_BDT_no_sig)\n",
    "# df_conti_conti = samples['bkg_continuum']\n",
    "for name, df in samples.items():\n",
    "    print(name, len(df))"
   ]
  },
  {
   "cell_type": "code",
   "execution_count": null,
   "metadata": {},
   "outputs": [],
   "source": [
    "b1 = np.linspace(0,1,100)\n",
    "data_hist_all, mc_hist_all = mpl.plot_data_mc_stacked(variable='fakeD_prob',bins=b1,\n",
    "                                                      cut=None,scale=[1,187/200],\n",
    "                                                      correction=False,mask=[],\n",
    "                                                      figsize=(10,6),ratio=False)"
   ]
  },
  {
   "cell_type": "code",
   "execution_count": null,
   "metadata": {},
   "outputs": [],
   "source": [
    "b1 = np.linspace(1.79,1.95,50)\n",
    "data_hist_all, mc_hist_all = mpl.plot_data_mc_stacked(variable='D_M',bins=b1,\n",
    "                                                      cut='fakeD_prob>0.1',scale=[1,187/200],\n",
    "                                                      correction=False,mask=[],\n",
    "                                                      figsize=(10,6),ratio=False)"
   ]
  },
  {
   "cell_type": "markdown",
   "metadata": {},
   "source": [
    "## consistent discrepency, sidebands vs. sig region"
   ]
  },
  {
   "cell_type": "code",
   "execution_count": null,
   "metadata": {},
   "outputs": [],
   "source": [
    "# check fitting variables shape in different regions, look for shifts"
   ]
  },
  {
   "cell_type": "code",
   "execution_count": null,
   "metadata": {},
   "outputs": [],
   "source": [
    "# sidebands\n",
    "b1 = np.linspace(-10,10,50)\n",
    "a,b=mpl.plot_data_mc_stacked(variable='B0_CMS3_weMissM2',bins=b1,ratio=False,\n",
    "                          cut='fakeD_prob>0.1 and (D_M<1.83 or D_M>1.91)',\n",
    "                          scale=[1,187/200],correction=False,mask=[],figsize=(10,6))"
   ]
  },
  {
   "cell_type": "code",
   "execution_count": null,
   "metadata": {},
   "outputs": [],
   "source": [
    "# signal\n",
    "b1 = np.linspace(-10,10,50)\n",
    "a,b=mpl.plot_data_mc_stacked(variable='B0_CMS3_weMissM2',bins=b1,ratio=False,\n",
    "                          cut='fakeD_prob>0.1 and D_M>1.83 and D_M<1.91',\n",
    "                          scale=[1,187/200],correction=False,mask=[],figsize=(10,6))"
   ]
  },
  {
   "cell_type": "code",
   "execution_count": null,
   "metadata": {},
   "outputs": [],
   "source": [
    "# sidebands\n",
    "b2 = np.linspace(0.2,5,50)\n",
    "a,b=mpl.plot_data_mc_stacked(variable='p_D_l',bins=b2,ratio=False,\n",
    "                          cut='fakeD_prob>0.1 and (D_M<1.83 or D_M>1.91)',\n",
    "                          scale=[1,187/200],correction=False,mask=[],figsize=(10,6))"
   ]
  },
  {
   "cell_type": "code",
   "execution_count": null,
   "metadata": {},
   "outputs": [],
   "source": [
    "# signal\n",
    "b2 = np.linspace(0.2,5,50)\n",
    "a,b=mpl.plot_data_mc_stacked(variable='p_D_l',bins=b2,ratio=False,\n",
    "                          cut='fakeD_prob>0.1 and D_M>1.83 and D_M<1.91',\n",
    "                          scale=[1,187/200],correction=False,mask=[],figsize=(10,6))"
   ]
  },
  {
   "cell_type": "code",
   "execution_count": null,
   "metadata": {},
   "outputs": [],
   "source": []
  },
  {
   "cell_type": "code",
   "execution_count": null,
   "metadata": {},
   "outputs": [],
   "source": []
  },
  {
   "cell_type": "code",
   "execution_count": null,
   "metadata": {},
   "outputs": [],
   "source": []
  },
  {
   "cell_type": "code",
   "execution_count": null,
   "metadata": {},
   "outputs": [],
   "source": []
  }
 ],
 "metadata": {
  "kernelspec": {
   "display_name": "Python 3 (Belle2)",
   "language": "python",
   "name": "python3"
  },
  "language_info": {
   "codemirror_mode": {
    "name": "ipython",
    "version": 3
   },
   "file_extension": ".py",
   "mimetype": "text/x-python",
   "name": "python",
   "nbconvert_exporter": "python",
   "pygments_lexer": "ipython3",
   "version": "3.11.9"
  }
 },
 "nbformat": 4,
 "nbformat_minor": 4
}

{
 "cells": [
  {
   "cell_type": "markdown",
   "metadata": {},
   "source": [
    "# 1. Define binning and model"
   ]
  },
  {
   "cell_type": "code",
   "execution_count": 1,
   "metadata": {},
   "outputs": [
    {
     "name": "stdout",
     "output_type": "stream",
     "text": [
      "Welcome to JupyROOT 6.26/14\n"
     ]
    }
   ],
   "source": [
    "%load_ext autoreload\n",
    "%autoreload 2\n",
    "\n",
    "import uproot\n",
    "import numpy as np\n",
    "import pandas as pd\n",
    "import matplotlib.pyplot as plt\n",
    "from optbinning import MulticlassOptimalBinning\n",
    "\n",
    "import sys\n",
    "sys.path.append('/home/belle/zhangboy/inclusive_R_D/')\n",
    "import utilities as util"
   ]
  },
  {
   "cell_type": "code",
   "execution_count": 2,
   "metadata": {},
   "outputs": [],
   "source": [
    "# Define the fitting range and number of bins, 'p_D_l'\n",
    "start = 0.4\n",
    "end = 4.8\n",
    "num_bins = 50\n",
    "\n",
    "# Create the bin edges\n",
    "p_D_l_bins = np.linspace(start, end, num_bins + 1)\n",
    "\n",
    "# Define the fitting range and number of bins, 'B0_CMS3_weMissM2'\n",
    "start = -2.5\n",
    "end = 10\n",
    "num_bins = 50\n",
    "\n",
    "# Create the bin edges\n",
    "MM2_bins = np.linspace(start, end, num_bins + 1)\n",
    "\n",
    "\n",
    "# Check for empty bins\n",
    "# empty_bins = [41, 42, 43, 44, 46, 47, 48, 49]\n",
    "\n",
    "# Merge adjacent empty bins\n",
    "# merged_bins = np.delete(bins, empty_bins)\n",
    "\n",
    "# Define relevant variables\n",
    "training_variables = util.training_variables"
   ]
  },
  {
   "cell_type": "code",
   "execution_count": 3,
   "metadata": {},
   "outputs": [],
   "source": [
    "## Loading Ntuples\n",
    "columns = util.all_relevant_variables\n",
    "\n",
    "cut = '(5<B0_roeMbc_my_mask) & (-4<B0_roeDeltae_my_mask) & (B0_roeDeltae_my_mask<1)'\n",
    "\n",
    "# Load data files\n",
    "e_generic = uproot.concatenate([f'../Samples/Generic_MC15ri/e_channel/MC15ri_1ab_quaxo_e_2/*.root:B0'],\n",
    "                          library=\"np\",\n",
    "                          cut = cut,\n",
    "                          filter_branch=lambda branch: branch.name in columns)\n",
    "\n",
    "e_sig = uproot.concatenate([f'../Samples/Generic_MC15ri/e_channel/MC15ri_sig_quaxo_e_1/*.root:B0'],\n",
    "                          library=\"np\",\n",
    "                          cut = cut,\n",
    "                          filter_branch=lambda branch: branch.name in columns)"
   ]
  },
  {
   "cell_type": "code",
   "execution_count": 57,
   "metadata": {},
   "outputs": [],
   "source": [
    "df_e_generic = pd.DataFrame(e_generic).sample(frac=1).reset_index(drop=True)\n",
    "df_e_sig = pd.DataFrame(e_sig)\n",
    "\n",
    "lgb_tight = 'sig_prob==largest_prob and sig_prob>0.65 and fakeD_prob<0.05'\n",
    "\n",
    "for df in [df_e_generic,df_e_sig]:\n",
    "    df.eval('B_D_ReChi2 = B0_vtxReChi2 + D_vtxReChi2', inplace=True)\n",
    "    df.eval('p_D_l = D_CMS_p + ell_CMS_p', inplace=True)\n",
    "\n",
    "df_e_generic_lgb = util.apply_mva_bcs(df_e_generic, training_variables, lgb_tight, library='lgbm')\n",
    "df_e_sig_lgb = util.apply_mva_bcs(df_e_sig, training_variables, lgb_tight, library='lgbm')\n",
    "\n",
    "\n",
    "\n",
    "# mu_temp = uproot.concatenate([f'../Samples/Generic_MC15ri/mu_channel/MC15ri_local_200fb/*.root:B0'],\n",
    "#                           library=\"np\",\n",
    "#                           #cut=input_cut,\n",
    "#                           filter_branch=lambda branch: branch.name in columns)\n",
    "\n",
    "# df_mu = pd.DataFrame(mu_temp)\n",
    "# df_mu['__weight__'] = 5\n",
    "\n",
    "# df_mu.eval('B_D_ReChi2 = B0_vtxReChi2 + D_vtxReChi2', inplace=True)\n",
    "# df_mu.eval(f'p_D_l = D_CMS_p + ell_CMS_p', inplace=True)"
   ]
  },
  {
   "cell_type": "code",
   "execution_count": 58,
   "metadata": {},
   "outputs": [
    {
     "name": "stdout",
     "output_type": "stream",
     "text": [
      "bkg_fakeD 15757\n",
      "bkg_TDFl 6338\n",
      "bkg_fakeTracks 2637\n",
      "bkg_continuum 13203\n",
      "bkg_combinatorial 15124\n",
      "bkg_singleBbkg 9611\n",
      "bkg_other_TDTl 0\n",
      "$D\\tau\\nu$ 4241\n",
      "$D^\\ast\\tau\\nu$ 2483\n",
      "$D\\ell\\nu$ 90282\n",
      "$D^\\ast\\ell\\nu$ 57810\n",
      "$D^{\\ast\\ast}\\tau\\nu$ 1472\n",
      "$D^{\\ast\\ast}\\ell\\nu$_narrow 18373\n",
      "$D^{\\ast\\ast}\\ell\\nu$_broad 14110\n",
      "$D\\ell\\nu$_gap_pi 3467\n",
      "$D\\ell\\nu$_gap_eta 3076\n",
      "bkg_other_signal 0\n"
     ]
    }
   ],
   "source": [
    "t_e_generic = util.classify_mc_dict(df_e_generic_lgb, 'e', template=False)\n",
    "t_e_sig = util.classify_mc_dict(df_e_sig_lgb, 'e', template=False)\n",
    "\n",
    "for name, df in t_e_generic.items():\n",
    "    if name == 'bkg_fakeD':\n",
    "        df = df.query('1.855<D_M<1.885')\n",
    "        t_e_generic[name]=df\n",
    "    print(name, len(df))"
   ]
  },
  {
   "cell_type": "code",
   "execution_count": 6,
   "metadata": {},
   "outputs": [
    {
     "name": "stdout",
     "output_type": "stream",
     "text": [
      "bkg_fakeD 20347\n",
      "bkg_TDFl 1805\n",
      "bkg_fakeTracks 1350\n",
      "bkg_continuum 0\n",
      "bkg_combinatorial 11586\n",
      "bkg_singleBbkg 2492\n",
      "bkg_other_TDTl 0\n",
      "$D\\tau\\nu$ 18671\n",
      "$D^\\ast\\tau\\nu$ 9709\n",
      "$D\\ell\\nu$ 30176\n",
      "$D^\\ast\\ell\\nu$ 19336\n",
      "$D^{\\ast\\ast}\\tau\\nu$ 17312\n",
      "$D^{\\ast\\ast}\\ell\\nu$_narrow 5671\n",
      "$D^{\\ast\\ast}\\ell\\nu$_broad 3937\n",
      "$D\\ell\\nu$_gap_pi 1184\n",
      "$D\\ell\\nu$_gap_eta 1335\n",
      "bkg_other_signal 0\n"
     ]
    }
   ],
   "source": [
    "# use signal MC\n",
    "for name, df in t_e_sig.items():\n",
    "    print(name, len(df))"
   ]
  },
  {
   "cell_type": "code",
   "execution_count": 7,
   "metadata": {},
   "outputs": [
    {
     "name": "stdout",
     "output_type": "stream",
     "text": [
      "bkg_fakeD 6458\n",
      "bkg_TDFl 2559\n",
      "bkg_fakeTracks 1122\n",
      "bkg_continuum 5279\n",
      "bkg_combinatorial 6044\n",
      "bkg_singleBbkg 3833\n",
      "bkg_other_TDTl 0\n",
      "$D\\ell\\nu$ 36170\n",
      "$D^\\ast\\ell\\nu$ 23174\n",
      "$D^{\\ast\\ast}\\ell\\nu$_narrow 7190\n",
      "$D^{\\ast\\ast}\\ell\\nu$_broad 5693\n",
      "$D\\ell\\nu$_gap_pi 1413\n",
      "$D\\ell\\nu$_gap_eta 1214\n",
      "bkg_other_signal 0\n",
      "$D\\tau\\nu$ 18671\n",
      "$D^\\ast\\tau\\nu$ 9709\n",
      "$D^{\\ast\\ast}\\tau\\nu$ 17312\n"
     ]
    }
   ],
   "source": [
    "sig_comp = [r'$D\\tau\\nu$', r'$D^\\ast\\tau\\nu$', r'$D^{\\ast\\ast}\\tau\\nu$']\n",
    "te = {k:v for k,v in t_e_generic.items() if k not in sig_comp}\n",
    "for c_name in sig_comp:\n",
    "    te[c_name] = t_e_sig[c_name]\n",
    "    \n",
    "for name, df in te.items():\n",
    "    print(name, len(df))"
   ]
  },
  {
   "cell_type": "code",
   "execution_count": 59,
   "metadata": {},
   "outputs": [
    {
     "data": {
      "text/plain": [
       "label\n",
       "$D\\tau\\nu$               4241\n",
       "$D^{\\ast\\ast}\\ell\\nu$    4000\n",
       "$D^\\ast\\tau\\nu$          2483\n",
       "$D^{\\ast\\ast}\\tau\\nu$    1472\n",
       "Name: count, dtype: int64"
      ]
     },
     "execution_count": 59,
     "metadata": {},
     "output_type": "execute_result"
    }
   ],
   "source": [
    "samples_for_optbinning = {\n",
    "#                           'bkg':[t_e_generic['bkg_fakeD'].sample(n=1000),\n",
    "#                                  t_e_generic['bkg_TDFl'].sample(n=1000),\n",
    "#                                  t_e_generic['bkg_continuum'].sample(n=4000),\n",
    "#                                  t_e_generic['bkg_combinatorial'].sample(n=4000),\n",
    "#                                  t_e_generic['bkg_singleBbkg'].sample(n=1000),\n",
    "#                                 ],\n",
    "#                           r'$D\\ell\\nu$': t_e_generic[r'$D\\ell\\nu$'].sample(n=20000),\n",
    "#                           r'$D^\\ast\\ell\\nu$': t_e_generic[r'$D^\\ast\\ell\\nu$'].sample(n=20000),\n",
    "                          r'$D^{\\ast\\ast}\\ell\\nu$': [t_e_generic[r'$D^{\\ast\\ast}\\ell\\nu$_narrow'].sample(n=2000),\n",
    "                                                     t_e_generic[r'$D^{\\ast\\ast}\\ell\\nu$_broad'].sample(n=2000)],\n",
    "                          r'$D\\tau\\nu$': t_e_generic[r'$D\\tau\\nu$'],\n",
    "                          r'$D^\\ast\\tau\\nu$': t_e_generic[r'$D^\\ast\\tau\\nu$'],\n",
    "                          r'$D^{\\ast\\ast}\\tau\\nu$': t_e_generic[r'$D^{\\ast\\ast}\\tau\\nu$'],\n",
    "                         }\n",
    "\n",
    "# List to collect labeled DataFrames\n",
    "labeled_dfs = []\n",
    "\n",
    "for label, dfs in samples_for_optbinning.items():\n",
    "    # If it's a list of DataFrames, concatenate them first\n",
    "    if isinstance(dfs, list):\n",
    "        df = pd.concat(dfs, ignore_index=True)\n",
    "    else:\n",
    "        df = dfs.copy()\n",
    "\n",
    "    # Add the label column\n",
    "    df['label'] = label\n",
    "    labeled_dfs.append(df)\n",
    "\n",
    "# Combine everything into a single DataFrame\n",
    "combined_df = pd.concat(labeled_dfs, ignore_index=True)\n",
    "combined_df.label.value_counts()"
   ]
  },
  {
   "cell_type": "markdown",
   "metadata": {},
   "source": [
    "# 2. Create 1d bin edges\n",
    "## MM2"
   ]
  },
  {
   "cell_type": "code",
   "execution_count": 61,
   "metadata": {},
   "outputs": [
    {
     "name": "stdout",
     "output_type": "stream",
     "text": [
      "2025-03-28 07:41:57,294 | INFO : Optimal binning started.\n",
      "2025-03-28 07:41:57,295 | INFO : Options: check parameters.\n",
      "2025-03-28 07:41:57,295 | INFO : Pre-processing started.\n",
      "2025-03-28 07:41:57,295 | INFO : Pre-processing: number of samples: 12196\n",
      "2025-03-28 07:41:57,296 | INFO : Pre-processing: number of clean samples: 12196\n",
      "2025-03-28 07:41:57,296 | INFO : Pre-processing: number of missing samples: 0\n",
      "2025-03-28 07:41:57,297 | INFO : Pre-processing: number of special samples: 0\n",
      "2025-03-28 07:41:57,297 | INFO : Pre-processing terminated. Time: 0.0006s\n",
      "2025-03-28 07:41:57,297 | INFO : Pre-binning started.\n",
      "2025-03-28 07:41:57,305 | INFO : Pre-binning: number prebins removed: 1\n",
      "2025-03-28 07:41:57,308 | INFO : Pre-binning: number of prebins: 49\n",
      "2025-03-28 07:41:57,308 | INFO : Pre-binning: number of refinements: 1\n",
      "2025-03-28 07:41:57,309 | INFO : Pre-binning terminated. Time: 0.0108s\n",
      "2025-03-28 07:41:57,309 | INFO : Optimizer started.\n",
      "2025-03-28 07:41:57,311 | INFO : Optimizer: classifier predicts ['peak', 'ascending', 'descending', 'ascending'] monotonic trends.\n",
      "2025-03-28 07:41:57,311 | INFO : Optimizer: build model...\n",
      "2025-03-28 07:42:01,515 | INFO : Optimizer: solve...\n",
      "2025-03-28 07:42:01,613 | INFO : Optimizer terminated. Time: 4.3036s\n",
      "2025-03-28 07:42:01,614 | INFO : Post-processing started.\n",
      "2025-03-28 07:42:01,614 | INFO : Post-processing: compute binning information.\n",
      "2025-03-28 07:42:01,615 | INFO : Post-processing terminated. Time: 0.0003s\n",
      "2025-03-28 07:42:01,615 | INFO : Optimal binning terminated. Status: OPTIMAL. Time: 4.3210s\n"
     ]
    },
    {
     "data": {
      "text/html": [
       "<style>#sk-container-id-15 {color: black;}#sk-container-id-15 pre{padding: 0;}#sk-container-id-15 div.sk-toggleable {background-color: white;}#sk-container-id-15 label.sk-toggleable__label {cursor: pointer;display: block;width: 100%;margin-bottom: 0;padding: 0.3em;box-sizing: border-box;text-align: center;}#sk-container-id-15 label.sk-toggleable__label-arrow:before {content: \"▸\";float: left;margin-right: 0.25em;color: #696969;}#sk-container-id-15 label.sk-toggleable__label-arrow:hover:before {color: black;}#sk-container-id-15 div.sk-estimator:hover label.sk-toggleable__label-arrow:before {color: black;}#sk-container-id-15 div.sk-toggleable__content {max-height: 0;max-width: 0;overflow: hidden;text-align: left;background-color: #f0f8ff;}#sk-container-id-15 div.sk-toggleable__content pre {margin: 0.2em;color: black;border-radius: 0.25em;background-color: #f0f8ff;}#sk-container-id-15 input.sk-toggleable__control:checked~div.sk-toggleable__content {max-height: 200px;max-width: 100%;overflow: auto;}#sk-container-id-15 input.sk-toggleable__control:checked~label.sk-toggleable__label-arrow:before {content: \"▾\";}#sk-container-id-15 div.sk-estimator input.sk-toggleable__control:checked~label.sk-toggleable__label {background-color: #d4ebff;}#sk-container-id-15 div.sk-label input.sk-toggleable__control:checked~label.sk-toggleable__label {background-color: #d4ebff;}#sk-container-id-15 input.sk-hidden--visually {border: 0;clip: rect(1px 1px 1px 1px);clip: rect(1px, 1px, 1px, 1px);height: 1px;margin: -1px;overflow: hidden;padding: 0;position: absolute;width: 1px;}#sk-container-id-15 div.sk-estimator {font-family: monospace;background-color: #f0f8ff;border: 1px dotted black;border-radius: 0.25em;box-sizing: border-box;margin-bottom: 0.5em;}#sk-container-id-15 div.sk-estimator:hover {background-color: #d4ebff;}#sk-container-id-15 div.sk-parallel-item::after {content: \"\";width: 100%;border-bottom: 1px solid gray;flex-grow: 1;}#sk-container-id-15 div.sk-label:hover label.sk-toggleable__label {background-color: #d4ebff;}#sk-container-id-15 div.sk-serial::before {content: \"\";position: absolute;border-left: 1px solid gray;box-sizing: border-box;top: 0;bottom: 0;left: 50%;z-index: 0;}#sk-container-id-15 div.sk-serial {display: flex;flex-direction: column;align-items: center;background-color: white;padding-right: 0.2em;padding-left: 0.2em;position: relative;}#sk-container-id-15 div.sk-item {position: relative;z-index: 1;}#sk-container-id-15 div.sk-parallel {display: flex;align-items: stretch;justify-content: center;background-color: white;position: relative;}#sk-container-id-15 div.sk-item::before, #sk-container-id-15 div.sk-parallel-item::before {content: \"\";position: absolute;border-left: 1px solid gray;box-sizing: border-box;top: 0;bottom: 0;left: 50%;z-index: -1;}#sk-container-id-15 div.sk-parallel-item {display: flex;flex-direction: column;z-index: 1;position: relative;background-color: white;}#sk-container-id-15 div.sk-parallel-item:first-child::after {align-self: flex-end;width: 50%;}#sk-container-id-15 div.sk-parallel-item:last-child::after {align-self: flex-start;width: 50%;}#sk-container-id-15 div.sk-parallel-item:only-child::after {width: 0;}#sk-container-id-15 div.sk-dashed-wrapped {border: 1px dashed gray;margin: 0 0.4em 0.5em 0.4em;box-sizing: border-box;padding-bottom: 0.4em;background-color: white;}#sk-container-id-15 div.sk-label label {font-family: monospace;font-weight: bold;display: inline-block;line-height: 1.2em;}#sk-container-id-15 div.sk-label-container {text-align: center;}#sk-container-id-15 div.sk-container {/* jupyter's `normalize.less` sets `[hidden] { display: none; }` but bootstrap.min.css set `[hidden] { display: none !important; }` so we also need the `!important` here to be able to override the default hidden behavior on the sphinx rendered scikit-learn.org. See: https://github.com/scikit-learn/scikit-learn/issues/21755 */display: inline-block !important;position: relative;}#sk-container-id-15 div.sk-text-repr-fallback {display: none;}</style><div id=\"sk-container-id-15\" class=\"sk-top-container\"><div class=\"sk-text-repr-fallback\"><pre>MulticlassOptimalBinning(max_n_bins=50, max_n_prebins=50, min_n_bins=10,\n",
       "                         name=&#x27;B0_CMS3_weMissM2&#x27;, prebinning_method=&#x27;quantile&#x27;,\n",
       "                         time_limit=10000, verbose=True)</pre><b>In a Jupyter environment, please rerun this cell to show the HTML representation or trust the notebook. <br />On GitHub, the HTML representation is unable to render, please try loading this page with nbviewer.org.</b></div><div class=\"sk-container\" hidden><div class=\"sk-item\"><div class=\"sk-estimator sk-toggleable\"><input class=\"sk-toggleable__control sk-hidden--visually\" id=\"sk-estimator-id-15\" type=\"checkbox\" checked><label for=\"sk-estimator-id-15\" class=\"sk-toggleable__label sk-toggleable__label-arrow\">MulticlassOptimalBinning</label><div class=\"sk-toggleable__content\"><pre>MulticlassOptimalBinning(max_n_bins=50, max_n_prebins=50, min_n_bins=10,\n",
       "                         name=&#x27;B0_CMS3_weMissM2&#x27;, prebinning_method=&#x27;quantile&#x27;,\n",
       "                         time_limit=10000, verbose=True)</pre></div></div></div></div></div>"
      ],
      "text/plain": [
       "MulticlassOptimalBinning(max_n_bins=50, max_n_prebins=50, min_n_bins=10,\n",
       "                         name='B0_CMS3_weMissM2', prebinning_method='quantile',\n",
       "                         time_limit=10000, verbose=True)"
      ]
     },
     "execution_count": 61,
     "metadata": {},
     "output_type": "execute_result"
    }
   ],
   "source": [
    "variable = \"B0_CMS3_weMissM2\"\n",
    "x = combined_df[variable]\n",
    "y = combined_df['label']\n",
    "\n",
    "optb = MulticlassOptimalBinning(name=variable, solver=\"cp\",\n",
    "                                monotonic_trend='auto',\n",
    "                                max_n_prebins=50, min_n_bins=10, max_n_bins=50,\n",
    "                                prebinning_method='quantile',time_limit=10000,verbose=True)\n",
    "optb.fit(x, y)"
   ]
  },
  {
   "cell_type": "code",
   "execution_count": null,
   "metadata": {},
   "outputs": [],
   "source": []
  },
  {
   "cell_type": "code",
   "execution_count": 35,
   "metadata": {},
   "outputs": [
    {
     "data": {
      "text/plain": [
       "'OPTIMAL'"
      ]
     },
     "execution_count": 35,
     "metadata": {},
     "output_type": "execute_result"
    }
   ],
   "source": [
    "optb.status"
   ]
  },
  {
   "cell_type": "code",
   "execution_count": 62,
   "metadata": {},
   "outputs": [
    {
     "data": {
      "text/plain": [
       "array([0.2190028 , 0.42181376, 0.56764752, 0.93900208, 1.15576024,\n",
       "       1.48408229, 1.59004812, 1.68124781, 2.43054097, 2.65636575,\n",
       "       3.32945232, 4.63669419, 4.80163097])"
      ]
     },
     "execution_count": 62,
     "metadata": {},
     "output_type": "execute_result"
    }
   ],
   "source": [
    "optb.splits"
   ]
  },
  {
   "cell_type": "code",
   "execution_count": 36,
   "metadata": {},
   "outputs": [
    {
     "data": {
      "text/plain": [
       "array([0.60963067, 1.07813126, 1.56026846, 1.89984685, 2.18210733,\n",
       "       2.64860451, 3.11898398, 3.66164672, 4.04989219, 4.93834496,\n",
       "       6.20905995])"
      ]
     },
     "execution_count": 36,
     "metadata": {},
     "output_type": "execute_result"
    }
   ],
   "source": [
    "optb.splits"
   ]
  },
  {
   "cell_type": "code",
   "execution_count": 37,
   "metadata": {},
   "outputs": [
    {
     "data": {
      "text/plain": [
       "array([0.46850058, 0.4821372 , 0.33957839, 0.28226048, 0.46649718,\n",
       "       0.47037947, 0.54266274, 0.38824546, 0.88845277, 1.270715  ])"
      ]
     },
     "execution_count": 37,
     "metadata": {},
     "output_type": "execute_result"
    }
   ],
   "source": [
    "np.diff(optb.splits)"
   ]
  },
  {
   "cell_type": "code",
   "execution_count": 129,
   "metadata": {},
   "outputs": [],
   "source": [
    "a=optb.splits\n",
    "b=np.diff(optb.splits)"
   ]
  },
  {
   "cell_type": "code",
   "execution_count": null,
   "metadata": {},
   "outputs": [],
   "source": [
    "c=optb.splits\n",
    "d=np.diff(optb.splits)"
   ]
  },
  {
   "cell_type": "code",
   "execution_count": 54,
   "metadata": {},
   "outputs": [
    {
     "data": {
      "text/html": [
       "<div>\n",
       "<style scoped>\n",
       "    .dataframe tbody tr th:only-of-type {\n",
       "        vertical-align: middle;\n",
       "    }\n",
       "\n",
       "    .dataframe tbody tr th {\n",
       "        vertical-align: top;\n",
       "    }\n",
       "\n",
       "    .dataframe thead th {\n",
       "        text-align: right;\n",
       "    }\n",
       "</style>\n",
       "<table border=\"1\" class=\"dataframe\">\n",
       "  <thead>\n",
       "    <tr style=\"text-align: right;\">\n",
       "      <th></th>\n",
       "      <th>Bin</th>\n",
       "      <th>Count</th>\n",
       "      <th>Count (%)</th>\n",
       "      <th>Event_$D\\tau\\nu$</th>\n",
       "      <th>Event_$D^\\ast\\tau\\nu$</th>\n",
       "      <th>Event_$D^{\\ast\\ast}\\ell\\nu$</th>\n",
       "      <th>Event_$D^{\\ast\\ast}\\tau\\nu$</th>\n",
       "      <th>Event_rate_$D\\tau\\nu$</th>\n",
       "      <th>Event_rate_$D^\\ast\\tau\\nu$</th>\n",
       "      <th>Event_rate_$D^{\\ast\\ast}\\ell\\nu$</th>\n",
       "      <th>Event_rate_$D^{\\ast\\ast}\\tau\\nu$</th>\n",
       "    </tr>\n",
       "  </thead>\n",
       "  <tbody>\n",
       "    <tr>\n",
       "      <th>0</th>\n",
       "      <td>(-inf, 0.38)</td>\n",
       "      <td>2343</td>\n",
       "      <td>0.040000</td>\n",
       "      <td>446</td>\n",
       "      <td>56</td>\n",
       "      <td>1784</td>\n",
       "      <td>57</td>\n",
       "      <td>0.190354</td>\n",
       "      <td>0.023901</td>\n",
       "      <td>0.761417</td>\n",
       "      <td>0.024328</td>\n",
       "    </tr>\n",
       "    <tr>\n",
       "      <th>1</th>\n",
       "      <td>[0.38, 0.79)</td>\n",
       "      <td>2343</td>\n",
       "      <td>0.040000</td>\n",
       "      <td>478</td>\n",
       "      <td>95</td>\n",
       "      <td>1670</td>\n",
       "      <td>100</td>\n",
       "      <td>0.204012</td>\n",
       "      <td>0.040546</td>\n",
       "      <td>0.712761</td>\n",
       "      <td>0.042680</td>\n",
       "    </tr>\n",
       "    <tr>\n",
       "      <th>2</th>\n",
       "      <td>[0.79, 0.94)</td>\n",
       "      <td>1172</td>\n",
       "      <td>0.020009</td>\n",
       "      <td>280</td>\n",
       "      <td>57</td>\n",
       "      <td>771</td>\n",
       "      <td>64</td>\n",
       "      <td>0.238908</td>\n",
       "      <td>0.048635</td>\n",
       "      <td>0.657850</td>\n",
       "      <td>0.054608</td>\n",
       "    </tr>\n",
       "    <tr>\n",
       "      <th>3</th>\n",
       "      <td>[0.94, 1.09)</td>\n",
       "      <td>1171</td>\n",
       "      <td>0.019991</td>\n",
       "      <td>288</td>\n",
       "      <td>82</td>\n",
       "      <td>712</td>\n",
       "      <td>89</td>\n",
       "      <td>0.245944</td>\n",
       "      <td>0.070026</td>\n",
       "      <td>0.608027</td>\n",
       "      <td>0.076003</td>\n",
       "    </tr>\n",
       "    <tr>\n",
       "      <th>4</th>\n",
       "      <td>[1.09, 1.37)</td>\n",
       "      <td>2343</td>\n",
       "      <td>0.040000</td>\n",
       "      <td>681</td>\n",
       "      <td>184</td>\n",
       "      <td>1248</td>\n",
       "      <td>230</td>\n",
       "      <td>0.290653</td>\n",
       "      <td>0.078532</td>\n",
       "      <td>0.532650</td>\n",
       "      <td>0.098165</td>\n",
       "    </tr>\n",
       "    <tr>\n",
       "      <th>5</th>\n",
       "      <td>[1.37, 1.74)</td>\n",
       "      <td>3515</td>\n",
       "      <td>0.060009</td>\n",
       "      <td>1140</td>\n",
       "      <td>376</td>\n",
       "      <td>1551</td>\n",
       "      <td>448</td>\n",
       "      <td>0.324324</td>\n",
       "      <td>0.106970</td>\n",
       "      <td>0.441252</td>\n",
       "      <td>0.127454</td>\n",
       "    </tr>\n",
       "    <tr>\n",
       "      <th>6</th>\n",
       "      <td>[1.74, 2.09)</td>\n",
       "      <td>3514</td>\n",
       "      <td>0.059991</td>\n",
       "      <td>1216</td>\n",
       "      <td>421</td>\n",
       "      <td>1274</td>\n",
       "      <td>603</td>\n",
       "      <td>0.346044</td>\n",
       "      <td>0.119806</td>\n",
       "      <td>0.362550</td>\n",
       "      <td>0.171599</td>\n",
       "    </tr>\n",
       "    <tr>\n",
       "      <th>7</th>\n",
       "      <td>[2.09, 2.43)</td>\n",
       "      <td>3515</td>\n",
       "      <td>0.060009</td>\n",
       "      <td>1308</td>\n",
       "      <td>476</td>\n",
       "      <td>954</td>\n",
       "      <td>777</td>\n",
       "      <td>0.372119</td>\n",
       "      <td>0.135420</td>\n",
       "      <td>0.271408</td>\n",
       "      <td>0.221053</td>\n",
       "    </tr>\n",
       "    <tr>\n",
       "      <th>8</th>\n",
       "      <td>[2.43, 2.65)</td>\n",
       "      <td>2343</td>\n",
       "      <td>0.040000</td>\n",
       "      <td>874</td>\n",
       "      <td>351</td>\n",
       "      <td>532</td>\n",
       "      <td>586</td>\n",
       "      <td>0.373026</td>\n",
       "      <td>0.149808</td>\n",
       "      <td>0.227059</td>\n",
       "      <td>0.250107</td>\n",
       "    </tr>\n",
       "    <tr>\n",
       "      <th>9</th>\n",
       "      <td>[2.65, 3.31)</td>\n",
       "      <td>7028</td>\n",
       "      <td>0.119983</td>\n",
       "      <td>2627</td>\n",
       "      <td>1239</td>\n",
       "      <td>1067</td>\n",
       "      <td>2095</td>\n",
       "      <td>0.373791</td>\n",
       "      <td>0.176295</td>\n",
       "      <td>0.151821</td>\n",
       "      <td>0.298093</td>\n",
       "    </tr>\n",
       "    <tr>\n",
       "      <th>10</th>\n",
       "      <td>[3.31, 3.63)</td>\n",
       "      <td>3515</td>\n",
       "      <td>0.060009</td>\n",
       "      <td>1316</td>\n",
       "      <td>680</td>\n",
       "      <td>347</td>\n",
       "      <td>1172</td>\n",
       "      <td>0.374395</td>\n",
       "      <td>0.193457</td>\n",
       "      <td>0.098720</td>\n",
       "      <td>0.333428</td>\n",
       "    </tr>\n",
       "    <tr>\n",
       "      <th>11</th>\n",
       "      <td>[3.63, 4.08)</td>\n",
       "      <td>4686</td>\n",
       "      <td>0.080000</td>\n",
       "      <td>1663</td>\n",
       "      <td>911</td>\n",
       "      <td>364</td>\n",
       "      <td>1748</td>\n",
       "      <td>0.354887</td>\n",
       "      <td>0.194409</td>\n",
       "      <td>0.077678</td>\n",
       "      <td>0.373026</td>\n",
       "    </tr>\n",
       "    <tr>\n",
       "      <th>12</th>\n",
       "      <td>[4.08, 5.14)</td>\n",
       "      <td>9372</td>\n",
       "      <td>0.160000</td>\n",
       "      <td>3135</td>\n",
       "      <td>1901</td>\n",
       "      <td>422</td>\n",
       "      <td>3914</td>\n",
       "      <td>0.334507</td>\n",
       "      <td>0.202838</td>\n",
       "      <td>0.045028</td>\n",
       "      <td>0.417627</td>\n",
       "    </tr>\n",
       "    <tr>\n",
       "      <th>13</th>\n",
       "      <td>[5.14, 6.11)</td>\n",
       "      <td>5857</td>\n",
       "      <td>0.099991</td>\n",
       "      <td>1705</td>\n",
       "      <td>1380</td>\n",
       "      <td>144</td>\n",
       "      <td>2628</td>\n",
       "      <td>0.291105</td>\n",
       "      <td>0.235616</td>\n",
       "      <td>0.024586</td>\n",
       "      <td>0.448694</td>\n",
       "    </tr>\n",
       "    <tr>\n",
       "      <th>14</th>\n",
       "      <td>[6.11, 6.36)</td>\n",
       "      <td>1172</td>\n",
       "      <td>0.020009</td>\n",
       "      <td>334</td>\n",
       "      <td>283</td>\n",
       "      <td>11</td>\n",
       "      <td>544</td>\n",
       "      <td>0.284983</td>\n",
       "      <td>0.241468</td>\n",
       "      <td>0.009386</td>\n",
       "      <td>0.464164</td>\n",
       "    </tr>\n",
       "    <tr>\n",
       "      <th>15</th>\n",
       "      <td>[6.36, inf)</td>\n",
       "      <td>4686</td>\n",
       "      <td>0.080000</td>\n",
       "      <td>1180</td>\n",
       "      <td>1217</td>\n",
       "      <td>32</td>\n",
       "      <td>2257</td>\n",
       "      <td>0.251814</td>\n",
       "      <td>0.259710</td>\n",
       "      <td>0.006829</td>\n",
       "      <td>0.481647</td>\n",
       "    </tr>\n",
       "    <tr>\n",
       "      <th>16</th>\n",
       "      <td>Special</td>\n",
       "      <td>0</td>\n",
       "      <td>0.000000</td>\n",
       "      <td>0</td>\n",
       "      <td>0</td>\n",
       "      <td>0</td>\n",
       "      <td>0</td>\n",
       "      <td>0.000000</td>\n",
       "      <td>0.000000</td>\n",
       "      <td>0.000000</td>\n",
       "      <td>0.000000</td>\n",
       "    </tr>\n",
       "    <tr>\n",
       "      <th>17</th>\n",
       "      <td>Missing</td>\n",
       "      <td>0</td>\n",
       "      <td>0.000000</td>\n",
       "      <td>0</td>\n",
       "      <td>0</td>\n",
       "      <td>0</td>\n",
       "      <td>0</td>\n",
       "      <td>0.000000</td>\n",
       "      <td>0.000000</td>\n",
       "      <td>0.000000</td>\n",
       "      <td>0.000000</td>\n",
       "    </tr>\n",
       "    <tr>\n",
       "      <th>Totals</th>\n",
       "      <td></td>\n",
       "      <td>58575</td>\n",
       "      <td>1.000000</td>\n",
       "      <td>18671</td>\n",
       "      <td>9709</td>\n",
       "      <td>12883</td>\n",
       "      <td>17312</td>\n",
       "      <td>0.318754</td>\n",
       "      <td>0.165753</td>\n",
       "      <td>0.219940</td>\n",
       "      <td>0.295553</td>\n",
       "    </tr>\n",
       "  </tbody>\n",
       "</table>\n",
       "</div>"
      ],
      "text/plain": [
       "                 Bin  Count  Count (%)  Event_$D\\tau\\nu$  \\\n",
       "0       (-inf, 0.38)   2343   0.040000               446   \n",
       "1       [0.38, 0.79)   2343   0.040000               478   \n",
       "2       [0.79, 0.94)   1172   0.020009               280   \n",
       "3       [0.94, 1.09)   1171   0.019991               288   \n",
       "4       [1.09, 1.37)   2343   0.040000               681   \n",
       "5       [1.37, 1.74)   3515   0.060009              1140   \n",
       "6       [1.74, 2.09)   3514   0.059991              1216   \n",
       "7       [2.09, 2.43)   3515   0.060009              1308   \n",
       "8       [2.43, 2.65)   2343   0.040000               874   \n",
       "9       [2.65, 3.31)   7028   0.119983              2627   \n",
       "10      [3.31, 3.63)   3515   0.060009              1316   \n",
       "11      [3.63, 4.08)   4686   0.080000              1663   \n",
       "12      [4.08, 5.14)   9372   0.160000              3135   \n",
       "13      [5.14, 6.11)   5857   0.099991              1705   \n",
       "14      [6.11, 6.36)   1172   0.020009               334   \n",
       "15       [6.36, inf)   4686   0.080000              1180   \n",
       "16           Special      0   0.000000                 0   \n",
       "17           Missing      0   0.000000                 0   \n",
       "Totals                58575   1.000000             18671   \n",
       "\n",
       "        Event_$D^\\ast\\tau\\nu$  Event_$D^{\\ast\\ast}\\ell\\nu$  \\\n",
       "0                          56                         1784   \n",
       "1                          95                         1670   \n",
       "2                          57                          771   \n",
       "3                          82                          712   \n",
       "4                         184                         1248   \n",
       "5                         376                         1551   \n",
       "6                         421                         1274   \n",
       "7                         476                          954   \n",
       "8                         351                          532   \n",
       "9                        1239                         1067   \n",
       "10                        680                          347   \n",
       "11                        911                          364   \n",
       "12                       1901                          422   \n",
       "13                       1380                          144   \n",
       "14                        283                           11   \n",
       "15                       1217                           32   \n",
       "16                          0                            0   \n",
       "17                          0                            0   \n",
       "Totals                   9709                        12883   \n",
       "\n",
       "        Event_$D^{\\ast\\ast}\\tau\\nu$  Event_rate_$D\\tau\\nu$  \\\n",
       "0                                57               0.190354   \n",
       "1                               100               0.204012   \n",
       "2                                64               0.238908   \n",
       "3                                89               0.245944   \n",
       "4                               230               0.290653   \n",
       "5                               448               0.324324   \n",
       "6                               603               0.346044   \n",
       "7                               777               0.372119   \n",
       "8                               586               0.373026   \n",
       "9                              2095               0.373791   \n",
       "10                             1172               0.374395   \n",
       "11                             1748               0.354887   \n",
       "12                             3914               0.334507   \n",
       "13                             2628               0.291105   \n",
       "14                              544               0.284983   \n",
       "15                             2257               0.251814   \n",
       "16                                0               0.000000   \n",
       "17                                0               0.000000   \n",
       "Totals                        17312               0.318754   \n",
       "\n",
       "        Event_rate_$D^\\ast\\tau\\nu$  Event_rate_$D^{\\ast\\ast}\\ell\\nu$  \\\n",
       "0                         0.023901                          0.761417   \n",
       "1                         0.040546                          0.712761   \n",
       "2                         0.048635                          0.657850   \n",
       "3                         0.070026                          0.608027   \n",
       "4                         0.078532                          0.532650   \n",
       "5                         0.106970                          0.441252   \n",
       "6                         0.119806                          0.362550   \n",
       "7                         0.135420                          0.271408   \n",
       "8                         0.149808                          0.227059   \n",
       "9                         0.176295                          0.151821   \n",
       "10                        0.193457                          0.098720   \n",
       "11                        0.194409                          0.077678   \n",
       "12                        0.202838                          0.045028   \n",
       "13                        0.235616                          0.024586   \n",
       "14                        0.241468                          0.009386   \n",
       "15                        0.259710                          0.006829   \n",
       "16                        0.000000                          0.000000   \n",
       "17                        0.000000                          0.000000   \n",
       "Totals                    0.165753                          0.219940   \n",
       "\n",
       "        Event_rate_$D^{\\ast\\ast}\\tau\\nu$  \n",
       "0                               0.024328  \n",
       "1                               0.042680  \n",
       "2                               0.054608  \n",
       "3                               0.076003  \n",
       "4                               0.098165  \n",
       "5                               0.127454  \n",
       "6                               0.171599  \n",
       "7                               0.221053  \n",
       "8                               0.250107  \n",
       "9                               0.298093  \n",
       "10                              0.333428  \n",
       "11                              0.373026  \n",
       "12                              0.417627  \n",
       "13                              0.448694  \n",
       "14                              0.464164  \n",
       "15                              0.481647  \n",
       "16                              0.000000  \n",
       "17                              0.000000  \n",
       "Totals                          0.295553  "
      ]
     },
     "execution_count": 54,
     "metadata": {},
     "output_type": "execute_result"
    }
   ],
   "source": [
    "binning_table = optb.binning_table\n",
    "binning_table.build()"
   ]
  },
  {
   "cell_type": "code",
   "execution_count": 55,
   "metadata": {},
   "outputs": [
    {
     "data": {
      "image/png": "[encoded data removed]",
      "text/plain": [
       "<Figure size 432x288 with 2 Axes>"
      ]
     },
     "metadata": {
      "needs_background": "light"
     },
     "output_type": "display_data"
    }
   ],
   "source": [
    "binning_table.plot(show_bin_labels=True)"
   ]
  },
  {
   "cell_type": "code",
   "execution_count": 40,
   "metadata": {},
   "outputs": [
    {
     "name": "stdout",
     "output_type": "stream",
     "text": [
      "-------------------------------------------------\n",
      "OptimalBinning: Multiclass Binning Table Analysis\n",
      "-------------------------------------------------\n",
      "\n",
      "  General metrics\n",
      "\n",
      "    JS (Jensen-Shannon)      0.19093966\n",
      "    HHI                      0.09283523\n",
      "    HHI (normalized)         0.02305332\n",
      "    Cramer's V               0.33970402\n",
      "    Quality score            0.52765047\n",
      "\n",
      "  Monotonic trend\n",
      "\n",
      "    Class  0                       peak\n",
      "    Class  1                  ascending\n",
      "    Class  2                 descending\n",
      "    Class  3                  ascending\n",
      "\n",
      "  Significance tests\n",
      "\n",
      "    Bin A  Bin B  t-statistic      p-value\n",
      "        0      1    94.623105 2.224906e-20\n",
      "        1      2   186.760108 3.058066e-40\n",
      "        2      3    88.644009 4.283332e-19\n",
      "        3      4    37.704862 3.263800e-08\n",
      "        4      5    85.170222 2.385709e-18\n",
      "        5      6   126.548790 2.997371e-27\n",
      "        6      7    66.894189 1.972869e-14\n",
      "        7      8    43.805453 1.659838e-09\n",
      "        8      9    52.454025 2.396832e-11\n",
      "        9     10   106.552706 6.055027e-23\n",
      "       10     11   101.805393 6.357261e-22\n",
      "\n"
     ]
    }
   ],
   "source": [
    "binning_table.analysis()"
   ]
  },
  {
   "cell_type": "markdown",
   "metadata": {},
   "source": [
    "## p_D + p_ell"
   ]
  },
  {
   "cell_type": "code",
   "execution_count": 79,
   "metadata": {},
   "outputs": [
    {
     "name": "stdout",
     "output_type": "stream",
     "text": [
      "2025-03-28 07:52:33,325 | INFO : Optimal binning started.\n",
      "2025-03-28 07:52:33,325 | INFO : Options: check parameters.\n",
      "2025-03-28 07:52:33,326 | INFO : Pre-processing started.\n",
      "2025-03-28 07:52:33,326 | INFO : Pre-processing: number of samples: 12196\n",
      "2025-03-28 07:52:33,327 | INFO : Pre-processing: number of clean samples: 12196\n",
      "2025-03-28 07:52:33,327 | INFO : Pre-processing: number of missing samples: 0\n",
      "2025-03-28 07:52:33,327 | INFO : Pre-processing: number of special samples: 0\n",
      "2025-03-28 07:52:33,327 | INFO : Pre-processing terminated. Time: 0.0007s\n",
      "2025-03-28 07:52:33,328 | INFO : Pre-binning started.\n",
      "2025-03-28 07:52:33,335 | INFO : Pre-binning: number prebins removed: 2\n",
      "2025-03-28 07:52:33,339 | INFO : Pre-binning: number prebins removed: 1\n",
      "2025-03-28 07:52:33,341 | INFO : Pre-binning: number of prebins: 48\n",
      "2025-03-28 07:52:33,342 | INFO : Pre-binning: number of refinements: 2\n",
      "2025-03-28 07:52:33,342 | INFO : Pre-binning terminated. Time: 0.0135s\n",
      "2025-03-28 07:52:33,342 | INFO : Optimizer started.\n",
      "2025-03-28 07:52:33,344 | INFO : Optimizer: classifier predicts ['peak', 'descending', 'ascending', 'descending'] monotonic trends.\n",
      "2025-03-28 07:52:33,344 | INFO : Optimizer: build model...\n",
      "2025-03-28 07:52:37,272 | INFO : Optimizer: solve...\n",
      "2025-03-28 07:52:37,364 | INFO : Optimizer terminated. Time: 4.0221s\n",
      "2025-03-28 07:52:37,365 | INFO : Post-processing started.\n",
      "2025-03-28 07:52:37,366 | INFO : Post-processing: compute binning information.\n",
      "2025-03-28 07:52:37,366 | INFO : Post-processing terminated. Time: 0.0003s\n",
      "2025-03-28 07:52:37,366 | INFO : Optimal binning terminated. Status: OPTIMAL. Time: 4.0419s\n"
     ]
    },
    {
     "data": {
      "text/html": [
       "<style>#sk-container-id-28 {color: black;}#sk-container-id-28 pre{padding: 0;}#sk-container-id-28 div.sk-toggleable {background-color: white;}#sk-container-id-28 label.sk-toggleable__label {cursor: pointer;display: block;width: 100%;margin-bottom: 0;padding: 0.3em;box-sizing: border-box;text-align: center;}#sk-container-id-28 label.sk-toggleable__label-arrow:before {content: \"▸\";float: left;margin-right: 0.25em;color: #696969;}#sk-container-id-28 label.sk-toggleable__label-arrow:hover:before {color: black;}#sk-container-id-28 div.sk-estimator:hover label.sk-toggleable__label-arrow:before {color: black;}#sk-container-id-28 div.sk-toggleable__content {max-height: 0;max-width: 0;overflow: hidden;text-align: left;background-color: #f0f8ff;}#sk-container-id-28 div.sk-toggleable__content pre {margin: 0.2em;color: black;border-radius: 0.25em;background-color: #f0f8ff;}#sk-container-id-28 input.sk-toggleable__control:checked~div.sk-toggleable__content {max-height: 200px;max-width: 100%;overflow: auto;}#sk-container-id-28 input.sk-toggleable__control:checked~label.sk-toggleable__label-arrow:before {content: \"▾\";}#sk-container-id-28 div.sk-estimator input.sk-toggleable__control:checked~label.sk-toggleable__label {background-color: #d4ebff;}#sk-container-id-28 div.sk-label input.sk-toggleable__control:checked~label.sk-toggleable__label {background-color: #d4ebff;}#sk-container-id-28 input.sk-hidden--visually {border: 0;clip: rect(1px 1px 1px 1px);clip: rect(1px, 1px, 1px, 1px);height: 1px;margin: -1px;overflow: hidden;padding: 0;position: absolute;width: 1px;}#sk-container-id-28 div.sk-estimator {font-family: monospace;background-color: #f0f8ff;border: 1px dotted black;border-radius: 0.25em;box-sizing: border-box;margin-bottom: 0.5em;}#sk-container-id-28 div.sk-estimator:hover {background-color: #d4ebff;}#sk-container-id-28 div.sk-parallel-item::after {content: \"\";width: 100%;border-bottom: 1px solid gray;flex-grow: 1;}#sk-container-id-28 div.sk-label:hover label.sk-toggleable__label {background-color: #d4ebff;}#sk-container-id-28 div.sk-serial::before {content: \"\";position: absolute;border-left: 1px solid gray;box-sizing: border-box;top: 0;bottom: 0;left: 50%;z-index: 0;}#sk-container-id-28 div.sk-serial {display: flex;flex-direction: column;align-items: center;background-color: white;padding-right: 0.2em;padding-left: 0.2em;position: relative;}#sk-container-id-28 div.sk-item {position: relative;z-index: 1;}#sk-container-id-28 div.sk-parallel {display: flex;align-items: stretch;justify-content: center;background-color: white;position: relative;}#sk-container-id-28 div.sk-item::before, #sk-container-id-28 div.sk-parallel-item::before {content: \"\";position: absolute;border-left: 1px solid gray;box-sizing: border-box;top: 0;bottom: 0;left: 50%;z-index: -1;}#sk-container-id-28 div.sk-parallel-item {display: flex;flex-direction: column;z-index: 1;position: relative;background-color: white;}#sk-container-id-28 div.sk-parallel-item:first-child::after {align-self: flex-end;width: 50%;}#sk-container-id-28 div.sk-parallel-item:last-child::after {align-self: flex-start;width: 50%;}#sk-container-id-28 div.sk-parallel-item:only-child::after {width: 0;}#sk-container-id-28 div.sk-dashed-wrapped {border: 1px dashed gray;margin: 0 0.4em 0.5em 0.4em;box-sizing: border-box;padding-bottom: 0.4em;background-color: white;}#sk-container-id-28 div.sk-label label {font-family: monospace;font-weight: bold;display: inline-block;line-height: 1.2em;}#sk-container-id-28 div.sk-label-container {text-align: center;}#sk-container-id-28 div.sk-container {/* jupyter's `normalize.less` sets `[hidden] { display: none; }` but bootstrap.min.css set `[hidden] { display: none !important; }` so we also need the `!important` here to be able to override the default hidden behavior on the sphinx rendered scikit-learn.org. See: https://github.com/scikit-learn/scikit-learn/issues/21755 */display: inline-block !important;position: relative;}#sk-container-id-28 div.sk-text-repr-fallback {display: none;}</style><div id=\"sk-container-id-28\" class=\"sk-top-container\"><div class=\"sk-text-repr-fallback\"><pre>MulticlassOptimalBinning(max_n_bins=50, max_n_prebins=50, min_n_bins=1,\n",
       "                         name=&#x27;p_D_l&#x27;, prebinning_method=&#x27;quantile&#x27;,\n",
       "                         time_limit=10000, verbose=True)</pre><b>In a Jupyter environment, please rerun this cell to show the HTML representation or trust the notebook. <br />On GitHub, the HTML representation is unable to render, please try loading this page with nbviewer.org.</b></div><div class=\"sk-container\" hidden><div class=\"sk-item\"><div class=\"sk-estimator sk-toggleable\"><input class=\"sk-toggleable__control sk-hidden--visually\" id=\"sk-estimator-id-28\" type=\"checkbox\" checked><label for=\"sk-estimator-id-28\" class=\"sk-toggleable__label sk-toggleable__label-arrow\">MulticlassOptimalBinning</label><div class=\"sk-toggleable__content\"><pre>MulticlassOptimalBinning(max_n_bins=50, max_n_prebins=50, min_n_bins=1,\n",
       "                         name=&#x27;p_D_l&#x27;, prebinning_method=&#x27;quantile&#x27;,\n",
       "                         time_limit=10000, verbose=True)</pre></div></div></div></div></div>"
      ],
      "text/plain": [
       "MulticlassOptimalBinning(max_n_bins=50, max_n_prebins=50, min_n_bins=1,\n",
       "                         name='p_D_l', prebinning_method='quantile',\n",
       "                         time_limit=10000, verbose=True)"
      ]
     },
     "execution_count": 79,
     "metadata": {},
     "output_type": "execute_result"
    }
   ],
   "source": [
    "variable = \"p_D_l\"\n",
    "x = combined_df[variable]\n",
    "y = combined_df['label']\n",
    "\n",
    "optb = MulticlassOptimalBinning(name=variable, solver=\"cp\",\n",
    "                                monotonic_trend='auto',\n",
    "                                max_n_prebins=50, min_n_bins=1, max_n_bins=50,\n",
    "                                prebinning_method='quantile',time_limit=10000,verbose=True)\n",
    "optb.fit(x, y)"
   ]
  },
  {
   "cell_type": "code",
   "execution_count": 80,
   "metadata": {},
   "outputs": [
    {
     "data": {
      "text/plain": [
       "array([1.92877936, 2.02378788, 2.14099231, 2.52898073, 2.88652382,\n",
       "       3.00518017, 3.14624252, 3.24071815])"
      ]
     },
     "execution_count": 80,
     "metadata": {},
     "output_type": "execute_result"
    }
   ],
   "source": [
    "optb.splits"
   ]
  },
  {
   "cell_type": "code",
   "execution_count": 81,
   "metadata": {},
   "outputs": [
    {
     "data": {
      "text/plain": [
       "array([0.09500852, 0.11720443, 0.38798842, 0.35754309, 0.11865635,\n",
       "       0.14106236, 0.09447563])"
      ]
     },
     "execution_count": 81,
     "metadata": {},
     "output_type": "execute_result"
    }
   ],
   "source": [
    "np.diff(optb.splits)"
   ]
  },
  {
   "cell_type": "code",
   "execution_count": null,
   "metadata": {},
   "outputs": [],
   "source": []
  }
 ],
 "metadata": {
  "kernelspec": {
   "display_name": "Python 3 (Belle2)",
   "language": "python",
   "name": "python3"
  },
  "language_info": {
   "codemirror_mode": {
    "name": "ipython",
    "version": 3
   },
   "file_extension": ".py",
   "mimetype": "text/x-python",
   "name": "python",
   "nbconvert_exporter": "python",
   "pygments_lexer": "ipython3",
   "version": "3.8.8"
  }
 },
 "nbformat": 4,
 "nbformat_minor": 4
}
